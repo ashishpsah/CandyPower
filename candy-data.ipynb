{
 "cells": [
  {
   "cell_type": "markdown",
   "metadata": {},
   "source": [
    "**Import required libraries**"
   ]
  },
  {
   "cell_type": "code",
   "execution_count": 1,
   "metadata": {},
   "outputs": [
    {
     "data": {
      "text/html": [
       "<style>.container { width:90% !important; }</style>"
      ],
      "text/plain": [
       "<IPython.core.display.HTML object>"
      ]
     },
     "metadata": {},
     "output_type": "display_data"
    }
   ],
   "source": [
    "import pandas as pd\n",
    "import numpy as np\n",
    "from scipy import stats\n",
    "import matplotlib.pyplot as plt\n",
    "import plotly as py\n",
    "import plotly.graph_objs as go\n",
    "from plotly.offline import iplot\n",
    "import seaborn as sns, matplotlib.pyplot as plt\n",
    "from IPython.core.display import display, HTML\n",
    "import dash_core_components\n",
    "import dash\n",
    "import dash_core_components as dcc\n",
    "import dash_html_components as html\n",
    "display(HTML(\"<style>.container { width:90% !important; }</style>\"))\n",
    "import warnings\n",
    "warnings.filterwarnings(\"ignore\")\n",
    "from sklearn.decomposition import PCA"
   ]
  },
  {
   "cell_type": "code",
   "execution_count": 2,
   "metadata": {},
   "outputs": [
    {
     "data": {
      "text/html": [
       "<script>\n",
       "code_show=true; \n",
       "function code_toggle() {\n",
       " if (code_show){\n",
       " $('div.input').hide();\n",
       " } else {\n",
       " $('div.input').show();\n",
       " }\n",
       " code_show = !code_show\n",
       "} \n",
       "$( document ).ready(code_toggle);\n",
       "</script>\n",
       "<form action=\"javascript:code_toggle()\"><input type=\"submit\" value=\"Click here to toggle on/off the raw code.\"></form>"
      ],
      "text/plain": [
       "<IPython.core.display.HTML object>"
      ]
     },
     "execution_count": 2,
     "metadata": {},
     "output_type": "execute_result"
    }
   ],
   "source": [
    "HTML('''<script>\n",
    "code_show=true; \n",
    "function code_toggle() {\n",
    " if (code_show){\n",
    " $('div.input').hide();\n",
    " } else {\n",
    " $('div.input').show();\n",
    " }\n",
    " code_show = !code_show\n",
    "} \n",
    "$( document ).ready(code_toggle);\n",
    "</script>\n",
    "<form action=\"javascript:code_toggle()\"><input type=\"submit\" value=\"Click here to toggle on/off the raw code.\"></form>''')"
   ]
  },
  {
   "cell_type": "markdown",
   "metadata": {},
   "source": [
    "**Read the dataset**"
   ]
  },
  {
   "cell_type": "code",
   "execution_count": 3,
   "metadata": {},
   "outputs": [],
   "source": [
    "df = pd.read_csv(\"candy-data.csv\")"
   ]
  },
  {
   "cell_type": "markdown",
   "metadata": {},
   "source": [
    "**Basic information about data**"
   ]
  },
  {
   "cell_type": "code",
   "execution_count": 4,
   "metadata": {},
   "outputs": [
    {
     "name": "stdout",
     "output_type": "stream",
     "text": [
      "<class 'pandas.core.frame.DataFrame'>\n",
      "RangeIndex: 85 entries, 0 to 84\n",
      "Data columns (total 13 columns):\n",
      "competitorname      85 non-null object\n",
      "chocolate           85 non-null int64\n",
      "fruity              85 non-null int64\n",
      "caramel             85 non-null int64\n",
      "peanutyalmondy      85 non-null int64\n",
      "nougat              85 non-null int64\n",
      "crispedricewafer    85 non-null int64\n",
      "hard                85 non-null int64\n",
      "bar                 85 non-null int64\n",
      "pluribus            85 non-null int64\n",
      "sugarpercent        85 non-null float64\n",
      "pricepercent        85 non-null float64\n",
      "winpercent          85 non-null float64\n",
      "dtypes: float64(3), int64(9), object(1)\n",
      "memory usage: 8.7+ KB\n"
     ]
    }
   ],
   "source": [
    "df.info()"
   ]
  },
  {
   "cell_type": "markdown",
   "metadata": {},
   "source": [
    "**Descibe the statistical parameters of dataset**"
   ]
  },
  {
   "cell_type": "code",
   "execution_count": 10,
   "metadata": {
    "scrolled": true
   },
   "outputs": [
    {
     "data": {
      "text/html": [
       "<div>\n",
       "<style scoped>\n",
       "    .dataframe tbody tr th:only-of-type {\n",
       "        vertical-align: middle;\n",
       "    }\n",
       "\n",
       "    .dataframe tbody tr th {\n",
       "        vertical-align: top;\n",
       "    }\n",
       "\n",
       "    .dataframe thead th {\n",
       "        text-align: right;\n",
       "    }\n",
       "</style>\n",
       "<table border=\"1\" class=\"dataframe\">\n",
       "  <thead>\n",
       "    <tr style=\"text-align: right;\">\n",
       "      <th></th>\n",
       "      <th>chocolate</th>\n",
       "      <th>fruity</th>\n",
       "      <th>caramel</th>\n",
       "      <th>peanutyalmondy</th>\n",
       "      <th>nougat</th>\n",
       "      <th>crispedricewafer</th>\n",
       "      <th>hard</th>\n",
       "      <th>bar</th>\n",
       "      <th>pluribus</th>\n",
       "      <th>sugarpercent</th>\n",
       "      <th>pricepercent</th>\n",
       "      <th>winpercent</th>\n",
       "    </tr>\n",
       "  </thead>\n",
       "  <tbody>\n",
       "    <tr>\n",
       "      <th>count</th>\n",
       "      <td>85.000000</td>\n",
       "      <td>85.000000</td>\n",
       "      <td>85.000000</td>\n",
       "      <td>85.000000</td>\n",
       "      <td>85.000000</td>\n",
       "      <td>85.000000</td>\n",
       "      <td>85.000000</td>\n",
       "      <td>85.000000</td>\n",
       "      <td>85.000000</td>\n",
       "      <td>85.000000</td>\n",
       "      <td>85.000000</td>\n",
       "      <td>85.000000</td>\n",
       "    </tr>\n",
       "    <tr>\n",
       "      <th>mean</th>\n",
       "      <td>0.435294</td>\n",
       "      <td>0.447059</td>\n",
       "      <td>0.164706</td>\n",
       "      <td>0.164706</td>\n",
       "      <td>0.082353</td>\n",
       "      <td>0.082353</td>\n",
       "      <td>0.176471</td>\n",
       "      <td>0.247059</td>\n",
       "      <td>0.517647</td>\n",
       "      <td>0.478647</td>\n",
       "      <td>0.468882</td>\n",
       "      <td>50.316764</td>\n",
       "    </tr>\n",
       "    <tr>\n",
       "      <th>std</th>\n",
       "      <td>0.498738</td>\n",
       "      <td>0.500140</td>\n",
       "      <td>0.373116</td>\n",
       "      <td>0.373116</td>\n",
       "      <td>0.276533</td>\n",
       "      <td>0.276533</td>\n",
       "      <td>0.383482</td>\n",
       "      <td>0.433861</td>\n",
       "      <td>0.502654</td>\n",
       "      <td>0.282778</td>\n",
       "      <td>0.285740</td>\n",
       "      <td>14.714357</td>\n",
       "    </tr>\n",
       "    <tr>\n",
       "      <th>min</th>\n",
       "      <td>0.000000</td>\n",
       "      <td>0.000000</td>\n",
       "      <td>0.000000</td>\n",
       "      <td>0.000000</td>\n",
       "      <td>0.000000</td>\n",
       "      <td>0.000000</td>\n",
       "      <td>0.000000</td>\n",
       "      <td>0.000000</td>\n",
       "      <td>0.000000</td>\n",
       "      <td>0.011000</td>\n",
       "      <td>0.011000</td>\n",
       "      <td>22.445341</td>\n",
       "    </tr>\n",
       "    <tr>\n",
       "      <th>25%</th>\n",
       "      <td>0.000000</td>\n",
       "      <td>0.000000</td>\n",
       "      <td>0.000000</td>\n",
       "      <td>0.000000</td>\n",
       "      <td>0.000000</td>\n",
       "      <td>0.000000</td>\n",
       "      <td>0.000000</td>\n",
       "      <td>0.000000</td>\n",
       "      <td>0.000000</td>\n",
       "      <td>0.220000</td>\n",
       "      <td>0.255000</td>\n",
       "      <td>39.141056</td>\n",
       "    </tr>\n",
       "    <tr>\n",
       "      <th>50%</th>\n",
       "      <td>0.000000</td>\n",
       "      <td>0.000000</td>\n",
       "      <td>0.000000</td>\n",
       "      <td>0.000000</td>\n",
       "      <td>0.000000</td>\n",
       "      <td>0.000000</td>\n",
       "      <td>0.000000</td>\n",
       "      <td>0.000000</td>\n",
       "      <td>1.000000</td>\n",
       "      <td>0.465000</td>\n",
       "      <td>0.465000</td>\n",
       "      <td>47.829754</td>\n",
       "    </tr>\n",
       "    <tr>\n",
       "      <th>75%</th>\n",
       "      <td>1.000000</td>\n",
       "      <td>1.000000</td>\n",
       "      <td>0.000000</td>\n",
       "      <td>0.000000</td>\n",
       "      <td>0.000000</td>\n",
       "      <td>0.000000</td>\n",
       "      <td>0.000000</td>\n",
       "      <td>0.000000</td>\n",
       "      <td>1.000000</td>\n",
       "      <td>0.732000</td>\n",
       "      <td>0.651000</td>\n",
       "      <td>59.863998</td>\n",
       "    </tr>\n",
       "    <tr>\n",
       "      <th>max</th>\n",
       "      <td>1.000000</td>\n",
       "      <td>1.000000</td>\n",
       "      <td>1.000000</td>\n",
       "      <td>1.000000</td>\n",
       "      <td>1.000000</td>\n",
       "      <td>1.000000</td>\n",
       "      <td>1.000000</td>\n",
       "      <td>1.000000</td>\n",
       "      <td>1.000000</td>\n",
       "      <td>0.988000</td>\n",
       "      <td>0.976000</td>\n",
       "      <td>84.180290</td>\n",
       "    </tr>\n",
       "  </tbody>\n",
       "</table>\n",
       "</div>"
      ],
      "text/plain": [
       "       chocolate     fruity    caramel  peanutyalmondy     nougat  \\\n",
       "count  85.000000  85.000000  85.000000       85.000000  85.000000   \n",
       "mean    0.435294   0.447059   0.164706        0.164706   0.082353   \n",
       "std     0.498738   0.500140   0.373116        0.373116   0.276533   \n",
       "min     0.000000   0.000000   0.000000        0.000000   0.000000   \n",
       "25%     0.000000   0.000000   0.000000        0.000000   0.000000   \n",
       "50%     0.000000   0.000000   0.000000        0.000000   0.000000   \n",
       "75%     1.000000   1.000000   0.000000        0.000000   0.000000   \n",
       "max     1.000000   1.000000   1.000000        1.000000   1.000000   \n",
       "\n",
       "       crispedricewafer       hard        bar   pluribus  sugarpercent  \\\n",
       "count         85.000000  85.000000  85.000000  85.000000     85.000000   \n",
       "mean           0.082353   0.176471   0.247059   0.517647      0.478647   \n",
       "std            0.276533   0.383482   0.433861   0.502654      0.282778   \n",
       "min            0.000000   0.000000   0.000000   0.000000      0.011000   \n",
       "25%            0.000000   0.000000   0.000000   0.000000      0.220000   \n",
       "50%            0.000000   0.000000   0.000000   1.000000      0.465000   \n",
       "75%            0.000000   0.000000   0.000000   1.000000      0.732000   \n",
       "max            1.000000   1.000000   1.000000   1.000000      0.988000   \n",
       "\n",
       "       pricepercent  winpercent  \n",
       "count     85.000000   85.000000  \n",
       "mean       0.468882   50.316764  \n",
       "std        0.285740   14.714357  \n",
       "min        0.011000   22.445341  \n",
       "25%        0.255000   39.141056  \n",
       "50%        0.465000   47.829754  \n",
       "75%        0.651000   59.863998  \n",
       "max        0.976000   84.180290  "
      ]
     },
     "execution_count": 10,
     "metadata": {},
     "output_type": "execute_result"
    }
   ],
   "source": [
    "df.describe()"
   ]
  },
  {
   "cell_type": "markdown",
   "metadata": {},
   "source": [
    "**First five rows of the dataset**"
   ]
  },
  {
   "cell_type": "code",
   "execution_count": 11,
   "metadata": {},
   "outputs": [
    {
     "data": {
      "text/html": [
       "<div>\n",
       "<style scoped>\n",
       "    .dataframe tbody tr th:only-of-type {\n",
       "        vertical-align: middle;\n",
       "    }\n",
       "\n",
       "    .dataframe tbody tr th {\n",
       "        vertical-align: top;\n",
       "    }\n",
       "\n",
       "    .dataframe thead th {\n",
       "        text-align: right;\n",
       "    }\n",
       "</style>\n",
       "<table border=\"1\" class=\"dataframe\">\n",
       "  <thead>\n",
       "    <tr style=\"text-align: right;\">\n",
       "      <th></th>\n",
       "      <th>competitorname</th>\n",
       "      <th>chocolate</th>\n",
       "      <th>fruity</th>\n",
       "      <th>caramel</th>\n",
       "      <th>peanutyalmondy</th>\n",
       "      <th>nougat</th>\n",
       "      <th>crispedricewafer</th>\n",
       "      <th>hard</th>\n",
       "      <th>bar</th>\n",
       "      <th>pluribus</th>\n",
       "      <th>sugarpercent</th>\n",
       "      <th>pricepercent</th>\n",
       "      <th>winpercent</th>\n",
       "    </tr>\n",
       "  </thead>\n",
       "  <tbody>\n",
       "    <tr>\n",
       "      <th>0</th>\n",
       "      <td>100 Grand</td>\n",
       "      <td>1</td>\n",
       "      <td>0</td>\n",
       "      <td>1</td>\n",
       "      <td>0</td>\n",
       "      <td>0</td>\n",
       "      <td>1</td>\n",
       "      <td>0</td>\n",
       "      <td>1</td>\n",
       "      <td>0</td>\n",
       "      <td>0.732</td>\n",
       "      <td>0.860</td>\n",
       "      <td>66.971725</td>\n",
       "    </tr>\n",
       "    <tr>\n",
       "      <th>1</th>\n",
       "      <td>3 Musketeers</td>\n",
       "      <td>1</td>\n",
       "      <td>0</td>\n",
       "      <td>0</td>\n",
       "      <td>0</td>\n",
       "      <td>1</td>\n",
       "      <td>0</td>\n",
       "      <td>0</td>\n",
       "      <td>1</td>\n",
       "      <td>0</td>\n",
       "      <td>0.604</td>\n",
       "      <td>0.511</td>\n",
       "      <td>67.602936</td>\n",
       "    </tr>\n",
       "    <tr>\n",
       "      <th>2</th>\n",
       "      <td>One dime</td>\n",
       "      <td>0</td>\n",
       "      <td>0</td>\n",
       "      <td>0</td>\n",
       "      <td>0</td>\n",
       "      <td>0</td>\n",
       "      <td>0</td>\n",
       "      <td>0</td>\n",
       "      <td>0</td>\n",
       "      <td>0</td>\n",
       "      <td>0.011</td>\n",
       "      <td>0.116</td>\n",
       "      <td>32.261086</td>\n",
       "    </tr>\n",
       "    <tr>\n",
       "      <th>3</th>\n",
       "      <td>One quarter</td>\n",
       "      <td>0</td>\n",
       "      <td>0</td>\n",
       "      <td>0</td>\n",
       "      <td>0</td>\n",
       "      <td>0</td>\n",
       "      <td>0</td>\n",
       "      <td>0</td>\n",
       "      <td>0</td>\n",
       "      <td>0</td>\n",
       "      <td>0.011</td>\n",
       "      <td>0.511</td>\n",
       "      <td>46.116505</td>\n",
       "    </tr>\n",
       "    <tr>\n",
       "      <th>4</th>\n",
       "      <td>Air Heads</td>\n",
       "      <td>0</td>\n",
       "      <td>1</td>\n",
       "      <td>0</td>\n",
       "      <td>0</td>\n",
       "      <td>0</td>\n",
       "      <td>0</td>\n",
       "      <td>0</td>\n",
       "      <td>0</td>\n",
       "      <td>0</td>\n",
       "      <td>0.906</td>\n",
       "      <td>0.511</td>\n",
       "      <td>52.341465</td>\n",
       "    </tr>\n",
       "  </tbody>\n",
       "</table>\n",
       "</div>"
      ],
      "text/plain": [
       "  competitorname  chocolate  fruity  caramel  peanutyalmondy  nougat  \\\n",
       "0      100 Grand          1       0        1               0       0   \n",
       "1   3 Musketeers          1       0        0               0       1   \n",
       "2       One dime          0       0        0               0       0   \n",
       "3    One quarter          0       0        0               0       0   \n",
       "4      Air Heads          0       1        0               0       0   \n",
       "\n",
       "   crispedricewafer  hard  bar  pluribus  sugarpercent  pricepercent  \\\n",
       "0                 1     0    1         0         0.732         0.860   \n",
       "1                 0     0    1         0         0.604         0.511   \n",
       "2                 0     0    0         0         0.011         0.116   \n",
       "3                 0     0    0         0         0.011         0.511   \n",
       "4                 0     0    0         0         0.906         0.511   \n",
       "\n",
       "   winpercent  \n",
       "0   66.971725  \n",
       "1   67.602936  \n",
       "2   32.261086  \n",
       "3   46.116505  \n",
       "4   52.341465  "
      ]
     },
     "execution_count": 11,
     "metadata": {},
     "output_type": "execute_result"
    }
   ],
   "source": [
    "df.head()"
   ]
  },
  {
   "cell_type": "markdown",
   "metadata": {},
   "source": [
    "# 1. Univariate analysis"
   ]
  },
  {
   "cell_type": "markdown",
   "metadata": {},
   "source": [
    "## 1.1. Top 10 candies by win percent"
   ]
  },
  {
   "cell_type": "code",
   "execution_count": 12,
   "metadata": {},
   "outputs": [
    {
     "data": {
      "application/vnd.plotly.v1+json": {
       "config": {
        "linkText": "Export to plot.ly",
        "plotlyServerURL": "https://plot.ly",
        "showLink": false
       },
       "data": [
        {
         "marker": {
          "color": "#1b7fbd"
         },
         "orientation": "h",
         "type": "bar",
         "x": [
          70.735641,
          71.46505,
          72.887901,
          73.099556,
          73.43499,
          76.67378199999999,
          76.7686,
          81.642914,
          81.86625699999999,
          84.18029
         ],
         "y": [
          "Nestle Butterfinger",
          "Peanut butter M&MÕs",
          "ReeseÕs stuffed with pieces",
          "Milky Way",
          "ReeseÕs pieces",
          "Snickers",
          "Kit Kat",
          "Twix",
          "ReeseÕs Miniatures",
          "ReeseÕs Peanut Butter cup"
         ]
        }
       ],
       "layout": {
        "margin": {
         "b": 60,
         "l": 180,
         "pad": 4,
         "r": 50,
         "t": 100
        },
        "template": {
         "data": {
          "bar": [
           {
            "error_x": {
             "color": "#2a3f5f"
            },
            "error_y": {
             "color": "#2a3f5f"
            },
            "marker": {
             "line": {
              "color": "#E5ECF6",
              "width": 0.5
             }
            },
            "type": "bar"
           }
          ],
          "barpolar": [
           {
            "marker": {
             "line": {
              "color": "#E5ECF6",
              "width": 0.5
             }
            },
            "type": "barpolar"
           }
          ],
          "carpet": [
           {
            "aaxis": {
             "endlinecolor": "#2a3f5f",
             "gridcolor": "white",
             "linecolor": "white",
             "minorgridcolor": "white",
             "startlinecolor": "#2a3f5f"
            },
            "baxis": {
             "endlinecolor": "#2a3f5f",
             "gridcolor": "white",
             "linecolor": "white",
             "minorgridcolor": "white",
             "startlinecolor": "#2a3f5f"
            },
            "type": "carpet"
           }
          ],
          "choropleth": [
           {
            "colorbar": {
             "outlinewidth": 0,
             "ticks": ""
            },
            "type": "choropleth"
           }
          ],
          "contour": [
           {
            "colorbar": {
             "outlinewidth": 0,
             "ticks": ""
            },
            "colorscale": [
             [
              0,
              "#0d0887"
             ],
             [
              0.1111111111111111,
              "#46039f"
             ],
             [
              0.2222222222222222,
              "#7201a8"
             ],
             [
              0.3333333333333333,
              "#9c179e"
             ],
             [
              0.4444444444444444,
              "#bd3786"
             ],
             [
              0.5555555555555556,
              "#d8576b"
             ],
             [
              0.6666666666666666,
              "#ed7953"
             ],
             [
              0.7777777777777778,
              "#fb9f3a"
             ],
             [
              0.8888888888888888,
              "#fdca26"
             ],
             [
              1,
              "#f0f921"
             ]
            ],
            "type": "contour"
           }
          ],
          "contourcarpet": [
           {
            "colorbar": {
             "outlinewidth": 0,
             "ticks": ""
            },
            "type": "contourcarpet"
           }
          ],
          "heatmap": [
           {
            "colorbar": {
             "outlinewidth": 0,
             "ticks": ""
            },
            "colorscale": [
             [
              0,
              "#0d0887"
             ],
             [
              0.1111111111111111,
              "#46039f"
             ],
             [
              0.2222222222222222,
              "#7201a8"
             ],
             [
              0.3333333333333333,
              "#9c179e"
             ],
             [
              0.4444444444444444,
              "#bd3786"
             ],
             [
              0.5555555555555556,
              "#d8576b"
             ],
             [
              0.6666666666666666,
              "#ed7953"
             ],
             [
              0.7777777777777778,
              "#fb9f3a"
             ],
             [
              0.8888888888888888,
              "#fdca26"
             ],
             [
              1,
              "#f0f921"
             ]
            ],
            "type": "heatmap"
           }
          ],
          "heatmapgl": [
           {
            "colorbar": {
             "outlinewidth": 0,
             "ticks": ""
            },
            "colorscale": [
             [
              0,
              "#0d0887"
             ],
             [
              0.1111111111111111,
              "#46039f"
             ],
             [
              0.2222222222222222,
              "#7201a8"
             ],
             [
              0.3333333333333333,
              "#9c179e"
             ],
             [
              0.4444444444444444,
              "#bd3786"
             ],
             [
              0.5555555555555556,
              "#d8576b"
             ],
             [
              0.6666666666666666,
              "#ed7953"
             ],
             [
              0.7777777777777778,
              "#fb9f3a"
             ],
             [
              0.8888888888888888,
              "#fdca26"
             ],
             [
              1,
              "#f0f921"
             ]
            ],
            "type": "heatmapgl"
           }
          ],
          "histogram": [
           {
            "marker": {
             "colorbar": {
              "outlinewidth": 0,
              "ticks": ""
             }
            },
            "type": "histogram"
           }
          ],
          "histogram2d": [
           {
            "colorbar": {
             "outlinewidth": 0,
             "ticks": ""
            },
            "colorscale": [
             [
              0,
              "#0d0887"
             ],
             [
              0.1111111111111111,
              "#46039f"
             ],
             [
              0.2222222222222222,
              "#7201a8"
             ],
             [
              0.3333333333333333,
              "#9c179e"
             ],
             [
              0.4444444444444444,
              "#bd3786"
             ],
             [
              0.5555555555555556,
              "#d8576b"
             ],
             [
              0.6666666666666666,
              "#ed7953"
             ],
             [
              0.7777777777777778,
              "#fb9f3a"
             ],
             [
              0.8888888888888888,
              "#fdca26"
             ],
             [
              1,
              "#f0f921"
             ]
            ],
            "type": "histogram2d"
           }
          ],
          "histogram2dcontour": [
           {
            "colorbar": {
             "outlinewidth": 0,
             "ticks": ""
            },
            "colorscale": [
             [
              0,
              "#0d0887"
             ],
             [
              0.1111111111111111,
              "#46039f"
             ],
             [
              0.2222222222222222,
              "#7201a8"
             ],
             [
              0.3333333333333333,
              "#9c179e"
             ],
             [
              0.4444444444444444,
              "#bd3786"
             ],
             [
              0.5555555555555556,
              "#d8576b"
             ],
             [
              0.6666666666666666,
              "#ed7953"
             ],
             [
              0.7777777777777778,
              "#fb9f3a"
             ],
             [
              0.8888888888888888,
              "#fdca26"
             ],
             [
              1,
              "#f0f921"
             ]
            ],
            "type": "histogram2dcontour"
           }
          ],
          "mesh3d": [
           {
            "colorbar": {
             "outlinewidth": 0,
             "ticks": ""
            },
            "type": "mesh3d"
           }
          ],
          "parcoords": [
           {
            "line": {
             "colorbar": {
              "outlinewidth": 0,
              "ticks": ""
             }
            },
            "type": "parcoords"
           }
          ],
          "scatter": [
           {
            "marker": {
             "colorbar": {
              "outlinewidth": 0,
              "ticks": ""
             }
            },
            "type": "scatter"
           }
          ],
          "scatter3d": [
           {
            "line": {
             "colorbar": {
              "outlinewidth": 0,
              "ticks": ""
             }
            },
            "marker": {
             "colorbar": {
              "outlinewidth": 0,
              "ticks": ""
             }
            },
            "type": "scatter3d"
           }
          ],
          "scattercarpet": [
           {
            "marker": {
             "colorbar": {
              "outlinewidth": 0,
              "ticks": ""
             }
            },
            "type": "scattercarpet"
           }
          ],
          "scattergeo": [
           {
            "marker": {
             "colorbar": {
              "outlinewidth": 0,
              "ticks": ""
             }
            },
            "type": "scattergeo"
           }
          ],
          "scattergl": [
           {
            "marker": {
             "colorbar": {
              "outlinewidth": 0,
              "ticks": ""
             }
            },
            "type": "scattergl"
           }
          ],
          "scattermapbox": [
           {
            "marker": {
             "colorbar": {
              "outlinewidth": 0,
              "ticks": ""
             }
            },
            "type": "scattermapbox"
           }
          ],
          "scatterpolar": [
           {
            "marker": {
             "colorbar": {
              "outlinewidth": 0,
              "ticks": ""
             }
            },
            "type": "scatterpolar"
           }
          ],
          "scatterpolargl": [
           {
            "marker": {
             "colorbar": {
              "outlinewidth": 0,
              "ticks": ""
             }
            },
            "type": "scatterpolargl"
           }
          ],
          "scatterternary": [
           {
            "marker": {
             "colorbar": {
              "outlinewidth": 0,
              "ticks": ""
             }
            },
            "type": "scatterternary"
           }
          ],
          "surface": [
           {
            "colorbar": {
             "outlinewidth": 0,
             "ticks": ""
            },
            "colorscale": [
             [
              0,
              "#0d0887"
             ],
             [
              0.1111111111111111,
              "#46039f"
             ],
             [
              0.2222222222222222,
              "#7201a8"
             ],
             [
              0.3333333333333333,
              "#9c179e"
             ],
             [
              0.4444444444444444,
              "#bd3786"
             ],
             [
              0.5555555555555556,
              "#d8576b"
             ],
             [
              0.6666666666666666,
              "#ed7953"
             ],
             [
              0.7777777777777778,
              "#fb9f3a"
             ],
             [
              0.8888888888888888,
              "#fdca26"
             ],
             [
              1,
              "#f0f921"
             ]
            ],
            "type": "surface"
           }
          ],
          "table": [
           {
            "cells": {
             "fill": {
              "color": "#EBF0F8"
             },
             "line": {
              "color": "white"
             }
            },
            "header": {
             "fill": {
              "color": "#C8D4E3"
             },
             "line": {
              "color": "white"
             }
            },
            "type": "table"
           }
          ]
         },
         "layout": {
          "annotationdefaults": {
           "arrowcolor": "#2a3f5f",
           "arrowhead": 0,
           "arrowwidth": 1
          },
          "colorscale": {
           "diverging": [
            [
             0,
             "#8e0152"
            ],
            [
             0.1,
             "#c51b7d"
            ],
            [
             0.2,
             "#de77ae"
            ],
            [
             0.3,
             "#f1b6da"
            ],
            [
             0.4,
             "#fde0ef"
            ],
            [
             0.5,
             "#f7f7f7"
            ],
            [
             0.6,
             "#e6f5d0"
            ],
            [
             0.7,
             "#b8e186"
            ],
            [
             0.8,
             "#7fbc41"
            ],
            [
             0.9,
             "#4d9221"
            ],
            [
             1,
             "#276419"
            ]
           ],
           "sequential": [
            [
             0,
             "#0d0887"
            ],
            [
             0.1111111111111111,
             "#46039f"
            ],
            [
             0.2222222222222222,
             "#7201a8"
            ],
            [
             0.3333333333333333,
             "#9c179e"
            ],
            [
             0.4444444444444444,
             "#bd3786"
            ],
            [
             0.5555555555555556,
             "#d8576b"
            ],
            [
             0.6666666666666666,
             "#ed7953"
            ],
            [
             0.7777777777777778,
             "#fb9f3a"
            ],
            [
             0.8888888888888888,
             "#fdca26"
            ],
            [
             1,
             "#f0f921"
            ]
           ],
           "sequentialminus": [
            [
             0,
             "#0d0887"
            ],
            [
             0.1111111111111111,
             "#46039f"
            ],
            [
             0.2222222222222222,
             "#7201a8"
            ],
            [
             0.3333333333333333,
             "#9c179e"
            ],
            [
             0.4444444444444444,
             "#bd3786"
            ],
            [
             0.5555555555555556,
             "#d8576b"
            ],
            [
             0.6666666666666666,
             "#ed7953"
            ],
            [
             0.7777777777777778,
             "#fb9f3a"
            ],
            [
             0.8888888888888888,
             "#fdca26"
            ],
            [
             1,
             "#f0f921"
            ]
           ]
          },
          "colorway": [
           "#636efa",
           "#EF553B",
           "#00cc96",
           "#ab63fa",
           "#FFA15A",
           "#19d3f3",
           "#FF6692",
           "#B6E880",
           "#FF97FF",
           "#FECB52"
          ],
          "font": {
           "color": "#2a3f5f"
          },
          "geo": {
           "bgcolor": "white",
           "lakecolor": "white",
           "landcolor": "#E5ECF6",
           "showlakes": true,
           "showland": true,
           "subunitcolor": "white"
          },
          "hoverlabel": {
           "align": "left"
          },
          "hovermode": "closest",
          "mapbox": {
           "style": "light"
          },
          "paper_bgcolor": "white",
          "plot_bgcolor": "#E5ECF6",
          "polar": {
           "angularaxis": {
            "gridcolor": "white",
            "linecolor": "white",
            "ticks": ""
           },
           "bgcolor": "#E5ECF6",
           "radialaxis": {
            "gridcolor": "white",
            "linecolor": "white",
            "ticks": ""
           }
          },
          "scene": {
           "xaxis": {
            "backgroundcolor": "#E5ECF6",
            "gridcolor": "white",
            "gridwidth": 2,
            "linecolor": "white",
            "showbackground": true,
            "ticks": "",
            "zerolinecolor": "white"
           },
           "yaxis": {
            "backgroundcolor": "#E5ECF6",
            "gridcolor": "white",
            "gridwidth": 2,
            "linecolor": "white",
            "showbackground": true,
            "ticks": "",
            "zerolinecolor": "white"
           },
           "zaxis": {
            "backgroundcolor": "#E5ECF6",
            "gridcolor": "white",
            "gridwidth": 2,
            "linecolor": "white",
            "showbackground": true,
            "ticks": "",
            "zerolinecolor": "white"
           }
          },
          "shapedefaults": {
           "line": {
            "color": "#2a3f5f"
           }
          },
          "ternary": {
           "aaxis": {
            "gridcolor": "white",
            "linecolor": "white",
            "ticks": ""
           },
           "baxis": {
            "gridcolor": "white",
            "linecolor": "white",
            "ticks": ""
           },
           "bgcolor": "#E5ECF6",
           "caxis": {
            "gridcolor": "white",
            "linecolor": "white",
            "ticks": ""
           }
          },
          "title": {
           "x": 0.05
          },
          "xaxis": {
           "automargin": true,
           "gridcolor": "white",
           "linecolor": "white",
           "ticks": "",
           "zerolinecolor": "white",
           "zerolinewidth": 2
          },
          "yaxis": {
           "automargin": true,
           "gridcolor": "white",
           "linecolor": "white",
           "ticks": "",
           "zerolinecolor": "white",
           "zerolinewidth": 2
          }
         }
        },
        "title": {
         "text": "Top 10 candies"
        },
        "xaxis": {
         "title": {
          "text": "Winning Percent"
         }
        }
       }
      },
      "text/html": [
       "<div>\n",
       "        \n",
       "        \n",
       "            <div id=\"1d990bc7-7ac8-4a26-a2d4-975f68fa63cd\" class=\"plotly-graph-div\" style=\"height:525px; width:100%;\"></div>\n",
       "            <script type=\"text/javascript\">\n",
       "                require([\"plotly\"], function(Plotly) {\n",
       "                    window.PLOTLYENV=window.PLOTLYENV || {};\n",
       "                    \n",
       "                if (document.getElementById(\"1d990bc7-7ac8-4a26-a2d4-975f68fa63cd\")) {\n",
       "                    Plotly.newPlot(\n",
       "                        '1d990bc7-7ac8-4a26-a2d4-975f68fa63cd',\n",
       "                        [{\"marker\": {\"color\": \"#1b7fbd\"}, \"orientation\": \"h\", \"type\": \"bar\", \"x\": [70.735641, 71.46505, 72.887901, 73.099556, 73.43499, 76.67378199999999, 76.7686, 81.642914, 81.86625699999999, 84.18029], \"y\": [\"Nestle Butterfinger\", \"Peanut butter M&M\\u00d5s\", \"Reese\\u00d5s stuffed with pieces\", \"Milky Way\", \"Reese\\u00d5s pieces\", \"Snickers\", \"Kit Kat\", \"Twix\", \"Reese\\u00d5s Miniatures\", \"Reese\\u00d5s Peanut Butter cup\"]}],\n",
       "                        {\"margin\": {\"b\": 60, \"l\": 180, \"pad\": 4, \"r\": 50, \"t\": 100}, \"template\": {\"data\": {\"bar\": [{\"error_x\": {\"color\": \"#2a3f5f\"}, \"error_y\": {\"color\": \"#2a3f5f\"}, \"marker\": {\"line\": {\"color\": \"#E5ECF6\", \"width\": 0.5}}, \"type\": \"bar\"}], \"barpolar\": [{\"marker\": {\"line\": {\"color\": \"#E5ECF6\", \"width\": 0.5}}, \"type\": \"barpolar\"}], \"carpet\": [{\"aaxis\": {\"endlinecolor\": \"#2a3f5f\", \"gridcolor\": \"white\", \"linecolor\": \"white\", \"minorgridcolor\": \"white\", \"startlinecolor\": \"#2a3f5f\"}, \"baxis\": {\"endlinecolor\": \"#2a3f5f\", \"gridcolor\": \"white\", \"linecolor\": \"white\", \"minorgridcolor\": \"white\", \"startlinecolor\": \"#2a3f5f\"}, \"type\": \"carpet\"}], \"choropleth\": [{\"colorbar\": {\"outlinewidth\": 0, \"ticks\": \"\"}, \"type\": \"choropleth\"}], \"contour\": [{\"colorbar\": {\"outlinewidth\": 0, \"ticks\": \"\"}, \"colorscale\": [[0.0, \"#0d0887\"], [0.1111111111111111, \"#46039f\"], [0.2222222222222222, \"#7201a8\"], [0.3333333333333333, \"#9c179e\"], [0.4444444444444444, \"#bd3786\"], [0.5555555555555556, \"#d8576b\"], [0.6666666666666666, \"#ed7953\"], [0.7777777777777778, \"#fb9f3a\"], [0.8888888888888888, \"#fdca26\"], [1.0, \"#f0f921\"]], \"type\": \"contour\"}], \"contourcarpet\": [{\"colorbar\": {\"outlinewidth\": 0, \"ticks\": \"\"}, \"type\": \"contourcarpet\"}], \"heatmap\": [{\"colorbar\": {\"outlinewidth\": 0, \"ticks\": \"\"}, \"colorscale\": [[0.0, \"#0d0887\"], [0.1111111111111111, \"#46039f\"], [0.2222222222222222, \"#7201a8\"], [0.3333333333333333, \"#9c179e\"], [0.4444444444444444, \"#bd3786\"], [0.5555555555555556, \"#d8576b\"], [0.6666666666666666, \"#ed7953\"], [0.7777777777777778, \"#fb9f3a\"], [0.8888888888888888, \"#fdca26\"], [1.0, \"#f0f921\"]], \"type\": \"heatmap\"}], \"heatmapgl\": [{\"colorbar\": {\"outlinewidth\": 0, \"ticks\": \"\"}, \"colorscale\": [[0.0, \"#0d0887\"], [0.1111111111111111, \"#46039f\"], [0.2222222222222222, \"#7201a8\"], [0.3333333333333333, \"#9c179e\"], [0.4444444444444444, \"#bd3786\"], [0.5555555555555556, \"#d8576b\"], [0.6666666666666666, \"#ed7953\"], [0.7777777777777778, \"#fb9f3a\"], [0.8888888888888888, \"#fdca26\"], [1.0, \"#f0f921\"]], \"type\": \"heatmapgl\"}], \"histogram\": [{\"marker\": {\"colorbar\": {\"outlinewidth\": 0, \"ticks\": \"\"}}, \"type\": \"histogram\"}], \"histogram2d\": [{\"colorbar\": {\"outlinewidth\": 0, \"ticks\": \"\"}, \"colorscale\": [[0.0, \"#0d0887\"], [0.1111111111111111, \"#46039f\"], [0.2222222222222222, \"#7201a8\"], [0.3333333333333333, \"#9c179e\"], [0.4444444444444444, \"#bd3786\"], [0.5555555555555556, \"#d8576b\"], [0.6666666666666666, \"#ed7953\"], [0.7777777777777778, \"#fb9f3a\"], [0.8888888888888888, \"#fdca26\"], [1.0, \"#f0f921\"]], \"type\": \"histogram2d\"}], \"histogram2dcontour\": [{\"colorbar\": {\"outlinewidth\": 0, \"ticks\": \"\"}, \"colorscale\": [[0.0, \"#0d0887\"], [0.1111111111111111, \"#46039f\"], [0.2222222222222222, \"#7201a8\"], [0.3333333333333333, \"#9c179e\"], [0.4444444444444444, \"#bd3786\"], [0.5555555555555556, \"#d8576b\"], [0.6666666666666666, \"#ed7953\"], [0.7777777777777778, \"#fb9f3a\"], [0.8888888888888888, \"#fdca26\"], [1.0, \"#f0f921\"]], \"type\": \"histogram2dcontour\"}], \"mesh3d\": [{\"colorbar\": {\"outlinewidth\": 0, \"ticks\": \"\"}, \"type\": \"mesh3d\"}], \"parcoords\": [{\"line\": {\"colorbar\": {\"outlinewidth\": 0, \"ticks\": \"\"}}, \"type\": \"parcoords\"}], \"scatter\": [{\"marker\": {\"colorbar\": {\"outlinewidth\": 0, \"ticks\": \"\"}}, \"type\": \"scatter\"}], \"scatter3d\": [{\"line\": {\"colorbar\": {\"outlinewidth\": 0, \"ticks\": \"\"}}, \"marker\": {\"colorbar\": {\"outlinewidth\": 0, \"ticks\": \"\"}}, \"type\": \"scatter3d\"}], \"scattercarpet\": [{\"marker\": {\"colorbar\": {\"outlinewidth\": 0, \"ticks\": \"\"}}, \"type\": \"scattercarpet\"}], \"scattergeo\": [{\"marker\": {\"colorbar\": {\"outlinewidth\": 0, \"ticks\": \"\"}}, \"type\": \"scattergeo\"}], \"scattergl\": [{\"marker\": {\"colorbar\": {\"outlinewidth\": 0, \"ticks\": \"\"}}, \"type\": \"scattergl\"}], \"scattermapbox\": [{\"marker\": {\"colorbar\": {\"outlinewidth\": 0, \"ticks\": \"\"}}, \"type\": \"scattermapbox\"}], \"scatterpolar\": [{\"marker\": {\"colorbar\": {\"outlinewidth\": 0, \"ticks\": \"\"}}, \"type\": \"scatterpolar\"}], \"scatterpolargl\": [{\"marker\": {\"colorbar\": {\"outlinewidth\": 0, \"ticks\": \"\"}}, \"type\": \"scatterpolargl\"}], \"scatterternary\": [{\"marker\": {\"colorbar\": {\"outlinewidth\": 0, \"ticks\": \"\"}}, \"type\": \"scatterternary\"}], \"surface\": [{\"colorbar\": {\"outlinewidth\": 0, \"ticks\": \"\"}, \"colorscale\": [[0.0, \"#0d0887\"], [0.1111111111111111, \"#46039f\"], [0.2222222222222222, \"#7201a8\"], [0.3333333333333333, \"#9c179e\"], [0.4444444444444444, \"#bd3786\"], [0.5555555555555556, \"#d8576b\"], [0.6666666666666666, \"#ed7953\"], [0.7777777777777778, \"#fb9f3a\"], [0.8888888888888888, \"#fdca26\"], [1.0, \"#f0f921\"]], \"type\": \"surface\"}], \"table\": [{\"cells\": {\"fill\": {\"color\": \"#EBF0F8\"}, \"line\": {\"color\": \"white\"}}, \"header\": {\"fill\": {\"color\": \"#C8D4E3\"}, \"line\": {\"color\": \"white\"}}, \"type\": \"table\"}]}, \"layout\": {\"annotationdefaults\": {\"arrowcolor\": \"#2a3f5f\", \"arrowhead\": 0, \"arrowwidth\": 1}, \"colorscale\": {\"diverging\": [[0, \"#8e0152\"], [0.1, \"#c51b7d\"], [0.2, \"#de77ae\"], [0.3, \"#f1b6da\"], [0.4, \"#fde0ef\"], [0.5, \"#f7f7f7\"], [0.6, \"#e6f5d0\"], [0.7, \"#b8e186\"], [0.8, \"#7fbc41\"], [0.9, \"#4d9221\"], [1, \"#276419\"]], \"sequential\": [[0.0, \"#0d0887\"], [0.1111111111111111, \"#46039f\"], [0.2222222222222222, \"#7201a8\"], [0.3333333333333333, \"#9c179e\"], [0.4444444444444444, \"#bd3786\"], [0.5555555555555556, \"#d8576b\"], [0.6666666666666666, \"#ed7953\"], [0.7777777777777778, \"#fb9f3a\"], [0.8888888888888888, \"#fdca26\"], [1.0, \"#f0f921\"]], \"sequentialminus\": [[0.0, \"#0d0887\"], [0.1111111111111111, \"#46039f\"], [0.2222222222222222, \"#7201a8\"], [0.3333333333333333, \"#9c179e\"], [0.4444444444444444, \"#bd3786\"], [0.5555555555555556, \"#d8576b\"], [0.6666666666666666, \"#ed7953\"], [0.7777777777777778, \"#fb9f3a\"], [0.8888888888888888, \"#fdca26\"], [1.0, \"#f0f921\"]]}, \"colorway\": [\"#636efa\", \"#EF553B\", \"#00cc96\", \"#ab63fa\", \"#FFA15A\", \"#19d3f3\", \"#FF6692\", \"#B6E880\", \"#FF97FF\", \"#FECB52\"], \"font\": {\"color\": \"#2a3f5f\"}, \"geo\": {\"bgcolor\": \"white\", \"lakecolor\": \"white\", \"landcolor\": \"#E5ECF6\", \"showlakes\": true, \"showland\": true, \"subunitcolor\": \"white\"}, \"hoverlabel\": {\"align\": \"left\"}, \"hovermode\": \"closest\", \"mapbox\": {\"style\": \"light\"}, \"paper_bgcolor\": \"white\", \"plot_bgcolor\": \"#E5ECF6\", \"polar\": {\"angularaxis\": {\"gridcolor\": \"white\", \"linecolor\": \"white\", \"ticks\": \"\"}, \"bgcolor\": \"#E5ECF6\", \"radialaxis\": {\"gridcolor\": \"white\", \"linecolor\": \"white\", \"ticks\": \"\"}}, \"scene\": {\"xaxis\": {\"backgroundcolor\": \"#E5ECF6\", \"gridcolor\": \"white\", \"gridwidth\": 2, \"linecolor\": \"white\", \"showbackground\": true, \"ticks\": \"\", \"zerolinecolor\": \"white\"}, \"yaxis\": {\"backgroundcolor\": \"#E5ECF6\", \"gridcolor\": \"white\", \"gridwidth\": 2, \"linecolor\": \"white\", \"showbackground\": true, \"ticks\": \"\", \"zerolinecolor\": \"white\"}, \"zaxis\": {\"backgroundcolor\": \"#E5ECF6\", \"gridcolor\": \"white\", \"gridwidth\": 2, \"linecolor\": \"white\", \"showbackground\": true, \"ticks\": \"\", \"zerolinecolor\": \"white\"}}, \"shapedefaults\": {\"line\": {\"color\": \"#2a3f5f\"}}, \"ternary\": {\"aaxis\": {\"gridcolor\": \"white\", \"linecolor\": \"white\", \"ticks\": \"\"}, \"baxis\": {\"gridcolor\": \"white\", \"linecolor\": \"white\", \"ticks\": \"\"}, \"bgcolor\": \"#E5ECF6\", \"caxis\": {\"gridcolor\": \"white\", \"linecolor\": \"white\", \"ticks\": \"\"}}, \"title\": {\"x\": 0.05}, \"xaxis\": {\"automargin\": true, \"gridcolor\": \"white\", \"linecolor\": \"white\", \"ticks\": \"\", \"zerolinecolor\": \"white\", \"zerolinewidth\": 2}, \"yaxis\": {\"automargin\": true, \"gridcolor\": \"white\", \"linecolor\": \"white\", \"ticks\": \"\", \"zerolinecolor\": \"white\", \"zerolinewidth\": 2}}}, \"title\": {\"text\": \"Top 10 candies\"}, \"xaxis\": {\"title\": {\"text\": \"Winning Percent\"}}},\n",
       "                        {\"responsive\": true}\n",
       "                    ).then(function(){\n",
       "                            \n",
       "var gd = document.getElementById('1d990bc7-7ac8-4a26-a2d4-975f68fa63cd');\n",
       "var x = new MutationObserver(function (mutations, observer) {{\n",
       "        var display = window.getComputedStyle(gd).display;\n",
       "        if (!display || display === 'none') {{\n",
       "            console.log([gd, 'removed!']);\n",
       "            Plotly.purge(gd);\n",
       "            observer.disconnect();\n",
       "        }}\n",
       "}});\n",
       "\n",
       "// Listen for the removal of the full notebook cells\n",
       "var notebookContainer = gd.closest('#notebook-container');\n",
       "if (notebookContainer) {{\n",
       "    x.observe(notebookContainer, {childList: true});\n",
       "}}\n",
       "\n",
       "// Listen for the clearing of the current output cell\n",
       "var outputEl = gd.closest('.output');\n",
       "if (outputEl) {{\n",
       "    x.observe(outputEl, {childList: true});\n",
       "}}\n",
       "\n",
       "                        })\n",
       "                };\n",
       "                });\n",
       "            </script>\n",
       "        </div>"
      ]
     },
     "metadata": {},
     "output_type": "display_data"
    }
   ],
   "source": [
    "def top_ten():\n",
    "    top_ten_df =df.sort_values(by=['winpercent']).tail(10)\n",
    "\n",
    "    data = [go.Bar(\n",
    "            x=top_ten_df.winpercent,\n",
    "            y=top_ten_df.competitorname,\n",
    "            orientation = 'h',\n",
    "            marker=dict(color='#1b7fbd')\n",
    "            )]\n",
    "\n",
    "    layout = go.Layout(\n",
    "        margin=go.layout.Margin(l=180, r=50, b=60, t=100, pad=4),\n",
    "        title= 'Top 10 candies',\n",
    "        xaxis=dict(\n",
    "            title='Winning Percent'        \n",
    "        )    \n",
    "    )\n",
    "\n",
    "    fig = go.Figure(data=data, layout=layout)\n",
    "    return(fig)\n",
    "\n",
    "py.offline.iplot(top_ten())"
   ]
  },
  {
   "cell_type": "markdown",
   "metadata": {},
   "source": [
    "**Inference: Reese candies have four entries in top 10 candies. So it seems to be faviourite.**"
   ]
  },
  {
   "cell_type": "markdown",
   "metadata": {},
   "source": [
    "## 1.2. Top 10 candies content"
   ]
  },
  {
   "cell_type": "code",
   "execution_count": 13,
   "metadata": {},
   "outputs": [
    {
     "data": {
      "text/html": [
       "<div>\n",
       "<style scoped>\n",
       "    .dataframe tbody tr th:only-of-type {\n",
       "        vertical-align: middle;\n",
       "    }\n",
       "\n",
       "    .dataframe tbody tr th {\n",
       "        vertical-align: top;\n",
       "    }\n",
       "\n",
       "    .dataframe thead th {\n",
       "        text-align: right;\n",
       "    }\n",
       "</style>\n",
       "<table border=\"1\" class=\"dataframe\">\n",
       "  <thead>\n",
       "    <tr style=\"text-align: right;\">\n",
       "      <th></th>\n",
       "      <th>competitorname</th>\n",
       "      <th>chocolate</th>\n",
       "      <th>fruity</th>\n",
       "      <th>caramel</th>\n",
       "      <th>peanutyalmondy</th>\n",
       "      <th>nougat</th>\n",
       "      <th>crispedricewafer</th>\n",
       "      <th>hard</th>\n",
       "      <th>bar</th>\n",
       "      <th>pluribus</th>\n",
       "      <th>sugarpercent</th>\n",
       "      <th>pricepercent</th>\n",
       "      <th>winpercent</th>\n",
       "    </tr>\n",
       "  </thead>\n",
       "  <tbody>\n",
       "    <tr>\n",
       "      <th>42</th>\n",
       "      <td>Nestle Butterfinger</td>\n",
       "      <td>1</td>\n",
       "      <td>0</td>\n",
       "      <td>0</td>\n",
       "      <td>1</td>\n",
       "      <td>0</td>\n",
       "      <td>0</td>\n",
       "      <td>0</td>\n",
       "      <td>1</td>\n",
       "      <td>0</td>\n",
       "      <td>0.604</td>\n",
       "      <td>0.767</td>\n",
       "      <td>70.735641</td>\n",
       "    </tr>\n",
       "    <tr>\n",
       "      <th>32</th>\n",
       "      <td>Peanut butter M&amp;MÕs</td>\n",
       "      <td>1</td>\n",
       "      <td>0</td>\n",
       "      <td>0</td>\n",
       "      <td>1</td>\n",
       "      <td>0</td>\n",
       "      <td>0</td>\n",
       "      <td>0</td>\n",
       "      <td>0</td>\n",
       "      <td>1</td>\n",
       "      <td>0.825</td>\n",
       "      <td>0.651</td>\n",
       "      <td>71.465050</td>\n",
       "    </tr>\n",
       "    <tr>\n",
       "      <th>54</th>\n",
       "      <td>ReeseÕs stuffed with pieces</td>\n",
       "      <td>1</td>\n",
       "      <td>0</td>\n",
       "      <td>0</td>\n",
       "      <td>1</td>\n",
       "      <td>0</td>\n",
       "      <td>0</td>\n",
       "      <td>0</td>\n",
       "      <td>0</td>\n",
       "      <td>0</td>\n",
       "      <td>0.988</td>\n",
       "      <td>0.651</td>\n",
       "      <td>72.887901</td>\n",
       "    </tr>\n",
       "    <tr>\n",
       "      <th>36</th>\n",
       "      <td>Milky Way</td>\n",
       "      <td>1</td>\n",
       "      <td>0</td>\n",
       "      <td>1</td>\n",
       "      <td>0</td>\n",
       "      <td>1</td>\n",
       "      <td>0</td>\n",
       "      <td>0</td>\n",
       "      <td>1</td>\n",
       "      <td>0</td>\n",
       "      <td>0.604</td>\n",
       "      <td>0.651</td>\n",
       "      <td>73.099556</td>\n",
       "    </tr>\n",
       "    <tr>\n",
       "      <th>53</th>\n",
       "      <td>ReeseÕs pieces</td>\n",
       "      <td>1</td>\n",
       "      <td>0</td>\n",
       "      <td>0</td>\n",
       "      <td>1</td>\n",
       "      <td>0</td>\n",
       "      <td>0</td>\n",
       "      <td>0</td>\n",
       "      <td>0</td>\n",
       "      <td>1</td>\n",
       "      <td>0.406</td>\n",
       "      <td>0.651</td>\n",
       "      <td>73.434990</td>\n",
       "    </tr>\n",
       "    <tr>\n",
       "      <th>64</th>\n",
       "      <td>Snickers</td>\n",
       "      <td>1</td>\n",
       "      <td>0</td>\n",
       "      <td>1</td>\n",
       "      <td>1</td>\n",
       "      <td>1</td>\n",
       "      <td>0</td>\n",
       "      <td>0</td>\n",
       "      <td>1</td>\n",
       "      <td>0</td>\n",
       "      <td>0.546</td>\n",
       "      <td>0.651</td>\n",
       "      <td>76.673782</td>\n",
       "    </tr>\n",
       "    <tr>\n",
       "      <th>28</th>\n",
       "      <td>Kit Kat</td>\n",
       "      <td>1</td>\n",
       "      <td>0</td>\n",
       "      <td>0</td>\n",
       "      <td>0</td>\n",
       "      <td>0</td>\n",
       "      <td>1</td>\n",
       "      <td>0</td>\n",
       "      <td>1</td>\n",
       "      <td>0</td>\n",
       "      <td>0.313</td>\n",
       "      <td>0.511</td>\n",
       "      <td>76.768600</td>\n",
       "    </tr>\n",
       "    <tr>\n",
       "      <th>79</th>\n",
       "      <td>Twix</td>\n",
       "      <td>1</td>\n",
       "      <td>0</td>\n",
       "      <td>1</td>\n",
       "      <td>0</td>\n",
       "      <td>0</td>\n",
       "      <td>1</td>\n",
       "      <td>0</td>\n",
       "      <td>1</td>\n",
       "      <td>0</td>\n",
       "      <td>0.546</td>\n",
       "      <td>0.906</td>\n",
       "      <td>81.642914</td>\n",
       "    </tr>\n",
       "    <tr>\n",
       "      <th>51</th>\n",
       "      <td>ReeseÕs Miniatures</td>\n",
       "      <td>1</td>\n",
       "      <td>0</td>\n",
       "      <td>0</td>\n",
       "      <td>1</td>\n",
       "      <td>0</td>\n",
       "      <td>0</td>\n",
       "      <td>0</td>\n",
       "      <td>0</td>\n",
       "      <td>0</td>\n",
       "      <td>0.034</td>\n",
       "      <td>0.279</td>\n",
       "      <td>81.866257</td>\n",
       "    </tr>\n",
       "    <tr>\n",
       "      <th>52</th>\n",
       "      <td>ReeseÕs Peanut Butter cup</td>\n",
       "      <td>1</td>\n",
       "      <td>0</td>\n",
       "      <td>0</td>\n",
       "      <td>1</td>\n",
       "      <td>0</td>\n",
       "      <td>0</td>\n",
       "      <td>0</td>\n",
       "      <td>0</td>\n",
       "      <td>0</td>\n",
       "      <td>0.720</td>\n",
       "      <td>0.651</td>\n",
       "      <td>84.180290</td>\n",
       "    </tr>\n",
       "  </tbody>\n",
       "</table>\n",
       "</div>"
      ],
      "text/plain": [
       "                 competitorname  chocolate  fruity  caramel  peanutyalmondy  \\\n",
       "42          Nestle Butterfinger          1       0        0               1   \n",
       "32          Peanut butter M&MÕs          1       0        0               1   \n",
       "54  ReeseÕs stuffed with pieces          1       0        0               1   \n",
       "36                    Milky Way          1       0        1               0   \n",
       "53               ReeseÕs pieces          1       0        0               1   \n",
       "64                     Snickers          1       0        1               1   \n",
       "28                      Kit Kat          1       0        0               0   \n",
       "79                         Twix          1       0        1               0   \n",
       "51           ReeseÕs Miniatures          1       0        0               1   \n",
       "52    ReeseÕs Peanut Butter cup          1       0        0               1   \n",
       "\n",
       "    nougat  crispedricewafer  hard  bar  pluribus  sugarpercent  pricepercent  \\\n",
       "42       0                 0     0    1         0         0.604         0.767   \n",
       "32       0                 0     0    0         1         0.825         0.651   \n",
       "54       0                 0     0    0         0         0.988         0.651   \n",
       "36       1                 0     0    1         0         0.604         0.651   \n",
       "53       0                 0     0    0         1         0.406         0.651   \n",
       "64       1                 0     0    1         0         0.546         0.651   \n",
       "28       0                 1     0    1         0         0.313         0.511   \n",
       "79       0                 1     0    1         0         0.546         0.906   \n",
       "51       0                 0     0    0         0         0.034         0.279   \n",
       "52       0                 0     0    0         0         0.720         0.651   \n",
       "\n",
       "    winpercent  \n",
       "42   70.735641  \n",
       "32   71.465050  \n",
       "54   72.887901  \n",
       "36   73.099556  \n",
       "53   73.434990  \n",
       "64   76.673782  \n",
       "28   76.768600  \n",
       "79   81.642914  \n",
       "51   81.866257  \n",
       "52   84.180290  "
      ]
     },
     "execution_count": 13,
     "metadata": {},
     "output_type": "execute_result"
    }
   ],
   "source": [
    "top_ten_df =df.sort_values(by=['winpercent']).tail(10)\n",
    "top_ten_df"
   ]
  },
  {
   "cell_type": "code",
   "execution_count": 14,
   "metadata": {},
   "outputs": [
    {
     "data": {
      "application/vnd.plotly.v1+json": {
       "config": {
        "linkText": "Export to plot.ly",
        "plotlyServerURL": "https://plot.ly",
        "showLink": false
       },
       "data": [
        {
         "marker": {
          "color": "#1b7fbd"
         },
         "orientation": "h",
         "type": "bar",
         "x": [
          0,
          0,
          2,
          2,
          3,
          5,
          7,
          10
         ],
         "y": [
          "Fruity",
          "Hard",
          "Crispedricewafer",
          "Nougat",
          "Caramel",
          "Bar",
          "Peanutyalmondy",
          "Chocolate"
         ]
        }
       ],
       "layout": {
        "margin": {
         "b": 60,
         "l": 180,
         "pad": 4,
         "r": 50,
         "t": 100
        },
        "template": {
         "data": {
          "bar": [
           {
            "error_x": {
             "color": "#2a3f5f"
            },
            "error_y": {
             "color": "#2a3f5f"
            },
            "marker": {
             "line": {
              "color": "#E5ECF6",
              "width": 0.5
             }
            },
            "type": "bar"
           }
          ],
          "barpolar": [
           {
            "marker": {
             "line": {
              "color": "#E5ECF6",
              "width": 0.5
             }
            },
            "type": "barpolar"
           }
          ],
          "carpet": [
           {
            "aaxis": {
             "endlinecolor": "#2a3f5f",
             "gridcolor": "white",
             "linecolor": "white",
             "minorgridcolor": "white",
             "startlinecolor": "#2a3f5f"
            },
            "baxis": {
             "endlinecolor": "#2a3f5f",
             "gridcolor": "white",
             "linecolor": "white",
             "minorgridcolor": "white",
             "startlinecolor": "#2a3f5f"
            },
            "type": "carpet"
           }
          ],
          "choropleth": [
           {
            "colorbar": {
             "outlinewidth": 0,
             "ticks": ""
            },
            "type": "choropleth"
           }
          ],
          "contour": [
           {
            "colorbar": {
             "outlinewidth": 0,
             "ticks": ""
            },
            "colorscale": [
             [
              0,
              "#0d0887"
             ],
             [
              0.1111111111111111,
              "#46039f"
             ],
             [
              0.2222222222222222,
              "#7201a8"
             ],
             [
              0.3333333333333333,
              "#9c179e"
             ],
             [
              0.4444444444444444,
              "#bd3786"
             ],
             [
              0.5555555555555556,
              "#d8576b"
             ],
             [
              0.6666666666666666,
              "#ed7953"
             ],
             [
              0.7777777777777778,
              "#fb9f3a"
             ],
             [
              0.8888888888888888,
              "#fdca26"
             ],
             [
              1,
              "#f0f921"
             ]
            ],
            "type": "contour"
           }
          ],
          "contourcarpet": [
           {
            "colorbar": {
             "outlinewidth": 0,
             "ticks": ""
            },
            "type": "contourcarpet"
           }
          ],
          "heatmap": [
           {
            "colorbar": {
             "outlinewidth": 0,
             "ticks": ""
            },
            "colorscale": [
             [
              0,
              "#0d0887"
             ],
             [
              0.1111111111111111,
              "#46039f"
             ],
             [
              0.2222222222222222,
              "#7201a8"
             ],
             [
              0.3333333333333333,
              "#9c179e"
             ],
             [
              0.4444444444444444,
              "#bd3786"
             ],
             [
              0.5555555555555556,
              "#d8576b"
             ],
             [
              0.6666666666666666,
              "#ed7953"
             ],
             [
              0.7777777777777778,
              "#fb9f3a"
             ],
             [
              0.8888888888888888,
              "#fdca26"
             ],
             [
              1,
              "#f0f921"
             ]
            ],
            "type": "heatmap"
           }
          ],
          "heatmapgl": [
           {
            "colorbar": {
             "outlinewidth": 0,
             "ticks": ""
            },
            "colorscale": [
             [
              0,
              "#0d0887"
             ],
             [
              0.1111111111111111,
              "#46039f"
             ],
             [
              0.2222222222222222,
              "#7201a8"
             ],
             [
              0.3333333333333333,
              "#9c179e"
             ],
             [
              0.4444444444444444,
              "#bd3786"
             ],
             [
              0.5555555555555556,
              "#d8576b"
             ],
             [
              0.6666666666666666,
              "#ed7953"
             ],
             [
              0.7777777777777778,
              "#fb9f3a"
             ],
             [
              0.8888888888888888,
              "#fdca26"
             ],
             [
              1,
              "#f0f921"
             ]
            ],
            "type": "heatmapgl"
           }
          ],
          "histogram": [
           {
            "marker": {
             "colorbar": {
              "outlinewidth": 0,
              "ticks": ""
             }
            },
            "type": "histogram"
           }
          ],
          "histogram2d": [
           {
            "colorbar": {
             "outlinewidth": 0,
             "ticks": ""
            },
            "colorscale": [
             [
              0,
              "#0d0887"
             ],
             [
              0.1111111111111111,
              "#46039f"
             ],
             [
              0.2222222222222222,
              "#7201a8"
             ],
             [
              0.3333333333333333,
              "#9c179e"
             ],
             [
              0.4444444444444444,
              "#bd3786"
             ],
             [
              0.5555555555555556,
              "#d8576b"
             ],
             [
              0.6666666666666666,
              "#ed7953"
             ],
             [
              0.7777777777777778,
              "#fb9f3a"
             ],
             [
              0.8888888888888888,
              "#fdca26"
             ],
             [
              1,
              "#f0f921"
             ]
            ],
            "type": "histogram2d"
           }
          ],
          "histogram2dcontour": [
           {
            "colorbar": {
             "outlinewidth": 0,
             "ticks": ""
            },
            "colorscale": [
             [
              0,
              "#0d0887"
             ],
             [
              0.1111111111111111,
              "#46039f"
             ],
             [
              0.2222222222222222,
              "#7201a8"
             ],
             [
              0.3333333333333333,
              "#9c179e"
             ],
             [
              0.4444444444444444,
              "#bd3786"
             ],
             [
              0.5555555555555556,
              "#d8576b"
             ],
             [
              0.6666666666666666,
              "#ed7953"
             ],
             [
              0.7777777777777778,
              "#fb9f3a"
             ],
             [
              0.8888888888888888,
              "#fdca26"
             ],
             [
              1,
              "#f0f921"
             ]
            ],
            "type": "histogram2dcontour"
           }
          ],
          "mesh3d": [
           {
            "colorbar": {
             "outlinewidth": 0,
             "ticks": ""
            },
            "type": "mesh3d"
           }
          ],
          "parcoords": [
           {
            "line": {
             "colorbar": {
              "outlinewidth": 0,
              "ticks": ""
             }
            },
            "type": "parcoords"
           }
          ],
          "scatter": [
           {
            "marker": {
             "colorbar": {
              "outlinewidth": 0,
              "ticks": ""
             }
            },
            "type": "scatter"
           }
          ],
          "scatter3d": [
           {
            "line": {
             "colorbar": {
              "outlinewidth": 0,
              "ticks": ""
             }
            },
            "marker": {
             "colorbar": {
              "outlinewidth": 0,
              "ticks": ""
             }
            },
            "type": "scatter3d"
           }
          ],
          "scattercarpet": [
           {
            "marker": {
             "colorbar": {
              "outlinewidth": 0,
              "ticks": ""
             }
            },
            "type": "scattercarpet"
           }
          ],
          "scattergeo": [
           {
            "marker": {
             "colorbar": {
              "outlinewidth": 0,
              "ticks": ""
             }
            },
            "type": "scattergeo"
           }
          ],
          "scattergl": [
           {
            "marker": {
             "colorbar": {
              "outlinewidth": 0,
              "ticks": ""
             }
            },
            "type": "scattergl"
           }
          ],
          "scattermapbox": [
           {
            "marker": {
             "colorbar": {
              "outlinewidth": 0,
              "ticks": ""
             }
            },
            "type": "scattermapbox"
           }
          ],
          "scatterpolar": [
           {
            "marker": {
             "colorbar": {
              "outlinewidth": 0,
              "ticks": ""
             }
            },
            "type": "scatterpolar"
           }
          ],
          "scatterpolargl": [
           {
            "marker": {
             "colorbar": {
              "outlinewidth": 0,
              "ticks": ""
             }
            },
            "type": "scatterpolargl"
           }
          ],
          "scatterternary": [
           {
            "marker": {
             "colorbar": {
              "outlinewidth": 0,
              "ticks": ""
             }
            },
            "type": "scatterternary"
           }
          ],
          "surface": [
           {
            "colorbar": {
             "outlinewidth": 0,
             "ticks": ""
            },
            "colorscale": [
             [
              0,
              "#0d0887"
             ],
             [
              0.1111111111111111,
              "#46039f"
             ],
             [
              0.2222222222222222,
              "#7201a8"
             ],
             [
              0.3333333333333333,
              "#9c179e"
             ],
             [
              0.4444444444444444,
              "#bd3786"
             ],
             [
              0.5555555555555556,
              "#d8576b"
             ],
             [
              0.6666666666666666,
              "#ed7953"
             ],
             [
              0.7777777777777778,
              "#fb9f3a"
             ],
             [
              0.8888888888888888,
              "#fdca26"
             ],
             [
              1,
              "#f0f921"
             ]
            ],
            "type": "surface"
           }
          ],
          "table": [
           {
            "cells": {
             "fill": {
              "color": "#EBF0F8"
             },
             "line": {
              "color": "white"
             }
            },
            "header": {
             "fill": {
              "color": "#C8D4E3"
             },
             "line": {
              "color": "white"
             }
            },
            "type": "table"
           }
          ]
         },
         "layout": {
          "annotationdefaults": {
           "arrowcolor": "#2a3f5f",
           "arrowhead": 0,
           "arrowwidth": 1
          },
          "colorscale": {
           "diverging": [
            [
             0,
             "#8e0152"
            ],
            [
             0.1,
             "#c51b7d"
            ],
            [
             0.2,
             "#de77ae"
            ],
            [
             0.3,
             "#f1b6da"
            ],
            [
             0.4,
             "#fde0ef"
            ],
            [
             0.5,
             "#f7f7f7"
            ],
            [
             0.6,
             "#e6f5d0"
            ],
            [
             0.7,
             "#b8e186"
            ],
            [
             0.8,
             "#7fbc41"
            ],
            [
             0.9,
             "#4d9221"
            ],
            [
             1,
             "#276419"
            ]
           ],
           "sequential": [
            [
             0,
             "#0d0887"
            ],
            [
             0.1111111111111111,
             "#46039f"
            ],
            [
             0.2222222222222222,
             "#7201a8"
            ],
            [
             0.3333333333333333,
             "#9c179e"
            ],
            [
             0.4444444444444444,
             "#bd3786"
            ],
            [
             0.5555555555555556,
             "#d8576b"
            ],
            [
             0.6666666666666666,
             "#ed7953"
            ],
            [
             0.7777777777777778,
             "#fb9f3a"
            ],
            [
             0.8888888888888888,
             "#fdca26"
            ],
            [
             1,
             "#f0f921"
            ]
           ],
           "sequentialminus": [
            [
             0,
             "#0d0887"
            ],
            [
             0.1111111111111111,
             "#46039f"
            ],
            [
             0.2222222222222222,
             "#7201a8"
            ],
            [
             0.3333333333333333,
             "#9c179e"
            ],
            [
             0.4444444444444444,
             "#bd3786"
            ],
            [
             0.5555555555555556,
             "#d8576b"
            ],
            [
             0.6666666666666666,
             "#ed7953"
            ],
            [
             0.7777777777777778,
             "#fb9f3a"
            ],
            [
             0.8888888888888888,
             "#fdca26"
            ],
            [
             1,
             "#f0f921"
            ]
           ]
          },
          "colorway": [
           "#636efa",
           "#EF553B",
           "#00cc96",
           "#ab63fa",
           "#FFA15A",
           "#19d3f3",
           "#FF6692",
           "#B6E880",
           "#FF97FF",
           "#FECB52"
          ],
          "font": {
           "color": "#2a3f5f"
          },
          "geo": {
           "bgcolor": "white",
           "lakecolor": "white",
           "landcolor": "#E5ECF6",
           "showlakes": true,
           "showland": true,
           "subunitcolor": "white"
          },
          "hoverlabel": {
           "align": "left"
          },
          "hovermode": "closest",
          "mapbox": {
           "style": "light"
          },
          "paper_bgcolor": "white",
          "plot_bgcolor": "#E5ECF6",
          "polar": {
           "angularaxis": {
            "gridcolor": "white",
            "linecolor": "white",
            "ticks": ""
           },
           "bgcolor": "#E5ECF6",
           "radialaxis": {
            "gridcolor": "white",
            "linecolor": "white",
            "ticks": ""
           }
          },
          "scene": {
           "xaxis": {
            "backgroundcolor": "#E5ECF6",
            "gridcolor": "white",
            "gridwidth": 2,
            "linecolor": "white",
            "showbackground": true,
            "ticks": "",
            "zerolinecolor": "white"
           },
           "yaxis": {
            "backgroundcolor": "#E5ECF6",
            "gridcolor": "white",
            "gridwidth": 2,
            "linecolor": "white",
            "showbackground": true,
            "ticks": "",
            "zerolinecolor": "white"
           },
           "zaxis": {
            "backgroundcolor": "#E5ECF6",
            "gridcolor": "white",
            "gridwidth": 2,
            "linecolor": "white",
            "showbackground": true,
            "ticks": "",
            "zerolinecolor": "white"
           }
          },
          "shapedefaults": {
           "line": {
            "color": "#2a3f5f"
           }
          },
          "ternary": {
           "aaxis": {
            "gridcolor": "white",
            "linecolor": "white",
            "ticks": ""
           },
           "baxis": {
            "gridcolor": "white",
            "linecolor": "white",
            "ticks": ""
           },
           "bgcolor": "#E5ECF6",
           "caxis": {
            "gridcolor": "white",
            "linecolor": "white",
            "ticks": ""
           }
          },
          "title": {
           "x": 0.05
          },
          "xaxis": {
           "automargin": true,
           "gridcolor": "white",
           "linecolor": "white",
           "ticks": "",
           "zerolinecolor": "white",
           "zerolinewidth": 2
          },
          "yaxis": {
           "automargin": true,
           "gridcolor": "white",
           "linecolor": "white",
           "ticks": "",
           "zerolinecolor": "white",
           "zerolinewidth": 2
          }
         }
        },
        "title": {
         "text": "Top 10 candies contents"
        },
        "xaxis": {
         "title": {
          "text": "Count"
         }
        }
       }
      },
      "text/html": [
       "<div>\n",
       "        \n",
       "        \n",
       "            <div id=\"f81461ee-0241-40d2-8c88-2309ba8b5688\" class=\"plotly-graph-div\" style=\"height:525px; width:100%;\"></div>\n",
       "            <script type=\"text/javascript\">\n",
       "                require([\"plotly\"], function(Plotly) {\n",
       "                    window.PLOTLYENV=window.PLOTLYENV || {};\n",
       "                    \n",
       "                if (document.getElementById(\"f81461ee-0241-40d2-8c88-2309ba8b5688\")) {\n",
       "                    Plotly.newPlot(\n",
       "                        'f81461ee-0241-40d2-8c88-2309ba8b5688',\n",
       "                        [{\"marker\": {\"color\": \"#1b7fbd\"}, \"orientation\": \"h\", \"type\": \"bar\", \"x\": [0, 0, 2, 2, 3, 5, 7, 10], \"y\": [\"Fruity\", \"Hard\", \"Crispedricewafer\", \"Nougat\", \"Caramel\", \"Bar\", \"Peanutyalmondy\", \"Chocolate\"]}],\n",
       "                        {\"margin\": {\"b\": 60, \"l\": 180, \"pad\": 4, \"r\": 50, \"t\": 100}, \"template\": {\"data\": {\"bar\": [{\"error_x\": {\"color\": \"#2a3f5f\"}, \"error_y\": {\"color\": \"#2a3f5f\"}, \"marker\": {\"line\": {\"color\": \"#E5ECF6\", \"width\": 0.5}}, \"type\": \"bar\"}], \"barpolar\": [{\"marker\": {\"line\": {\"color\": \"#E5ECF6\", \"width\": 0.5}}, \"type\": \"barpolar\"}], \"carpet\": [{\"aaxis\": {\"endlinecolor\": \"#2a3f5f\", \"gridcolor\": \"white\", \"linecolor\": \"white\", \"minorgridcolor\": \"white\", \"startlinecolor\": \"#2a3f5f\"}, \"baxis\": {\"endlinecolor\": \"#2a3f5f\", \"gridcolor\": \"white\", \"linecolor\": \"white\", \"minorgridcolor\": \"white\", \"startlinecolor\": \"#2a3f5f\"}, \"type\": \"carpet\"}], \"choropleth\": [{\"colorbar\": {\"outlinewidth\": 0, \"ticks\": \"\"}, \"type\": \"choropleth\"}], \"contour\": [{\"colorbar\": {\"outlinewidth\": 0, \"ticks\": \"\"}, \"colorscale\": [[0.0, \"#0d0887\"], [0.1111111111111111, \"#46039f\"], [0.2222222222222222, \"#7201a8\"], [0.3333333333333333, \"#9c179e\"], [0.4444444444444444, \"#bd3786\"], [0.5555555555555556, \"#d8576b\"], [0.6666666666666666, \"#ed7953\"], [0.7777777777777778, \"#fb9f3a\"], [0.8888888888888888, \"#fdca26\"], [1.0, \"#f0f921\"]], \"type\": \"contour\"}], \"contourcarpet\": [{\"colorbar\": {\"outlinewidth\": 0, \"ticks\": \"\"}, \"type\": \"contourcarpet\"}], \"heatmap\": [{\"colorbar\": {\"outlinewidth\": 0, \"ticks\": \"\"}, \"colorscale\": [[0.0, \"#0d0887\"], [0.1111111111111111, \"#46039f\"], [0.2222222222222222, \"#7201a8\"], [0.3333333333333333, \"#9c179e\"], [0.4444444444444444, \"#bd3786\"], [0.5555555555555556, \"#d8576b\"], [0.6666666666666666, \"#ed7953\"], [0.7777777777777778, \"#fb9f3a\"], [0.8888888888888888, \"#fdca26\"], [1.0, \"#f0f921\"]], \"type\": \"heatmap\"}], \"heatmapgl\": [{\"colorbar\": {\"outlinewidth\": 0, \"ticks\": \"\"}, \"colorscale\": [[0.0, \"#0d0887\"], [0.1111111111111111, \"#46039f\"], [0.2222222222222222, \"#7201a8\"], [0.3333333333333333, \"#9c179e\"], [0.4444444444444444, \"#bd3786\"], [0.5555555555555556, \"#d8576b\"], [0.6666666666666666, \"#ed7953\"], [0.7777777777777778, \"#fb9f3a\"], [0.8888888888888888, \"#fdca26\"], [1.0, \"#f0f921\"]], \"type\": \"heatmapgl\"}], \"histogram\": [{\"marker\": {\"colorbar\": {\"outlinewidth\": 0, \"ticks\": \"\"}}, \"type\": \"histogram\"}], \"histogram2d\": [{\"colorbar\": {\"outlinewidth\": 0, \"ticks\": \"\"}, \"colorscale\": [[0.0, \"#0d0887\"], [0.1111111111111111, \"#46039f\"], [0.2222222222222222, \"#7201a8\"], [0.3333333333333333, \"#9c179e\"], [0.4444444444444444, \"#bd3786\"], [0.5555555555555556, \"#d8576b\"], [0.6666666666666666, \"#ed7953\"], [0.7777777777777778, \"#fb9f3a\"], [0.8888888888888888, \"#fdca26\"], [1.0, \"#f0f921\"]], \"type\": \"histogram2d\"}], \"histogram2dcontour\": [{\"colorbar\": {\"outlinewidth\": 0, \"ticks\": \"\"}, \"colorscale\": [[0.0, \"#0d0887\"], [0.1111111111111111, \"#46039f\"], [0.2222222222222222, \"#7201a8\"], [0.3333333333333333, \"#9c179e\"], [0.4444444444444444, \"#bd3786\"], [0.5555555555555556, \"#d8576b\"], [0.6666666666666666, \"#ed7953\"], [0.7777777777777778, \"#fb9f3a\"], [0.8888888888888888, \"#fdca26\"], [1.0, \"#f0f921\"]], \"type\": \"histogram2dcontour\"}], \"mesh3d\": [{\"colorbar\": {\"outlinewidth\": 0, \"ticks\": \"\"}, \"type\": \"mesh3d\"}], \"parcoords\": [{\"line\": {\"colorbar\": {\"outlinewidth\": 0, \"ticks\": \"\"}}, \"type\": \"parcoords\"}], \"scatter\": [{\"marker\": {\"colorbar\": {\"outlinewidth\": 0, \"ticks\": \"\"}}, \"type\": \"scatter\"}], \"scatter3d\": [{\"line\": {\"colorbar\": {\"outlinewidth\": 0, \"ticks\": \"\"}}, \"marker\": {\"colorbar\": {\"outlinewidth\": 0, \"ticks\": \"\"}}, \"type\": \"scatter3d\"}], \"scattercarpet\": [{\"marker\": {\"colorbar\": {\"outlinewidth\": 0, \"ticks\": \"\"}}, \"type\": \"scattercarpet\"}], \"scattergeo\": [{\"marker\": {\"colorbar\": {\"outlinewidth\": 0, \"ticks\": \"\"}}, \"type\": \"scattergeo\"}], \"scattergl\": [{\"marker\": {\"colorbar\": {\"outlinewidth\": 0, \"ticks\": \"\"}}, \"type\": \"scattergl\"}], \"scattermapbox\": [{\"marker\": {\"colorbar\": {\"outlinewidth\": 0, \"ticks\": \"\"}}, \"type\": \"scattermapbox\"}], \"scatterpolar\": [{\"marker\": {\"colorbar\": {\"outlinewidth\": 0, \"ticks\": \"\"}}, \"type\": \"scatterpolar\"}], \"scatterpolargl\": [{\"marker\": {\"colorbar\": {\"outlinewidth\": 0, \"ticks\": \"\"}}, \"type\": \"scatterpolargl\"}], \"scatterternary\": [{\"marker\": {\"colorbar\": {\"outlinewidth\": 0, \"ticks\": \"\"}}, \"type\": \"scatterternary\"}], \"surface\": [{\"colorbar\": {\"outlinewidth\": 0, \"ticks\": \"\"}, \"colorscale\": [[0.0, \"#0d0887\"], [0.1111111111111111, \"#46039f\"], [0.2222222222222222, \"#7201a8\"], [0.3333333333333333, \"#9c179e\"], [0.4444444444444444, \"#bd3786\"], [0.5555555555555556, \"#d8576b\"], [0.6666666666666666, \"#ed7953\"], [0.7777777777777778, \"#fb9f3a\"], [0.8888888888888888, \"#fdca26\"], [1.0, \"#f0f921\"]], \"type\": \"surface\"}], \"table\": [{\"cells\": {\"fill\": {\"color\": \"#EBF0F8\"}, \"line\": {\"color\": \"white\"}}, \"header\": {\"fill\": {\"color\": \"#C8D4E3\"}, \"line\": {\"color\": \"white\"}}, \"type\": \"table\"}]}, \"layout\": {\"annotationdefaults\": {\"arrowcolor\": \"#2a3f5f\", \"arrowhead\": 0, \"arrowwidth\": 1}, \"colorscale\": {\"diverging\": [[0, \"#8e0152\"], [0.1, \"#c51b7d\"], [0.2, \"#de77ae\"], [0.3, \"#f1b6da\"], [0.4, \"#fde0ef\"], [0.5, \"#f7f7f7\"], [0.6, \"#e6f5d0\"], [0.7, \"#b8e186\"], [0.8, \"#7fbc41\"], [0.9, \"#4d9221\"], [1, \"#276419\"]], \"sequential\": [[0.0, \"#0d0887\"], [0.1111111111111111, \"#46039f\"], [0.2222222222222222, \"#7201a8\"], [0.3333333333333333, \"#9c179e\"], [0.4444444444444444, \"#bd3786\"], [0.5555555555555556, \"#d8576b\"], [0.6666666666666666, \"#ed7953\"], [0.7777777777777778, \"#fb9f3a\"], [0.8888888888888888, \"#fdca26\"], [1.0, \"#f0f921\"]], \"sequentialminus\": [[0.0, \"#0d0887\"], [0.1111111111111111, \"#46039f\"], [0.2222222222222222, \"#7201a8\"], [0.3333333333333333, \"#9c179e\"], [0.4444444444444444, \"#bd3786\"], [0.5555555555555556, \"#d8576b\"], [0.6666666666666666, \"#ed7953\"], [0.7777777777777778, \"#fb9f3a\"], [0.8888888888888888, \"#fdca26\"], [1.0, \"#f0f921\"]]}, \"colorway\": [\"#636efa\", \"#EF553B\", \"#00cc96\", \"#ab63fa\", \"#FFA15A\", \"#19d3f3\", \"#FF6692\", \"#B6E880\", \"#FF97FF\", \"#FECB52\"], \"font\": {\"color\": \"#2a3f5f\"}, \"geo\": {\"bgcolor\": \"white\", \"lakecolor\": \"white\", \"landcolor\": \"#E5ECF6\", \"showlakes\": true, \"showland\": true, \"subunitcolor\": \"white\"}, \"hoverlabel\": {\"align\": \"left\"}, \"hovermode\": \"closest\", \"mapbox\": {\"style\": \"light\"}, \"paper_bgcolor\": \"white\", \"plot_bgcolor\": \"#E5ECF6\", \"polar\": {\"angularaxis\": {\"gridcolor\": \"white\", \"linecolor\": \"white\", \"ticks\": \"\"}, \"bgcolor\": \"#E5ECF6\", \"radialaxis\": {\"gridcolor\": \"white\", \"linecolor\": \"white\", \"ticks\": \"\"}}, \"scene\": {\"xaxis\": {\"backgroundcolor\": \"#E5ECF6\", \"gridcolor\": \"white\", \"gridwidth\": 2, \"linecolor\": \"white\", \"showbackground\": true, \"ticks\": \"\", \"zerolinecolor\": \"white\"}, \"yaxis\": {\"backgroundcolor\": \"#E5ECF6\", \"gridcolor\": \"white\", \"gridwidth\": 2, \"linecolor\": \"white\", \"showbackground\": true, \"ticks\": \"\", \"zerolinecolor\": \"white\"}, \"zaxis\": {\"backgroundcolor\": \"#E5ECF6\", \"gridcolor\": \"white\", \"gridwidth\": 2, \"linecolor\": \"white\", \"showbackground\": true, \"ticks\": \"\", \"zerolinecolor\": \"white\"}}, \"shapedefaults\": {\"line\": {\"color\": \"#2a3f5f\"}}, \"ternary\": {\"aaxis\": {\"gridcolor\": \"white\", \"linecolor\": \"white\", \"ticks\": \"\"}, \"baxis\": {\"gridcolor\": \"white\", \"linecolor\": \"white\", \"ticks\": \"\"}, \"bgcolor\": \"#E5ECF6\", \"caxis\": {\"gridcolor\": \"white\", \"linecolor\": \"white\", \"ticks\": \"\"}}, \"title\": {\"x\": 0.05}, \"xaxis\": {\"automargin\": true, \"gridcolor\": \"white\", \"linecolor\": \"white\", \"ticks\": \"\", \"zerolinecolor\": \"white\", \"zerolinewidth\": 2}, \"yaxis\": {\"automargin\": true, \"gridcolor\": \"white\", \"linecolor\": \"white\", \"ticks\": \"\", \"zerolinecolor\": \"white\", \"zerolinewidth\": 2}}}, \"title\": {\"text\": \"Top 10 candies contents\"}, \"xaxis\": {\"title\": {\"text\": \"Count\"}}},\n",
       "                        {\"responsive\": true}\n",
       "                    ).then(function(){\n",
       "                            \n",
       "var gd = document.getElementById('f81461ee-0241-40d2-8c88-2309ba8b5688');\n",
       "var x = new MutationObserver(function (mutations, observer) {{\n",
       "        var display = window.getComputedStyle(gd).display;\n",
       "        if (!display || display === 'none') {{\n",
       "            console.log([gd, 'removed!']);\n",
       "            Plotly.purge(gd);\n",
       "            observer.disconnect();\n",
       "        }}\n",
       "}});\n",
       "\n",
       "// Listen for the removal of the full notebook cells\n",
       "var notebookContainer = gd.closest('#notebook-container');\n",
       "if (notebookContainer) {{\n",
       "    x.observe(notebookContainer, {childList: true});\n",
       "}}\n",
       "\n",
       "// Listen for the clearing of the current output cell\n",
       "var outputEl = gd.closest('.output');\n",
       "if (outputEl) {{\n",
       "    x.observe(outputEl, {childList: true});\n",
       "}}\n",
       "\n",
       "                        })\n",
       "                };\n",
       "                });\n",
       "            </script>\n",
       "        </div>"
      ]
     },
     "metadata": {},
     "output_type": "display_data"
    }
   ],
   "source": [
    "def top_content():\n",
    "    x= [top_ten_df.chocolate.sum(), top_ten_df.fruity.sum(), top_ten_df.caramel.sum(), top_ten_df.peanutyalmondy.sum(),\n",
    "                   top_ten_df.nougat.sum(), top_ten_df.crispedricewafer.sum(), top_ten_df.hard.sum(), top_ten_df.bar.sum()]\n",
    "    y= ['Chocolate', 'Fruity', 'Caramel', 'Peanutyalmondy', 'Nougat', 'Crispedricewafer', 'Hard', 'Bar']\n",
    "    sortx = sorted(x)\n",
    "    sorty = [y for _,y in sorted(zip(x,y))]\n",
    "    data = [go.Bar(\n",
    "            x=sortx,\n",
    "            y=sorty,\n",
    "            orientation = 'h',\n",
    "        marker=dict(color='#1b7fbd')\n",
    "            )]\n",
    "    layout = go.Layout(\n",
    "            margin=go.layout.Margin(l=180, r=50, b=60, t=100, pad=4),\n",
    "            title= 'Top 10 candies contents',\n",
    "            xaxis=dict(\n",
    "                title='Count'        \n",
    "            )    \n",
    "        )\n",
    "    fig = go.Figure(data=data, layout=layout)\n",
    "    return(fig)\n",
    "\n",
    "py.offline.iplot(top_content())"
   ]
  },
  {
   "cell_type": "markdown",
   "metadata": {},
   "source": [
    "**Inference: All the top 10 candies contains chocolate.**"
   ]
  },
  {
   "cell_type": "markdown",
   "metadata": {},
   "source": [
    "## 1.3. Candies count on the basis of content"
   ]
  },
  {
   "cell_type": "code",
   "execution_count": 15,
   "metadata": {
    "scrolled": false
   },
   "outputs": [
    {
     "data": {
      "application/vnd.plotly.v1+json": {
       "config": {
        "linkText": "Export to plot.ly",
        "plotlyServerURL": "https://plot.ly",
        "showLink": false
       },
       "data": [
        {
         "marker": {
          "color": "#1b7fbd"
         },
         "orientation": "h",
         "type": "bar",
         "x": [
          7,
          7,
          14,
          14,
          37,
          38
         ],
         "y": [
          "Crispedricewafer",
          "Nougat",
          "Caramel",
          "Peanutyalmondy",
          "Chocolate",
          "Fruity"
         ]
        }
       ],
       "layout": {
        "margin": {
         "b": 60,
         "l": 100,
         "pad": 4,
         "r": 50,
         "t": 100
        },
        "template": {
         "data": {
          "bar": [
           {
            "error_x": {
             "color": "#2a3f5f"
            },
            "error_y": {
             "color": "#2a3f5f"
            },
            "marker": {
             "line": {
              "color": "#E5ECF6",
              "width": 0.5
             }
            },
            "type": "bar"
           }
          ],
          "barpolar": [
           {
            "marker": {
             "line": {
              "color": "#E5ECF6",
              "width": 0.5
             }
            },
            "type": "barpolar"
           }
          ],
          "carpet": [
           {
            "aaxis": {
             "endlinecolor": "#2a3f5f",
             "gridcolor": "white",
             "linecolor": "white",
             "minorgridcolor": "white",
             "startlinecolor": "#2a3f5f"
            },
            "baxis": {
             "endlinecolor": "#2a3f5f",
             "gridcolor": "white",
             "linecolor": "white",
             "minorgridcolor": "white",
             "startlinecolor": "#2a3f5f"
            },
            "type": "carpet"
           }
          ],
          "choropleth": [
           {
            "colorbar": {
             "outlinewidth": 0,
             "ticks": ""
            },
            "type": "choropleth"
           }
          ],
          "contour": [
           {
            "colorbar": {
             "outlinewidth": 0,
             "ticks": ""
            },
            "colorscale": [
             [
              0,
              "#0d0887"
             ],
             [
              0.1111111111111111,
              "#46039f"
             ],
             [
              0.2222222222222222,
              "#7201a8"
             ],
             [
              0.3333333333333333,
              "#9c179e"
             ],
             [
              0.4444444444444444,
              "#bd3786"
             ],
             [
              0.5555555555555556,
              "#d8576b"
             ],
             [
              0.6666666666666666,
              "#ed7953"
             ],
             [
              0.7777777777777778,
              "#fb9f3a"
             ],
             [
              0.8888888888888888,
              "#fdca26"
             ],
             [
              1,
              "#f0f921"
             ]
            ],
            "type": "contour"
           }
          ],
          "contourcarpet": [
           {
            "colorbar": {
             "outlinewidth": 0,
             "ticks": ""
            },
            "type": "contourcarpet"
           }
          ],
          "heatmap": [
           {
            "colorbar": {
             "outlinewidth": 0,
             "ticks": ""
            },
            "colorscale": [
             [
              0,
              "#0d0887"
             ],
             [
              0.1111111111111111,
              "#46039f"
             ],
             [
              0.2222222222222222,
              "#7201a8"
             ],
             [
              0.3333333333333333,
              "#9c179e"
             ],
             [
              0.4444444444444444,
              "#bd3786"
             ],
             [
              0.5555555555555556,
              "#d8576b"
             ],
             [
              0.6666666666666666,
              "#ed7953"
             ],
             [
              0.7777777777777778,
              "#fb9f3a"
             ],
             [
              0.8888888888888888,
              "#fdca26"
             ],
             [
              1,
              "#f0f921"
             ]
            ],
            "type": "heatmap"
           }
          ],
          "heatmapgl": [
           {
            "colorbar": {
             "outlinewidth": 0,
             "ticks": ""
            },
            "colorscale": [
             [
              0,
              "#0d0887"
             ],
             [
              0.1111111111111111,
              "#46039f"
             ],
             [
              0.2222222222222222,
              "#7201a8"
             ],
             [
              0.3333333333333333,
              "#9c179e"
             ],
             [
              0.4444444444444444,
              "#bd3786"
             ],
             [
              0.5555555555555556,
              "#d8576b"
             ],
             [
              0.6666666666666666,
              "#ed7953"
             ],
             [
              0.7777777777777778,
              "#fb9f3a"
             ],
             [
              0.8888888888888888,
              "#fdca26"
             ],
             [
              1,
              "#f0f921"
             ]
            ],
            "type": "heatmapgl"
           }
          ],
          "histogram": [
           {
            "marker": {
             "colorbar": {
              "outlinewidth": 0,
              "ticks": ""
             }
            },
            "type": "histogram"
           }
          ],
          "histogram2d": [
           {
            "colorbar": {
             "outlinewidth": 0,
             "ticks": ""
            },
            "colorscale": [
             [
              0,
              "#0d0887"
             ],
             [
              0.1111111111111111,
              "#46039f"
             ],
             [
              0.2222222222222222,
              "#7201a8"
             ],
             [
              0.3333333333333333,
              "#9c179e"
             ],
             [
              0.4444444444444444,
              "#bd3786"
             ],
             [
              0.5555555555555556,
              "#d8576b"
             ],
             [
              0.6666666666666666,
              "#ed7953"
             ],
             [
              0.7777777777777778,
              "#fb9f3a"
             ],
             [
              0.8888888888888888,
              "#fdca26"
             ],
             [
              1,
              "#f0f921"
             ]
            ],
            "type": "histogram2d"
           }
          ],
          "histogram2dcontour": [
           {
            "colorbar": {
             "outlinewidth": 0,
             "ticks": ""
            },
            "colorscale": [
             [
              0,
              "#0d0887"
             ],
             [
              0.1111111111111111,
              "#46039f"
             ],
             [
              0.2222222222222222,
              "#7201a8"
             ],
             [
              0.3333333333333333,
              "#9c179e"
             ],
             [
              0.4444444444444444,
              "#bd3786"
             ],
             [
              0.5555555555555556,
              "#d8576b"
             ],
             [
              0.6666666666666666,
              "#ed7953"
             ],
             [
              0.7777777777777778,
              "#fb9f3a"
             ],
             [
              0.8888888888888888,
              "#fdca26"
             ],
             [
              1,
              "#f0f921"
             ]
            ],
            "type": "histogram2dcontour"
           }
          ],
          "mesh3d": [
           {
            "colorbar": {
             "outlinewidth": 0,
             "ticks": ""
            },
            "type": "mesh3d"
           }
          ],
          "parcoords": [
           {
            "line": {
             "colorbar": {
              "outlinewidth": 0,
              "ticks": ""
             }
            },
            "type": "parcoords"
           }
          ],
          "scatter": [
           {
            "marker": {
             "colorbar": {
              "outlinewidth": 0,
              "ticks": ""
             }
            },
            "type": "scatter"
           }
          ],
          "scatter3d": [
           {
            "line": {
             "colorbar": {
              "outlinewidth": 0,
              "ticks": ""
             }
            },
            "marker": {
             "colorbar": {
              "outlinewidth": 0,
              "ticks": ""
             }
            },
            "type": "scatter3d"
           }
          ],
          "scattercarpet": [
           {
            "marker": {
             "colorbar": {
              "outlinewidth": 0,
              "ticks": ""
             }
            },
            "type": "scattercarpet"
           }
          ],
          "scattergeo": [
           {
            "marker": {
             "colorbar": {
              "outlinewidth": 0,
              "ticks": ""
             }
            },
            "type": "scattergeo"
           }
          ],
          "scattergl": [
           {
            "marker": {
             "colorbar": {
              "outlinewidth": 0,
              "ticks": ""
             }
            },
            "type": "scattergl"
           }
          ],
          "scattermapbox": [
           {
            "marker": {
             "colorbar": {
              "outlinewidth": 0,
              "ticks": ""
             }
            },
            "type": "scattermapbox"
           }
          ],
          "scatterpolar": [
           {
            "marker": {
             "colorbar": {
              "outlinewidth": 0,
              "ticks": ""
             }
            },
            "type": "scatterpolar"
           }
          ],
          "scatterpolargl": [
           {
            "marker": {
             "colorbar": {
              "outlinewidth": 0,
              "ticks": ""
             }
            },
            "type": "scatterpolargl"
           }
          ],
          "scatterternary": [
           {
            "marker": {
             "colorbar": {
              "outlinewidth": 0,
              "ticks": ""
             }
            },
            "type": "scatterternary"
           }
          ],
          "surface": [
           {
            "colorbar": {
             "outlinewidth": 0,
             "ticks": ""
            },
            "colorscale": [
             [
              0,
              "#0d0887"
             ],
             [
              0.1111111111111111,
              "#46039f"
             ],
             [
              0.2222222222222222,
              "#7201a8"
             ],
             [
              0.3333333333333333,
              "#9c179e"
             ],
             [
              0.4444444444444444,
              "#bd3786"
             ],
             [
              0.5555555555555556,
              "#d8576b"
             ],
             [
              0.6666666666666666,
              "#ed7953"
             ],
             [
              0.7777777777777778,
              "#fb9f3a"
             ],
             [
              0.8888888888888888,
              "#fdca26"
             ],
             [
              1,
              "#f0f921"
             ]
            ],
            "type": "surface"
           }
          ],
          "table": [
           {
            "cells": {
             "fill": {
              "color": "#EBF0F8"
             },
             "line": {
              "color": "white"
             }
            },
            "header": {
             "fill": {
              "color": "#C8D4E3"
             },
             "line": {
              "color": "white"
             }
            },
            "type": "table"
           }
          ]
         },
         "layout": {
          "annotationdefaults": {
           "arrowcolor": "#2a3f5f",
           "arrowhead": 0,
           "arrowwidth": 1
          },
          "colorscale": {
           "diverging": [
            [
             0,
             "#8e0152"
            ],
            [
             0.1,
             "#c51b7d"
            ],
            [
             0.2,
             "#de77ae"
            ],
            [
             0.3,
             "#f1b6da"
            ],
            [
             0.4,
             "#fde0ef"
            ],
            [
             0.5,
             "#f7f7f7"
            ],
            [
             0.6,
             "#e6f5d0"
            ],
            [
             0.7,
             "#b8e186"
            ],
            [
             0.8,
             "#7fbc41"
            ],
            [
             0.9,
             "#4d9221"
            ],
            [
             1,
             "#276419"
            ]
           ],
           "sequential": [
            [
             0,
             "#0d0887"
            ],
            [
             0.1111111111111111,
             "#46039f"
            ],
            [
             0.2222222222222222,
             "#7201a8"
            ],
            [
             0.3333333333333333,
             "#9c179e"
            ],
            [
             0.4444444444444444,
             "#bd3786"
            ],
            [
             0.5555555555555556,
             "#d8576b"
            ],
            [
             0.6666666666666666,
             "#ed7953"
            ],
            [
             0.7777777777777778,
             "#fb9f3a"
            ],
            [
             0.8888888888888888,
             "#fdca26"
            ],
            [
             1,
             "#f0f921"
            ]
           ],
           "sequentialminus": [
            [
             0,
             "#0d0887"
            ],
            [
             0.1111111111111111,
             "#46039f"
            ],
            [
             0.2222222222222222,
             "#7201a8"
            ],
            [
             0.3333333333333333,
             "#9c179e"
            ],
            [
             0.4444444444444444,
             "#bd3786"
            ],
            [
             0.5555555555555556,
             "#d8576b"
            ],
            [
             0.6666666666666666,
             "#ed7953"
            ],
            [
             0.7777777777777778,
             "#fb9f3a"
            ],
            [
             0.8888888888888888,
             "#fdca26"
            ],
            [
             1,
             "#f0f921"
            ]
           ]
          },
          "colorway": [
           "#636efa",
           "#EF553B",
           "#00cc96",
           "#ab63fa",
           "#FFA15A",
           "#19d3f3",
           "#FF6692",
           "#B6E880",
           "#FF97FF",
           "#FECB52"
          ],
          "font": {
           "color": "#2a3f5f"
          },
          "geo": {
           "bgcolor": "white",
           "lakecolor": "white",
           "landcolor": "#E5ECF6",
           "showlakes": true,
           "showland": true,
           "subunitcolor": "white"
          },
          "hoverlabel": {
           "align": "left"
          },
          "hovermode": "closest",
          "mapbox": {
           "style": "light"
          },
          "paper_bgcolor": "white",
          "plot_bgcolor": "#E5ECF6",
          "polar": {
           "angularaxis": {
            "gridcolor": "white",
            "linecolor": "white",
            "ticks": ""
           },
           "bgcolor": "#E5ECF6",
           "radialaxis": {
            "gridcolor": "white",
            "linecolor": "white",
            "ticks": ""
           }
          },
          "scene": {
           "xaxis": {
            "backgroundcolor": "#E5ECF6",
            "gridcolor": "white",
            "gridwidth": 2,
            "linecolor": "white",
            "showbackground": true,
            "ticks": "",
            "zerolinecolor": "white"
           },
           "yaxis": {
            "backgroundcolor": "#E5ECF6",
            "gridcolor": "white",
            "gridwidth": 2,
            "linecolor": "white",
            "showbackground": true,
            "ticks": "",
            "zerolinecolor": "white"
           },
           "zaxis": {
            "backgroundcolor": "#E5ECF6",
            "gridcolor": "white",
            "gridwidth": 2,
            "linecolor": "white",
            "showbackground": true,
            "ticks": "",
            "zerolinecolor": "white"
           }
          },
          "shapedefaults": {
           "line": {
            "color": "#2a3f5f"
           }
          },
          "ternary": {
           "aaxis": {
            "gridcolor": "white",
            "linecolor": "white",
            "ticks": ""
           },
           "baxis": {
            "gridcolor": "white",
            "linecolor": "white",
            "ticks": ""
           },
           "bgcolor": "#E5ECF6",
           "caxis": {
            "gridcolor": "white",
            "linecolor": "white",
            "ticks": ""
           }
          },
          "title": {
           "x": 0.05
          },
          "xaxis": {
           "automargin": true,
           "gridcolor": "white",
           "linecolor": "white",
           "ticks": "",
           "zerolinecolor": "white",
           "zerolinewidth": 2
          },
          "yaxis": {
           "automargin": true,
           "gridcolor": "white",
           "linecolor": "white",
           "ticks": "",
           "zerolinecolor": "white",
           "zerolinewidth": 2
          }
         }
        },
        "title": {
         "text": "Candy content count"
        },
        "xaxis": {
         "title": {
          "text": "Count"
         }
        }
       }
      },
      "text/html": [
       "<div>\n",
       "        \n",
       "        \n",
       "            <div id=\"32677c2c-ba66-4573-8dfa-99d42c738d53\" class=\"plotly-graph-div\" style=\"height:525px; width:100%;\"></div>\n",
       "            <script type=\"text/javascript\">\n",
       "                require([\"plotly\"], function(Plotly) {\n",
       "                    window.PLOTLYENV=window.PLOTLYENV || {};\n",
       "                    \n",
       "                if (document.getElementById(\"32677c2c-ba66-4573-8dfa-99d42c738d53\")) {\n",
       "                    Plotly.newPlot(\n",
       "                        '32677c2c-ba66-4573-8dfa-99d42c738d53',\n",
       "                        [{\"marker\": {\"color\": \"#1b7fbd\"}, \"orientation\": \"h\", \"type\": \"bar\", \"x\": [7, 7, 14, 14, 37, 38], \"y\": [\"Crispedricewafer\", \"Nougat\", \"Caramel\", \"Peanutyalmondy\", \"Chocolate\", \"Fruity\"]}],\n",
       "                        {\"margin\": {\"b\": 60, \"l\": 100, \"pad\": 4, \"r\": 50, \"t\": 100}, \"template\": {\"data\": {\"bar\": [{\"error_x\": {\"color\": \"#2a3f5f\"}, \"error_y\": {\"color\": \"#2a3f5f\"}, \"marker\": {\"line\": {\"color\": \"#E5ECF6\", \"width\": 0.5}}, \"type\": \"bar\"}], \"barpolar\": [{\"marker\": {\"line\": {\"color\": \"#E5ECF6\", \"width\": 0.5}}, \"type\": \"barpolar\"}], \"carpet\": [{\"aaxis\": {\"endlinecolor\": \"#2a3f5f\", \"gridcolor\": \"white\", \"linecolor\": \"white\", \"minorgridcolor\": \"white\", \"startlinecolor\": \"#2a3f5f\"}, \"baxis\": {\"endlinecolor\": \"#2a3f5f\", \"gridcolor\": \"white\", \"linecolor\": \"white\", \"minorgridcolor\": \"white\", \"startlinecolor\": \"#2a3f5f\"}, \"type\": \"carpet\"}], \"choropleth\": [{\"colorbar\": {\"outlinewidth\": 0, \"ticks\": \"\"}, \"type\": \"choropleth\"}], \"contour\": [{\"colorbar\": {\"outlinewidth\": 0, \"ticks\": \"\"}, \"colorscale\": [[0.0, \"#0d0887\"], [0.1111111111111111, \"#46039f\"], [0.2222222222222222, \"#7201a8\"], [0.3333333333333333, \"#9c179e\"], [0.4444444444444444, \"#bd3786\"], [0.5555555555555556, \"#d8576b\"], [0.6666666666666666, \"#ed7953\"], [0.7777777777777778, \"#fb9f3a\"], [0.8888888888888888, \"#fdca26\"], [1.0, \"#f0f921\"]], \"type\": \"contour\"}], \"contourcarpet\": [{\"colorbar\": {\"outlinewidth\": 0, \"ticks\": \"\"}, \"type\": \"contourcarpet\"}], \"heatmap\": [{\"colorbar\": {\"outlinewidth\": 0, \"ticks\": \"\"}, \"colorscale\": [[0.0, \"#0d0887\"], [0.1111111111111111, \"#46039f\"], [0.2222222222222222, \"#7201a8\"], [0.3333333333333333, \"#9c179e\"], [0.4444444444444444, \"#bd3786\"], [0.5555555555555556, \"#d8576b\"], [0.6666666666666666, \"#ed7953\"], [0.7777777777777778, \"#fb9f3a\"], [0.8888888888888888, \"#fdca26\"], [1.0, \"#f0f921\"]], \"type\": \"heatmap\"}], \"heatmapgl\": [{\"colorbar\": {\"outlinewidth\": 0, \"ticks\": \"\"}, \"colorscale\": [[0.0, \"#0d0887\"], [0.1111111111111111, \"#46039f\"], [0.2222222222222222, \"#7201a8\"], [0.3333333333333333, \"#9c179e\"], [0.4444444444444444, \"#bd3786\"], [0.5555555555555556, \"#d8576b\"], [0.6666666666666666, \"#ed7953\"], [0.7777777777777778, \"#fb9f3a\"], [0.8888888888888888, \"#fdca26\"], [1.0, \"#f0f921\"]], \"type\": \"heatmapgl\"}], \"histogram\": [{\"marker\": {\"colorbar\": {\"outlinewidth\": 0, \"ticks\": \"\"}}, \"type\": \"histogram\"}], \"histogram2d\": [{\"colorbar\": {\"outlinewidth\": 0, \"ticks\": \"\"}, \"colorscale\": [[0.0, \"#0d0887\"], [0.1111111111111111, \"#46039f\"], [0.2222222222222222, \"#7201a8\"], [0.3333333333333333, \"#9c179e\"], [0.4444444444444444, \"#bd3786\"], [0.5555555555555556, \"#d8576b\"], [0.6666666666666666, \"#ed7953\"], [0.7777777777777778, \"#fb9f3a\"], [0.8888888888888888, \"#fdca26\"], [1.0, \"#f0f921\"]], \"type\": \"histogram2d\"}], \"histogram2dcontour\": [{\"colorbar\": {\"outlinewidth\": 0, \"ticks\": \"\"}, \"colorscale\": [[0.0, \"#0d0887\"], [0.1111111111111111, \"#46039f\"], [0.2222222222222222, \"#7201a8\"], [0.3333333333333333, \"#9c179e\"], [0.4444444444444444, \"#bd3786\"], [0.5555555555555556, \"#d8576b\"], [0.6666666666666666, \"#ed7953\"], [0.7777777777777778, \"#fb9f3a\"], [0.8888888888888888, \"#fdca26\"], [1.0, \"#f0f921\"]], \"type\": \"histogram2dcontour\"}], \"mesh3d\": [{\"colorbar\": {\"outlinewidth\": 0, \"ticks\": \"\"}, \"type\": \"mesh3d\"}], \"parcoords\": [{\"line\": {\"colorbar\": {\"outlinewidth\": 0, \"ticks\": \"\"}}, \"type\": \"parcoords\"}], \"scatter\": [{\"marker\": {\"colorbar\": {\"outlinewidth\": 0, \"ticks\": \"\"}}, \"type\": \"scatter\"}], \"scatter3d\": [{\"line\": {\"colorbar\": {\"outlinewidth\": 0, \"ticks\": \"\"}}, \"marker\": {\"colorbar\": {\"outlinewidth\": 0, \"ticks\": \"\"}}, \"type\": \"scatter3d\"}], \"scattercarpet\": [{\"marker\": {\"colorbar\": {\"outlinewidth\": 0, \"ticks\": \"\"}}, \"type\": \"scattercarpet\"}], \"scattergeo\": [{\"marker\": {\"colorbar\": {\"outlinewidth\": 0, \"ticks\": \"\"}}, \"type\": \"scattergeo\"}], \"scattergl\": [{\"marker\": {\"colorbar\": {\"outlinewidth\": 0, \"ticks\": \"\"}}, \"type\": \"scattergl\"}], \"scattermapbox\": [{\"marker\": {\"colorbar\": {\"outlinewidth\": 0, \"ticks\": \"\"}}, \"type\": \"scattermapbox\"}], \"scatterpolar\": [{\"marker\": {\"colorbar\": {\"outlinewidth\": 0, \"ticks\": \"\"}}, \"type\": \"scatterpolar\"}], \"scatterpolargl\": [{\"marker\": {\"colorbar\": {\"outlinewidth\": 0, \"ticks\": \"\"}}, \"type\": \"scatterpolargl\"}], \"scatterternary\": [{\"marker\": {\"colorbar\": {\"outlinewidth\": 0, \"ticks\": \"\"}}, \"type\": \"scatterternary\"}], \"surface\": [{\"colorbar\": {\"outlinewidth\": 0, \"ticks\": \"\"}, \"colorscale\": [[0.0, \"#0d0887\"], [0.1111111111111111, \"#46039f\"], [0.2222222222222222, \"#7201a8\"], [0.3333333333333333, \"#9c179e\"], [0.4444444444444444, \"#bd3786\"], [0.5555555555555556, \"#d8576b\"], [0.6666666666666666, \"#ed7953\"], [0.7777777777777778, \"#fb9f3a\"], [0.8888888888888888, \"#fdca26\"], [1.0, \"#f0f921\"]], \"type\": \"surface\"}], \"table\": [{\"cells\": {\"fill\": {\"color\": \"#EBF0F8\"}, \"line\": {\"color\": \"white\"}}, \"header\": {\"fill\": {\"color\": \"#C8D4E3\"}, \"line\": {\"color\": \"white\"}}, \"type\": \"table\"}]}, \"layout\": {\"annotationdefaults\": {\"arrowcolor\": \"#2a3f5f\", \"arrowhead\": 0, \"arrowwidth\": 1}, \"colorscale\": {\"diverging\": [[0, \"#8e0152\"], [0.1, \"#c51b7d\"], [0.2, \"#de77ae\"], [0.3, \"#f1b6da\"], [0.4, \"#fde0ef\"], [0.5, \"#f7f7f7\"], [0.6, \"#e6f5d0\"], [0.7, \"#b8e186\"], [0.8, \"#7fbc41\"], [0.9, \"#4d9221\"], [1, \"#276419\"]], \"sequential\": [[0.0, \"#0d0887\"], [0.1111111111111111, \"#46039f\"], [0.2222222222222222, \"#7201a8\"], [0.3333333333333333, \"#9c179e\"], [0.4444444444444444, \"#bd3786\"], [0.5555555555555556, \"#d8576b\"], [0.6666666666666666, \"#ed7953\"], [0.7777777777777778, \"#fb9f3a\"], [0.8888888888888888, \"#fdca26\"], [1.0, \"#f0f921\"]], \"sequentialminus\": [[0.0, \"#0d0887\"], [0.1111111111111111, \"#46039f\"], [0.2222222222222222, \"#7201a8\"], [0.3333333333333333, \"#9c179e\"], [0.4444444444444444, \"#bd3786\"], [0.5555555555555556, \"#d8576b\"], [0.6666666666666666, \"#ed7953\"], [0.7777777777777778, \"#fb9f3a\"], [0.8888888888888888, \"#fdca26\"], [1.0, \"#f0f921\"]]}, \"colorway\": [\"#636efa\", \"#EF553B\", \"#00cc96\", \"#ab63fa\", \"#FFA15A\", \"#19d3f3\", \"#FF6692\", \"#B6E880\", \"#FF97FF\", \"#FECB52\"], \"font\": {\"color\": \"#2a3f5f\"}, \"geo\": {\"bgcolor\": \"white\", \"lakecolor\": \"white\", \"landcolor\": \"#E5ECF6\", \"showlakes\": true, \"showland\": true, \"subunitcolor\": \"white\"}, \"hoverlabel\": {\"align\": \"left\"}, \"hovermode\": \"closest\", \"mapbox\": {\"style\": \"light\"}, \"paper_bgcolor\": \"white\", \"plot_bgcolor\": \"#E5ECF6\", \"polar\": {\"angularaxis\": {\"gridcolor\": \"white\", \"linecolor\": \"white\", \"ticks\": \"\"}, \"bgcolor\": \"#E5ECF6\", \"radialaxis\": {\"gridcolor\": \"white\", \"linecolor\": \"white\", \"ticks\": \"\"}}, \"scene\": {\"xaxis\": {\"backgroundcolor\": \"#E5ECF6\", \"gridcolor\": \"white\", \"gridwidth\": 2, \"linecolor\": \"white\", \"showbackground\": true, \"ticks\": \"\", \"zerolinecolor\": \"white\"}, \"yaxis\": {\"backgroundcolor\": \"#E5ECF6\", \"gridcolor\": \"white\", \"gridwidth\": 2, \"linecolor\": \"white\", \"showbackground\": true, \"ticks\": \"\", \"zerolinecolor\": \"white\"}, \"zaxis\": {\"backgroundcolor\": \"#E5ECF6\", \"gridcolor\": \"white\", \"gridwidth\": 2, \"linecolor\": \"white\", \"showbackground\": true, \"ticks\": \"\", \"zerolinecolor\": \"white\"}}, \"shapedefaults\": {\"line\": {\"color\": \"#2a3f5f\"}}, \"ternary\": {\"aaxis\": {\"gridcolor\": \"white\", \"linecolor\": \"white\", \"ticks\": \"\"}, \"baxis\": {\"gridcolor\": \"white\", \"linecolor\": \"white\", \"ticks\": \"\"}, \"bgcolor\": \"#E5ECF6\", \"caxis\": {\"gridcolor\": \"white\", \"linecolor\": \"white\", \"ticks\": \"\"}}, \"title\": {\"x\": 0.05}, \"xaxis\": {\"automargin\": true, \"gridcolor\": \"white\", \"linecolor\": \"white\", \"ticks\": \"\", \"zerolinecolor\": \"white\", \"zerolinewidth\": 2}, \"yaxis\": {\"automargin\": true, \"gridcolor\": \"white\", \"linecolor\": \"white\", \"ticks\": \"\", \"zerolinecolor\": \"white\", \"zerolinewidth\": 2}}}, \"title\": {\"text\": \"Candy content count\"}, \"xaxis\": {\"title\": {\"text\": \"Count\"}}},\n",
       "                        {\"responsive\": true}\n",
       "                    ).then(function(){\n",
       "                            \n",
       "var gd = document.getElementById('32677c2c-ba66-4573-8dfa-99d42c738d53');\n",
       "var x = new MutationObserver(function (mutations, observer) {{\n",
       "        var display = window.getComputedStyle(gd).display;\n",
       "        if (!display || display === 'none') {{\n",
       "            console.log([gd, 'removed!']);\n",
       "            Plotly.purge(gd);\n",
       "            observer.disconnect();\n",
       "        }}\n",
       "}});\n",
       "\n",
       "// Listen for the removal of the full notebook cells\n",
       "var notebookContainer = gd.closest('#notebook-container');\n",
       "if (notebookContainer) {{\n",
       "    x.observe(notebookContainer, {childList: true});\n",
       "}}\n",
       "\n",
       "// Listen for the clearing of the current output cell\n",
       "var outputEl = gd.closest('.output');\n",
       "if (outputEl) {{\n",
       "    x.observe(outputEl, {childList: true});\n",
       "}}\n",
       "\n",
       "                        })\n",
       "                };\n",
       "                });\n",
       "            </script>\n",
       "        </div>"
      ]
     },
     "metadata": {},
     "output_type": "display_data"
    }
   ],
   "source": [
    "def candy_content_count():\n",
    "    x=[df.chocolate.sum(), df.fruity.sum(), df.caramel.sum(), df.peanutyalmondy.sum(), \n",
    "       df.nougat.sum(), df.crispedricewafer.sum()]\n",
    "    y=['Chocolate', 'Fruity', 'Caramel', 'Peanutyalmondy', 'Nougat', 'Crispedricewafer']\n",
    "    sortx = sorted(x)\n",
    "    sorty = [y for _,y in sorted(zip(x,y))]\n",
    "    data = [go.Bar(\n",
    "            x=sortx,\n",
    "            y=sorty,\n",
    "            orientation = 'h',\n",
    "        marker=dict(color='#1b7fbd')\n",
    "            )]\n",
    "    layout = go.Layout(\n",
    "        margin=go.layout.Margin(l=100, r=50, b=60, t=100, pad=4),\n",
    "        title= 'Candy content count',\n",
    "        xaxis=dict(\n",
    "            title='Count'        \n",
    "        )\n",
    "    )\n",
    "\n",
    "    fig = go.Figure(data=data, layout=layout)\n",
    "    return(fig)\n",
    "\n",
    "py.offline.iplot(candy_content_count())"
   ]
  },
  {
   "cell_type": "markdown",
   "metadata": {},
   "source": [
    "**Inference: Majority of the candies contains fruits, chocolate.**"
   ]
  },
  {
   "cell_type": "markdown",
   "metadata": {},
   "source": [
    "## 1.4. Candies count on the basis of type"
   ]
  },
  {
   "cell_type": "code",
   "execution_count": 16,
   "metadata": {},
   "outputs": [
    {
     "data": {
      "application/vnd.plotly.v1+json": {
       "config": {
        "linkText": "Export to plot.ly",
        "plotlyServerURL": "https://plot.ly",
        "showLink": false
       },
       "data": [
        {
         "marker": {
          "color": "#1b7fbd"
         },
         "orientation": "h",
         "type": "bar",
         "x": [
          15,
          21
         ],
         "y": [
          "Hard",
          "Bar"
         ]
        }
       ],
       "layout": {
        "margin": {
         "b": 60,
         "l": 100,
         "pad": 4,
         "r": 50,
         "t": 100
        },
        "template": {
         "data": {
          "bar": [
           {
            "error_x": {
             "color": "#2a3f5f"
            },
            "error_y": {
             "color": "#2a3f5f"
            },
            "marker": {
             "line": {
              "color": "#E5ECF6",
              "width": 0.5
             }
            },
            "type": "bar"
           }
          ],
          "barpolar": [
           {
            "marker": {
             "line": {
              "color": "#E5ECF6",
              "width": 0.5
             }
            },
            "type": "barpolar"
           }
          ],
          "carpet": [
           {
            "aaxis": {
             "endlinecolor": "#2a3f5f",
             "gridcolor": "white",
             "linecolor": "white",
             "minorgridcolor": "white",
             "startlinecolor": "#2a3f5f"
            },
            "baxis": {
             "endlinecolor": "#2a3f5f",
             "gridcolor": "white",
             "linecolor": "white",
             "minorgridcolor": "white",
             "startlinecolor": "#2a3f5f"
            },
            "type": "carpet"
           }
          ],
          "choropleth": [
           {
            "colorbar": {
             "outlinewidth": 0,
             "ticks": ""
            },
            "type": "choropleth"
           }
          ],
          "contour": [
           {
            "colorbar": {
             "outlinewidth": 0,
             "ticks": ""
            },
            "colorscale": [
             [
              0,
              "#0d0887"
             ],
             [
              0.1111111111111111,
              "#46039f"
             ],
             [
              0.2222222222222222,
              "#7201a8"
             ],
             [
              0.3333333333333333,
              "#9c179e"
             ],
             [
              0.4444444444444444,
              "#bd3786"
             ],
             [
              0.5555555555555556,
              "#d8576b"
             ],
             [
              0.6666666666666666,
              "#ed7953"
             ],
             [
              0.7777777777777778,
              "#fb9f3a"
             ],
             [
              0.8888888888888888,
              "#fdca26"
             ],
             [
              1,
              "#f0f921"
             ]
            ],
            "type": "contour"
           }
          ],
          "contourcarpet": [
           {
            "colorbar": {
             "outlinewidth": 0,
             "ticks": ""
            },
            "type": "contourcarpet"
           }
          ],
          "heatmap": [
           {
            "colorbar": {
             "outlinewidth": 0,
             "ticks": ""
            },
            "colorscale": [
             [
              0,
              "#0d0887"
             ],
             [
              0.1111111111111111,
              "#46039f"
             ],
             [
              0.2222222222222222,
              "#7201a8"
             ],
             [
              0.3333333333333333,
              "#9c179e"
             ],
             [
              0.4444444444444444,
              "#bd3786"
             ],
             [
              0.5555555555555556,
              "#d8576b"
             ],
             [
              0.6666666666666666,
              "#ed7953"
             ],
             [
              0.7777777777777778,
              "#fb9f3a"
             ],
             [
              0.8888888888888888,
              "#fdca26"
             ],
             [
              1,
              "#f0f921"
             ]
            ],
            "type": "heatmap"
           }
          ],
          "heatmapgl": [
           {
            "colorbar": {
             "outlinewidth": 0,
             "ticks": ""
            },
            "colorscale": [
             [
              0,
              "#0d0887"
             ],
             [
              0.1111111111111111,
              "#46039f"
             ],
             [
              0.2222222222222222,
              "#7201a8"
             ],
             [
              0.3333333333333333,
              "#9c179e"
             ],
             [
              0.4444444444444444,
              "#bd3786"
             ],
             [
              0.5555555555555556,
              "#d8576b"
             ],
             [
              0.6666666666666666,
              "#ed7953"
             ],
             [
              0.7777777777777778,
              "#fb9f3a"
             ],
             [
              0.8888888888888888,
              "#fdca26"
             ],
             [
              1,
              "#f0f921"
             ]
            ],
            "type": "heatmapgl"
           }
          ],
          "histogram": [
           {
            "marker": {
             "colorbar": {
              "outlinewidth": 0,
              "ticks": ""
             }
            },
            "type": "histogram"
           }
          ],
          "histogram2d": [
           {
            "colorbar": {
             "outlinewidth": 0,
             "ticks": ""
            },
            "colorscale": [
             [
              0,
              "#0d0887"
             ],
             [
              0.1111111111111111,
              "#46039f"
             ],
             [
              0.2222222222222222,
              "#7201a8"
             ],
             [
              0.3333333333333333,
              "#9c179e"
             ],
             [
              0.4444444444444444,
              "#bd3786"
             ],
             [
              0.5555555555555556,
              "#d8576b"
             ],
             [
              0.6666666666666666,
              "#ed7953"
             ],
             [
              0.7777777777777778,
              "#fb9f3a"
             ],
             [
              0.8888888888888888,
              "#fdca26"
             ],
             [
              1,
              "#f0f921"
             ]
            ],
            "type": "histogram2d"
           }
          ],
          "histogram2dcontour": [
           {
            "colorbar": {
             "outlinewidth": 0,
             "ticks": ""
            },
            "colorscale": [
             [
              0,
              "#0d0887"
             ],
             [
              0.1111111111111111,
              "#46039f"
             ],
             [
              0.2222222222222222,
              "#7201a8"
             ],
             [
              0.3333333333333333,
              "#9c179e"
             ],
             [
              0.4444444444444444,
              "#bd3786"
             ],
             [
              0.5555555555555556,
              "#d8576b"
             ],
             [
              0.6666666666666666,
              "#ed7953"
             ],
             [
              0.7777777777777778,
              "#fb9f3a"
             ],
             [
              0.8888888888888888,
              "#fdca26"
             ],
             [
              1,
              "#f0f921"
             ]
            ],
            "type": "histogram2dcontour"
           }
          ],
          "mesh3d": [
           {
            "colorbar": {
             "outlinewidth": 0,
             "ticks": ""
            },
            "type": "mesh3d"
           }
          ],
          "parcoords": [
           {
            "line": {
             "colorbar": {
              "outlinewidth": 0,
              "ticks": ""
             }
            },
            "type": "parcoords"
           }
          ],
          "scatter": [
           {
            "marker": {
             "colorbar": {
              "outlinewidth": 0,
              "ticks": ""
             }
            },
            "type": "scatter"
           }
          ],
          "scatter3d": [
           {
            "line": {
             "colorbar": {
              "outlinewidth": 0,
              "ticks": ""
             }
            },
            "marker": {
             "colorbar": {
              "outlinewidth": 0,
              "ticks": ""
             }
            },
            "type": "scatter3d"
           }
          ],
          "scattercarpet": [
           {
            "marker": {
             "colorbar": {
              "outlinewidth": 0,
              "ticks": ""
             }
            },
            "type": "scattercarpet"
           }
          ],
          "scattergeo": [
           {
            "marker": {
             "colorbar": {
              "outlinewidth": 0,
              "ticks": ""
             }
            },
            "type": "scattergeo"
           }
          ],
          "scattergl": [
           {
            "marker": {
             "colorbar": {
              "outlinewidth": 0,
              "ticks": ""
             }
            },
            "type": "scattergl"
           }
          ],
          "scattermapbox": [
           {
            "marker": {
             "colorbar": {
              "outlinewidth": 0,
              "ticks": ""
             }
            },
            "type": "scattermapbox"
           }
          ],
          "scatterpolar": [
           {
            "marker": {
             "colorbar": {
              "outlinewidth": 0,
              "ticks": ""
             }
            },
            "type": "scatterpolar"
           }
          ],
          "scatterpolargl": [
           {
            "marker": {
             "colorbar": {
              "outlinewidth": 0,
              "ticks": ""
             }
            },
            "type": "scatterpolargl"
           }
          ],
          "scatterternary": [
           {
            "marker": {
             "colorbar": {
              "outlinewidth": 0,
              "ticks": ""
             }
            },
            "type": "scatterternary"
           }
          ],
          "surface": [
           {
            "colorbar": {
             "outlinewidth": 0,
             "ticks": ""
            },
            "colorscale": [
             [
              0,
              "#0d0887"
             ],
             [
              0.1111111111111111,
              "#46039f"
             ],
             [
              0.2222222222222222,
              "#7201a8"
             ],
             [
              0.3333333333333333,
              "#9c179e"
             ],
             [
              0.4444444444444444,
              "#bd3786"
             ],
             [
              0.5555555555555556,
              "#d8576b"
             ],
             [
              0.6666666666666666,
              "#ed7953"
             ],
             [
              0.7777777777777778,
              "#fb9f3a"
             ],
             [
              0.8888888888888888,
              "#fdca26"
             ],
             [
              1,
              "#f0f921"
             ]
            ],
            "type": "surface"
           }
          ],
          "table": [
           {
            "cells": {
             "fill": {
              "color": "#EBF0F8"
             },
             "line": {
              "color": "white"
             }
            },
            "header": {
             "fill": {
              "color": "#C8D4E3"
             },
             "line": {
              "color": "white"
             }
            },
            "type": "table"
           }
          ]
         },
         "layout": {
          "annotationdefaults": {
           "arrowcolor": "#2a3f5f",
           "arrowhead": 0,
           "arrowwidth": 1
          },
          "colorscale": {
           "diverging": [
            [
             0,
             "#8e0152"
            ],
            [
             0.1,
             "#c51b7d"
            ],
            [
             0.2,
             "#de77ae"
            ],
            [
             0.3,
             "#f1b6da"
            ],
            [
             0.4,
             "#fde0ef"
            ],
            [
             0.5,
             "#f7f7f7"
            ],
            [
             0.6,
             "#e6f5d0"
            ],
            [
             0.7,
             "#b8e186"
            ],
            [
             0.8,
             "#7fbc41"
            ],
            [
             0.9,
             "#4d9221"
            ],
            [
             1,
             "#276419"
            ]
           ],
           "sequential": [
            [
             0,
             "#0d0887"
            ],
            [
             0.1111111111111111,
             "#46039f"
            ],
            [
             0.2222222222222222,
             "#7201a8"
            ],
            [
             0.3333333333333333,
             "#9c179e"
            ],
            [
             0.4444444444444444,
             "#bd3786"
            ],
            [
             0.5555555555555556,
             "#d8576b"
            ],
            [
             0.6666666666666666,
             "#ed7953"
            ],
            [
             0.7777777777777778,
             "#fb9f3a"
            ],
            [
             0.8888888888888888,
             "#fdca26"
            ],
            [
             1,
             "#f0f921"
            ]
           ],
           "sequentialminus": [
            [
             0,
             "#0d0887"
            ],
            [
             0.1111111111111111,
             "#46039f"
            ],
            [
             0.2222222222222222,
             "#7201a8"
            ],
            [
             0.3333333333333333,
             "#9c179e"
            ],
            [
             0.4444444444444444,
             "#bd3786"
            ],
            [
             0.5555555555555556,
             "#d8576b"
            ],
            [
             0.6666666666666666,
             "#ed7953"
            ],
            [
             0.7777777777777778,
             "#fb9f3a"
            ],
            [
             0.8888888888888888,
             "#fdca26"
            ],
            [
             1,
             "#f0f921"
            ]
           ]
          },
          "colorway": [
           "#636efa",
           "#EF553B",
           "#00cc96",
           "#ab63fa",
           "#FFA15A",
           "#19d3f3",
           "#FF6692",
           "#B6E880",
           "#FF97FF",
           "#FECB52"
          ],
          "font": {
           "color": "#2a3f5f"
          },
          "geo": {
           "bgcolor": "white",
           "lakecolor": "white",
           "landcolor": "#E5ECF6",
           "showlakes": true,
           "showland": true,
           "subunitcolor": "white"
          },
          "hoverlabel": {
           "align": "left"
          },
          "hovermode": "closest",
          "mapbox": {
           "style": "light"
          },
          "paper_bgcolor": "white",
          "plot_bgcolor": "#E5ECF6",
          "polar": {
           "angularaxis": {
            "gridcolor": "white",
            "linecolor": "white",
            "ticks": ""
           },
           "bgcolor": "#E5ECF6",
           "radialaxis": {
            "gridcolor": "white",
            "linecolor": "white",
            "ticks": ""
           }
          },
          "scene": {
           "xaxis": {
            "backgroundcolor": "#E5ECF6",
            "gridcolor": "white",
            "gridwidth": 2,
            "linecolor": "white",
            "showbackground": true,
            "ticks": "",
            "zerolinecolor": "white"
           },
           "yaxis": {
            "backgroundcolor": "#E5ECF6",
            "gridcolor": "white",
            "gridwidth": 2,
            "linecolor": "white",
            "showbackground": true,
            "ticks": "",
            "zerolinecolor": "white"
           },
           "zaxis": {
            "backgroundcolor": "#E5ECF6",
            "gridcolor": "white",
            "gridwidth": 2,
            "linecolor": "white",
            "showbackground": true,
            "ticks": "",
            "zerolinecolor": "white"
           }
          },
          "shapedefaults": {
           "line": {
            "color": "#2a3f5f"
           }
          },
          "ternary": {
           "aaxis": {
            "gridcolor": "white",
            "linecolor": "white",
            "ticks": ""
           },
           "baxis": {
            "gridcolor": "white",
            "linecolor": "white",
            "ticks": ""
           },
           "bgcolor": "#E5ECF6",
           "caxis": {
            "gridcolor": "white",
            "linecolor": "white",
            "ticks": ""
           }
          },
          "title": {
           "x": 0.05
          },
          "xaxis": {
           "automargin": true,
           "gridcolor": "white",
           "linecolor": "white",
           "ticks": "",
           "zerolinecolor": "white",
           "zerolinewidth": 2
          },
          "yaxis": {
           "automargin": true,
           "gridcolor": "white",
           "linecolor": "white",
           "ticks": "",
           "zerolinecolor": "white",
           "zerolinewidth": 2
          }
         }
        },
        "title": {
         "text": "Candy type count"
        },
        "xaxis": {
         "title": {
          "text": "Count"
         }
        }
       }
      },
      "text/html": [
       "<div>\n",
       "        \n",
       "        \n",
       "            <div id=\"2ca11da7-e911-49ed-9367-930f9abef2fa\" class=\"plotly-graph-div\" style=\"height:525px; width:100%;\"></div>\n",
       "            <script type=\"text/javascript\">\n",
       "                require([\"plotly\"], function(Plotly) {\n",
       "                    window.PLOTLYENV=window.PLOTLYENV || {};\n",
       "                    \n",
       "                if (document.getElementById(\"2ca11da7-e911-49ed-9367-930f9abef2fa\")) {\n",
       "                    Plotly.newPlot(\n",
       "                        '2ca11da7-e911-49ed-9367-930f9abef2fa',\n",
       "                        [{\"marker\": {\"color\": \"#1b7fbd\"}, \"orientation\": \"h\", \"type\": \"bar\", \"x\": [15, 21], \"y\": [\"Hard\", \"Bar\"]}],\n",
       "                        {\"margin\": {\"b\": 60, \"l\": 100, \"pad\": 4, \"r\": 50, \"t\": 100}, \"template\": {\"data\": {\"bar\": [{\"error_x\": {\"color\": \"#2a3f5f\"}, \"error_y\": {\"color\": \"#2a3f5f\"}, \"marker\": {\"line\": {\"color\": \"#E5ECF6\", \"width\": 0.5}}, \"type\": \"bar\"}], \"barpolar\": [{\"marker\": {\"line\": {\"color\": \"#E5ECF6\", \"width\": 0.5}}, \"type\": \"barpolar\"}], \"carpet\": [{\"aaxis\": {\"endlinecolor\": \"#2a3f5f\", \"gridcolor\": \"white\", \"linecolor\": \"white\", \"minorgridcolor\": \"white\", \"startlinecolor\": \"#2a3f5f\"}, \"baxis\": {\"endlinecolor\": \"#2a3f5f\", \"gridcolor\": \"white\", \"linecolor\": \"white\", \"minorgridcolor\": \"white\", \"startlinecolor\": \"#2a3f5f\"}, \"type\": \"carpet\"}], \"choropleth\": [{\"colorbar\": {\"outlinewidth\": 0, \"ticks\": \"\"}, \"type\": \"choropleth\"}], \"contour\": [{\"colorbar\": {\"outlinewidth\": 0, \"ticks\": \"\"}, \"colorscale\": [[0.0, \"#0d0887\"], [0.1111111111111111, \"#46039f\"], [0.2222222222222222, \"#7201a8\"], [0.3333333333333333, \"#9c179e\"], [0.4444444444444444, \"#bd3786\"], [0.5555555555555556, \"#d8576b\"], [0.6666666666666666, \"#ed7953\"], [0.7777777777777778, \"#fb9f3a\"], [0.8888888888888888, \"#fdca26\"], [1.0, \"#f0f921\"]], \"type\": \"contour\"}], \"contourcarpet\": [{\"colorbar\": {\"outlinewidth\": 0, \"ticks\": \"\"}, \"type\": \"contourcarpet\"}], \"heatmap\": [{\"colorbar\": {\"outlinewidth\": 0, \"ticks\": \"\"}, \"colorscale\": [[0.0, \"#0d0887\"], [0.1111111111111111, \"#46039f\"], [0.2222222222222222, \"#7201a8\"], [0.3333333333333333, \"#9c179e\"], [0.4444444444444444, \"#bd3786\"], [0.5555555555555556, \"#d8576b\"], [0.6666666666666666, \"#ed7953\"], [0.7777777777777778, \"#fb9f3a\"], [0.8888888888888888, \"#fdca26\"], [1.0, \"#f0f921\"]], \"type\": \"heatmap\"}], \"heatmapgl\": [{\"colorbar\": {\"outlinewidth\": 0, \"ticks\": \"\"}, \"colorscale\": [[0.0, \"#0d0887\"], [0.1111111111111111, \"#46039f\"], [0.2222222222222222, \"#7201a8\"], [0.3333333333333333, \"#9c179e\"], [0.4444444444444444, \"#bd3786\"], [0.5555555555555556, \"#d8576b\"], [0.6666666666666666, \"#ed7953\"], [0.7777777777777778, \"#fb9f3a\"], [0.8888888888888888, \"#fdca26\"], [1.0, \"#f0f921\"]], \"type\": \"heatmapgl\"}], \"histogram\": [{\"marker\": {\"colorbar\": {\"outlinewidth\": 0, \"ticks\": \"\"}}, \"type\": \"histogram\"}], \"histogram2d\": [{\"colorbar\": {\"outlinewidth\": 0, \"ticks\": \"\"}, \"colorscale\": [[0.0, \"#0d0887\"], [0.1111111111111111, \"#46039f\"], [0.2222222222222222, \"#7201a8\"], [0.3333333333333333, \"#9c179e\"], [0.4444444444444444, \"#bd3786\"], [0.5555555555555556, \"#d8576b\"], [0.6666666666666666, \"#ed7953\"], [0.7777777777777778, \"#fb9f3a\"], [0.8888888888888888, \"#fdca26\"], [1.0, \"#f0f921\"]], \"type\": \"histogram2d\"}], \"histogram2dcontour\": [{\"colorbar\": {\"outlinewidth\": 0, \"ticks\": \"\"}, \"colorscale\": [[0.0, \"#0d0887\"], [0.1111111111111111, \"#46039f\"], [0.2222222222222222, \"#7201a8\"], [0.3333333333333333, \"#9c179e\"], [0.4444444444444444, \"#bd3786\"], [0.5555555555555556, \"#d8576b\"], [0.6666666666666666, \"#ed7953\"], [0.7777777777777778, \"#fb9f3a\"], [0.8888888888888888, \"#fdca26\"], [1.0, \"#f0f921\"]], \"type\": \"histogram2dcontour\"}], \"mesh3d\": [{\"colorbar\": {\"outlinewidth\": 0, \"ticks\": \"\"}, \"type\": \"mesh3d\"}], \"parcoords\": [{\"line\": {\"colorbar\": {\"outlinewidth\": 0, \"ticks\": \"\"}}, \"type\": \"parcoords\"}], \"scatter\": [{\"marker\": {\"colorbar\": {\"outlinewidth\": 0, \"ticks\": \"\"}}, \"type\": \"scatter\"}], \"scatter3d\": [{\"line\": {\"colorbar\": {\"outlinewidth\": 0, \"ticks\": \"\"}}, \"marker\": {\"colorbar\": {\"outlinewidth\": 0, \"ticks\": \"\"}}, \"type\": \"scatter3d\"}], \"scattercarpet\": [{\"marker\": {\"colorbar\": {\"outlinewidth\": 0, \"ticks\": \"\"}}, \"type\": \"scattercarpet\"}], \"scattergeo\": [{\"marker\": {\"colorbar\": {\"outlinewidth\": 0, \"ticks\": \"\"}}, \"type\": \"scattergeo\"}], \"scattergl\": [{\"marker\": {\"colorbar\": {\"outlinewidth\": 0, \"ticks\": \"\"}}, \"type\": \"scattergl\"}], \"scattermapbox\": [{\"marker\": {\"colorbar\": {\"outlinewidth\": 0, \"ticks\": \"\"}}, \"type\": \"scattermapbox\"}], \"scatterpolar\": [{\"marker\": {\"colorbar\": {\"outlinewidth\": 0, \"ticks\": \"\"}}, \"type\": \"scatterpolar\"}], \"scatterpolargl\": [{\"marker\": {\"colorbar\": {\"outlinewidth\": 0, \"ticks\": \"\"}}, \"type\": \"scatterpolargl\"}], \"scatterternary\": [{\"marker\": {\"colorbar\": {\"outlinewidth\": 0, \"ticks\": \"\"}}, \"type\": \"scatterternary\"}], \"surface\": [{\"colorbar\": {\"outlinewidth\": 0, \"ticks\": \"\"}, \"colorscale\": [[0.0, \"#0d0887\"], [0.1111111111111111, \"#46039f\"], [0.2222222222222222, \"#7201a8\"], [0.3333333333333333, \"#9c179e\"], [0.4444444444444444, \"#bd3786\"], [0.5555555555555556, \"#d8576b\"], [0.6666666666666666, \"#ed7953\"], [0.7777777777777778, \"#fb9f3a\"], [0.8888888888888888, \"#fdca26\"], [1.0, \"#f0f921\"]], \"type\": \"surface\"}], \"table\": [{\"cells\": {\"fill\": {\"color\": \"#EBF0F8\"}, \"line\": {\"color\": \"white\"}}, \"header\": {\"fill\": {\"color\": \"#C8D4E3\"}, \"line\": {\"color\": \"white\"}}, \"type\": \"table\"}]}, \"layout\": {\"annotationdefaults\": {\"arrowcolor\": \"#2a3f5f\", \"arrowhead\": 0, \"arrowwidth\": 1}, \"colorscale\": {\"diverging\": [[0, \"#8e0152\"], [0.1, \"#c51b7d\"], [0.2, \"#de77ae\"], [0.3, \"#f1b6da\"], [0.4, \"#fde0ef\"], [0.5, \"#f7f7f7\"], [0.6, \"#e6f5d0\"], [0.7, \"#b8e186\"], [0.8, \"#7fbc41\"], [0.9, \"#4d9221\"], [1, \"#276419\"]], \"sequential\": [[0.0, \"#0d0887\"], [0.1111111111111111, \"#46039f\"], [0.2222222222222222, \"#7201a8\"], [0.3333333333333333, \"#9c179e\"], [0.4444444444444444, \"#bd3786\"], [0.5555555555555556, \"#d8576b\"], [0.6666666666666666, \"#ed7953\"], [0.7777777777777778, \"#fb9f3a\"], [0.8888888888888888, \"#fdca26\"], [1.0, \"#f0f921\"]], \"sequentialminus\": [[0.0, \"#0d0887\"], [0.1111111111111111, \"#46039f\"], [0.2222222222222222, \"#7201a8\"], [0.3333333333333333, \"#9c179e\"], [0.4444444444444444, \"#bd3786\"], [0.5555555555555556, \"#d8576b\"], [0.6666666666666666, \"#ed7953\"], [0.7777777777777778, \"#fb9f3a\"], [0.8888888888888888, \"#fdca26\"], [1.0, \"#f0f921\"]]}, \"colorway\": [\"#636efa\", \"#EF553B\", \"#00cc96\", \"#ab63fa\", \"#FFA15A\", \"#19d3f3\", \"#FF6692\", \"#B6E880\", \"#FF97FF\", \"#FECB52\"], \"font\": {\"color\": \"#2a3f5f\"}, \"geo\": {\"bgcolor\": \"white\", \"lakecolor\": \"white\", \"landcolor\": \"#E5ECF6\", \"showlakes\": true, \"showland\": true, \"subunitcolor\": \"white\"}, \"hoverlabel\": {\"align\": \"left\"}, \"hovermode\": \"closest\", \"mapbox\": {\"style\": \"light\"}, \"paper_bgcolor\": \"white\", \"plot_bgcolor\": \"#E5ECF6\", \"polar\": {\"angularaxis\": {\"gridcolor\": \"white\", \"linecolor\": \"white\", \"ticks\": \"\"}, \"bgcolor\": \"#E5ECF6\", \"radialaxis\": {\"gridcolor\": \"white\", \"linecolor\": \"white\", \"ticks\": \"\"}}, \"scene\": {\"xaxis\": {\"backgroundcolor\": \"#E5ECF6\", \"gridcolor\": \"white\", \"gridwidth\": 2, \"linecolor\": \"white\", \"showbackground\": true, \"ticks\": \"\", \"zerolinecolor\": \"white\"}, \"yaxis\": {\"backgroundcolor\": \"#E5ECF6\", \"gridcolor\": \"white\", \"gridwidth\": 2, \"linecolor\": \"white\", \"showbackground\": true, \"ticks\": \"\", \"zerolinecolor\": \"white\"}, \"zaxis\": {\"backgroundcolor\": \"#E5ECF6\", \"gridcolor\": \"white\", \"gridwidth\": 2, \"linecolor\": \"white\", \"showbackground\": true, \"ticks\": \"\", \"zerolinecolor\": \"white\"}}, \"shapedefaults\": {\"line\": {\"color\": \"#2a3f5f\"}}, \"ternary\": {\"aaxis\": {\"gridcolor\": \"white\", \"linecolor\": \"white\", \"ticks\": \"\"}, \"baxis\": {\"gridcolor\": \"white\", \"linecolor\": \"white\", \"ticks\": \"\"}, \"bgcolor\": \"#E5ECF6\", \"caxis\": {\"gridcolor\": \"white\", \"linecolor\": \"white\", \"ticks\": \"\"}}, \"title\": {\"x\": 0.05}, \"xaxis\": {\"automargin\": true, \"gridcolor\": \"white\", \"linecolor\": \"white\", \"ticks\": \"\", \"zerolinecolor\": \"white\", \"zerolinewidth\": 2}, \"yaxis\": {\"automargin\": true, \"gridcolor\": \"white\", \"linecolor\": \"white\", \"ticks\": \"\", \"zerolinecolor\": \"white\", \"zerolinewidth\": 2}}}, \"title\": {\"text\": \"Candy type count\"}, \"xaxis\": {\"title\": {\"text\": \"Count\"}}},\n",
       "                        {\"responsive\": true}\n",
       "                    ).then(function(){\n",
       "                            \n",
       "var gd = document.getElementById('2ca11da7-e911-49ed-9367-930f9abef2fa');\n",
       "var x = new MutationObserver(function (mutations, observer) {{\n",
       "        var display = window.getComputedStyle(gd).display;\n",
       "        if (!display || display === 'none') {{\n",
       "            console.log([gd, 'removed!']);\n",
       "            Plotly.purge(gd);\n",
       "            observer.disconnect();\n",
       "        }}\n",
       "}});\n",
       "\n",
       "// Listen for the removal of the full notebook cells\n",
       "var notebookContainer = gd.closest('#notebook-container');\n",
       "if (notebookContainer) {{\n",
       "    x.observe(notebookContainer, {childList: true});\n",
       "}}\n",
       "\n",
       "// Listen for the clearing of the current output cell\n",
       "var outputEl = gd.closest('.output');\n",
       "if (outputEl) {{\n",
       "    x.observe(outputEl, {childList: true});\n",
       "}}\n",
       "\n",
       "                        })\n",
       "                };\n",
       "                });\n",
       "            </script>\n",
       "        </div>"
      ]
     },
     "metadata": {},
     "output_type": "display_data"
    }
   ],
   "source": [
    "def candy_type_count():\n",
    "    x=[df.hard.sum(), df.bar.sum()]\n",
    "    y=['Hard', 'Bar']\n",
    "    sortx = sorted(x)\n",
    "    sorty = [y for _,y in sorted(zip(x,y))]\n",
    "    data = [go.Bar(\n",
    "            x=sortx,\n",
    "            y=sorty,\n",
    "            orientation = 'h',\n",
    "        marker=dict(color='#1b7fbd')\n",
    "            )]\n",
    "\n",
    "    layout = go.Layout(\n",
    "        margin=go.layout.Margin(l=100, r=50, b=60, t=100, pad=4),\n",
    "        title= 'Candy type count',\n",
    "        xaxis=dict(\n",
    "            title='Count'        \n",
    "        )\n",
    "    )\n",
    "\n",
    "    fig = go.Figure(data=data, layout=layout)\n",
    "    return(fig)\n",
    "\n",
    "py.offline.iplot(candy_type_count())"
   ]
  },
  {
   "cell_type": "markdown",
   "metadata": {},
   "source": [
    "**Inference: Majority of the candies are of type bar.**"
   ]
  },
  {
   "cell_type": "markdown",
   "metadata": {},
   "source": [
    "# 2. Statistical hypothesis test for win percent"
   ]
  },
  {
   "cell_type": "markdown",
   "metadata": {},
   "source": [
    "## 2.1. To analyze the effect on win percentage on the basis of content of the candies. Bar chart depicts how win percentage is effected with/without the presence of that content in the candy."
   ]
  },
  {
   "cell_type": "code",
   "execution_count": 17,
   "metadata": {},
   "outputs": [
    {
     "data": {
      "application/vnd.plotly.v1+json": {
       "config": {
        "linkText": "Export to plot.ly",
        "plotlyServerURL": "https://plot.ly",
        "showLink": false
       },
       "data": [
        {
         "marker": {
          "color": "#1b7fbd"
         },
         "name": "With",
         "type": "bar",
         "x": [
          "Chocolate",
          "Fruity",
          "Caramel",
          "Peanutyalmondy",
          "Nougat",
          "Crispedricewafer",
          "Hard",
          "Bar"
         ],
         "y": [
          60.9215294054054,
          44.11974142105264,
          57.34690771428571,
          63.69713678571429,
          60.05187942857143,
          66.170252,
          40.5089818,
          61.29541261904762
         ]
        },
        {
         "marker": {
          "color": "#f96d15"
         },
         "name": "Without",
         "type": "bar",
         "x": [
          "Chocolate",
          "Fruity",
          "Caramel",
          "Peanutyalmondy",
          "Nougat",
          "Crispedricewafer",
          "Hard",
          "Bar"
         ],
         "y": [
          42.142257,
          55.32712234042553,
          48.93053825352113,
          47.67838040845071,
          49.44309958974358,
          48.894014871794866,
          52.418431385714285,
          46.714394671875
         ]
        }
       ],
       "layout": {
        "barmode": "group",
        "template": {
         "data": {
          "bar": [
           {
            "error_x": {
             "color": "#2a3f5f"
            },
            "error_y": {
             "color": "#2a3f5f"
            },
            "marker": {
             "line": {
              "color": "#E5ECF6",
              "width": 0.5
             }
            },
            "type": "bar"
           }
          ],
          "barpolar": [
           {
            "marker": {
             "line": {
              "color": "#E5ECF6",
              "width": 0.5
             }
            },
            "type": "barpolar"
           }
          ],
          "carpet": [
           {
            "aaxis": {
             "endlinecolor": "#2a3f5f",
             "gridcolor": "white",
             "linecolor": "white",
             "minorgridcolor": "white",
             "startlinecolor": "#2a3f5f"
            },
            "baxis": {
             "endlinecolor": "#2a3f5f",
             "gridcolor": "white",
             "linecolor": "white",
             "minorgridcolor": "white",
             "startlinecolor": "#2a3f5f"
            },
            "type": "carpet"
           }
          ],
          "choropleth": [
           {
            "colorbar": {
             "outlinewidth": 0,
             "ticks": ""
            },
            "type": "choropleth"
           }
          ],
          "contour": [
           {
            "colorbar": {
             "outlinewidth": 0,
             "ticks": ""
            },
            "colorscale": [
             [
              0,
              "#0d0887"
             ],
             [
              0.1111111111111111,
              "#46039f"
             ],
             [
              0.2222222222222222,
              "#7201a8"
             ],
             [
              0.3333333333333333,
              "#9c179e"
             ],
             [
              0.4444444444444444,
              "#bd3786"
             ],
             [
              0.5555555555555556,
              "#d8576b"
             ],
             [
              0.6666666666666666,
              "#ed7953"
             ],
             [
              0.7777777777777778,
              "#fb9f3a"
             ],
             [
              0.8888888888888888,
              "#fdca26"
             ],
             [
              1,
              "#f0f921"
             ]
            ],
            "type": "contour"
           }
          ],
          "contourcarpet": [
           {
            "colorbar": {
             "outlinewidth": 0,
             "ticks": ""
            },
            "type": "contourcarpet"
           }
          ],
          "heatmap": [
           {
            "colorbar": {
             "outlinewidth": 0,
             "ticks": ""
            },
            "colorscale": [
             [
              0,
              "#0d0887"
             ],
             [
              0.1111111111111111,
              "#46039f"
             ],
             [
              0.2222222222222222,
              "#7201a8"
             ],
             [
              0.3333333333333333,
              "#9c179e"
             ],
             [
              0.4444444444444444,
              "#bd3786"
             ],
             [
              0.5555555555555556,
              "#d8576b"
             ],
             [
              0.6666666666666666,
              "#ed7953"
             ],
             [
              0.7777777777777778,
              "#fb9f3a"
             ],
             [
              0.8888888888888888,
              "#fdca26"
             ],
             [
              1,
              "#f0f921"
             ]
            ],
            "type": "heatmap"
           }
          ],
          "heatmapgl": [
           {
            "colorbar": {
             "outlinewidth": 0,
             "ticks": ""
            },
            "colorscale": [
             [
              0,
              "#0d0887"
             ],
             [
              0.1111111111111111,
              "#46039f"
             ],
             [
              0.2222222222222222,
              "#7201a8"
             ],
             [
              0.3333333333333333,
              "#9c179e"
             ],
             [
              0.4444444444444444,
              "#bd3786"
             ],
             [
              0.5555555555555556,
              "#d8576b"
             ],
             [
              0.6666666666666666,
              "#ed7953"
             ],
             [
              0.7777777777777778,
              "#fb9f3a"
             ],
             [
              0.8888888888888888,
              "#fdca26"
             ],
             [
              1,
              "#f0f921"
             ]
            ],
            "type": "heatmapgl"
           }
          ],
          "histogram": [
           {
            "marker": {
             "colorbar": {
              "outlinewidth": 0,
              "ticks": ""
             }
            },
            "type": "histogram"
           }
          ],
          "histogram2d": [
           {
            "colorbar": {
             "outlinewidth": 0,
             "ticks": ""
            },
            "colorscale": [
             [
              0,
              "#0d0887"
             ],
             [
              0.1111111111111111,
              "#46039f"
             ],
             [
              0.2222222222222222,
              "#7201a8"
             ],
             [
              0.3333333333333333,
              "#9c179e"
             ],
             [
              0.4444444444444444,
              "#bd3786"
             ],
             [
              0.5555555555555556,
              "#d8576b"
             ],
             [
              0.6666666666666666,
              "#ed7953"
             ],
             [
              0.7777777777777778,
              "#fb9f3a"
             ],
             [
              0.8888888888888888,
              "#fdca26"
             ],
             [
              1,
              "#f0f921"
             ]
            ],
            "type": "histogram2d"
           }
          ],
          "histogram2dcontour": [
           {
            "colorbar": {
             "outlinewidth": 0,
             "ticks": ""
            },
            "colorscale": [
             [
              0,
              "#0d0887"
             ],
             [
              0.1111111111111111,
              "#46039f"
             ],
             [
              0.2222222222222222,
              "#7201a8"
             ],
             [
              0.3333333333333333,
              "#9c179e"
             ],
             [
              0.4444444444444444,
              "#bd3786"
             ],
             [
              0.5555555555555556,
              "#d8576b"
             ],
             [
              0.6666666666666666,
              "#ed7953"
             ],
             [
              0.7777777777777778,
              "#fb9f3a"
             ],
             [
              0.8888888888888888,
              "#fdca26"
             ],
             [
              1,
              "#f0f921"
             ]
            ],
            "type": "histogram2dcontour"
           }
          ],
          "mesh3d": [
           {
            "colorbar": {
             "outlinewidth": 0,
             "ticks": ""
            },
            "type": "mesh3d"
           }
          ],
          "parcoords": [
           {
            "line": {
             "colorbar": {
              "outlinewidth": 0,
              "ticks": ""
             }
            },
            "type": "parcoords"
           }
          ],
          "scatter": [
           {
            "marker": {
             "colorbar": {
              "outlinewidth": 0,
              "ticks": ""
             }
            },
            "type": "scatter"
           }
          ],
          "scatter3d": [
           {
            "line": {
             "colorbar": {
              "outlinewidth": 0,
              "ticks": ""
             }
            },
            "marker": {
             "colorbar": {
              "outlinewidth": 0,
              "ticks": ""
             }
            },
            "type": "scatter3d"
           }
          ],
          "scattercarpet": [
           {
            "marker": {
             "colorbar": {
              "outlinewidth": 0,
              "ticks": ""
             }
            },
            "type": "scattercarpet"
           }
          ],
          "scattergeo": [
           {
            "marker": {
             "colorbar": {
              "outlinewidth": 0,
              "ticks": ""
             }
            },
            "type": "scattergeo"
           }
          ],
          "scattergl": [
           {
            "marker": {
             "colorbar": {
              "outlinewidth": 0,
              "ticks": ""
             }
            },
            "type": "scattergl"
           }
          ],
          "scattermapbox": [
           {
            "marker": {
             "colorbar": {
              "outlinewidth": 0,
              "ticks": ""
             }
            },
            "type": "scattermapbox"
           }
          ],
          "scatterpolar": [
           {
            "marker": {
             "colorbar": {
              "outlinewidth": 0,
              "ticks": ""
             }
            },
            "type": "scatterpolar"
           }
          ],
          "scatterpolargl": [
           {
            "marker": {
             "colorbar": {
              "outlinewidth": 0,
              "ticks": ""
             }
            },
            "type": "scatterpolargl"
           }
          ],
          "scatterternary": [
           {
            "marker": {
             "colorbar": {
              "outlinewidth": 0,
              "ticks": ""
             }
            },
            "type": "scatterternary"
           }
          ],
          "surface": [
           {
            "colorbar": {
             "outlinewidth": 0,
             "ticks": ""
            },
            "colorscale": [
             [
              0,
              "#0d0887"
             ],
             [
              0.1111111111111111,
              "#46039f"
             ],
             [
              0.2222222222222222,
              "#7201a8"
             ],
             [
              0.3333333333333333,
              "#9c179e"
             ],
             [
              0.4444444444444444,
              "#bd3786"
             ],
             [
              0.5555555555555556,
              "#d8576b"
             ],
             [
              0.6666666666666666,
              "#ed7953"
             ],
             [
              0.7777777777777778,
              "#fb9f3a"
             ],
             [
              0.8888888888888888,
              "#fdca26"
             ],
             [
              1,
              "#f0f921"
             ]
            ],
            "type": "surface"
           }
          ],
          "table": [
           {
            "cells": {
             "fill": {
              "color": "#EBF0F8"
             },
             "line": {
              "color": "white"
             }
            },
            "header": {
             "fill": {
              "color": "#C8D4E3"
             },
             "line": {
              "color": "white"
             }
            },
            "type": "table"
           }
          ]
         },
         "layout": {
          "annotationdefaults": {
           "arrowcolor": "#2a3f5f",
           "arrowhead": 0,
           "arrowwidth": 1
          },
          "colorscale": {
           "diverging": [
            [
             0,
             "#8e0152"
            ],
            [
             0.1,
             "#c51b7d"
            ],
            [
             0.2,
             "#de77ae"
            ],
            [
             0.3,
             "#f1b6da"
            ],
            [
             0.4,
             "#fde0ef"
            ],
            [
             0.5,
             "#f7f7f7"
            ],
            [
             0.6,
             "#e6f5d0"
            ],
            [
             0.7,
             "#b8e186"
            ],
            [
             0.8,
             "#7fbc41"
            ],
            [
             0.9,
             "#4d9221"
            ],
            [
             1,
             "#276419"
            ]
           ],
           "sequential": [
            [
             0,
             "#0d0887"
            ],
            [
             0.1111111111111111,
             "#46039f"
            ],
            [
             0.2222222222222222,
             "#7201a8"
            ],
            [
             0.3333333333333333,
             "#9c179e"
            ],
            [
             0.4444444444444444,
             "#bd3786"
            ],
            [
             0.5555555555555556,
             "#d8576b"
            ],
            [
             0.6666666666666666,
             "#ed7953"
            ],
            [
             0.7777777777777778,
             "#fb9f3a"
            ],
            [
             0.8888888888888888,
             "#fdca26"
            ],
            [
             1,
             "#f0f921"
            ]
           ],
           "sequentialminus": [
            [
             0,
             "#0d0887"
            ],
            [
             0.1111111111111111,
             "#46039f"
            ],
            [
             0.2222222222222222,
             "#7201a8"
            ],
            [
             0.3333333333333333,
             "#9c179e"
            ],
            [
             0.4444444444444444,
             "#bd3786"
            ],
            [
             0.5555555555555556,
             "#d8576b"
            ],
            [
             0.6666666666666666,
             "#ed7953"
            ],
            [
             0.7777777777777778,
             "#fb9f3a"
            ],
            [
             0.8888888888888888,
             "#fdca26"
            ],
            [
             1,
             "#f0f921"
            ]
           ]
          },
          "colorway": [
           "#636efa",
           "#EF553B",
           "#00cc96",
           "#ab63fa",
           "#FFA15A",
           "#19d3f3",
           "#FF6692",
           "#B6E880",
           "#FF97FF",
           "#FECB52"
          ],
          "font": {
           "color": "#2a3f5f"
          },
          "geo": {
           "bgcolor": "white",
           "lakecolor": "white",
           "landcolor": "#E5ECF6",
           "showlakes": true,
           "showland": true,
           "subunitcolor": "white"
          },
          "hoverlabel": {
           "align": "left"
          },
          "hovermode": "closest",
          "mapbox": {
           "style": "light"
          },
          "paper_bgcolor": "white",
          "plot_bgcolor": "#E5ECF6",
          "polar": {
           "angularaxis": {
            "gridcolor": "white",
            "linecolor": "white",
            "ticks": ""
           },
           "bgcolor": "#E5ECF6",
           "radialaxis": {
            "gridcolor": "white",
            "linecolor": "white",
            "ticks": ""
           }
          },
          "scene": {
           "xaxis": {
            "backgroundcolor": "#E5ECF6",
            "gridcolor": "white",
            "gridwidth": 2,
            "linecolor": "white",
            "showbackground": true,
            "ticks": "",
            "zerolinecolor": "white"
           },
           "yaxis": {
            "backgroundcolor": "#E5ECF6",
            "gridcolor": "white",
            "gridwidth": 2,
            "linecolor": "white",
            "showbackground": true,
            "ticks": "",
            "zerolinecolor": "white"
           },
           "zaxis": {
            "backgroundcolor": "#E5ECF6",
            "gridcolor": "white",
            "gridwidth": 2,
            "linecolor": "white",
            "showbackground": true,
            "ticks": "",
            "zerolinecolor": "white"
           }
          },
          "shapedefaults": {
           "line": {
            "color": "#2a3f5f"
           }
          },
          "ternary": {
           "aaxis": {
            "gridcolor": "white",
            "linecolor": "white",
            "ticks": ""
           },
           "baxis": {
            "gridcolor": "white",
            "linecolor": "white",
            "ticks": ""
           },
           "bgcolor": "#E5ECF6",
           "caxis": {
            "gridcolor": "white",
            "linecolor": "white",
            "ticks": ""
           }
          },
          "title": {
           "x": 0.05
          },
          "xaxis": {
           "automargin": true,
           "gridcolor": "white",
           "linecolor": "white",
           "ticks": "",
           "zerolinecolor": "white",
           "zerolinewidth": 2
          },
          "yaxis": {
           "automargin": true,
           "gridcolor": "white",
           "linecolor": "white",
           "ticks": "",
           "zerolinecolor": "white",
           "zerolinewidth": 2
          }
         }
        },
        "title": {
         "text": "Candy win percent"
        },
        "xaxis": {
         "title": {
          "text": "Content"
         }
        },
        "yaxis": {
         "title": {
          "text": "Percentage"
         }
        }
       }
      },
      "text/html": [
       "<div>\n",
       "        \n",
       "        \n",
       "            <div id=\"f45106a4-1cd4-4179-ac06-abf4dda3c2b3\" class=\"plotly-graph-div\" style=\"height:525px; width:100%;\"></div>\n",
       "            <script type=\"text/javascript\">\n",
       "                require([\"plotly\"], function(Plotly) {\n",
       "                    window.PLOTLYENV=window.PLOTLYENV || {};\n",
       "                    \n",
       "                if (document.getElementById(\"f45106a4-1cd4-4179-ac06-abf4dda3c2b3\")) {\n",
       "                    Plotly.newPlot(\n",
       "                        'f45106a4-1cd4-4179-ac06-abf4dda3c2b3',\n",
       "                        [{\"marker\": {\"color\": \"#1b7fbd\"}, \"name\": \"With\", \"type\": \"bar\", \"x\": [\"Chocolate\", \"Fruity\", \"Caramel\", \"Peanutyalmondy\", \"Nougat\", \"Crispedricewafer\", \"Hard\", \"Bar\"], \"y\": [60.9215294054054, 44.11974142105264, 57.34690771428571, 63.69713678571429, 60.05187942857143, 66.170252, 40.5089818, 61.29541261904762]}, {\"marker\": {\"color\": \"#f96d15\"}, \"name\": \"Without\", \"type\": \"bar\", \"x\": [\"Chocolate\", \"Fruity\", \"Caramel\", \"Peanutyalmondy\", \"Nougat\", \"Crispedricewafer\", \"Hard\", \"Bar\"], \"y\": [42.142257, 55.32712234042553, 48.93053825352113, 47.67838040845071, 49.44309958974358, 48.894014871794866, 52.418431385714285, 46.714394671875]}],\n",
       "                        {\"barmode\": \"group\", \"template\": {\"data\": {\"bar\": [{\"error_x\": {\"color\": \"#2a3f5f\"}, \"error_y\": {\"color\": \"#2a3f5f\"}, \"marker\": {\"line\": {\"color\": \"#E5ECF6\", \"width\": 0.5}}, \"type\": \"bar\"}], \"barpolar\": [{\"marker\": {\"line\": {\"color\": \"#E5ECF6\", \"width\": 0.5}}, \"type\": \"barpolar\"}], \"carpet\": [{\"aaxis\": {\"endlinecolor\": \"#2a3f5f\", \"gridcolor\": \"white\", \"linecolor\": \"white\", \"minorgridcolor\": \"white\", \"startlinecolor\": \"#2a3f5f\"}, \"baxis\": {\"endlinecolor\": \"#2a3f5f\", \"gridcolor\": \"white\", \"linecolor\": \"white\", \"minorgridcolor\": \"white\", \"startlinecolor\": \"#2a3f5f\"}, \"type\": \"carpet\"}], \"choropleth\": [{\"colorbar\": {\"outlinewidth\": 0, \"ticks\": \"\"}, \"type\": \"choropleth\"}], \"contour\": [{\"colorbar\": {\"outlinewidth\": 0, \"ticks\": \"\"}, \"colorscale\": [[0.0, \"#0d0887\"], [0.1111111111111111, \"#46039f\"], [0.2222222222222222, \"#7201a8\"], [0.3333333333333333, \"#9c179e\"], [0.4444444444444444, \"#bd3786\"], [0.5555555555555556, \"#d8576b\"], [0.6666666666666666, \"#ed7953\"], [0.7777777777777778, \"#fb9f3a\"], [0.8888888888888888, \"#fdca26\"], [1.0, \"#f0f921\"]], \"type\": \"contour\"}], \"contourcarpet\": [{\"colorbar\": {\"outlinewidth\": 0, \"ticks\": \"\"}, \"type\": \"contourcarpet\"}], \"heatmap\": [{\"colorbar\": {\"outlinewidth\": 0, \"ticks\": \"\"}, \"colorscale\": [[0.0, \"#0d0887\"], [0.1111111111111111, \"#46039f\"], [0.2222222222222222, \"#7201a8\"], [0.3333333333333333, \"#9c179e\"], [0.4444444444444444, \"#bd3786\"], [0.5555555555555556, \"#d8576b\"], [0.6666666666666666, \"#ed7953\"], [0.7777777777777778, \"#fb9f3a\"], [0.8888888888888888, \"#fdca26\"], [1.0, \"#f0f921\"]], \"type\": \"heatmap\"}], \"heatmapgl\": [{\"colorbar\": {\"outlinewidth\": 0, \"ticks\": \"\"}, \"colorscale\": [[0.0, \"#0d0887\"], [0.1111111111111111, \"#46039f\"], [0.2222222222222222, \"#7201a8\"], [0.3333333333333333, \"#9c179e\"], [0.4444444444444444, \"#bd3786\"], [0.5555555555555556, \"#d8576b\"], [0.6666666666666666, \"#ed7953\"], [0.7777777777777778, \"#fb9f3a\"], [0.8888888888888888, \"#fdca26\"], [1.0, \"#f0f921\"]], \"type\": \"heatmapgl\"}], \"histogram\": [{\"marker\": {\"colorbar\": {\"outlinewidth\": 0, \"ticks\": \"\"}}, \"type\": \"histogram\"}], \"histogram2d\": [{\"colorbar\": {\"outlinewidth\": 0, \"ticks\": \"\"}, \"colorscale\": [[0.0, \"#0d0887\"], [0.1111111111111111, \"#46039f\"], [0.2222222222222222, \"#7201a8\"], [0.3333333333333333, \"#9c179e\"], [0.4444444444444444, \"#bd3786\"], [0.5555555555555556, \"#d8576b\"], [0.6666666666666666, \"#ed7953\"], [0.7777777777777778, \"#fb9f3a\"], [0.8888888888888888, \"#fdca26\"], [1.0, \"#f0f921\"]], \"type\": \"histogram2d\"}], \"histogram2dcontour\": [{\"colorbar\": {\"outlinewidth\": 0, \"ticks\": \"\"}, \"colorscale\": [[0.0, \"#0d0887\"], [0.1111111111111111, \"#46039f\"], [0.2222222222222222, \"#7201a8\"], [0.3333333333333333, \"#9c179e\"], [0.4444444444444444, \"#bd3786\"], [0.5555555555555556, \"#d8576b\"], [0.6666666666666666, \"#ed7953\"], [0.7777777777777778, \"#fb9f3a\"], [0.8888888888888888, \"#fdca26\"], [1.0, \"#f0f921\"]], \"type\": \"histogram2dcontour\"}], \"mesh3d\": [{\"colorbar\": {\"outlinewidth\": 0, \"ticks\": \"\"}, \"type\": \"mesh3d\"}], \"parcoords\": [{\"line\": {\"colorbar\": {\"outlinewidth\": 0, \"ticks\": \"\"}}, \"type\": \"parcoords\"}], \"scatter\": [{\"marker\": {\"colorbar\": {\"outlinewidth\": 0, \"ticks\": \"\"}}, \"type\": \"scatter\"}], \"scatter3d\": [{\"line\": {\"colorbar\": {\"outlinewidth\": 0, \"ticks\": \"\"}}, \"marker\": {\"colorbar\": {\"outlinewidth\": 0, \"ticks\": \"\"}}, \"type\": \"scatter3d\"}], \"scattercarpet\": [{\"marker\": {\"colorbar\": {\"outlinewidth\": 0, \"ticks\": \"\"}}, \"type\": \"scattercarpet\"}], \"scattergeo\": [{\"marker\": {\"colorbar\": {\"outlinewidth\": 0, \"ticks\": \"\"}}, \"type\": \"scattergeo\"}], \"scattergl\": [{\"marker\": {\"colorbar\": {\"outlinewidth\": 0, \"ticks\": \"\"}}, \"type\": \"scattergl\"}], \"scattermapbox\": [{\"marker\": {\"colorbar\": {\"outlinewidth\": 0, \"ticks\": \"\"}}, \"type\": \"scattermapbox\"}], \"scatterpolar\": [{\"marker\": {\"colorbar\": {\"outlinewidth\": 0, \"ticks\": \"\"}}, \"type\": \"scatterpolar\"}], \"scatterpolargl\": [{\"marker\": {\"colorbar\": {\"outlinewidth\": 0, \"ticks\": \"\"}}, \"type\": \"scatterpolargl\"}], \"scatterternary\": [{\"marker\": {\"colorbar\": {\"outlinewidth\": 0, \"ticks\": \"\"}}, \"type\": \"scatterternary\"}], \"surface\": [{\"colorbar\": {\"outlinewidth\": 0, \"ticks\": \"\"}, \"colorscale\": [[0.0, \"#0d0887\"], [0.1111111111111111, \"#46039f\"], [0.2222222222222222, \"#7201a8\"], [0.3333333333333333, \"#9c179e\"], [0.4444444444444444, \"#bd3786\"], [0.5555555555555556, \"#d8576b\"], [0.6666666666666666, \"#ed7953\"], [0.7777777777777778, \"#fb9f3a\"], [0.8888888888888888, \"#fdca26\"], [1.0, \"#f0f921\"]], \"type\": \"surface\"}], \"table\": [{\"cells\": {\"fill\": {\"color\": \"#EBF0F8\"}, \"line\": {\"color\": \"white\"}}, \"header\": {\"fill\": {\"color\": \"#C8D4E3\"}, \"line\": {\"color\": \"white\"}}, \"type\": \"table\"}]}, \"layout\": {\"annotationdefaults\": {\"arrowcolor\": \"#2a3f5f\", \"arrowhead\": 0, \"arrowwidth\": 1}, \"colorscale\": {\"diverging\": [[0, \"#8e0152\"], [0.1, \"#c51b7d\"], [0.2, \"#de77ae\"], [0.3, \"#f1b6da\"], [0.4, \"#fde0ef\"], [0.5, \"#f7f7f7\"], [0.6, \"#e6f5d0\"], [0.7, \"#b8e186\"], [0.8, \"#7fbc41\"], [0.9, \"#4d9221\"], [1, \"#276419\"]], \"sequential\": [[0.0, \"#0d0887\"], [0.1111111111111111, \"#46039f\"], [0.2222222222222222, \"#7201a8\"], [0.3333333333333333, \"#9c179e\"], [0.4444444444444444, \"#bd3786\"], [0.5555555555555556, \"#d8576b\"], [0.6666666666666666, \"#ed7953\"], [0.7777777777777778, \"#fb9f3a\"], [0.8888888888888888, \"#fdca26\"], [1.0, \"#f0f921\"]], \"sequentialminus\": [[0.0, \"#0d0887\"], [0.1111111111111111, \"#46039f\"], [0.2222222222222222, \"#7201a8\"], [0.3333333333333333, \"#9c179e\"], [0.4444444444444444, \"#bd3786\"], [0.5555555555555556, \"#d8576b\"], [0.6666666666666666, \"#ed7953\"], [0.7777777777777778, \"#fb9f3a\"], [0.8888888888888888, \"#fdca26\"], [1.0, \"#f0f921\"]]}, \"colorway\": [\"#636efa\", \"#EF553B\", \"#00cc96\", \"#ab63fa\", \"#FFA15A\", \"#19d3f3\", \"#FF6692\", \"#B6E880\", \"#FF97FF\", \"#FECB52\"], \"font\": {\"color\": \"#2a3f5f\"}, \"geo\": {\"bgcolor\": \"white\", \"lakecolor\": \"white\", \"landcolor\": \"#E5ECF6\", \"showlakes\": true, \"showland\": true, \"subunitcolor\": \"white\"}, \"hoverlabel\": {\"align\": \"left\"}, \"hovermode\": \"closest\", \"mapbox\": {\"style\": \"light\"}, \"paper_bgcolor\": \"white\", \"plot_bgcolor\": \"#E5ECF6\", \"polar\": {\"angularaxis\": {\"gridcolor\": \"white\", \"linecolor\": \"white\", \"ticks\": \"\"}, \"bgcolor\": \"#E5ECF6\", \"radialaxis\": {\"gridcolor\": \"white\", \"linecolor\": \"white\", \"ticks\": \"\"}}, \"scene\": {\"xaxis\": {\"backgroundcolor\": \"#E5ECF6\", \"gridcolor\": \"white\", \"gridwidth\": 2, \"linecolor\": \"white\", \"showbackground\": true, \"ticks\": \"\", \"zerolinecolor\": \"white\"}, \"yaxis\": {\"backgroundcolor\": \"#E5ECF6\", \"gridcolor\": \"white\", \"gridwidth\": 2, \"linecolor\": \"white\", \"showbackground\": true, \"ticks\": \"\", \"zerolinecolor\": \"white\"}, \"zaxis\": {\"backgroundcolor\": \"#E5ECF6\", \"gridcolor\": \"white\", \"gridwidth\": 2, \"linecolor\": \"white\", \"showbackground\": true, \"ticks\": \"\", \"zerolinecolor\": \"white\"}}, \"shapedefaults\": {\"line\": {\"color\": \"#2a3f5f\"}}, \"ternary\": {\"aaxis\": {\"gridcolor\": \"white\", \"linecolor\": \"white\", \"ticks\": \"\"}, \"baxis\": {\"gridcolor\": \"white\", \"linecolor\": \"white\", \"ticks\": \"\"}, \"bgcolor\": \"#E5ECF6\", \"caxis\": {\"gridcolor\": \"white\", \"linecolor\": \"white\", \"ticks\": \"\"}}, \"title\": {\"x\": 0.05}, \"xaxis\": {\"automargin\": true, \"gridcolor\": \"white\", \"linecolor\": \"white\", \"ticks\": \"\", \"zerolinecolor\": \"white\", \"zerolinewidth\": 2}, \"yaxis\": {\"automargin\": true, \"gridcolor\": \"white\", \"linecolor\": \"white\", \"ticks\": \"\", \"zerolinecolor\": \"white\", \"zerolinewidth\": 2}}}, \"title\": {\"text\": \"Candy win percent\"}, \"xaxis\": {\"title\": {\"text\": \"Content\"}}, \"yaxis\": {\"title\": {\"text\": \"Percentage\"}}},\n",
       "                        {\"responsive\": true}\n",
       "                    ).then(function(){\n",
       "                            \n",
       "var gd = document.getElementById('f45106a4-1cd4-4179-ac06-abf4dda3c2b3');\n",
       "var x = new MutationObserver(function (mutations, observer) {{\n",
       "        var display = window.getComputedStyle(gd).display;\n",
       "        if (!display || display === 'none') {{\n",
       "            console.log([gd, 'removed!']);\n",
       "            Plotly.purge(gd);\n",
       "            observer.disconnect();\n",
       "        }}\n",
       "}});\n",
       "\n",
       "// Listen for the removal of the full notebook cells\n",
       "var notebookContainer = gd.closest('#notebook-container');\n",
       "if (notebookContainer) {{\n",
       "    x.observe(notebookContainer, {childList: true});\n",
       "}}\n",
       "\n",
       "// Listen for the clearing of the current output cell\n",
       "var outputEl = gd.closest('.output');\n",
       "if (outputEl) {{\n",
       "    x.observe(outputEl, {childList: true});\n",
       "}}\n",
       "\n",
       "                        })\n",
       "                };\n",
       "                });\n",
       "            </script>\n",
       "        </div>"
      ]
     },
     "metadata": {},
     "output_type": "display_data"
    }
   ],
   "source": [
    "def win_content():\n",
    "    trace1 = go.Bar(\n",
    "        x=['Chocolate', 'Fruity', 'Caramel', 'Peanutyalmondy', 'Nougat', 'Crispedricewafer', 'Hard', 'Bar'],\n",
    "        y=[df[df.chocolate == 1].winpercent.mean(), df[df.fruity == 1].winpercent.mean(), df[df.caramel == 1].winpercent.mean(),\n",
    "          df[df.peanutyalmondy == 1].winpercent.mean(), df[df.nougat == 1].winpercent.mean(), df[df.crispedricewafer == 1].winpercent.mean(),\n",
    "          df[df.hard == 1].winpercent.mean(), df[df.bar == 1].winpercent.mean()],\n",
    "        name='With',\n",
    "        marker=dict(color='#1b7fbd')\n",
    "    )\n",
    "    trace2 = go.Bar(\n",
    "        x=['Chocolate', 'Fruity', 'Caramel', 'Peanutyalmondy', 'Nougat', 'Crispedricewafer', 'Hard', 'Bar'],\n",
    "        y=[df[df.chocolate == 0].winpercent.mean(), df[df.fruity == 0].winpercent.mean(), df[df.caramel == 0].winpercent.mean(),\n",
    "          df[df.peanutyalmondy == 0].winpercent.mean(), df[df.nougat == 0].winpercent.mean(), df[df.crispedricewafer == 0].winpercent.mean(),\n",
    "          df[df.hard == 0].winpercent.mean(), df[df.bar == 0].winpercent.mean()],\n",
    "        name='Without',\n",
    "        marker=dict(color='#f96d15')\n",
    "    )\n",
    "\n",
    "    data = [trace1, trace2]\n",
    "    layout = go.Layout(\n",
    "        barmode='group',\n",
    "        title= 'Candy win percent',\n",
    "        xaxis=dict(\n",
    "            title='Content'        \n",
    "        )  ,\n",
    "        yaxis=dict(\n",
    "            title='Percentage'        \n",
    "        )    \n",
    "    )\n",
    "\n",
    "    fig = go.Figure(data=data, layout=layout)\n",
    "    return(fig)\n",
    "py.offline.iplot(win_content())"
   ]
  },
  {
   "cell_type": "markdown",
   "metadata": {},
   "source": [
    "**Inference: The following inferences can be made from the above bar chart:**\n",
    "        1. The win percentage of a candy is increased by approximately 19% if it contains chocolate, so we can infer that people prefer chocolate in their candy.\n",
    "        2. Similarly the win percent is decreased by approximately 11% in case of fruity, so we can infer that people don't prefer fruity content in their candy.\n",
    "        3. The win percentage of a candy is increased by approximately 8% if it contains caramel.\n",
    "        4. The win percentage of a candy is increased by approximately 15% if it contains peanut almond, so we can infer that people prefer peanut almond in their candy.\n",
    "        5. The win percentage of a candy is increased by approximately 10% if it contains nougat.\n",
    "        6. The win percentage of a candy is increased by approximately 17% if it contains crisped rice wafer, so we can infer that people prefer crisped rice wafer in their candy. \n",
    "        7. The win percent is decreased by approximately 12% in case of hard candies, so we can infer that people don't prefer hard candies.\n",
    "        8. The win percentage of a candy is increased by approximately 14% in case of bar candies, so we can infer that people prefer bar candies."
   ]
  },
  {
   "cell_type": "markdown",
   "metadata": {},
   "source": [
    "**Methodology: using the t-test p-value by plotting a box plot of win percentages for with ceratain content and without that content to analyze the significance of the content on win percentage.**"
   ]
  },
  {
   "cell_type": "code",
   "execution_count": 18,
   "metadata": {},
   "outputs": [],
   "source": [
    "(chocolate_t_val,chocolate_p_val) = stats.ttest_ind(df[df.chocolate == 1].winpercent,df[df.chocolate == 0].winpercent)\n",
    "(fruity_t_val,fruity_p_val) = stats.ttest_ind(df[df.fruity == 1].winpercent,df[df.fruity == 0].winpercent)\n",
    "(caramel_t_val,caramel_p_val) = stats.ttest_ind(df[df.caramel == 1].winpercent,df[df.caramel == 0].winpercent)\n",
    "(peanutyalmondy_t_val,peanutyalmondy_p_val) = stats.ttest_ind(df[df.peanutyalmondy == 1].winpercent,df[df.peanutyalmondy == 0].winpercent)\n",
    "(nougat_t_val,nougat_p_val) = stats.ttest_ind(df[df.nougat == 1].winpercent,df[df.nougat == 0].winpercent)\n",
    "(crispedricewafer_t_val,crispedricewafer_p_val) = stats.ttest_ind(df[df.crispedricewafer == 1].winpercent,df[df.crispedricewafer == 0].winpercent)\n",
    "(hard_t_val,hard_p_val) = stats.ttest_ind(df[df.hard == 1].winpercent,df[df.hard == 0].winpercent)\n",
    "(bar_t_val,bar_p_val) = stats.ttest_ind(df[df.bar == 1].winpercent,df[df.bar == 0].winpercent)"
   ]
  },
  {
   "cell_type": "code",
   "execution_count": 19,
   "metadata": {},
   "outputs": [],
   "source": [
    "winpercent_p_val = [chocolate_p_val, fruity_p_val, caramel_p_val, peanutyalmondy_p_val, nougat_p_val, crispedricewafer_p_val, hard_p_val, bar_p_val  ]\n",
    "def statsig(winpercent_p_val):\n",
    "    i = 0\n",
    "    while(i<len(winpercent_p_val)):\n",
    "        if(winpercent_p_val[i]<=0.05):\n",
    "            winpercent_p_val[i]='ss'\n",
    "        else:\n",
    "            winpercent_p_val[i]='ns'\n",
    "        i+=1\n",
    "    return(winpercent_p_val)"
   ]
  },
  {
   "cell_type": "markdown",
   "metadata": {},
   "source": [
    "**Calculation of mean difference and p-value by candies win percent on the basis of candy content to get statistical significance of the candy content on win percent.<br>\n",
    "Note: <br>\n",
    "ss stands for Statistical significant<br>\n",
    "ns stands for Not significant**"
   ]
  },
  {
   "cell_type": "code",
   "execution_count": 20,
   "metadata": {},
   "outputs": [
    {
     "data": {
      "text/html": [
       "<div>\n",
       "<style scoped>\n",
       "    .dataframe tbody tr th:only-of-type {\n",
       "        vertical-align: middle;\n",
       "    }\n",
       "\n",
       "    .dataframe tbody tr th {\n",
       "        vertical-align: top;\n",
       "    }\n",
       "\n",
       "    .dataframe thead th {\n",
       "        text-align: right;\n",
       "    }\n",
       "</style>\n",
       "<table border=\"1\" class=\"dataframe\">\n",
       "  <thead>\n",
       "    <tr style=\"text-align: right;\">\n",
       "      <th></th>\n",
       "      <th>Contents</th>\n",
       "      <th>Mean difference</th>\n",
       "      <th>p-value</th>\n",
       "      <th>Statistical significance</th>\n",
       "    </tr>\n",
       "  </thead>\n",
       "  <tbody>\n",
       "    <tr>\n",
       "      <th>0</th>\n",
       "      <td>Chocolate</td>\n",
       "      <td>18.779272</td>\n",
       "      <td>5.859698e-11</td>\n",
       "      <td>ss</td>\n",
       "    </tr>\n",
       "    <tr>\n",
       "      <th>1</th>\n",
       "      <td>Fruity</td>\n",
       "      <td>-11.207381</td>\n",
       "      <td>3.222906e-04</td>\n",
       "      <td>ss</td>\n",
       "    </tr>\n",
       "    <tr>\n",
       "      <th>2</th>\n",
       "      <td>Caramel</td>\n",
       "      <td>8.416369</td>\n",
       "      <td>4.986443e-02</td>\n",
       "      <td>ss</td>\n",
       "    </tr>\n",
       "    <tr>\n",
       "      <th>3</th>\n",
       "      <td>Peanutyalmondy</td>\n",
       "      <td>16.018756</td>\n",
       "      <td>1.147208e-04</td>\n",
       "      <td>ss</td>\n",
       "    </tr>\n",
       "    <tr>\n",
       "      <th>4</th>\n",
       "      <td>Nougat</td>\n",
       "      <td>10.608780</td>\n",
       "      <td>6.734779e-02</td>\n",
       "      <td>ns</td>\n",
       "    </tr>\n",
       "    <tr>\n",
       "      <th>5</th>\n",
       "      <td>Crispedricewafer</td>\n",
       "      <td>17.276237</td>\n",
       "      <td>2.432112e-03</td>\n",
       "      <td>ss</td>\n",
       "    </tr>\n",
       "    <tr>\n",
       "      <th>6</th>\n",
       "      <td>Hard</td>\n",
       "      <td>-11.909450</td>\n",
       "      <td>3.840554e-03</td>\n",
       "      <td>ss</td>\n",
       "    </tr>\n",
       "    <tr>\n",
       "      <th>7</th>\n",
       "      <td>Bar</td>\n",
       "      <td>14.581018</td>\n",
       "      <td>4.018635e-05</td>\n",
       "      <td>ss</td>\n",
       "    </tr>\n",
       "  </tbody>\n",
       "</table>\n",
       "</div>"
      ],
      "text/plain": [
       "           Contents  Mean difference       p-value Statistical significance\n",
       "0         Chocolate        18.779272  5.859698e-11                       ss\n",
       "1            Fruity       -11.207381  3.222906e-04                       ss\n",
       "2           Caramel         8.416369  4.986443e-02                       ss\n",
       "3    Peanutyalmondy        16.018756  1.147208e-04                       ss\n",
       "4            Nougat        10.608780  6.734779e-02                       ns\n",
       "5  Crispedricewafer        17.276237  2.432112e-03                       ss\n",
       "6              Hard       -11.909450  3.840554e-03                       ss\n",
       "7               Bar        14.581018  4.018635e-05                       ss"
      ]
     },
     "execution_count": 20,
     "metadata": {},
     "output_type": "execute_result"
    }
   ],
   "source": [
    "contents=['Chocolate', 'Fruity', 'Caramel', 'Peanutyalmondy', 'Nougat', 'Crispedricewafer', 'Hard', 'Bar']\n",
    "diff_mean_values=[df[df.chocolate == 1].winpercent.mean()-df[df.chocolate == 0].winpercent.mean(), df[df.fruity == 1].winpercent.mean()-df[df.fruity == 0].winpercent.mean(),\n",
    "                 df[df.caramel == 1].winpercent.mean()-df[df.caramel == 0].winpercent.mean(), df[df.peanutyalmondy == 1].winpercent.mean()-df[df.peanutyalmondy == 0].winpercent.mean(),\n",
    "                 df[df.nougat == 1].winpercent.mean()-df[df.nougat == 0].winpercent.mean(), df[df.crispedricewafer == 1].winpercent.mean()-df[df.crispedricewafer == 0].winpercent.mean(),\n",
    "                 df[df.hard == 1].winpercent.mean()-df[df.hard == 0].winpercent.mean(), df[df.bar == 1].winpercent.mean()-df[df.bar == 0].winpercent.mean()]\n",
    "p_val=[chocolate_p_val, fruity_p_val, caramel_p_val, peanutyalmondy_p_val, nougat_p_val, crispedricewafer_p_val, hard_p_val, bar_p_val  ]\n",
    "ss_p_val = statsig(winpercent_p_val)\n",
    "winpercent_t_test_df = pd.DataFrame(list(zip(contents, diff_mean_values, p_val, ss_p_val)), \n",
    "               columns =['Contents', 'Mean difference', 'p-value', 'Statistical significance'])\n",
    "winpercent_t_test_df"
   ]
  },
  {
   "cell_type": "code",
   "execution_count": 21,
   "metadata": {},
   "outputs": [
    {
     "data": {
      "application/vnd.plotly.v1+json": {
       "config": {
        "linkText": "Export to plot.ly",
        "plotlyServerURL": "https://plot.ly",
        "showLink": false
       },
       "data": [
        {
         "boxmean": true,
         "marker": {
          "color": "#8b4513"
         },
         "name": "With Chocolate",
         "type": "box",
         "y": [
          66.971725,
          67.602936,
          50.347546,
          56.914547,
          38.975037,
          55.375454000000005,
          62.28448100000001,
          56.490501,
          59.236121999999995,
          57.21925,
          76.7686,
          71.46505,
          66.574585,
          55.064071999999996,
          73.099556,
          60.800701000000004,
          64.35334,
          47.829754,
          54.526451,
          70.735641,
          66.47068,
          69.483788,
          81.86625699999999,
          84.18029,
          73.43499,
          72.887901,
          65.716286,
          34.722,
          37.887188,
          76.67378199999999,
          59.529251,
          48.982651000000004,
          43.068897,
          45.736748,
          49.653503,
          81.642914,
          49.524113
         ]
        },
        {
         "boxmean": true,
         "marker": {
          "color": "#8b4513"
         },
         "name": "Without Chocolate",
         "opacity": 0.6,
         "type": "box",
         "y": [
          32.261086,
          46.116505,
          52.341465,
          23.417824,
          38.010963000000004,
          34.517681,
          36.017628,
          24.524988,
          42.272076,
          39.460556,
          43.088924,
          39.185505,
          46.783348,
          57.11974,
          34.158958,
          51.41243,
          42.178771999999995,
          28.127439000000003,
          41.389557,
          39.141056,
          52.911392000000006,
          46.411716,
          55.354046,
          22.445341,
          39.4468,
          46.296597,
          37.722336,
          41.265511,
          37.348521999999996,
          35.290756,
          29.703691,
          42.849144,
          63.08514,
          55.103694999999995,
          45.995827,
          59.863997999999995,
          52.825947,
          67.037628,
          34.578990999999995,
          33.43755,
          32.230995,
          27.303865000000002,
          54.861111,
          47.173229,
          45.466282,
          39.011897999999995,
          44.375519,
          41.904308
         ]
        },
        {
         "boxmean": true,
         "marker": {
          "color": "#e42c64"
         },
         "name": "With Fruity",
         "type": "box",
         "y": [
          52.341465,
          34.517681,
          36.017628,
          24.524988,
          42.272076,
          39.460556,
          43.088924,
          39.185505,
          46.783348,
          57.11974,
          51.41243,
          42.178771999999995,
          28.127439000000003,
          41.389557,
          39.141056,
          52.911392000000006,
          46.411716,
          55.354046,
          22.445341,
          39.4468,
          41.265511,
          37.348521999999996,
          35.290756,
          42.849144,
          63.08514,
          55.103694999999995,
          45.995827,
          59.863997999999995,
          52.825947,
          67.037628,
          34.578990999999995,
          27.303865000000002,
          54.861111,
          48.982651000000004,
          47.173229,
          45.466282,
          39.011897999999995,
          44.375519
         ]
        },
        {
         "boxmean": true,
         "marker": {
          "color": "#e42c64"
         },
         "name": "Without Fruity",
         "opacity": 0.6,
         "type": "box",
         "y": [
          66.971725,
          67.602936,
          32.261086,
          46.116505,
          50.347546,
          56.914547,
          23.417824,
          38.010963000000004,
          38.975037,
          34.158958,
          55.375454000000005,
          62.28448100000001,
          56.490501,
          59.236121999999995,
          57.21925,
          76.7686,
          71.46505,
          66.574585,
          55.064071999999996,
          73.099556,
          60.800701000000004,
          64.35334,
          47.829754,
          54.526451,
          70.735641,
          66.47068,
          46.296597,
          69.483788,
          37.722336,
          81.86625699999999,
          84.18029,
          73.43499,
          72.887901,
          65.716286,
          29.703691,
          34.722,
          37.887188,
          76.67378199999999,
          59.529251,
          33.43755,
          32.230995,
          43.068897,
          45.736748,
          49.653503,
          81.642914,
          41.904308,
          49.524113
         ]
        },
        {
         "boxmean": true,
         "marker": {
          "color": "#f3a953"
         },
         "name": "With Caramel",
         "type": "box",
         "y": [
          66.971725,
          56.914547,
          34.517681,
          55.064071999999996,
          73.099556,
          60.800701000000004,
          64.35334,
          65.716286,
          76.67378199999999,
          59.529251,
          33.43755,
          32.230995,
          81.642914,
          41.904308
         ]
        },
        {
         "boxmean": true,
         "marker": {
          "color": "#f3a953"
         },
         "name": "Without Caramel",
         "opacity": 0.6,
         "type": "box",
         "y": [
          67.602936,
          32.261086,
          46.116505,
          52.341465,
          50.347546,
          23.417824,
          38.010963000000004,
          38.975037,
          36.017628,
          24.524988,
          42.272076,
          39.460556,
          43.088924,
          39.185505,
          46.783348,
          57.11974,
          34.158958,
          51.41243,
          42.178771999999995,
          55.375454000000005,
          62.28448100000001,
          56.490501,
          59.236121999999995,
          28.127439000000003,
          57.21925,
          76.7686,
          41.389557,
          39.141056,
          52.911392000000006,
          71.46505,
          66.574585,
          46.411716,
          47.829754,
          54.526451,
          55.354046,
          70.735641,
          66.47068,
          22.445341,
          39.4468,
          46.296597,
          69.483788,
          37.722336,
          41.265511,
          37.348521999999996,
          81.86625699999999,
          84.18029,
          73.43499,
          72.887901,
          35.290756,
          29.703691,
          42.849144,
          34.722,
          63.08514,
          55.103694999999995,
          37.887188,
          45.995827,
          59.863997999999995,
          52.825947,
          67.037628,
          34.578990999999995,
          27.303865000000002,
          54.861111,
          48.982651000000004,
          43.068897,
          45.736748,
          49.653503,
          47.173229,
          45.466282,
          39.011897999999995,
          44.375519,
          49.524113
         ]
        },
        {
         "boxmean": true,
         "marker": {
          "color": "#58b368"
         },
         "name": "With Peanutyalmondy",
         "type": "box",
         "y": [
          50.347546,
          56.914547,
          23.417824,
          71.46505,
          54.526451,
          70.735641,
          46.296597,
          69.483788,
          81.86625699999999,
          84.18029,
          73.43499,
          72.887901,
          76.67378199999999,
          59.529251
         ]
        },
        {
         "boxmean": true,
         "marker": {
          "color": "#58b368"
         },
         "name": "Without Peanutyalmondy",
         "opacity": 0.6,
         "type": "box",
         "y": [
          66.971725,
          67.602936,
          32.261086,
          46.116505,
          52.341465,
          38.010963000000004,
          34.517681,
          38.975037,
          36.017628,
          24.524988,
          42.272076,
          39.460556,
          43.088924,
          39.185505,
          46.783348,
          57.11974,
          34.158958,
          51.41243,
          42.178771999999995,
          55.375454000000005,
          62.28448100000001,
          56.490501,
          59.236121999999995,
          28.127439000000003,
          57.21925,
          76.7686,
          41.389557,
          39.141056,
          52.911392000000006,
          66.574585,
          46.411716,
          55.064071999999996,
          73.099556,
          60.800701000000004,
          64.35334,
          47.829754,
          55.354046,
          66.47068,
          22.445341,
          39.4468,
          37.722336,
          41.265511,
          37.348521999999996,
          35.290756,
          65.716286,
          29.703691,
          42.849144,
          34.722,
          63.08514,
          55.103694999999995,
          37.887188,
          45.995827,
          59.863997999999995,
          52.825947,
          67.037628,
          34.578990999999995,
          33.43755,
          32.230995,
          27.303865000000002,
          54.861111,
          48.982651000000004,
          43.068897,
          45.736748,
          49.653503,
          47.173229,
          81.642914,
          45.466282,
          39.011897999999995,
          44.375519,
          41.904308,
          49.524113
         ]
        },
        {
         "boxmean": true,
         "marker": {
          "color": "#373a6d"
         },
         "name": "With Nougat",
         "type": "box",
         "y": [
          67.602936,
          56.914547,
          38.975037,
          73.099556,
          60.800701000000004,
          46.296597,
          76.67378199999999
         ]
        },
        {
         "boxmean": true,
         "marker": {
          "color": "#373a6d"
         },
         "name": "Without Nougat",
         "opacity": 0.6,
         "type": "box",
         "y": [
          66.971725,
          32.261086,
          46.116505,
          52.341465,
          50.347546,
          23.417824,
          38.010963000000004,
          34.517681,
          36.017628,
          24.524988,
          42.272076,
          39.460556,
          43.088924,
          39.185505,
          46.783348,
          57.11974,
          34.158958,
          51.41243,
          42.178771999999995,
          55.375454000000005,
          62.28448100000001,
          56.490501,
          59.236121999999995,
          28.127439000000003,
          57.21925,
          76.7686,
          41.389557,
          39.141056,
          52.911392000000006,
          71.46505,
          66.574585,
          46.411716,
          55.064071999999996,
          64.35334,
          47.829754,
          54.526451,
          55.354046,
          70.735641,
          66.47068,
          22.445341,
          39.4468,
          69.483788,
          37.722336,
          41.265511,
          37.348521999999996,
          81.86625699999999,
          84.18029,
          73.43499,
          72.887901,
          35.290756,
          65.716286,
          29.703691,
          42.849144,
          34.722,
          63.08514,
          55.103694999999995,
          37.887188,
          45.995827,
          59.529251,
          59.863997999999995,
          52.825947,
          67.037628,
          34.578990999999995,
          33.43755,
          32.230995,
          27.303865000000002,
          54.861111,
          48.982651000000004,
          43.068897,
          45.736748,
          49.653503,
          47.173229,
          81.642914,
          45.466282,
          39.011897999999995,
          44.375519,
          41.904308,
          49.524113
         ]
        },
        {
         "boxmean": true,
         "marker": {
          "color": "#9370db"
         },
         "name": "With Crispedricewafer",
         "type": "box",
         "y": [
          66.971725,
          62.28448100000001,
          76.7686,
          66.47068,
          59.529251,
          81.642914,
          49.524113
         ]
        },
        {
         "boxmean": true,
         "marker": {
          "color": "#9370db"
         },
         "name": "Without Crispedricewafer",
         "opacity": 0.6,
         "type": "box",
         "y": [
          67.602936,
          32.261086,
          46.116505,
          52.341465,
          50.347546,
          56.914547,
          23.417824,
          38.010963000000004,
          34.517681,
          38.975037,
          36.017628,
          24.524988,
          42.272076,
          39.460556,
          43.088924,
          39.185505,
          46.783348,
          57.11974,
          34.158958,
          51.41243,
          42.178771999999995,
          55.375454000000005,
          56.490501,
          59.236121999999995,
          28.127439000000003,
          57.21925,
          41.389557,
          39.141056,
          52.911392000000006,
          71.46505,
          66.574585,
          46.411716,
          55.064071999999996,
          73.099556,
          60.800701000000004,
          64.35334,
          47.829754,
          54.526451,
          55.354046,
          70.735641,
          22.445341,
          39.4468,
          46.296597,
          69.483788,
          37.722336,
          41.265511,
          37.348521999999996,
          81.86625699999999,
          84.18029,
          73.43499,
          72.887901,
          35.290756,
          65.716286,
          29.703691,
          42.849144,
          34.722,
          63.08514,
          55.103694999999995,
          37.887188,
          45.995827,
          76.67378199999999,
          59.863997999999995,
          52.825947,
          67.037628,
          34.578990999999995,
          33.43755,
          32.230995,
          27.303865000000002,
          54.861111,
          48.982651000000004,
          43.068897,
          45.736748,
          49.653503,
          47.173229,
          45.466282,
          39.011897999999995,
          44.375519,
          41.904308
         ]
        },
        {
         "boxmean": true,
         "marker": {
          "color": "#ff4057"
         },
         "name": "With Hard",
         "type": "box",
         "y": [
          39.460556,
          39.185505,
          46.783348,
          28.127439000000003,
          39.141056,
          55.354046,
          41.265511,
          35.290756,
          29.703691,
          42.849144,
          45.995827,
          34.578990999999995,
          48.982651000000004,
          39.011897999999995,
          41.904308
         ]
        },
        {
         "boxmean": true,
         "marker": {
          "color": "#ff4057"
         },
         "name": "Without Hard",
         "opacity": 0.6,
         "type": "box",
         "y": [
          66.971725,
          67.602936,
          32.261086,
          46.116505,
          52.341465,
          50.347546,
          56.914547,
          23.417824,
          38.010963000000004,
          34.517681,
          38.975037,
          36.017628,
          24.524988,
          42.272076,
          43.088924,
          57.11974,
          34.158958,
          51.41243,
          42.178771999999995,
          55.375454000000005,
          62.28448100000001,
          56.490501,
          59.236121999999995,
          57.21925,
          76.7686,
          41.389557,
          52.911392000000006,
          71.46505,
          66.574585,
          46.411716,
          55.064071999999996,
          73.099556,
          60.800701000000004,
          64.35334,
          47.829754,
          54.526451,
          70.735641,
          66.47068,
          22.445341,
          39.4468,
          46.296597,
          69.483788,
          37.722336,
          37.348521999999996,
          81.86625699999999,
          84.18029,
          73.43499,
          72.887901,
          65.716286,
          34.722,
          63.08514,
          55.103694999999995,
          37.887188,
          76.67378199999999,
          59.529251,
          59.863997999999995,
          52.825947,
          67.037628,
          33.43755,
          32.230995,
          27.303865000000002,
          54.861111,
          43.068897,
          45.736748,
          49.653503,
          47.173229,
          81.642914,
          45.466282,
          44.375519,
          49.524113
         ]
        },
        {
         "boxmean": true,
         "marker": {
          "color": "#096386"
         },
         "name": "With Bar",
         "type": "box",
         "y": [
          66.971725,
          67.602936,
          50.347546,
          56.914547,
          38.975037,
          62.28448100000001,
          56.490501,
          59.236121999999995,
          76.7686,
          73.099556,
          60.800701000000004,
          64.35334,
          47.829754,
          54.526451,
          70.735641,
          66.47068,
          46.296597,
          76.67378199999999,
          59.529251,
          49.653503,
          81.642914
         ]
        },
        {
         "boxmean": true,
         "marker": {
          "color": "#096386"
         },
         "name": "Without Bar",
         "opacity": 0.6,
         "type": "box",
         "y": [
          32.261086,
          46.116505,
          52.341465,
          23.417824,
          38.010963000000004,
          34.517681,
          36.017628,
          24.524988,
          42.272076,
          39.460556,
          43.088924,
          39.185505,
          46.783348,
          57.11974,
          34.158958,
          51.41243,
          42.178771999999995,
          55.375454000000005,
          28.127439000000003,
          57.21925,
          41.389557,
          39.141056,
          52.911392000000006,
          71.46505,
          66.574585,
          46.411716,
          55.064071999999996,
          55.354046,
          22.445341,
          39.4468,
          69.483788,
          37.722336,
          41.265511,
          37.348521999999996,
          81.86625699999999,
          84.18029,
          73.43499,
          72.887901,
          35.290756,
          65.716286,
          29.703691,
          42.849144,
          34.722,
          63.08514,
          55.103694999999995,
          37.887188,
          45.995827,
          59.863997999999995,
          52.825947,
          67.037628,
          34.578990999999995,
          33.43755,
          32.230995,
          27.303865000000002,
          54.861111,
          48.982651000000004,
          43.068897,
          45.736748,
          47.173229,
          45.466282,
          39.011897999999995,
          44.375519,
          41.904308,
          49.524113
         ]
        },
        {
         "marker": {
          "color": "#252525"
         },
         "mode": "lines+markers+text",
         "text": [
          "ss"
         ],
         "textposition": "top center",
         "type": "scatter",
         "x": [
          "With Chocolate",
          "Without Chocolate"
         ],
         "y": [
          87,
          87
         ]
        },
        {
         "marker": {
          "color": "#252525"
         },
         "mode": "lines+markers+text",
         "text": [
          "ss"
         ],
         "textposition": "top center",
         "type": "scatter",
         "x": [
          "With Fruity",
          "Without Fruity"
         ],
         "y": [
          87,
          87
         ]
        },
        {
         "marker": {
          "color": "#252525"
         },
         "mode": "lines+markers+text",
         "text": [
          "ss"
         ],
         "textposition": "top center",
         "type": "scatter",
         "x": [
          "With Caramel",
          "Without Caramel"
         ],
         "y": [
          84,
          84
         ]
        },
        {
         "marker": {
          "color": "#252525"
         },
         "mode": "lines+markers+text",
         "text": [
          "ss"
         ],
         "textposition": "top center",
         "type": "scatter",
         "x": [
          "With Peanutyalmondy",
          "Without Peanutyalmondy"
         ],
         "y": [
          87,
          87
         ]
        },
        {
         "marker": {
          "color": "#252525"
         },
         "mode": "lines+markers+text",
         "text": [
          "ns"
         ],
         "textposition": "top center",
         "type": "scatter",
         "x": [
          "With Nougat",
          "Without Nougat"
         ],
         "y": [
          87,
          87
         ]
        },
        {
         "marker": {
          "color": "#252525"
         },
         "mode": "lines+markers+text",
         "text": [
          "ss"
         ],
         "textposition": "top center",
         "type": "scatter",
         "x": [
          "With Crispedricewafer",
          "Without Crispedricewafer"
         ],
         "y": [
          87,
          87
         ]
        },
        {
         "marker": {
          "color": "#252525"
         },
         "mode": "lines+markers+text",
         "text": [
          "ss"
         ],
         "textposition": "top center",
         "type": "scatter",
         "x": [
          "With Hard",
          "Without Hard"
         ],
         "y": [
          87,
          87
         ]
        },
        {
         "marker": {
          "color": "#252525"
         },
         "mode": "lines+markers+text",
         "text": [
          "ss"
         ],
         "textposition": "top center",
         "type": "scatter",
         "x": [
          "With Bar",
          "Without Bar"
         ],
         "y": [
          84,
          84
         ]
        }
       ],
       "layout": {
        "showlegend": false,
        "template": {
         "data": {
          "bar": [
           {
            "error_x": {
             "color": "#2a3f5f"
            },
            "error_y": {
             "color": "#2a3f5f"
            },
            "marker": {
             "line": {
              "color": "#E5ECF6",
              "width": 0.5
             }
            },
            "type": "bar"
           }
          ],
          "barpolar": [
           {
            "marker": {
             "line": {
              "color": "#E5ECF6",
              "width": 0.5
             }
            },
            "type": "barpolar"
           }
          ],
          "carpet": [
           {
            "aaxis": {
             "endlinecolor": "#2a3f5f",
             "gridcolor": "white",
             "linecolor": "white",
             "minorgridcolor": "white",
             "startlinecolor": "#2a3f5f"
            },
            "baxis": {
             "endlinecolor": "#2a3f5f",
             "gridcolor": "white",
             "linecolor": "white",
             "minorgridcolor": "white",
             "startlinecolor": "#2a3f5f"
            },
            "type": "carpet"
           }
          ],
          "choropleth": [
           {
            "colorbar": {
             "outlinewidth": 0,
             "ticks": ""
            },
            "type": "choropleth"
           }
          ],
          "contour": [
           {
            "colorbar": {
             "outlinewidth": 0,
             "ticks": ""
            },
            "colorscale": [
             [
              0,
              "#0d0887"
             ],
             [
              0.1111111111111111,
              "#46039f"
             ],
             [
              0.2222222222222222,
              "#7201a8"
             ],
             [
              0.3333333333333333,
              "#9c179e"
             ],
             [
              0.4444444444444444,
              "#bd3786"
             ],
             [
              0.5555555555555556,
              "#d8576b"
             ],
             [
              0.6666666666666666,
              "#ed7953"
             ],
             [
              0.7777777777777778,
              "#fb9f3a"
             ],
             [
              0.8888888888888888,
              "#fdca26"
             ],
             [
              1,
              "#f0f921"
             ]
            ],
            "type": "contour"
           }
          ],
          "contourcarpet": [
           {
            "colorbar": {
             "outlinewidth": 0,
             "ticks": ""
            },
            "type": "contourcarpet"
           }
          ],
          "heatmap": [
           {
            "colorbar": {
             "outlinewidth": 0,
             "ticks": ""
            },
            "colorscale": [
             [
              0,
              "#0d0887"
             ],
             [
              0.1111111111111111,
              "#46039f"
             ],
             [
              0.2222222222222222,
              "#7201a8"
             ],
             [
              0.3333333333333333,
              "#9c179e"
             ],
             [
              0.4444444444444444,
              "#bd3786"
             ],
             [
              0.5555555555555556,
              "#d8576b"
             ],
             [
              0.6666666666666666,
              "#ed7953"
             ],
             [
              0.7777777777777778,
              "#fb9f3a"
             ],
             [
              0.8888888888888888,
              "#fdca26"
             ],
             [
              1,
              "#f0f921"
             ]
            ],
            "type": "heatmap"
           }
          ],
          "heatmapgl": [
           {
            "colorbar": {
             "outlinewidth": 0,
             "ticks": ""
            },
            "colorscale": [
             [
              0,
              "#0d0887"
             ],
             [
              0.1111111111111111,
              "#46039f"
             ],
             [
              0.2222222222222222,
              "#7201a8"
             ],
             [
              0.3333333333333333,
              "#9c179e"
             ],
             [
              0.4444444444444444,
              "#bd3786"
             ],
             [
              0.5555555555555556,
              "#d8576b"
             ],
             [
              0.6666666666666666,
              "#ed7953"
             ],
             [
              0.7777777777777778,
              "#fb9f3a"
             ],
             [
              0.8888888888888888,
              "#fdca26"
             ],
             [
              1,
              "#f0f921"
             ]
            ],
            "type": "heatmapgl"
           }
          ],
          "histogram": [
           {
            "marker": {
             "colorbar": {
              "outlinewidth": 0,
              "ticks": ""
             }
            },
            "type": "histogram"
           }
          ],
          "histogram2d": [
           {
            "colorbar": {
             "outlinewidth": 0,
             "ticks": ""
            },
            "colorscale": [
             [
              0,
              "#0d0887"
             ],
             [
              0.1111111111111111,
              "#46039f"
             ],
             [
              0.2222222222222222,
              "#7201a8"
             ],
             [
              0.3333333333333333,
              "#9c179e"
             ],
             [
              0.4444444444444444,
              "#bd3786"
             ],
             [
              0.5555555555555556,
              "#d8576b"
             ],
             [
              0.6666666666666666,
              "#ed7953"
             ],
             [
              0.7777777777777778,
              "#fb9f3a"
             ],
             [
              0.8888888888888888,
              "#fdca26"
             ],
             [
              1,
              "#f0f921"
             ]
            ],
            "type": "histogram2d"
           }
          ],
          "histogram2dcontour": [
           {
            "colorbar": {
             "outlinewidth": 0,
             "ticks": ""
            },
            "colorscale": [
             [
              0,
              "#0d0887"
             ],
             [
              0.1111111111111111,
              "#46039f"
             ],
             [
              0.2222222222222222,
              "#7201a8"
             ],
             [
              0.3333333333333333,
              "#9c179e"
             ],
             [
              0.4444444444444444,
              "#bd3786"
             ],
             [
              0.5555555555555556,
              "#d8576b"
             ],
             [
              0.6666666666666666,
              "#ed7953"
             ],
             [
              0.7777777777777778,
              "#fb9f3a"
             ],
             [
              0.8888888888888888,
              "#fdca26"
             ],
             [
              1,
              "#f0f921"
             ]
            ],
            "type": "histogram2dcontour"
           }
          ],
          "mesh3d": [
           {
            "colorbar": {
             "outlinewidth": 0,
             "ticks": ""
            },
            "type": "mesh3d"
           }
          ],
          "parcoords": [
           {
            "line": {
             "colorbar": {
              "outlinewidth": 0,
              "ticks": ""
             }
            },
            "type": "parcoords"
           }
          ],
          "scatter": [
           {
            "marker": {
             "colorbar": {
              "outlinewidth": 0,
              "ticks": ""
             }
            },
            "type": "scatter"
           }
          ],
          "scatter3d": [
           {
            "line": {
             "colorbar": {
              "outlinewidth": 0,
              "ticks": ""
             }
            },
            "marker": {
             "colorbar": {
              "outlinewidth": 0,
              "ticks": ""
             }
            },
            "type": "scatter3d"
           }
          ],
          "scattercarpet": [
           {
            "marker": {
             "colorbar": {
              "outlinewidth": 0,
              "ticks": ""
             }
            },
            "type": "scattercarpet"
           }
          ],
          "scattergeo": [
           {
            "marker": {
             "colorbar": {
              "outlinewidth": 0,
              "ticks": ""
             }
            },
            "type": "scattergeo"
           }
          ],
          "scattergl": [
           {
            "marker": {
             "colorbar": {
              "outlinewidth": 0,
              "ticks": ""
             }
            },
            "type": "scattergl"
           }
          ],
          "scattermapbox": [
           {
            "marker": {
             "colorbar": {
              "outlinewidth": 0,
              "ticks": ""
             }
            },
            "type": "scattermapbox"
           }
          ],
          "scatterpolar": [
           {
            "marker": {
             "colorbar": {
              "outlinewidth": 0,
              "ticks": ""
             }
            },
            "type": "scatterpolar"
           }
          ],
          "scatterpolargl": [
           {
            "marker": {
             "colorbar": {
              "outlinewidth": 0,
              "ticks": ""
             }
            },
            "type": "scatterpolargl"
           }
          ],
          "scatterternary": [
           {
            "marker": {
             "colorbar": {
              "outlinewidth": 0,
              "ticks": ""
             }
            },
            "type": "scatterternary"
           }
          ],
          "surface": [
           {
            "colorbar": {
             "outlinewidth": 0,
             "ticks": ""
            },
            "colorscale": [
             [
              0,
              "#0d0887"
             ],
             [
              0.1111111111111111,
              "#46039f"
             ],
             [
              0.2222222222222222,
              "#7201a8"
             ],
             [
              0.3333333333333333,
              "#9c179e"
             ],
             [
              0.4444444444444444,
              "#bd3786"
             ],
             [
              0.5555555555555556,
              "#d8576b"
             ],
             [
              0.6666666666666666,
              "#ed7953"
             ],
             [
              0.7777777777777778,
              "#fb9f3a"
             ],
             [
              0.8888888888888888,
              "#fdca26"
             ],
             [
              1,
              "#f0f921"
             ]
            ],
            "type": "surface"
           }
          ],
          "table": [
           {
            "cells": {
             "fill": {
              "color": "#EBF0F8"
             },
             "line": {
              "color": "white"
             }
            },
            "header": {
             "fill": {
              "color": "#C8D4E3"
             },
             "line": {
              "color": "white"
             }
            },
            "type": "table"
           }
          ]
         },
         "layout": {
          "annotationdefaults": {
           "arrowcolor": "#2a3f5f",
           "arrowhead": 0,
           "arrowwidth": 1
          },
          "colorscale": {
           "diverging": [
            [
             0,
             "#8e0152"
            ],
            [
             0.1,
             "#c51b7d"
            ],
            [
             0.2,
             "#de77ae"
            ],
            [
             0.3,
             "#f1b6da"
            ],
            [
             0.4,
             "#fde0ef"
            ],
            [
             0.5,
             "#f7f7f7"
            ],
            [
             0.6,
             "#e6f5d0"
            ],
            [
             0.7,
             "#b8e186"
            ],
            [
             0.8,
             "#7fbc41"
            ],
            [
             0.9,
             "#4d9221"
            ],
            [
             1,
             "#276419"
            ]
           ],
           "sequential": [
            [
             0,
             "#0d0887"
            ],
            [
             0.1111111111111111,
             "#46039f"
            ],
            [
             0.2222222222222222,
             "#7201a8"
            ],
            [
             0.3333333333333333,
             "#9c179e"
            ],
            [
             0.4444444444444444,
             "#bd3786"
            ],
            [
             0.5555555555555556,
             "#d8576b"
            ],
            [
             0.6666666666666666,
             "#ed7953"
            ],
            [
             0.7777777777777778,
             "#fb9f3a"
            ],
            [
             0.8888888888888888,
             "#fdca26"
            ],
            [
             1,
             "#f0f921"
            ]
           ],
           "sequentialminus": [
            [
             0,
             "#0d0887"
            ],
            [
             0.1111111111111111,
             "#46039f"
            ],
            [
             0.2222222222222222,
             "#7201a8"
            ],
            [
             0.3333333333333333,
             "#9c179e"
            ],
            [
             0.4444444444444444,
             "#bd3786"
            ],
            [
             0.5555555555555556,
             "#d8576b"
            ],
            [
             0.6666666666666666,
             "#ed7953"
            ],
            [
             0.7777777777777778,
             "#fb9f3a"
            ],
            [
             0.8888888888888888,
             "#fdca26"
            ],
            [
             1,
             "#f0f921"
            ]
           ]
          },
          "colorway": [
           "#636efa",
           "#EF553B",
           "#00cc96",
           "#ab63fa",
           "#FFA15A",
           "#19d3f3",
           "#FF6692",
           "#B6E880",
           "#FF97FF",
           "#FECB52"
          ],
          "font": {
           "color": "#2a3f5f"
          },
          "geo": {
           "bgcolor": "white",
           "lakecolor": "white",
           "landcolor": "#E5ECF6",
           "showlakes": true,
           "showland": true,
           "subunitcolor": "white"
          },
          "hoverlabel": {
           "align": "left"
          },
          "hovermode": "closest",
          "mapbox": {
           "style": "light"
          },
          "paper_bgcolor": "white",
          "plot_bgcolor": "#E5ECF6",
          "polar": {
           "angularaxis": {
            "gridcolor": "white",
            "linecolor": "white",
            "ticks": ""
           },
           "bgcolor": "#E5ECF6",
           "radialaxis": {
            "gridcolor": "white",
            "linecolor": "white",
            "ticks": ""
           }
          },
          "scene": {
           "xaxis": {
            "backgroundcolor": "#E5ECF6",
            "gridcolor": "white",
            "gridwidth": 2,
            "linecolor": "white",
            "showbackground": true,
            "ticks": "",
            "zerolinecolor": "white"
           },
           "yaxis": {
            "backgroundcolor": "#E5ECF6",
            "gridcolor": "white",
            "gridwidth": 2,
            "linecolor": "white",
            "showbackground": true,
            "ticks": "",
            "zerolinecolor": "white"
           },
           "zaxis": {
            "backgroundcolor": "#E5ECF6",
            "gridcolor": "white",
            "gridwidth": 2,
            "linecolor": "white",
            "showbackground": true,
            "ticks": "",
            "zerolinecolor": "white"
           }
          },
          "shapedefaults": {
           "line": {
            "color": "#2a3f5f"
           }
          },
          "ternary": {
           "aaxis": {
            "gridcolor": "white",
            "linecolor": "white",
            "ticks": ""
           },
           "baxis": {
            "gridcolor": "white",
            "linecolor": "white",
            "ticks": ""
           },
           "bgcolor": "#E5ECF6",
           "caxis": {
            "gridcolor": "white",
            "linecolor": "white",
            "ticks": ""
           }
          },
          "title": {
           "x": 0.05
          },
          "xaxis": {
           "automargin": true,
           "gridcolor": "white",
           "linecolor": "white",
           "ticks": "",
           "zerolinecolor": "white",
           "zerolinewidth": 2
          },
          "yaxis": {
           "automargin": true,
           "gridcolor": "white",
           "linecolor": "white",
           "ticks": "",
           "zerolinecolor": "white",
           "zerolinewidth": 2
          }
         }
        },
        "title": {
         "text": "Win percent box plot"
        },
        "yaxis": {
         "title": {
          "text": "Percentage"
         },
         "zeroline": false
        }
       }
      },
      "text/html": [
       "<div>\n",
       "        \n",
       "        \n",
       "            <div id=\"132756a1-cc83-429a-a080-2b4194b3feaf\" class=\"plotly-graph-div\" style=\"height:525px; width:100%;\"></div>\n",
       "            <script type=\"text/javascript\">\n",
       "                require([\"plotly\"], function(Plotly) {\n",
       "                    window.PLOTLYENV=window.PLOTLYENV || {};\n",
       "                    \n",
       "                if (document.getElementById(\"132756a1-cc83-429a-a080-2b4194b3feaf\")) {\n",
       "                    Plotly.newPlot(\n",
       "                        '132756a1-cc83-429a-a080-2b4194b3feaf',\n",
       "                        [{\"boxmean\": true, \"marker\": {\"color\": \"#8b4513\"}, \"name\": \"With Chocolate\", \"type\": \"box\", \"y\": [66.971725, 67.602936, 50.347546, 56.914547, 38.975037, 55.375454000000005, 62.28448100000001, 56.490501, 59.236121999999995, 57.21925, 76.7686, 71.46505, 66.574585, 55.064071999999996, 73.099556, 60.800701000000004, 64.35334, 47.829754, 54.526451, 70.735641, 66.47068, 69.483788, 81.86625699999999, 84.18029, 73.43499, 72.887901, 65.716286, 34.722, 37.887188, 76.67378199999999, 59.529251, 48.982651000000004, 43.068897, 45.736748, 49.653503, 81.642914, 49.524113]}, {\"boxmean\": true, \"marker\": {\"color\": \"#8b4513\"}, \"name\": \"Without Chocolate\", \"opacity\": 0.6, \"type\": \"box\", \"y\": [32.261086, 46.116505, 52.341465, 23.417824, 38.010963000000004, 34.517681, 36.017628, 24.524988, 42.272076, 39.460556, 43.088924, 39.185505, 46.783348, 57.11974, 34.158958, 51.41243, 42.178771999999995, 28.127439000000003, 41.389557, 39.141056, 52.911392000000006, 46.411716, 55.354046, 22.445341, 39.4468, 46.296597, 37.722336, 41.265511, 37.348521999999996, 35.290756, 29.703691, 42.849144, 63.08514, 55.103694999999995, 45.995827, 59.863997999999995, 52.825947, 67.037628, 34.578990999999995, 33.43755, 32.230995, 27.303865000000002, 54.861111, 47.173229, 45.466282, 39.011897999999995, 44.375519, 41.904308]}, {\"boxmean\": true, \"marker\": {\"color\": \"#e42c64\"}, \"name\": \"With Fruity\", \"type\": \"box\", \"y\": [52.341465, 34.517681, 36.017628, 24.524988, 42.272076, 39.460556, 43.088924, 39.185505, 46.783348, 57.11974, 51.41243, 42.178771999999995, 28.127439000000003, 41.389557, 39.141056, 52.911392000000006, 46.411716, 55.354046, 22.445341, 39.4468, 41.265511, 37.348521999999996, 35.290756, 42.849144, 63.08514, 55.103694999999995, 45.995827, 59.863997999999995, 52.825947, 67.037628, 34.578990999999995, 27.303865000000002, 54.861111, 48.982651000000004, 47.173229, 45.466282, 39.011897999999995, 44.375519]}, {\"boxmean\": true, \"marker\": {\"color\": \"#e42c64\"}, \"name\": \"Without Fruity\", \"opacity\": 0.6, \"type\": \"box\", \"y\": [66.971725, 67.602936, 32.261086, 46.116505, 50.347546, 56.914547, 23.417824, 38.010963000000004, 38.975037, 34.158958, 55.375454000000005, 62.28448100000001, 56.490501, 59.236121999999995, 57.21925, 76.7686, 71.46505, 66.574585, 55.064071999999996, 73.099556, 60.800701000000004, 64.35334, 47.829754, 54.526451, 70.735641, 66.47068, 46.296597, 69.483788, 37.722336, 81.86625699999999, 84.18029, 73.43499, 72.887901, 65.716286, 29.703691, 34.722, 37.887188, 76.67378199999999, 59.529251, 33.43755, 32.230995, 43.068897, 45.736748, 49.653503, 81.642914, 41.904308, 49.524113]}, {\"boxmean\": true, \"marker\": {\"color\": \"#f3a953\"}, \"name\": \"With Caramel\", \"type\": \"box\", \"y\": [66.971725, 56.914547, 34.517681, 55.064071999999996, 73.099556, 60.800701000000004, 64.35334, 65.716286, 76.67378199999999, 59.529251, 33.43755, 32.230995, 81.642914, 41.904308]}, {\"boxmean\": true, \"marker\": {\"color\": \"#f3a953\"}, \"name\": \"Without Caramel\", \"opacity\": 0.6, \"type\": \"box\", \"y\": [67.602936, 32.261086, 46.116505, 52.341465, 50.347546, 23.417824, 38.010963000000004, 38.975037, 36.017628, 24.524988, 42.272076, 39.460556, 43.088924, 39.185505, 46.783348, 57.11974, 34.158958, 51.41243, 42.178771999999995, 55.375454000000005, 62.28448100000001, 56.490501, 59.236121999999995, 28.127439000000003, 57.21925, 76.7686, 41.389557, 39.141056, 52.911392000000006, 71.46505, 66.574585, 46.411716, 47.829754, 54.526451, 55.354046, 70.735641, 66.47068, 22.445341, 39.4468, 46.296597, 69.483788, 37.722336, 41.265511, 37.348521999999996, 81.86625699999999, 84.18029, 73.43499, 72.887901, 35.290756, 29.703691, 42.849144, 34.722, 63.08514, 55.103694999999995, 37.887188, 45.995827, 59.863997999999995, 52.825947, 67.037628, 34.578990999999995, 27.303865000000002, 54.861111, 48.982651000000004, 43.068897, 45.736748, 49.653503, 47.173229, 45.466282, 39.011897999999995, 44.375519, 49.524113]}, {\"boxmean\": true, \"marker\": {\"color\": \"#58b368\"}, \"name\": \"With Peanutyalmondy\", \"type\": \"box\", \"y\": [50.347546, 56.914547, 23.417824, 71.46505, 54.526451, 70.735641, 46.296597, 69.483788, 81.86625699999999, 84.18029, 73.43499, 72.887901, 76.67378199999999, 59.529251]}, {\"boxmean\": true, \"marker\": {\"color\": \"#58b368\"}, \"name\": \"Without Peanutyalmondy\", \"opacity\": 0.6, \"type\": \"box\", \"y\": [66.971725, 67.602936, 32.261086, 46.116505, 52.341465, 38.010963000000004, 34.517681, 38.975037, 36.017628, 24.524988, 42.272076, 39.460556, 43.088924, 39.185505, 46.783348, 57.11974, 34.158958, 51.41243, 42.178771999999995, 55.375454000000005, 62.28448100000001, 56.490501, 59.236121999999995, 28.127439000000003, 57.21925, 76.7686, 41.389557, 39.141056, 52.911392000000006, 66.574585, 46.411716, 55.064071999999996, 73.099556, 60.800701000000004, 64.35334, 47.829754, 55.354046, 66.47068, 22.445341, 39.4468, 37.722336, 41.265511, 37.348521999999996, 35.290756, 65.716286, 29.703691, 42.849144, 34.722, 63.08514, 55.103694999999995, 37.887188, 45.995827, 59.863997999999995, 52.825947, 67.037628, 34.578990999999995, 33.43755, 32.230995, 27.303865000000002, 54.861111, 48.982651000000004, 43.068897, 45.736748, 49.653503, 47.173229, 81.642914, 45.466282, 39.011897999999995, 44.375519, 41.904308, 49.524113]}, {\"boxmean\": true, \"marker\": {\"color\": \"#373a6d\"}, \"name\": \"With Nougat\", \"type\": \"box\", \"y\": [67.602936, 56.914547, 38.975037, 73.099556, 60.800701000000004, 46.296597, 76.67378199999999]}, {\"boxmean\": true, \"marker\": {\"color\": \"#373a6d\"}, \"name\": \"Without Nougat\", \"opacity\": 0.6, \"type\": \"box\", \"y\": [66.971725, 32.261086, 46.116505, 52.341465, 50.347546, 23.417824, 38.010963000000004, 34.517681, 36.017628, 24.524988, 42.272076, 39.460556, 43.088924, 39.185505, 46.783348, 57.11974, 34.158958, 51.41243, 42.178771999999995, 55.375454000000005, 62.28448100000001, 56.490501, 59.236121999999995, 28.127439000000003, 57.21925, 76.7686, 41.389557, 39.141056, 52.911392000000006, 71.46505, 66.574585, 46.411716, 55.064071999999996, 64.35334, 47.829754, 54.526451, 55.354046, 70.735641, 66.47068, 22.445341, 39.4468, 69.483788, 37.722336, 41.265511, 37.348521999999996, 81.86625699999999, 84.18029, 73.43499, 72.887901, 35.290756, 65.716286, 29.703691, 42.849144, 34.722, 63.08514, 55.103694999999995, 37.887188, 45.995827, 59.529251, 59.863997999999995, 52.825947, 67.037628, 34.578990999999995, 33.43755, 32.230995, 27.303865000000002, 54.861111, 48.982651000000004, 43.068897, 45.736748, 49.653503, 47.173229, 81.642914, 45.466282, 39.011897999999995, 44.375519, 41.904308, 49.524113]}, {\"boxmean\": true, \"marker\": {\"color\": \"#9370db\"}, \"name\": \"With Crispedricewafer\", \"type\": \"box\", \"y\": [66.971725, 62.28448100000001, 76.7686, 66.47068, 59.529251, 81.642914, 49.524113]}, {\"boxmean\": true, \"marker\": {\"color\": \"#9370db\"}, \"name\": \"Without Crispedricewafer\", \"opacity\": 0.6, \"type\": \"box\", \"y\": [67.602936, 32.261086, 46.116505, 52.341465, 50.347546, 56.914547, 23.417824, 38.010963000000004, 34.517681, 38.975037, 36.017628, 24.524988, 42.272076, 39.460556, 43.088924, 39.185505, 46.783348, 57.11974, 34.158958, 51.41243, 42.178771999999995, 55.375454000000005, 56.490501, 59.236121999999995, 28.127439000000003, 57.21925, 41.389557, 39.141056, 52.911392000000006, 71.46505, 66.574585, 46.411716, 55.064071999999996, 73.099556, 60.800701000000004, 64.35334, 47.829754, 54.526451, 55.354046, 70.735641, 22.445341, 39.4468, 46.296597, 69.483788, 37.722336, 41.265511, 37.348521999999996, 81.86625699999999, 84.18029, 73.43499, 72.887901, 35.290756, 65.716286, 29.703691, 42.849144, 34.722, 63.08514, 55.103694999999995, 37.887188, 45.995827, 76.67378199999999, 59.863997999999995, 52.825947, 67.037628, 34.578990999999995, 33.43755, 32.230995, 27.303865000000002, 54.861111, 48.982651000000004, 43.068897, 45.736748, 49.653503, 47.173229, 45.466282, 39.011897999999995, 44.375519, 41.904308]}, {\"boxmean\": true, \"marker\": {\"color\": \"#ff4057\"}, \"name\": \"With Hard\", \"type\": \"box\", \"y\": [39.460556, 39.185505, 46.783348, 28.127439000000003, 39.141056, 55.354046, 41.265511, 35.290756, 29.703691, 42.849144, 45.995827, 34.578990999999995, 48.982651000000004, 39.011897999999995, 41.904308]}, {\"boxmean\": true, \"marker\": {\"color\": \"#ff4057\"}, \"name\": \"Without Hard\", \"opacity\": 0.6, \"type\": \"box\", \"y\": [66.971725, 67.602936, 32.261086, 46.116505, 52.341465, 50.347546, 56.914547, 23.417824, 38.010963000000004, 34.517681, 38.975037, 36.017628, 24.524988, 42.272076, 43.088924, 57.11974, 34.158958, 51.41243, 42.178771999999995, 55.375454000000005, 62.28448100000001, 56.490501, 59.236121999999995, 57.21925, 76.7686, 41.389557, 52.911392000000006, 71.46505, 66.574585, 46.411716, 55.064071999999996, 73.099556, 60.800701000000004, 64.35334, 47.829754, 54.526451, 70.735641, 66.47068, 22.445341, 39.4468, 46.296597, 69.483788, 37.722336, 37.348521999999996, 81.86625699999999, 84.18029, 73.43499, 72.887901, 65.716286, 34.722, 63.08514, 55.103694999999995, 37.887188, 76.67378199999999, 59.529251, 59.863997999999995, 52.825947, 67.037628, 33.43755, 32.230995, 27.303865000000002, 54.861111, 43.068897, 45.736748, 49.653503, 47.173229, 81.642914, 45.466282, 44.375519, 49.524113]}, {\"boxmean\": true, \"marker\": {\"color\": \"#096386\"}, \"name\": \"With Bar\", \"type\": \"box\", \"y\": [66.971725, 67.602936, 50.347546, 56.914547, 38.975037, 62.28448100000001, 56.490501, 59.236121999999995, 76.7686, 73.099556, 60.800701000000004, 64.35334, 47.829754, 54.526451, 70.735641, 66.47068, 46.296597, 76.67378199999999, 59.529251, 49.653503, 81.642914]}, {\"boxmean\": true, \"marker\": {\"color\": \"#096386\"}, \"name\": \"Without Bar\", \"opacity\": 0.6, \"type\": \"box\", \"y\": [32.261086, 46.116505, 52.341465, 23.417824, 38.010963000000004, 34.517681, 36.017628, 24.524988, 42.272076, 39.460556, 43.088924, 39.185505, 46.783348, 57.11974, 34.158958, 51.41243, 42.178771999999995, 55.375454000000005, 28.127439000000003, 57.21925, 41.389557, 39.141056, 52.911392000000006, 71.46505, 66.574585, 46.411716, 55.064071999999996, 55.354046, 22.445341, 39.4468, 69.483788, 37.722336, 41.265511, 37.348521999999996, 81.86625699999999, 84.18029, 73.43499, 72.887901, 35.290756, 65.716286, 29.703691, 42.849144, 34.722, 63.08514, 55.103694999999995, 37.887188, 45.995827, 59.863997999999995, 52.825947, 67.037628, 34.578990999999995, 33.43755, 32.230995, 27.303865000000002, 54.861111, 48.982651000000004, 43.068897, 45.736748, 47.173229, 45.466282, 39.011897999999995, 44.375519, 41.904308, 49.524113]}, {\"marker\": {\"color\": \"#252525\"}, \"mode\": \"lines+markers+text\", \"text\": [\"ss\"], \"textposition\": \"top center\", \"type\": \"scatter\", \"x\": [\"With Chocolate\", \"Without Chocolate\"], \"y\": [87, 87]}, {\"marker\": {\"color\": \"#252525\"}, \"mode\": \"lines+markers+text\", \"text\": [\"ss\"], \"textposition\": \"top center\", \"type\": \"scatter\", \"x\": [\"With Fruity\", \"Without Fruity\"], \"y\": [87, 87]}, {\"marker\": {\"color\": \"#252525\"}, \"mode\": \"lines+markers+text\", \"text\": [\"ss\"], \"textposition\": \"top center\", \"type\": \"scatter\", \"x\": [\"With Caramel\", \"Without Caramel\"], \"y\": [84, 84]}, {\"marker\": {\"color\": \"#252525\"}, \"mode\": \"lines+markers+text\", \"text\": [\"ss\"], \"textposition\": \"top center\", \"type\": \"scatter\", \"x\": [\"With Peanutyalmondy\", \"Without Peanutyalmondy\"], \"y\": [87, 87]}, {\"marker\": {\"color\": \"#252525\"}, \"mode\": \"lines+markers+text\", \"text\": [\"ns\"], \"textposition\": \"top center\", \"type\": \"scatter\", \"x\": [\"With Nougat\", \"Without Nougat\"], \"y\": [87, 87]}, {\"marker\": {\"color\": \"#252525\"}, \"mode\": \"lines+markers+text\", \"text\": [\"ss\"], \"textposition\": \"top center\", \"type\": \"scatter\", \"x\": [\"With Crispedricewafer\", \"Without Crispedricewafer\"], \"y\": [87, 87]}, {\"marker\": {\"color\": \"#252525\"}, \"mode\": \"lines+markers+text\", \"text\": [\"ss\"], \"textposition\": \"top center\", \"type\": \"scatter\", \"x\": [\"With Hard\", \"Without Hard\"], \"y\": [87, 87]}, {\"marker\": {\"color\": \"#252525\"}, \"mode\": \"lines+markers+text\", \"text\": [\"ss\"], \"textposition\": \"top center\", \"type\": \"scatter\", \"x\": [\"With Bar\", \"Without Bar\"], \"y\": [84, 84]}],\n",
       "                        {\"showlegend\": false, \"template\": {\"data\": {\"bar\": [{\"error_x\": {\"color\": \"#2a3f5f\"}, \"error_y\": {\"color\": \"#2a3f5f\"}, \"marker\": {\"line\": {\"color\": \"#E5ECF6\", \"width\": 0.5}}, \"type\": \"bar\"}], \"barpolar\": [{\"marker\": {\"line\": {\"color\": \"#E5ECF6\", \"width\": 0.5}}, \"type\": \"barpolar\"}], \"carpet\": [{\"aaxis\": {\"endlinecolor\": \"#2a3f5f\", \"gridcolor\": \"white\", \"linecolor\": \"white\", \"minorgridcolor\": \"white\", \"startlinecolor\": \"#2a3f5f\"}, \"baxis\": {\"endlinecolor\": \"#2a3f5f\", \"gridcolor\": \"white\", \"linecolor\": \"white\", \"minorgridcolor\": \"white\", \"startlinecolor\": \"#2a3f5f\"}, \"type\": \"carpet\"}], \"choropleth\": [{\"colorbar\": {\"outlinewidth\": 0, \"ticks\": \"\"}, \"type\": \"choropleth\"}], \"contour\": [{\"colorbar\": {\"outlinewidth\": 0, \"ticks\": \"\"}, \"colorscale\": [[0.0, \"#0d0887\"], [0.1111111111111111, \"#46039f\"], [0.2222222222222222, \"#7201a8\"], [0.3333333333333333, \"#9c179e\"], [0.4444444444444444, \"#bd3786\"], [0.5555555555555556, \"#d8576b\"], [0.6666666666666666, \"#ed7953\"], [0.7777777777777778, \"#fb9f3a\"], [0.8888888888888888, \"#fdca26\"], [1.0, \"#f0f921\"]], \"type\": \"contour\"}], \"contourcarpet\": [{\"colorbar\": {\"outlinewidth\": 0, \"ticks\": \"\"}, \"type\": \"contourcarpet\"}], \"heatmap\": [{\"colorbar\": {\"outlinewidth\": 0, \"ticks\": \"\"}, \"colorscale\": [[0.0, \"#0d0887\"], [0.1111111111111111, \"#46039f\"], [0.2222222222222222, \"#7201a8\"], [0.3333333333333333, \"#9c179e\"], [0.4444444444444444, \"#bd3786\"], [0.5555555555555556, \"#d8576b\"], [0.6666666666666666, \"#ed7953\"], [0.7777777777777778, \"#fb9f3a\"], [0.8888888888888888, \"#fdca26\"], [1.0, \"#f0f921\"]], \"type\": \"heatmap\"}], \"heatmapgl\": [{\"colorbar\": {\"outlinewidth\": 0, \"ticks\": \"\"}, \"colorscale\": [[0.0, \"#0d0887\"], [0.1111111111111111, \"#46039f\"], [0.2222222222222222, \"#7201a8\"], [0.3333333333333333, \"#9c179e\"], [0.4444444444444444, \"#bd3786\"], [0.5555555555555556, \"#d8576b\"], [0.6666666666666666, \"#ed7953\"], [0.7777777777777778, \"#fb9f3a\"], [0.8888888888888888, \"#fdca26\"], [1.0, \"#f0f921\"]], \"type\": \"heatmapgl\"}], \"histogram\": [{\"marker\": {\"colorbar\": {\"outlinewidth\": 0, \"ticks\": \"\"}}, \"type\": \"histogram\"}], \"histogram2d\": [{\"colorbar\": {\"outlinewidth\": 0, \"ticks\": \"\"}, \"colorscale\": [[0.0, \"#0d0887\"], [0.1111111111111111, \"#46039f\"], [0.2222222222222222, \"#7201a8\"], [0.3333333333333333, \"#9c179e\"], [0.4444444444444444, \"#bd3786\"], [0.5555555555555556, \"#d8576b\"], [0.6666666666666666, \"#ed7953\"], [0.7777777777777778, \"#fb9f3a\"], [0.8888888888888888, \"#fdca26\"], [1.0, \"#f0f921\"]], \"type\": \"histogram2d\"}], \"histogram2dcontour\": [{\"colorbar\": {\"outlinewidth\": 0, \"ticks\": \"\"}, \"colorscale\": [[0.0, \"#0d0887\"], [0.1111111111111111, \"#46039f\"], [0.2222222222222222, \"#7201a8\"], [0.3333333333333333, \"#9c179e\"], [0.4444444444444444, \"#bd3786\"], [0.5555555555555556, \"#d8576b\"], [0.6666666666666666, \"#ed7953\"], [0.7777777777777778, \"#fb9f3a\"], [0.8888888888888888, \"#fdca26\"], [1.0, \"#f0f921\"]], \"type\": \"histogram2dcontour\"}], \"mesh3d\": [{\"colorbar\": {\"outlinewidth\": 0, \"ticks\": \"\"}, \"type\": \"mesh3d\"}], \"parcoords\": [{\"line\": {\"colorbar\": {\"outlinewidth\": 0, \"ticks\": \"\"}}, \"type\": \"parcoords\"}], \"scatter\": [{\"marker\": {\"colorbar\": {\"outlinewidth\": 0, \"ticks\": \"\"}}, \"type\": \"scatter\"}], \"scatter3d\": [{\"line\": {\"colorbar\": {\"outlinewidth\": 0, \"ticks\": \"\"}}, \"marker\": {\"colorbar\": {\"outlinewidth\": 0, \"ticks\": \"\"}}, \"type\": \"scatter3d\"}], \"scattercarpet\": [{\"marker\": {\"colorbar\": {\"outlinewidth\": 0, \"ticks\": \"\"}}, \"type\": \"scattercarpet\"}], \"scattergeo\": [{\"marker\": {\"colorbar\": {\"outlinewidth\": 0, \"ticks\": \"\"}}, \"type\": \"scattergeo\"}], \"scattergl\": [{\"marker\": {\"colorbar\": {\"outlinewidth\": 0, \"ticks\": \"\"}}, \"type\": \"scattergl\"}], \"scattermapbox\": [{\"marker\": {\"colorbar\": {\"outlinewidth\": 0, \"ticks\": \"\"}}, \"type\": \"scattermapbox\"}], \"scatterpolar\": [{\"marker\": {\"colorbar\": {\"outlinewidth\": 0, \"ticks\": \"\"}}, \"type\": \"scatterpolar\"}], \"scatterpolargl\": [{\"marker\": {\"colorbar\": {\"outlinewidth\": 0, \"ticks\": \"\"}}, \"type\": \"scatterpolargl\"}], \"scatterternary\": [{\"marker\": {\"colorbar\": {\"outlinewidth\": 0, \"ticks\": \"\"}}, \"type\": \"scatterternary\"}], \"surface\": [{\"colorbar\": {\"outlinewidth\": 0, \"ticks\": \"\"}, \"colorscale\": [[0.0, \"#0d0887\"], [0.1111111111111111, \"#46039f\"], [0.2222222222222222, \"#7201a8\"], [0.3333333333333333, \"#9c179e\"], [0.4444444444444444, \"#bd3786\"], [0.5555555555555556, \"#d8576b\"], [0.6666666666666666, \"#ed7953\"], [0.7777777777777778, \"#fb9f3a\"], [0.8888888888888888, \"#fdca26\"], [1.0, \"#f0f921\"]], \"type\": \"surface\"}], \"table\": [{\"cells\": {\"fill\": {\"color\": \"#EBF0F8\"}, \"line\": {\"color\": \"white\"}}, \"header\": {\"fill\": {\"color\": \"#C8D4E3\"}, \"line\": {\"color\": \"white\"}}, \"type\": \"table\"}]}, \"layout\": {\"annotationdefaults\": {\"arrowcolor\": \"#2a3f5f\", \"arrowhead\": 0, \"arrowwidth\": 1}, \"colorscale\": {\"diverging\": [[0, \"#8e0152\"], [0.1, \"#c51b7d\"], [0.2, \"#de77ae\"], [0.3, \"#f1b6da\"], [0.4, \"#fde0ef\"], [0.5, \"#f7f7f7\"], [0.6, \"#e6f5d0\"], [0.7, \"#b8e186\"], [0.8, \"#7fbc41\"], [0.9, \"#4d9221\"], [1, \"#276419\"]], \"sequential\": [[0.0, \"#0d0887\"], [0.1111111111111111, \"#46039f\"], [0.2222222222222222, \"#7201a8\"], [0.3333333333333333, \"#9c179e\"], [0.4444444444444444, \"#bd3786\"], [0.5555555555555556, \"#d8576b\"], [0.6666666666666666, \"#ed7953\"], [0.7777777777777778, \"#fb9f3a\"], [0.8888888888888888, \"#fdca26\"], [1.0, \"#f0f921\"]], \"sequentialminus\": [[0.0, \"#0d0887\"], [0.1111111111111111, \"#46039f\"], [0.2222222222222222, \"#7201a8\"], [0.3333333333333333, \"#9c179e\"], [0.4444444444444444, \"#bd3786\"], [0.5555555555555556, \"#d8576b\"], [0.6666666666666666, \"#ed7953\"], [0.7777777777777778, \"#fb9f3a\"], [0.8888888888888888, \"#fdca26\"], [1.0, \"#f0f921\"]]}, \"colorway\": [\"#636efa\", \"#EF553B\", \"#00cc96\", \"#ab63fa\", \"#FFA15A\", \"#19d3f3\", \"#FF6692\", \"#B6E880\", \"#FF97FF\", \"#FECB52\"], \"font\": {\"color\": \"#2a3f5f\"}, \"geo\": {\"bgcolor\": \"white\", \"lakecolor\": \"white\", \"landcolor\": \"#E5ECF6\", \"showlakes\": true, \"showland\": true, \"subunitcolor\": \"white\"}, \"hoverlabel\": {\"align\": \"left\"}, \"hovermode\": \"closest\", \"mapbox\": {\"style\": \"light\"}, \"paper_bgcolor\": \"white\", \"plot_bgcolor\": \"#E5ECF6\", \"polar\": {\"angularaxis\": {\"gridcolor\": \"white\", \"linecolor\": \"white\", \"ticks\": \"\"}, \"bgcolor\": \"#E5ECF6\", \"radialaxis\": {\"gridcolor\": \"white\", \"linecolor\": \"white\", \"ticks\": \"\"}}, \"scene\": {\"xaxis\": {\"backgroundcolor\": \"#E5ECF6\", \"gridcolor\": \"white\", \"gridwidth\": 2, \"linecolor\": \"white\", \"showbackground\": true, \"ticks\": \"\", \"zerolinecolor\": \"white\"}, \"yaxis\": {\"backgroundcolor\": \"#E5ECF6\", \"gridcolor\": \"white\", \"gridwidth\": 2, \"linecolor\": \"white\", \"showbackground\": true, \"ticks\": \"\", \"zerolinecolor\": \"white\"}, \"zaxis\": {\"backgroundcolor\": \"#E5ECF6\", \"gridcolor\": \"white\", \"gridwidth\": 2, \"linecolor\": \"white\", \"showbackground\": true, \"ticks\": \"\", \"zerolinecolor\": \"white\"}}, \"shapedefaults\": {\"line\": {\"color\": \"#2a3f5f\"}}, \"ternary\": {\"aaxis\": {\"gridcolor\": \"white\", \"linecolor\": \"white\", \"ticks\": \"\"}, \"baxis\": {\"gridcolor\": \"white\", \"linecolor\": \"white\", \"ticks\": \"\"}, \"bgcolor\": \"#E5ECF6\", \"caxis\": {\"gridcolor\": \"white\", \"linecolor\": \"white\", \"ticks\": \"\"}}, \"title\": {\"x\": 0.05}, \"xaxis\": {\"automargin\": true, \"gridcolor\": \"white\", \"linecolor\": \"white\", \"ticks\": \"\", \"zerolinecolor\": \"white\", \"zerolinewidth\": 2}, \"yaxis\": {\"automargin\": true, \"gridcolor\": \"white\", \"linecolor\": \"white\", \"ticks\": \"\", \"zerolinecolor\": \"white\", \"zerolinewidth\": 2}}}, \"title\": {\"text\": \"Win percent box plot\"}, \"yaxis\": {\"title\": {\"text\": \"Percentage\"}, \"zeroline\": false}},\n",
       "                        {\"responsive\": true}\n",
       "                    ).then(function(){\n",
       "                            \n",
       "var gd = document.getElementById('132756a1-cc83-429a-a080-2b4194b3feaf');\n",
       "var x = new MutationObserver(function (mutations, observer) {{\n",
       "        var display = window.getComputedStyle(gd).display;\n",
       "        if (!display || display === 'none') {{\n",
       "            console.log([gd, 'removed!']);\n",
       "            Plotly.purge(gd);\n",
       "            observer.disconnect();\n",
       "        }}\n",
       "}});\n",
       "\n",
       "// Listen for the removal of the full notebook cells\n",
       "var notebookContainer = gd.closest('#notebook-container');\n",
       "if (notebookContainer) {{\n",
       "    x.observe(notebookContainer, {childList: true});\n",
       "}}\n",
       "\n",
       "// Listen for the clearing of the current output cell\n",
       "var outputEl = gd.closest('.output');\n",
       "if (outputEl) {{\n",
       "    x.observe(outputEl, {childList: true});\n",
       "}}\n",
       "\n",
       "                        })\n",
       "                };\n",
       "                });\n",
       "            </script>\n",
       "        </div>"
      ]
     },
     "metadata": {},
     "output_type": "display_data"
    }
   ],
   "source": [
    "def win_ss():\n",
    "    y = [df[df.chocolate == 1].winpercent, df[df.chocolate == 0].winpercent, df[df.fruity == 1].winpercent, df[df.fruity == 0].winpercent, df[df.caramel == 1].winpercent, df[df.caramel == 0].winpercent,\n",
    "          df[df.peanutyalmondy == 1].winpercent, df[df.peanutyalmondy == 0].winpercent, df[df.nougat == 1].winpercent, df[df.nougat == 0].winpercent, df[df.crispedricewafer == 1].winpercent, df[df.crispedricewafer == 0].winpercent,\n",
    "          df[df.hard == 1].winpercent, df[df.hard == 0].winpercent, df[df.bar == 1].winpercent, df[df.bar == 0].winpercent]\n",
    "    trace0 = go.Box(\n",
    "        boxmean=True,\n",
    "        y=y[0],\n",
    "        name='With Chocolate',\n",
    "        marker=dict(\n",
    "            color='#8b4513'\n",
    "        )\n",
    "    )\n",
    "    trace1 = go.Box(\n",
    "        boxmean=True,\n",
    "        y=y[1],\n",
    "        name='Without Chocolate',\n",
    "        opacity=0.6,\n",
    "        marker=dict(\n",
    "            color='#8b4513'\n",
    "\n",
    "        )\n",
    "    )\n",
    "    trace2 = go.Box(\n",
    "        boxmean=True,\n",
    "        y=y[2],\n",
    "        name='With Fruity',\n",
    "        marker=dict(\n",
    "            color='#e42c64'\n",
    "        )\n",
    "    )\n",
    "    trace3 = go.Box(\n",
    "        boxmean=True,\n",
    "        y=y[3],\n",
    "        name='Without Fruity',\n",
    "        opacity=0.6,\n",
    "        marker=dict(\n",
    "            color='#e42c64'\n",
    "        )\n",
    "    )\n",
    "    trace4 = go.Box(\n",
    "        boxmean=True,\n",
    "        y=y[4],\n",
    "        name='With Caramel',\n",
    "        marker=dict(\n",
    "            color='#f3a953'\n",
    "        )\n",
    "    )\n",
    "    trace5 = go.Box(\n",
    "        boxmean=True,\n",
    "        y=y[5],\n",
    "        name='Without Caramel',\n",
    "        opacity=0.6,\n",
    "        marker=dict(\n",
    "            color='#f3a953'\n",
    "        )\n",
    "    )\n",
    "    trace6 = go.Box(\n",
    "        boxmean=True,\n",
    "        y=y[6],\n",
    "        name='With Peanutyalmondy',\n",
    "        marker=dict(\n",
    "            color='#58b368'\n",
    "        )\n",
    "    )\n",
    "    trace7 = go.Box(\n",
    "        boxmean=True,\n",
    "        y=y[7],\n",
    "        name='Without Peanutyalmondy',\n",
    "        opacity=0.6,\n",
    "        marker=dict(\n",
    "            color='#58b368'\n",
    "        )\n",
    "    )\n",
    "    trace8 = go.Box(\n",
    "        boxmean=True,\n",
    "        y=y[8],\n",
    "        name='With Nougat',\n",
    "        marker=dict(\n",
    "            color='#373a6d'\n",
    "        )\n",
    "    )\n",
    "    trace9 = go.Box(\n",
    "        boxmean=True,\n",
    "        y=y[9],\n",
    "        name='Without Nougat',\n",
    "        opacity=0.6,\n",
    "        marker=dict(\n",
    "            color='#373a6d'\n",
    "        )\n",
    "    )\n",
    "    trace10 = go.Box(\n",
    "        boxmean=True,\n",
    "        y=y[10],\n",
    "        name='With Crispedricewafer',\n",
    "        marker=dict(\n",
    "            color='#9370db'\n",
    "        )\n",
    "    )\n",
    "    trace11 = go.Box(\n",
    "        boxmean=True,\n",
    "        y=y[11],\n",
    "        name='Without Crispedricewafer',\n",
    "        opacity=0.6,\n",
    "        marker=dict(\n",
    "            color='#9370db'\n",
    "        )\n",
    "    )\n",
    "    trace12 = go.Box(\n",
    "        boxmean=True,\n",
    "        y=y[12],\n",
    "        name='With Hard',\n",
    "        marker=dict(\n",
    "            color='#ff4057'\n",
    "        )\n",
    "    )\n",
    "    trace13 = go.Box(\n",
    "        boxmean=True,\n",
    "        y=y[13],\n",
    "        name='Without Hard',\n",
    "        opacity=0.6,\n",
    "        marker=dict(\n",
    "            color='#ff4057'\n",
    "        )\n",
    "    )\n",
    "    trace14 = go.Box(\n",
    "        boxmean=True,\n",
    "        y=y[14],\n",
    "        name='With Bar',\n",
    "        marker=dict(\n",
    "            color='#096386'\n",
    "        )\n",
    "    )\n",
    "    trace15 = go.Box(\n",
    "        boxmean=True,\n",
    "        y=y[15],\n",
    "        name='Without Bar',\n",
    "        opacity=0.6,\n",
    "        marker=dict(\n",
    "            color='#096386'\n",
    "        )\n",
    "    )\n",
    "    trace16 = go.Scatter(\n",
    "        x=['With Chocolate', 'Without Chocolate' ],\n",
    "        y=[87,87],\n",
    "        mode='lines+markers+text',\n",
    "        text=[winpercent_p_val[0]],\n",
    "        textposition='top center',\n",
    "        marker=dict(\n",
    "            color='#252525'\n",
    "        )\n",
    "    )\n",
    "\n",
    "    trace17 = go.Scatter(\n",
    "    x=['With Fruity', 'Without Fruity' ],\n",
    "    y=[87,87],\n",
    "    mode='lines+markers+text',\n",
    "    text=[winpercent_p_val[1]],\n",
    "    textposition='top center',\n",
    "\n",
    "    marker=dict(\n",
    "        color='#252525'\n",
    "    )\n",
    "    )\n",
    "    trace18 = go.Scatter(\n",
    "        x=['With Caramel', 'Without Caramel' ],\n",
    "        y=[84,84],\n",
    "        mode='lines+markers+text',\n",
    "        text=[winpercent_p_val[2]],\n",
    "        textposition='top center',\n",
    "            marker=dict(\n",
    "            color='#252525'\n",
    "        )\n",
    "    )\n",
    "\n",
    "    trace19 = go.Scatter(\n",
    "    x=['With Peanutyalmondy', 'Without Peanutyalmondy' ],\n",
    "    y=[87,87],\n",
    "    mode='lines+markers+text',\n",
    "    text=[winpercent_p_val[3]],\n",
    "    textposition='top center',\n",
    "\n",
    "    marker=dict(\n",
    "        color='#252525'\n",
    "    )\n",
    "    )\n",
    "    trace20 = go.Scatter(\n",
    "        x=['With Nougat', 'Without Nougat' ],\n",
    "        y=[87,87],\n",
    "        mode='lines+markers+text',\n",
    "        text=[winpercent_p_val[4]],\n",
    "        textposition='top center',\n",
    "        marker=dict(\n",
    "            color='#252525'\n",
    "        )\n",
    "    )\n",
    "\n",
    "    trace21 = go.Scatter(\n",
    "    x=['With Crispedricewafer', 'Without Crispedricewafer' ],\n",
    "    y=[87,87],\n",
    "    mode='lines+markers+text',\n",
    "    text=[winpercent_p_val[5]],\n",
    "    textposition='top center',\n",
    "\n",
    "    marker=dict(\n",
    "        color='#252525'\n",
    "    )\n",
    "    )\n",
    "    trace22 = go.Scatter(\n",
    "        x=['With Hard', 'Without Hard' ],\n",
    "        y=[87,87],\n",
    "        mode='lines+markers+text',\n",
    "        text=[winpercent_p_val[6]],\n",
    "        textposition='top center',\n",
    "        marker=dict(\n",
    "            color='#252525'\n",
    "        )\n",
    "    )\n",
    "\n",
    "    trace23 = go.Scatter(\n",
    "    x=['With Bar', 'Without Bar' ],\n",
    "    y=[84,84],\n",
    "    mode='lines+markers+text',\n",
    "    text=[winpercent_p_val[7]],\n",
    "    textposition='top center',\n",
    "    marker=dict(\n",
    "        color='#252525'\n",
    "\n",
    "    )\n",
    "    )\n",
    "\n",
    "    data = [trace0, trace1, trace2, trace3, trace4, trace5, trace6, trace7, trace8, trace9, trace10, trace11, trace12, trace13, trace14, trace15, trace16, trace17, trace18, trace19, trace20, trace21, trace22, trace23]\n",
    "    layout = go.Layout(\n",
    "        showlegend=False,\n",
    "        title='Win percent box plot',\n",
    "        yaxis=dict(\n",
    "            title='Percentage',\n",
    "            zeroline=False\n",
    "\n",
    "        )    \n",
    "    )\n",
    "    fig = go.Figure(data=data, layout=layout)\n",
    "    return(fig)\n",
    "py.offline.iplot(win_ss())"
   ]
  },
  {
   "cell_type": "markdown",
   "metadata": {},
   "source": [
    "**Inference: ss stands for statistically significant(i.e p value <= 0.05) and ns stands for not significant (i.e p value > 0.5). <br>\n",
    "The following points can be infered from the above box plot:**\n",
    "    1. Having chocolate as a content in the candy is statistically significant which implies that there is a significant difference in the means of winning percentage of candies with and without chocolates. Hence we can finally infer that chocolate as a content of candy increases the winning percent of the candy.\n",
    "    2. The p value of fruity content is statistically significant with respect to winning percent and from the above plot we can infer that a candy without having fruity content has a higher chances of winning percentage.\n",
    "    3. The p value of caramel content is statistically significant with respect to winning percent and from the above plot we can infer that a candy with having caramel content has a higher chances of winning percentage.\n",
    "    4. The p value of peanutyalmondy content is statistically significant with respect to winning percent and from the above plot we can infer that a candy with having peanutyalmondy content has a higher chances of winning percentage.\n",
    "    5. The p value of nougat is nt significant hence we cannot infer anything for nougat content candies.\n",
    "    6. The p value of crispedricewafer content is statistically significant with respect to winning percent and from the above plot we can infer that a candy with having crispedricewafer content has a higher chances of winning percentage.\n",
    "    7. The p value of hard candies is statistically significant with respect to winning percent and from the above plot we can infer that a candy without hard type has a higher chances of winning percentage.\n",
    "    8. The p value of bar candies is statistically significant with respect to winning percent and from the above plot we can infer that a candy with bar type has a higher chances of winning percentage.**\n"
   ]
  },
  {
   "cell_type": "markdown",
   "metadata": {},
   "source": [
    "# 3. Statistical hypothesis test for price percent"
   ]
  },
  {
   "cell_type": "markdown",
   "metadata": {},
   "source": [
    "## 3.1.To analyze the effect on price percentage on the basis of content of the candies. Bar chart depicts how price percentage is effected with/without the presence of that content in the candy."
   ]
  },
  {
   "cell_type": "code",
   "execution_count": 22,
   "metadata": {},
   "outputs": [
    {
     "data": {
      "application/vnd.plotly.v1+json": {
       "config": {
        "linkText": "Export to plot.ly",
        "plotlyServerURL": "https://plot.ly",
        "showLink": false
       },
       "data": [
        {
         "marker": {
          "color": "#1b7fbd"
         },
         "name": "With",
         "type": "bar",
         "x": [
          "Chocolate",
          "Fruity",
          "Caramel",
          "Peanutyalmondy",
          "Nougat",
          "Crispedricewafer",
          "Hard",
          "Bar"
         ],
         "y": [
          0.6321621654594596,
          0.3327368384736843,
          0.6315714364285715,
          0.6666428707142856,
          0.6141428642857143,
          0.78014286,
          0.3189333292,
          0.7259523842857142
         ]
        },
        {
         "marker": {
          "color": "#f96d15"
         },
         "name": "Without",
         "type": "bar",
         "x": [
          "Chocolate",
          "Fruity",
          "Caramel",
          "Peanutyalmondy",
          "Nougat",
          "Crispedricewafer",
          "Hard",
          "Bar"
         ],
         "y": [
          0.34302083,
          0.5789574489361704,
          0.43680281481690136,
          0.42988732073239416,
          0.45584615271794876,
          0.4409487172051284,
          0.501014286057143,
          0.38453124831249985
         ]
        }
       ],
       "layout": {
        "barmode": "group",
        "template": {
         "data": {
          "bar": [
           {
            "error_x": {
             "color": "#2a3f5f"
            },
            "error_y": {
             "color": "#2a3f5f"
            },
            "marker": {
             "line": {
              "color": "#E5ECF6",
              "width": 0.5
             }
            },
            "type": "bar"
           }
          ],
          "barpolar": [
           {
            "marker": {
             "line": {
              "color": "#E5ECF6",
              "width": 0.5
             }
            },
            "type": "barpolar"
           }
          ],
          "carpet": [
           {
            "aaxis": {
             "endlinecolor": "#2a3f5f",
             "gridcolor": "white",
             "linecolor": "white",
             "minorgridcolor": "white",
             "startlinecolor": "#2a3f5f"
            },
            "baxis": {
             "endlinecolor": "#2a3f5f",
             "gridcolor": "white",
             "linecolor": "white",
             "minorgridcolor": "white",
             "startlinecolor": "#2a3f5f"
            },
            "type": "carpet"
           }
          ],
          "choropleth": [
           {
            "colorbar": {
             "outlinewidth": 0,
             "ticks": ""
            },
            "type": "choropleth"
           }
          ],
          "contour": [
           {
            "colorbar": {
             "outlinewidth": 0,
             "ticks": ""
            },
            "colorscale": [
             [
              0,
              "#0d0887"
             ],
             [
              0.1111111111111111,
              "#46039f"
             ],
             [
              0.2222222222222222,
              "#7201a8"
             ],
             [
              0.3333333333333333,
              "#9c179e"
             ],
             [
              0.4444444444444444,
              "#bd3786"
             ],
             [
              0.5555555555555556,
              "#d8576b"
             ],
             [
              0.6666666666666666,
              "#ed7953"
             ],
             [
              0.7777777777777778,
              "#fb9f3a"
             ],
             [
              0.8888888888888888,
              "#fdca26"
             ],
             [
              1,
              "#f0f921"
             ]
            ],
            "type": "contour"
           }
          ],
          "contourcarpet": [
           {
            "colorbar": {
             "outlinewidth": 0,
             "ticks": ""
            },
            "type": "contourcarpet"
           }
          ],
          "heatmap": [
           {
            "colorbar": {
             "outlinewidth": 0,
             "ticks": ""
            },
            "colorscale": [
             [
              0,
              "#0d0887"
             ],
             [
              0.1111111111111111,
              "#46039f"
             ],
             [
              0.2222222222222222,
              "#7201a8"
             ],
             [
              0.3333333333333333,
              "#9c179e"
             ],
             [
              0.4444444444444444,
              "#bd3786"
             ],
             [
              0.5555555555555556,
              "#d8576b"
             ],
             [
              0.6666666666666666,
              "#ed7953"
             ],
             [
              0.7777777777777778,
              "#fb9f3a"
             ],
             [
              0.8888888888888888,
              "#fdca26"
             ],
             [
              1,
              "#f0f921"
             ]
            ],
            "type": "heatmap"
           }
          ],
          "heatmapgl": [
           {
            "colorbar": {
             "outlinewidth": 0,
             "ticks": ""
            },
            "colorscale": [
             [
              0,
              "#0d0887"
             ],
             [
              0.1111111111111111,
              "#46039f"
             ],
             [
              0.2222222222222222,
              "#7201a8"
             ],
             [
              0.3333333333333333,
              "#9c179e"
             ],
             [
              0.4444444444444444,
              "#bd3786"
             ],
             [
              0.5555555555555556,
              "#d8576b"
             ],
             [
              0.6666666666666666,
              "#ed7953"
             ],
             [
              0.7777777777777778,
              "#fb9f3a"
             ],
             [
              0.8888888888888888,
              "#fdca26"
             ],
             [
              1,
              "#f0f921"
             ]
            ],
            "type": "heatmapgl"
           }
          ],
          "histogram": [
           {
            "marker": {
             "colorbar": {
              "outlinewidth": 0,
              "ticks": ""
             }
            },
            "type": "histogram"
           }
          ],
          "histogram2d": [
           {
            "colorbar": {
             "outlinewidth": 0,
             "ticks": ""
            },
            "colorscale": [
             [
              0,
              "#0d0887"
             ],
             [
              0.1111111111111111,
              "#46039f"
             ],
             [
              0.2222222222222222,
              "#7201a8"
             ],
             [
              0.3333333333333333,
              "#9c179e"
             ],
             [
              0.4444444444444444,
              "#bd3786"
             ],
             [
              0.5555555555555556,
              "#d8576b"
             ],
             [
              0.6666666666666666,
              "#ed7953"
             ],
             [
              0.7777777777777778,
              "#fb9f3a"
             ],
             [
              0.8888888888888888,
              "#fdca26"
             ],
             [
              1,
              "#f0f921"
             ]
            ],
            "type": "histogram2d"
           }
          ],
          "histogram2dcontour": [
           {
            "colorbar": {
             "outlinewidth": 0,
             "ticks": ""
            },
            "colorscale": [
             [
              0,
              "#0d0887"
             ],
             [
              0.1111111111111111,
              "#46039f"
             ],
             [
              0.2222222222222222,
              "#7201a8"
             ],
             [
              0.3333333333333333,
              "#9c179e"
             ],
             [
              0.4444444444444444,
              "#bd3786"
             ],
             [
              0.5555555555555556,
              "#d8576b"
             ],
             [
              0.6666666666666666,
              "#ed7953"
             ],
             [
              0.7777777777777778,
              "#fb9f3a"
             ],
             [
              0.8888888888888888,
              "#fdca26"
             ],
             [
              1,
              "#f0f921"
             ]
            ],
            "type": "histogram2dcontour"
           }
          ],
          "mesh3d": [
           {
            "colorbar": {
             "outlinewidth": 0,
             "ticks": ""
            },
            "type": "mesh3d"
           }
          ],
          "parcoords": [
           {
            "line": {
             "colorbar": {
              "outlinewidth": 0,
              "ticks": ""
             }
            },
            "type": "parcoords"
           }
          ],
          "scatter": [
           {
            "marker": {
             "colorbar": {
              "outlinewidth": 0,
              "ticks": ""
             }
            },
            "type": "scatter"
           }
          ],
          "scatter3d": [
           {
            "line": {
             "colorbar": {
              "outlinewidth": 0,
              "ticks": ""
             }
            },
            "marker": {
             "colorbar": {
              "outlinewidth": 0,
              "ticks": ""
             }
            },
            "type": "scatter3d"
           }
          ],
          "scattercarpet": [
           {
            "marker": {
             "colorbar": {
              "outlinewidth": 0,
              "ticks": ""
             }
            },
            "type": "scattercarpet"
           }
          ],
          "scattergeo": [
           {
            "marker": {
             "colorbar": {
              "outlinewidth": 0,
              "ticks": ""
             }
            },
            "type": "scattergeo"
           }
          ],
          "scattergl": [
           {
            "marker": {
             "colorbar": {
              "outlinewidth": 0,
              "ticks": ""
             }
            },
            "type": "scattergl"
           }
          ],
          "scattermapbox": [
           {
            "marker": {
             "colorbar": {
              "outlinewidth": 0,
              "ticks": ""
             }
            },
            "type": "scattermapbox"
           }
          ],
          "scatterpolar": [
           {
            "marker": {
             "colorbar": {
              "outlinewidth": 0,
              "ticks": ""
             }
            },
            "type": "scatterpolar"
           }
          ],
          "scatterpolargl": [
           {
            "marker": {
             "colorbar": {
              "outlinewidth": 0,
              "ticks": ""
             }
            },
            "type": "scatterpolargl"
           }
          ],
          "scatterternary": [
           {
            "marker": {
             "colorbar": {
              "outlinewidth": 0,
              "ticks": ""
             }
            },
            "type": "scatterternary"
           }
          ],
          "surface": [
           {
            "colorbar": {
             "outlinewidth": 0,
             "ticks": ""
            },
            "colorscale": [
             [
              0,
              "#0d0887"
             ],
             [
              0.1111111111111111,
              "#46039f"
             ],
             [
              0.2222222222222222,
              "#7201a8"
             ],
             [
              0.3333333333333333,
              "#9c179e"
             ],
             [
              0.4444444444444444,
              "#bd3786"
             ],
             [
              0.5555555555555556,
              "#d8576b"
             ],
             [
              0.6666666666666666,
              "#ed7953"
             ],
             [
              0.7777777777777778,
              "#fb9f3a"
             ],
             [
              0.8888888888888888,
              "#fdca26"
             ],
             [
              1,
              "#f0f921"
             ]
            ],
            "type": "surface"
           }
          ],
          "table": [
           {
            "cells": {
             "fill": {
              "color": "#EBF0F8"
             },
             "line": {
              "color": "white"
             }
            },
            "header": {
             "fill": {
              "color": "#C8D4E3"
             },
             "line": {
              "color": "white"
             }
            },
            "type": "table"
           }
          ]
         },
         "layout": {
          "annotationdefaults": {
           "arrowcolor": "#2a3f5f",
           "arrowhead": 0,
           "arrowwidth": 1
          },
          "colorscale": {
           "diverging": [
            [
             0,
             "#8e0152"
            ],
            [
             0.1,
             "#c51b7d"
            ],
            [
             0.2,
             "#de77ae"
            ],
            [
             0.3,
             "#f1b6da"
            ],
            [
             0.4,
             "#fde0ef"
            ],
            [
             0.5,
             "#f7f7f7"
            ],
            [
             0.6,
             "#e6f5d0"
            ],
            [
             0.7,
             "#b8e186"
            ],
            [
             0.8,
             "#7fbc41"
            ],
            [
             0.9,
             "#4d9221"
            ],
            [
             1,
             "#276419"
            ]
           ],
           "sequential": [
            [
             0,
             "#0d0887"
            ],
            [
             0.1111111111111111,
             "#46039f"
            ],
            [
             0.2222222222222222,
             "#7201a8"
            ],
            [
             0.3333333333333333,
             "#9c179e"
            ],
            [
             0.4444444444444444,
             "#bd3786"
            ],
            [
             0.5555555555555556,
             "#d8576b"
            ],
            [
             0.6666666666666666,
             "#ed7953"
            ],
            [
             0.7777777777777778,
             "#fb9f3a"
            ],
            [
             0.8888888888888888,
             "#fdca26"
            ],
            [
             1,
             "#f0f921"
            ]
           ],
           "sequentialminus": [
            [
             0,
             "#0d0887"
            ],
            [
             0.1111111111111111,
             "#46039f"
            ],
            [
             0.2222222222222222,
             "#7201a8"
            ],
            [
             0.3333333333333333,
             "#9c179e"
            ],
            [
             0.4444444444444444,
             "#bd3786"
            ],
            [
             0.5555555555555556,
             "#d8576b"
            ],
            [
             0.6666666666666666,
             "#ed7953"
            ],
            [
             0.7777777777777778,
             "#fb9f3a"
            ],
            [
             0.8888888888888888,
             "#fdca26"
            ],
            [
             1,
             "#f0f921"
            ]
           ]
          },
          "colorway": [
           "#636efa",
           "#EF553B",
           "#00cc96",
           "#ab63fa",
           "#FFA15A",
           "#19d3f3",
           "#FF6692",
           "#B6E880",
           "#FF97FF",
           "#FECB52"
          ],
          "font": {
           "color": "#2a3f5f"
          },
          "geo": {
           "bgcolor": "white",
           "lakecolor": "white",
           "landcolor": "#E5ECF6",
           "showlakes": true,
           "showland": true,
           "subunitcolor": "white"
          },
          "hoverlabel": {
           "align": "left"
          },
          "hovermode": "closest",
          "mapbox": {
           "style": "light"
          },
          "paper_bgcolor": "white",
          "plot_bgcolor": "#E5ECF6",
          "polar": {
           "angularaxis": {
            "gridcolor": "white",
            "linecolor": "white",
            "ticks": ""
           },
           "bgcolor": "#E5ECF6",
           "radialaxis": {
            "gridcolor": "white",
            "linecolor": "white",
            "ticks": ""
           }
          },
          "scene": {
           "xaxis": {
            "backgroundcolor": "#E5ECF6",
            "gridcolor": "white",
            "gridwidth": 2,
            "linecolor": "white",
            "showbackground": true,
            "ticks": "",
            "zerolinecolor": "white"
           },
           "yaxis": {
            "backgroundcolor": "#E5ECF6",
            "gridcolor": "white",
            "gridwidth": 2,
            "linecolor": "white",
            "showbackground": true,
            "ticks": "",
            "zerolinecolor": "white"
           },
           "zaxis": {
            "backgroundcolor": "#E5ECF6",
            "gridcolor": "white",
            "gridwidth": 2,
            "linecolor": "white",
            "showbackground": true,
            "ticks": "",
            "zerolinecolor": "white"
           }
          },
          "shapedefaults": {
           "line": {
            "color": "#2a3f5f"
           }
          },
          "ternary": {
           "aaxis": {
            "gridcolor": "white",
            "linecolor": "white",
            "ticks": ""
           },
           "baxis": {
            "gridcolor": "white",
            "linecolor": "white",
            "ticks": ""
           },
           "bgcolor": "#E5ECF6",
           "caxis": {
            "gridcolor": "white",
            "linecolor": "white",
            "ticks": ""
           }
          },
          "title": {
           "x": 0.05
          },
          "xaxis": {
           "automargin": true,
           "gridcolor": "white",
           "linecolor": "white",
           "ticks": "",
           "zerolinecolor": "white",
           "zerolinewidth": 2
          },
          "yaxis": {
           "automargin": true,
           "gridcolor": "white",
           "linecolor": "white",
           "ticks": "",
           "zerolinecolor": "white",
           "zerolinewidth": 2
          }
         }
        },
        "title": {
         "text": "Candy price percent"
        },
        "xaxis": {
         "title": {
          "text": "Content"
         }
        },
        "yaxis": {
         "title": {
          "text": "Percentage"
         }
        }
       }
      },
      "text/html": [
       "<div>\n",
       "        \n",
       "        \n",
       "            <div id=\"8db7d6c8-64da-4e92-a121-d2cf58f13178\" class=\"plotly-graph-div\" style=\"height:525px; width:100%;\"></div>\n",
       "            <script type=\"text/javascript\">\n",
       "                require([\"plotly\"], function(Plotly) {\n",
       "                    window.PLOTLYENV=window.PLOTLYENV || {};\n",
       "                    \n",
       "                if (document.getElementById(\"8db7d6c8-64da-4e92-a121-d2cf58f13178\")) {\n",
       "                    Plotly.newPlot(\n",
       "                        '8db7d6c8-64da-4e92-a121-d2cf58f13178',\n",
       "                        [{\"marker\": {\"color\": \"#1b7fbd\"}, \"name\": \"With\", \"type\": \"bar\", \"x\": [\"Chocolate\", \"Fruity\", \"Caramel\", \"Peanutyalmondy\", \"Nougat\", \"Crispedricewafer\", \"Hard\", \"Bar\"], \"y\": [0.6321621654594596, 0.3327368384736843, 0.6315714364285715, 0.6666428707142856, 0.6141428642857143, 0.78014286, 0.3189333292, 0.7259523842857142]}, {\"marker\": {\"color\": \"#f96d15\"}, \"name\": \"Without\", \"type\": \"bar\", \"x\": [\"Chocolate\", \"Fruity\", \"Caramel\", \"Peanutyalmondy\", \"Nougat\", \"Crispedricewafer\", \"Hard\", \"Bar\"], \"y\": [0.34302083, 0.5789574489361704, 0.43680281481690136, 0.42988732073239416, 0.45584615271794876, 0.4409487172051284, 0.501014286057143, 0.38453124831249985]}],\n",
       "                        {\"barmode\": \"group\", \"template\": {\"data\": {\"bar\": [{\"error_x\": {\"color\": \"#2a3f5f\"}, \"error_y\": {\"color\": \"#2a3f5f\"}, \"marker\": {\"line\": {\"color\": \"#E5ECF6\", \"width\": 0.5}}, \"type\": \"bar\"}], \"barpolar\": [{\"marker\": {\"line\": {\"color\": \"#E5ECF6\", \"width\": 0.5}}, \"type\": \"barpolar\"}], \"carpet\": [{\"aaxis\": {\"endlinecolor\": \"#2a3f5f\", \"gridcolor\": \"white\", \"linecolor\": \"white\", \"minorgridcolor\": \"white\", \"startlinecolor\": \"#2a3f5f\"}, \"baxis\": {\"endlinecolor\": \"#2a3f5f\", \"gridcolor\": \"white\", \"linecolor\": \"white\", \"minorgridcolor\": \"white\", \"startlinecolor\": \"#2a3f5f\"}, \"type\": \"carpet\"}], \"choropleth\": [{\"colorbar\": {\"outlinewidth\": 0, \"ticks\": \"\"}, \"type\": \"choropleth\"}], \"contour\": [{\"colorbar\": {\"outlinewidth\": 0, \"ticks\": \"\"}, \"colorscale\": [[0.0, \"#0d0887\"], [0.1111111111111111, \"#46039f\"], [0.2222222222222222, \"#7201a8\"], [0.3333333333333333, \"#9c179e\"], [0.4444444444444444, \"#bd3786\"], [0.5555555555555556, \"#d8576b\"], [0.6666666666666666, \"#ed7953\"], [0.7777777777777778, \"#fb9f3a\"], [0.8888888888888888, \"#fdca26\"], [1.0, \"#f0f921\"]], \"type\": \"contour\"}], \"contourcarpet\": [{\"colorbar\": {\"outlinewidth\": 0, \"ticks\": \"\"}, \"type\": \"contourcarpet\"}], \"heatmap\": [{\"colorbar\": {\"outlinewidth\": 0, \"ticks\": \"\"}, \"colorscale\": [[0.0, \"#0d0887\"], [0.1111111111111111, \"#46039f\"], [0.2222222222222222, \"#7201a8\"], [0.3333333333333333, \"#9c179e\"], [0.4444444444444444, \"#bd3786\"], [0.5555555555555556, \"#d8576b\"], [0.6666666666666666, \"#ed7953\"], [0.7777777777777778, \"#fb9f3a\"], [0.8888888888888888, \"#fdca26\"], [1.0, \"#f0f921\"]], \"type\": \"heatmap\"}], \"heatmapgl\": [{\"colorbar\": {\"outlinewidth\": 0, \"ticks\": \"\"}, \"colorscale\": [[0.0, \"#0d0887\"], [0.1111111111111111, \"#46039f\"], [0.2222222222222222, \"#7201a8\"], [0.3333333333333333, \"#9c179e\"], [0.4444444444444444, \"#bd3786\"], [0.5555555555555556, \"#d8576b\"], [0.6666666666666666, \"#ed7953\"], [0.7777777777777778, \"#fb9f3a\"], [0.8888888888888888, \"#fdca26\"], [1.0, \"#f0f921\"]], \"type\": \"heatmapgl\"}], \"histogram\": [{\"marker\": {\"colorbar\": {\"outlinewidth\": 0, \"ticks\": \"\"}}, \"type\": \"histogram\"}], \"histogram2d\": [{\"colorbar\": {\"outlinewidth\": 0, \"ticks\": \"\"}, \"colorscale\": [[0.0, \"#0d0887\"], [0.1111111111111111, \"#46039f\"], [0.2222222222222222, \"#7201a8\"], [0.3333333333333333, \"#9c179e\"], [0.4444444444444444, \"#bd3786\"], [0.5555555555555556, \"#d8576b\"], [0.6666666666666666, \"#ed7953\"], [0.7777777777777778, \"#fb9f3a\"], [0.8888888888888888, \"#fdca26\"], [1.0, \"#f0f921\"]], \"type\": \"histogram2d\"}], \"histogram2dcontour\": [{\"colorbar\": {\"outlinewidth\": 0, \"ticks\": \"\"}, \"colorscale\": [[0.0, \"#0d0887\"], [0.1111111111111111, \"#46039f\"], [0.2222222222222222, \"#7201a8\"], [0.3333333333333333, \"#9c179e\"], [0.4444444444444444, \"#bd3786\"], [0.5555555555555556, \"#d8576b\"], [0.6666666666666666, \"#ed7953\"], [0.7777777777777778, \"#fb9f3a\"], [0.8888888888888888, \"#fdca26\"], [1.0, \"#f0f921\"]], \"type\": \"histogram2dcontour\"}], \"mesh3d\": [{\"colorbar\": {\"outlinewidth\": 0, \"ticks\": \"\"}, \"type\": \"mesh3d\"}], \"parcoords\": [{\"line\": {\"colorbar\": {\"outlinewidth\": 0, \"ticks\": \"\"}}, \"type\": \"parcoords\"}], \"scatter\": [{\"marker\": {\"colorbar\": {\"outlinewidth\": 0, \"ticks\": \"\"}}, \"type\": \"scatter\"}], \"scatter3d\": [{\"line\": {\"colorbar\": {\"outlinewidth\": 0, \"ticks\": \"\"}}, \"marker\": {\"colorbar\": {\"outlinewidth\": 0, \"ticks\": \"\"}}, \"type\": \"scatter3d\"}], \"scattercarpet\": [{\"marker\": {\"colorbar\": {\"outlinewidth\": 0, \"ticks\": \"\"}}, \"type\": \"scattercarpet\"}], \"scattergeo\": [{\"marker\": {\"colorbar\": {\"outlinewidth\": 0, \"ticks\": \"\"}}, \"type\": \"scattergeo\"}], \"scattergl\": [{\"marker\": {\"colorbar\": {\"outlinewidth\": 0, \"ticks\": \"\"}}, \"type\": \"scattergl\"}], \"scattermapbox\": [{\"marker\": {\"colorbar\": {\"outlinewidth\": 0, \"ticks\": \"\"}}, \"type\": \"scattermapbox\"}], \"scatterpolar\": [{\"marker\": {\"colorbar\": {\"outlinewidth\": 0, \"ticks\": \"\"}}, \"type\": \"scatterpolar\"}], \"scatterpolargl\": [{\"marker\": {\"colorbar\": {\"outlinewidth\": 0, \"ticks\": \"\"}}, \"type\": \"scatterpolargl\"}], \"scatterternary\": [{\"marker\": {\"colorbar\": {\"outlinewidth\": 0, \"ticks\": \"\"}}, \"type\": \"scatterternary\"}], \"surface\": [{\"colorbar\": {\"outlinewidth\": 0, \"ticks\": \"\"}, \"colorscale\": [[0.0, \"#0d0887\"], [0.1111111111111111, \"#46039f\"], [0.2222222222222222, \"#7201a8\"], [0.3333333333333333, \"#9c179e\"], [0.4444444444444444, \"#bd3786\"], [0.5555555555555556, \"#d8576b\"], [0.6666666666666666, \"#ed7953\"], [0.7777777777777778, \"#fb9f3a\"], [0.8888888888888888, \"#fdca26\"], [1.0, \"#f0f921\"]], \"type\": \"surface\"}], \"table\": [{\"cells\": {\"fill\": {\"color\": \"#EBF0F8\"}, \"line\": {\"color\": \"white\"}}, \"header\": {\"fill\": {\"color\": \"#C8D4E3\"}, \"line\": {\"color\": \"white\"}}, \"type\": \"table\"}]}, \"layout\": {\"annotationdefaults\": {\"arrowcolor\": \"#2a3f5f\", \"arrowhead\": 0, \"arrowwidth\": 1}, \"colorscale\": {\"diverging\": [[0, \"#8e0152\"], [0.1, \"#c51b7d\"], [0.2, \"#de77ae\"], [0.3, \"#f1b6da\"], [0.4, \"#fde0ef\"], [0.5, \"#f7f7f7\"], [0.6, \"#e6f5d0\"], [0.7, \"#b8e186\"], [0.8, \"#7fbc41\"], [0.9, \"#4d9221\"], [1, \"#276419\"]], \"sequential\": [[0.0, \"#0d0887\"], [0.1111111111111111, \"#46039f\"], [0.2222222222222222, \"#7201a8\"], [0.3333333333333333, \"#9c179e\"], [0.4444444444444444, \"#bd3786\"], [0.5555555555555556, \"#d8576b\"], [0.6666666666666666, \"#ed7953\"], [0.7777777777777778, \"#fb9f3a\"], [0.8888888888888888, \"#fdca26\"], [1.0, \"#f0f921\"]], \"sequentialminus\": [[0.0, \"#0d0887\"], [0.1111111111111111, \"#46039f\"], [0.2222222222222222, \"#7201a8\"], [0.3333333333333333, \"#9c179e\"], [0.4444444444444444, \"#bd3786\"], [0.5555555555555556, \"#d8576b\"], [0.6666666666666666, \"#ed7953\"], [0.7777777777777778, \"#fb9f3a\"], [0.8888888888888888, \"#fdca26\"], [1.0, \"#f0f921\"]]}, \"colorway\": [\"#636efa\", \"#EF553B\", \"#00cc96\", \"#ab63fa\", \"#FFA15A\", \"#19d3f3\", \"#FF6692\", \"#B6E880\", \"#FF97FF\", \"#FECB52\"], \"font\": {\"color\": \"#2a3f5f\"}, \"geo\": {\"bgcolor\": \"white\", \"lakecolor\": \"white\", \"landcolor\": \"#E5ECF6\", \"showlakes\": true, \"showland\": true, \"subunitcolor\": \"white\"}, \"hoverlabel\": {\"align\": \"left\"}, \"hovermode\": \"closest\", \"mapbox\": {\"style\": \"light\"}, \"paper_bgcolor\": \"white\", \"plot_bgcolor\": \"#E5ECF6\", \"polar\": {\"angularaxis\": {\"gridcolor\": \"white\", \"linecolor\": \"white\", \"ticks\": \"\"}, \"bgcolor\": \"#E5ECF6\", \"radialaxis\": {\"gridcolor\": \"white\", \"linecolor\": \"white\", \"ticks\": \"\"}}, \"scene\": {\"xaxis\": {\"backgroundcolor\": \"#E5ECF6\", \"gridcolor\": \"white\", \"gridwidth\": 2, \"linecolor\": \"white\", \"showbackground\": true, \"ticks\": \"\", \"zerolinecolor\": \"white\"}, \"yaxis\": {\"backgroundcolor\": \"#E5ECF6\", \"gridcolor\": \"white\", \"gridwidth\": 2, \"linecolor\": \"white\", \"showbackground\": true, \"ticks\": \"\", \"zerolinecolor\": \"white\"}, \"zaxis\": {\"backgroundcolor\": \"#E5ECF6\", \"gridcolor\": \"white\", \"gridwidth\": 2, \"linecolor\": \"white\", \"showbackground\": true, \"ticks\": \"\", \"zerolinecolor\": \"white\"}}, \"shapedefaults\": {\"line\": {\"color\": \"#2a3f5f\"}}, \"ternary\": {\"aaxis\": {\"gridcolor\": \"white\", \"linecolor\": \"white\", \"ticks\": \"\"}, \"baxis\": {\"gridcolor\": \"white\", \"linecolor\": \"white\", \"ticks\": \"\"}, \"bgcolor\": \"#E5ECF6\", \"caxis\": {\"gridcolor\": \"white\", \"linecolor\": \"white\", \"ticks\": \"\"}}, \"title\": {\"x\": 0.05}, \"xaxis\": {\"automargin\": true, \"gridcolor\": \"white\", \"linecolor\": \"white\", \"ticks\": \"\", \"zerolinecolor\": \"white\", \"zerolinewidth\": 2}, \"yaxis\": {\"automargin\": true, \"gridcolor\": \"white\", \"linecolor\": \"white\", \"ticks\": \"\", \"zerolinecolor\": \"white\", \"zerolinewidth\": 2}}}, \"title\": {\"text\": \"Candy price percent\"}, \"xaxis\": {\"title\": {\"text\": \"Content\"}}, \"yaxis\": {\"title\": {\"text\": \"Percentage\"}}},\n",
       "                        {\"responsive\": true}\n",
       "                    ).then(function(){\n",
       "                            \n",
       "var gd = document.getElementById('8db7d6c8-64da-4e92-a121-d2cf58f13178');\n",
       "var x = new MutationObserver(function (mutations, observer) {{\n",
       "        var display = window.getComputedStyle(gd).display;\n",
       "        if (!display || display === 'none') {{\n",
       "            console.log([gd, 'removed!']);\n",
       "            Plotly.purge(gd);\n",
       "            observer.disconnect();\n",
       "        }}\n",
       "}});\n",
       "\n",
       "// Listen for the removal of the full notebook cells\n",
       "var notebookContainer = gd.closest('#notebook-container');\n",
       "if (notebookContainer) {{\n",
       "    x.observe(notebookContainer, {childList: true});\n",
       "}}\n",
       "\n",
       "// Listen for the clearing of the current output cell\n",
       "var outputEl = gd.closest('.output');\n",
       "if (outputEl) {{\n",
       "    x.observe(outputEl, {childList: true});\n",
       "}}\n",
       "\n",
       "                        })\n",
       "                };\n",
       "                });\n",
       "            </script>\n",
       "        </div>"
      ]
     },
     "metadata": {},
     "output_type": "display_data"
    }
   ],
   "source": [
    "def win_price():\n",
    "    trace1 = go.Bar(\n",
    "        x=['Chocolate', 'Fruity', 'Caramel', 'Peanutyalmondy', 'Nougat', 'Crispedricewafer', 'Hard', 'Bar'],\n",
    "        y=[df[df.chocolate == 1].pricepercent.mean(), df[df.fruity == 1].pricepercent.mean(), df[df.caramel == 1].pricepercent.mean(),\n",
    "          df[df.peanutyalmondy == 1].pricepercent.mean(), df[df.nougat == 1].pricepercent.mean(), df[df.crispedricewafer == 1].pricepercent.mean(),\n",
    "          df[df.hard == 1].pricepercent.mean(), df[df.bar == 1].pricepercent.mean()],\n",
    "        name='With',\n",
    "        marker=dict(color='#1b7fbd')\n",
    "    )\n",
    "    trace2 = go.Bar(\n",
    "        x=['Chocolate', 'Fruity', 'Caramel', 'Peanutyalmondy', 'Nougat', 'Crispedricewafer', 'Hard', 'Bar'],\n",
    "        y=[df[df.chocolate == 0].pricepercent.mean(), df[df.fruity == 0].pricepercent.mean(), df[df.caramel == 0].pricepercent.mean(),\n",
    "          df[df.peanutyalmondy == 0].pricepercent.mean(), df[df.nougat == 0].pricepercent.mean(), df[df.crispedricewafer == 0].pricepercent.mean(),\n",
    "          df[df.hard == 0].pricepercent.mean(), df[df.bar == 0].pricepercent.mean()],\n",
    "        name='Without',\n",
    "        marker=dict(color='#f96d15')\n",
    "    )\n",
    "\n",
    "    data = [trace1, trace2]\n",
    "    layout = go.Layout(\n",
    "        barmode='group',\n",
    "        title= 'Candy price percent',\n",
    "        xaxis=dict(\n",
    "            title='Content'        \n",
    "        )  ,\n",
    "        yaxis=dict(\n",
    "            title='Percentage'        \n",
    "        )   \n",
    "    )\n",
    "\n",
    "    fig = go.Figure(data=data, layout=layout)\n",
    "    return(fig)\n",
    "py.offline.iplot(win_price())"
   ]
  },
  {
   "cell_type": "markdown",
   "metadata": {},
   "source": [
    "**Inference: The following inferences can be made from the above bar chart:**\n",
    "    1. The price percentage of a candy is increased by approximately 30% if it contains chocolate, so we can infer that chocolate candies are expensive.\n",
    "    2. Similarly the price percentage is decreased by approximately 24% in case of fruity, so we can infer that fruity content candies are cheaper.\n",
    "    3. The price percentage of a candy is increased by approximately 20% if it contains caramel, so we can infer that caramel candies are expensive.\n",
    "    4. The price percentage of a candy is increased by approximately 24% if it contains peanutyalmondy, so we can infer that peanutyalmondy candies are expensive.\n",
    "    5. The price percentage of a candy is increased by approximately 16% if it contains nougat, so we can infer that nougat candies are expensive.\n",
    "    6. The price percentage of a candy is increased by approximately 34% if it contains crispedricewafer, so we can infer that crispedricewafer candies are extremely expensive. \n",
    "    7. The price percentage is decreased by approximately 19% in case of hard candies, so we can infer that hard candies are cheaper.\n",
    "    8. The price percentage of a candy is increased by approximately 34% in case of bar candies, so we can infer that bar candies are extremely expensive."
   ]
  },
  {
   "cell_type": "markdown",
   "metadata": {},
   "source": [
    "**Methodology: p value is calculated using the t-test and then by plotting a box plot of price percentages for with ceratain content and without that content to analyze the significance of the content on price percentage.**"
   ]
  },
  {
   "cell_type": "code",
   "execution_count": 23,
   "metadata": {},
   "outputs": [],
   "source": [
    "(chocolate_t_val,chocolate_p_val) = stats.ttest_ind(df[df.chocolate == 1].pricepercent,df[df.chocolate == 0].pricepercent)\n",
    "(fruity_t_val,fruity_p_val) = stats.ttest_ind(df[df.fruity == 1].pricepercent,df[df.fruity == 0].pricepercent)\n",
    "(caramel_t_val,caramel_p_val) = stats.ttest_ind(df[df.caramel == 1].pricepercent,df[df.caramel == 0].pricepercent)\n",
    "(peanutyalmondy_t_val,peanutyalmondy_p_val) = stats.ttest_ind(df[df.peanutyalmondy == 1].pricepercent,df[df.peanutyalmondy == 0].pricepercent)\n",
    "(nougat_t_val,nougat_p_val) = stats.ttest_ind(df[df.nougat == 1].pricepercent,df[df.nougat == 0].pricepercent)\n",
    "(crispedricewafer_t_val,crispedricewafer_p_val) = stats.ttest_ind(df[df.crispedricewafer == 1].pricepercent,df[df.crispedricewafer == 0].pricepercent)\n",
    "(hard_t_val,hard_p_val) = stats.ttest_ind(df[df.hard == 1].pricepercent,df[df.hard == 0].pricepercent)\n",
    "(bar_t_val,bar_p_val) = stats.ttest_ind(df[df.bar == 1].pricepercent,df[df.bar == 0].pricepercent)"
   ]
  },
  {
   "cell_type": "code",
   "execution_count": 24,
   "metadata": {},
   "outputs": [],
   "source": [
    "pricepercent_p_val = [chocolate_p_val, fruity_p_val, caramel_p_val, peanutyalmondy_p_val, nougat_p_val, crispedricewafer_p_val, hard_p_val, bar_p_val  ]\n",
    "ss_p_val = statsig(pricepercent_p_val)"
   ]
  },
  {
   "cell_type": "markdown",
   "metadata": {},
   "source": [
    "**Calculation of mean difference and p-value by candies price percent on the basis of candy content to get statistical significance of the candy content on price percent.<br>\n",
    "Note: <br>\n",
    "ss stands for Statistical significant<br>\n",
    "ns stands for Not significant**"
   ]
  },
  {
   "cell_type": "code",
   "execution_count": 25,
   "metadata": {},
   "outputs": [
    {
     "data": {
      "text/html": [
       "<div>\n",
       "<style scoped>\n",
       "    .dataframe tbody tr th:only-of-type {\n",
       "        vertical-align: middle;\n",
       "    }\n",
       "\n",
       "    .dataframe tbody tr th {\n",
       "        vertical-align: top;\n",
       "    }\n",
       "\n",
       "    .dataframe thead th {\n",
       "        text-align: right;\n",
       "    }\n",
       "</style>\n",
       "<table border=\"1\" class=\"dataframe\">\n",
       "  <thead>\n",
       "    <tr style=\"text-align: right;\">\n",
       "      <th></th>\n",
       "      <th>Contents</th>\n",
       "      <th>Mean difference</th>\n",
       "      <th>p-value</th>\n",
       "      <th>Statistical significance</th>\n",
       "    </tr>\n",
       "  </thead>\n",
       "  <tbody>\n",
       "    <tr>\n",
       "      <th>0</th>\n",
       "      <td>Chocolate</td>\n",
       "      <td>0.289141</td>\n",
       "      <td>8.433817e-07</td>\n",
       "      <td>ss</td>\n",
       "    </tr>\n",
       "    <tr>\n",
       "      <th>1</th>\n",
       "      <td>Fruity</td>\n",
       "      <td>-0.246221</td>\n",
       "      <td>3.831304e-05</td>\n",
       "      <td>ss</td>\n",
       "    </tr>\n",
       "    <tr>\n",
       "      <th>2</th>\n",
       "      <td>Caramel</td>\n",
       "      <td>0.194769</td>\n",
       "      <td>1.883276e-02</td>\n",
       "      <td>ss</td>\n",
       "    </tr>\n",
       "    <tr>\n",
       "      <th>3</th>\n",
       "      <td>Peanutyalmondy</td>\n",
       "      <td>0.236756</td>\n",
       "      <td>3.990243e-03</td>\n",
       "      <td>ss</td>\n",
       "    </tr>\n",
       "    <tr>\n",
       "      <th>4</th>\n",
       "      <td>Nougat</td>\n",
       "      <td>0.158297</td>\n",
       "      <td>1.615832e-01</td>\n",
       "      <td>ns</td>\n",
       "    </tr>\n",
       "    <tr>\n",
       "      <th>5</th>\n",
       "      <td>Crispedricewafer</td>\n",
       "      <td>0.339194</td>\n",
       "      <td>2.161344e-03</td>\n",
       "      <td>ss</td>\n",
       "    </tr>\n",
       "    <tr>\n",
       "      <th>6</th>\n",
       "      <td>Hard</td>\n",
       "      <td>-0.182081</td>\n",
       "      <td>2.420460e-02</td>\n",
       "      <td>ss</td>\n",
       "    </tr>\n",
       "    <tr>\n",
       "      <th>7</th>\n",
       "      <td>Bar</td>\n",
       "      <td>0.341421</td>\n",
       "      <td>3.735217e-07</td>\n",
       "      <td>ss</td>\n",
       "    </tr>\n",
       "  </tbody>\n",
       "</table>\n",
       "</div>"
      ],
      "text/plain": [
       "           Contents  Mean difference       p-value Statistical significance\n",
       "0         Chocolate         0.289141  8.433817e-07                       ss\n",
       "1            Fruity        -0.246221  3.831304e-05                       ss\n",
       "2           Caramel         0.194769  1.883276e-02                       ss\n",
       "3    Peanutyalmondy         0.236756  3.990243e-03                       ss\n",
       "4            Nougat         0.158297  1.615832e-01                       ns\n",
       "5  Crispedricewafer         0.339194  2.161344e-03                       ss\n",
       "6              Hard        -0.182081  2.420460e-02                       ss\n",
       "7               Bar         0.341421  3.735217e-07                       ss"
      ]
     },
     "execution_count": 25,
     "metadata": {},
     "output_type": "execute_result"
    }
   ],
   "source": [
    "contents=['Chocolate', 'Fruity', 'Caramel', 'Peanutyalmondy', 'Nougat', 'Crispedricewafer', 'Hard', 'Bar']\n",
    "diff_mean_values=[df[df.chocolate == 1].pricepercent.mean()-df[df.chocolate == 0].pricepercent.mean(), df[df.fruity == 1].pricepercent.mean()-df[df.fruity == 0].pricepercent.mean(),\n",
    "                 df[df.caramel == 1].pricepercent.mean()-df[df.caramel == 0].pricepercent.mean(), df[df.peanutyalmondy == 1].pricepercent.mean()-df[df.peanutyalmondy == 0].pricepercent.mean(),\n",
    "                 df[df.nougat == 1].pricepercent.mean()-df[df.nougat == 0].pricepercent.mean(), df[df.crispedricewafer == 1].pricepercent.mean()-df[df.crispedricewafer == 0].pricepercent.mean(),\n",
    "                 df[df.hard == 1].pricepercent.mean()-df[df.hard == 0].pricepercent.mean(), df[df.bar == 1].pricepercent.mean()-df[df.bar == 0].pricepercent.mean()]\n",
    "p_val=[chocolate_p_val, fruity_p_val, caramel_p_val, peanutyalmondy_p_val, nougat_p_val, crispedricewafer_p_val, hard_p_val, bar_p_val  ]\n",
    "pricepercent_t_test_df = pd.DataFrame(list(zip(contents, diff_mean_values, p_val, ss_p_val)), \n",
    "               columns =['Contents', 'Mean difference', 'p-value', 'Statistical significance'])\n",
    "pricepercent_t_test_df"
   ]
  },
  {
   "cell_type": "code",
   "execution_count": 26,
   "metadata": {},
   "outputs": [
    {
     "data": {
      "application/vnd.plotly.v1+json": {
       "config": {
        "linkText": "Export to plot.ly",
        "plotlyServerURL": "https://plot.ly",
        "showLink": false
       },
       "data": [
        {
         "boxmean": true,
         "marker": {
          "color": "#8b4513"
         },
         "name": "With Chocolate",
         "type": "box",
         "y": [
          0.86000001,
          0.51099998,
          0.76700002,
          0.76700002,
          0.51099998,
          0.093000002,
          0.91799998,
          0.91799998,
          0.91799998,
          0.51099998,
          0.51099998,
          0.65100002,
          0.65100002,
          0.51099998,
          0.65100002,
          0.44100001,
          0.86000001,
          0.86000001,
          0.91799998,
          0.76700002,
          0.76700002,
          0.65100002,
          0.27900001,
          0.65100002,
          0.65100002,
          0.65100002,
          0.86000001,
          0.081,
          0.97600001,
          0.65100002,
          0.65100002,
          0.32499999,
          0.51099998,
          0.011000000000000001,
          0.32499999,
          0.90600002,
          0.84799999
         ]
        },
        {
         "boxmean": true,
         "marker": {
          "color": "#8b4513"
         },
         "name": "Without Chocolate",
         "opacity": 0.6,
         "type": "box",
         "y": [
          0.11599999999999999,
          0.51099998,
          0.51099998,
          0.51099998,
          0.32499999,
          0.32499999,
          0.51099998,
          0.32499999,
          0.51099998,
          0.034000002,
          0.034000002,
          0.32499999,
          0.45300001,
          0.465,
          0.465,
          0.465,
          0.465,
          0.51099998,
          0.11599999999999999,
          0.10400000000000001,
          0.27900001,
          0.32499999,
          0.32499999,
          0.97600001,
          0.32499999,
          0.76700002,
          0.023,
          0.83700001,
          0.11599999999999999,
          0.96499997,
          0.06899999799999999,
          0.27900001,
          0.22,
          0.22,
          0.11599999999999999,
          0.11599999999999999,
          0.11599999999999999,
          0.22,
          0.057999998,
          0.76700002,
          0.32499999,
          0.11599999999999999,
          0.755,
          0.255,
          0.11599999999999999,
          0.11599999999999999,
          0.31299999,
          0.26699999
         ]
        },
        {
         "boxmean": true,
         "marker": {
          "color": "#e42c64"
         },
         "name": "With Fruity",
         "type": "box",
         "y": [
          0.51099998,
          0.32499999,
          0.51099998,
          0.32499999,
          0.51099998,
          0.034000002,
          0.034000002,
          0.32499999,
          0.45300001,
          0.465,
          0.465,
          0.465,
          0.51099998,
          0.11599999999999999,
          0.10400000000000001,
          0.27900001,
          0.32499999,
          0.32499999,
          0.97600001,
          0.32499999,
          0.83700001,
          0.11599999999999999,
          0.96499997,
          0.27900001,
          0.22,
          0.22,
          0.11599999999999999,
          0.11599999999999999,
          0.11599999999999999,
          0.22,
          0.057999998,
          0.11599999999999999,
          0.755,
          0.32499999,
          0.255,
          0.11599999999999999,
          0.11599999999999999,
          0.31299999
         ]
        },
        {
         "boxmean": true,
         "marker": {
          "color": "#e42c64"
         },
         "name": "Without Fruity",
         "opacity": 0.6,
         "type": "box",
         "y": [
          0.86000001,
          0.51099998,
          0.11599999999999999,
          0.51099998,
          0.76700002,
          0.76700002,
          0.51099998,
          0.32499999,
          0.51099998,
          0.465,
          0.093000002,
          0.91799998,
          0.91799998,
          0.91799998,
          0.51099998,
          0.51099998,
          0.65100002,
          0.65100002,
          0.51099998,
          0.65100002,
          0.44100001,
          0.86000001,
          0.86000001,
          0.91799998,
          0.76700002,
          0.76700002,
          0.76700002,
          0.65100002,
          0.023,
          0.27900001,
          0.65100002,
          0.65100002,
          0.65100002,
          0.86000001,
          0.06899999799999999,
          0.081,
          0.97600001,
          0.65100002,
          0.65100002,
          0.76700002,
          0.32499999,
          0.51099998,
          0.011000000000000001,
          0.32499999,
          0.90600002,
          0.26699999,
          0.84799999
         ]
        },
        {
         "boxmean": true,
         "marker": {
          "color": "#f3a953"
         },
         "name": "With Caramel",
         "type": "box",
         "y": [
          0.86000001,
          0.76700002,
          0.32499999,
          0.51099998,
          0.65100002,
          0.44100001,
          0.86000001,
          0.86000001,
          0.65100002,
          0.65100002,
          0.76700002,
          0.32499999,
          0.90600002,
          0.26699999
         ]
        },
        {
         "boxmean": true,
         "marker": {
          "color": "#f3a953"
         },
         "name": "Without Caramel",
         "opacity": 0.6,
         "type": "box",
         "y": [
          0.51099998,
          0.11599999999999999,
          0.51099998,
          0.51099998,
          0.76700002,
          0.51099998,
          0.32499999,
          0.51099998,
          0.51099998,
          0.32499999,
          0.51099998,
          0.034000002,
          0.034000002,
          0.32499999,
          0.45300001,
          0.465,
          0.465,
          0.465,
          0.465,
          0.093000002,
          0.91799998,
          0.91799998,
          0.91799998,
          0.51099998,
          0.51099998,
          0.51099998,
          0.11599999999999999,
          0.10400000000000001,
          0.27900001,
          0.65100002,
          0.65100002,
          0.32499999,
          0.86000001,
          0.91799998,
          0.32499999,
          0.76700002,
          0.76700002,
          0.97600001,
          0.32499999,
          0.76700002,
          0.65100002,
          0.023,
          0.83700001,
          0.11599999999999999,
          0.27900001,
          0.65100002,
          0.65100002,
          0.65100002,
          0.96499997,
          0.06899999799999999,
          0.27900001,
          0.081,
          0.22,
          0.22,
          0.97600001,
          0.11599999999999999,
          0.11599999999999999,
          0.11599999999999999,
          0.22,
          0.057999998,
          0.11599999999999999,
          0.755,
          0.32499999,
          0.51099998,
          0.011000000000000001,
          0.32499999,
          0.255,
          0.11599999999999999,
          0.11599999999999999,
          0.31299999,
          0.84799999
         ]
        },
        {
         "boxmean": true,
         "marker": {
          "color": "#58b368"
         },
         "name": "With Peanutyalmondy",
         "type": "box",
         "y": [
          0.76700002,
          0.76700002,
          0.51099998,
          0.65100002,
          0.91799998,
          0.76700002,
          0.76700002,
          0.65100002,
          0.27900001,
          0.65100002,
          0.65100002,
          0.65100002,
          0.65100002,
          0.65100002
         ]
        },
        {
         "boxmean": true,
         "marker": {
          "color": "#58b368"
         },
         "name": "Without Peanutyalmondy",
         "opacity": 0.6,
         "type": "box",
         "y": [
          0.86000001,
          0.51099998,
          0.11599999999999999,
          0.51099998,
          0.51099998,
          0.32499999,
          0.32499999,
          0.51099998,
          0.51099998,
          0.32499999,
          0.51099998,
          0.034000002,
          0.034000002,
          0.32499999,
          0.45300001,
          0.465,
          0.465,
          0.465,
          0.465,
          0.093000002,
          0.91799998,
          0.91799998,
          0.91799998,
          0.51099998,
          0.51099998,
          0.51099998,
          0.11599999999999999,
          0.10400000000000001,
          0.27900001,
          0.65100002,
          0.32499999,
          0.51099998,
          0.65100002,
          0.44100001,
          0.86000001,
          0.86000001,
          0.32499999,
          0.76700002,
          0.97600001,
          0.32499999,
          0.023,
          0.83700001,
          0.11599999999999999,
          0.96499997,
          0.86000001,
          0.06899999799999999,
          0.27900001,
          0.081,
          0.22,
          0.22,
          0.97600001,
          0.11599999999999999,
          0.11599999999999999,
          0.11599999999999999,
          0.22,
          0.057999998,
          0.76700002,
          0.32499999,
          0.11599999999999999,
          0.755,
          0.32499999,
          0.51099998,
          0.011000000000000001,
          0.32499999,
          0.255,
          0.90600002,
          0.11599999999999999,
          0.11599999999999999,
          0.31299999,
          0.26699999,
          0.84799999
         ]
        },
        {
         "boxmean": true,
         "marker": {
          "color": "#373a6d"
         },
         "name": "With Nougat",
         "type": "box",
         "y": [
          0.51099998,
          0.76700002,
          0.51099998,
          0.65100002,
          0.44100001,
          0.76700002,
          0.65100002
         ]
        },
        {
         "boxmean": true,
         "marker": {
          "color": "#373a6d"
         },
         "name": "Without Nougat",
         "opacity": 0.6,
         "type": "box",
         "y": [
          0.86000001,
          0.11599999999999999,
          0.51099998,
          0.51099998,
          0.76700002,
          0.51099998,
          0.32499999,
          0.32499999,
          0.51099998,
          0.32499999,
          0.51099998,
          0.034000002,
          0.034000002,
          0.32499999,
          0.45300001,
          0.465,
          0.465,
          0.465,
          0.465,
          0.093000002,
          0.91799998,
          0.91799998,
          0.91799998,
          0.51099998,
          0.51099998,
          0.51099998,
          0.11599999999999999,
          0.10400000000000001,
          0.27900001,
          0.65100002,
          0.65100002,
          0.32499999,
          0.51099998,
          0.86000001,
          0.86000001,
          0.91799998,
          0.32499999,
          0.76700002,
          0.76700002,
          0.97600001,
          0.32499999,
          0.65100002,
          0.023,
          0.83700001,
          0.11599999999999999,
          0.27900001,
          0.65100002,
          0.65100002,
          0.65100002,
          0.96499997,
          0.86000001,
          0.06899999799999999,
          0.27900001,
          0.081,
          0.22,
          0.22,
          0.97600001,
          0.11599999999999999,
          0.65100002,
          0.11599999999999999,
          0.11599999999999999,
          0.22,
          0.057999998,
          0.76700002,
          0.32499999,
          0.11599999999999999,
          0.755,
          0.32499999,
          0.51099998,
          0.011000000000000001,
          0.32499999,
          0.255,
          0.90600002,
          0.11599999999999999,
          0.11599999999999999,
          0.31299999,
          0.26699999,
          0.84799999
         ]
        },
        {
         "boxmean": true,
         "marker": {
          "color": "#9370db"
         },
         "name": "With Crispedricewafer",
         "type": "box",
         "y": [
          0.86000001,
          0.91799998,
          0.51099998,
          0.76700002,
          0.65100002,
          0.90600002,
          0.84799999
         ]
        },
        {
         "boxmean": true,
         "marker": {
          "color": "#9370db"
         },
         "name": "Without Crispedricewafer",
         "opacity": 0.6,
         "type": "box",
         "y": [
          0.51099998,
          0.11599999999999999,
          0.51099998,
          0.51099998,
          0.76700002,
          0.76700002,
          0.51099998,
          0.32499999,
          0.32499999,
          0.51099998,
          0.51099998,
          0.32499999,
          0.51099998,
          0.034000002,
          0.034000002,
          0.32499999,
          0.45300001,
          0.465,
          0.465,
          0.465,
          0.465,
          0.093000002,
          0.91799998,
          0.91799998,
          0.51099998,
          0.51099998,
          0.11599999999999999,
          0.10400000000000001,
          0.27900001,
          0.65100002,
          0.65100002,
          0.32499999,
          0.51099998,
          0.65100002,
          0.44100001,
          0.86000001,
          0.86000001,
          0.91799998,
          0.32499999,
          0.76700002,
          0.97600001,
          0.32499999,
          0.76700002,
          0.65100002,
          0.023,
          0.83700001,
          0.11599999999999999,
          0.27900001,
          0.65100002,
          0.65100002,
          0.65100002,
          0.96499997,
          0.86000001,
          0.06899999799999999,
          0.27900001,
          0.081,
          0.22,
          0.22,
          0.97600001,
          0.11599999999999999,
          0.65100002,
          0.11599999999999999,
          0.11599999999999999,
          0.22,
          0.057999998,
          0.76700002,
          0.32499999,
          0.11599999999999999,
          0.755,
          0.32499999,
          0.51099998,
          0.011000000000000001,
          0.32499999,
          0.255,
          0.11599999999999999,
          0.11599999999999999,
          0.31299999,
          0.26699999
         ]
        },
        {
         "boxmean": true,
         "marker": {
          "color": "#ff4057"
         },
         "name": "With Hard",
         "type": "box",
         "y": [
          0.034000002,
          0.32499999,
          0.45300001,
          0.51099998,
          0.10400000000000001,
          0.32499999,
          0.83700001,
          0.96499997,
          0.06899999799999999,
          0.27900001,
          0.11599999999999999,
          0.057999998,
          0.32499999,
          0.11599999999999999,
          0.26699999
         ]
        },
        {
         "boxmean": true,
         "marker": {
          "color": "#ff4057"
         },
         "name": "Without Hard",
         "opacity": 0.6,
         "type": "box",
         "y": [
          0.86000001,
          0.51099998,
          0.11599999999999999,
          0.51099998,
          0.51099998,
          0.76700002,
          0.76700002,
          0.51099998,
          0.32499999,
          0.32499999,
          0.51099998,
          0.51099998,
          0.32499999,
          0.51099998,
          0.034000002,
          0.465,
          0.465,
          0.465,
          0.465,
          0.093000002,
          0.91799998,
          0.91799998,
          0.91799998,
          0.51099998,
          0.51099998,
          0.11599999999999999,
          0.27900001,
          0.65100002,
          0.65100002,
          0.32499999,
          0.51099998,
          0.65100002,
          0.44100001,
          0.86000001,
          0.86000001,
          0.91799998,
          0.76700002,
          0.76700002,
          0.97600001,
          0.32499999,
          0.76700002,
          0.65100002,
          0.023,
          0.11599999999999999,
          0.27900001,
          0.65100002,
          0.65100002,
          0.65100002,
          0.86000001,
          0.081,
          0.22,
          0.22,
          0.97600001,
          0.65100002,
          0.65100002,
          0.11599999999999999,
          0.11599999999999999,
          0.22,
          0.76700002,
          0.32499999,
          0.11599999999999999,
          0.755,
          0.51099998,
          0.011000000000000001,
          0.32499999,
          0.255,
          0.90600002,
          0.11599999999999999,
          0.31299999,
          0.84799999
         ]
        },
        {
         "boxmean": true,
         "marker": {
          "color": "#096386"
         },
         "name": "With Bar",
         "type": "box",
         "y": [
          0.86000001,
          0.51099998,
          0.76700002,
          0.76700002,
          0.51099998,
          0.91799998,
          0.91799998,
          0.91799998,
          0.51099998,
          0.65100002,
          0.44100001,
          0.86000001,
          0.86000001,
          0.91799998,
          0.76700002,
          0.76700002,
          0.76700002,
          0.65100002,
          0.65100002,
          0.32499999,
          0.90600002
         ]
        },
        {
         "boxmean": true,
         "marker": {
          "color": "#096386"
         },
         "name": "Without Bar",
         "opacity": 0.6,
         "type": "box",
         "y": [
          0.11599999999999999,
          0.51099998,
          0.51099998,
          0.51099998,
          0.32499999,
          0.32499999,
          0.51099998,
          0.32499999,
          0.51099998,
          0.034000002,
          0.034000002,
          0.32499999,
          0.45300001,
          0.465,
          0.465,
          0.465,
          0.465,
          0.093000002,
          0.51099998,
          0.51099998,
          0.11599999999999999,
          0.10400000000000001,
          0.27900001,
          0.65100002,
          0.65100002,
          0.32499999,
          0.51099998,
          0.32499999,
          0.97600001,
          0.32499999,
          0.65100002,
          0.023,
          0.83700001,
          0.11599999999999999,
          0.27900001,
          0.65100002,
          0.65100002,
          0.65100002,
          0.96499997,
          0.86000001,
          0.06899999799999999,
          0.27900001,
          0.081,
          0.22,
          0.22,
          0.97600001,
          0.11599999999999999,
          0.11599999999999999,
          0.11599999999999999,
          0.22,
          0.057999998,
          0.76700002,
          0.32499999,
          0.11599999999999999,
          0.755,
          0.32499999,
          0.51099998,
          0.011000000000000001,
          0.255,
          0.11599999999999999,
          0.11599999999999999,
          0.31299999,
          0.26699999,
          0.84799999
         ]
        },
        {
         "marker": {
          "color": "#252525"
         },
         "mode": "lines+markers+text",
         "text": [
          "ss"
         ],
         "textposition": "top center",
         "type": "scatter",
         "x": [
          "With Chocolate",
          "Without Chocolate"
         ],
         "y": [
          1,
          1
         ]
        },
        {
         "marker": {
          "color": "#252525"
         },
         "mode": "lines+markers+text",
         "text": [
          "ss"
         ],
         "textposition": "top center",
         "type": "scatter",
         "x": [
          "With Fruity",
          "Without Fruity"
         ],
         "y": [
          1,
          1
         ]
        },
        {
         "marker": {
          "color": "#252525"
         },
         "mode": "lines+markers+text",
         "text": [
          "ss"
         ],
         "textposition": "top center",
         "type": "scatter",
         "x": [
          "With Caramel",
          "Without Caramel"
         ],
         "y": [
          1,
          1
         ]
        },
        {
         "marker": {
          "color": "#252525"
         },
         "mode": "lines+markers+text",
         "text": [
          "ss"
         ],
         "textposition": "top center",
         "type": "scatter",
         "x": [
          "With Peanutyalmondy",
          "Without Peanutyalmondy"
         ],
         "y": [
          1,
          1
         ]
        },
        {
         "marker": {
          "color": "#252525"
         },
         "mode": "lines+markers+text",
         "text": [
          "ns"
         ],
         "textposition": "top center",
         "type": "scatter",
         "x": [
          "With Nougat",
          "Without Nougat"
         ],
         "y": [
          1,
          1
         ]
        },
        {
         "marker": {
          "color": "#252525"
         },
         "mode": "lines+markers+text",
         "text": [
          "ss"
         ],
         "textposition": "top center",
         "type": "scatter",
         "x": [
          "With Crispedricewafer",
          "Without Crispedricewafer"
         ],
         "y": [
          1,
          1
         ]
        },
        {
         "marker": {
          "color": "#252525"
         },
         "mode": "lines+markers+text",
         "text": [
          "ss"
         ],
         "textposition": "top center",
         "type": "scatter",
         "x": [
          "With Hard",
          "Without Hard"
         ],
         "y": [
          1,
          1
         ]
        },
        {
         "marker": {
          "color": "#252525"
         },
         "mode": "lines+markers+text",
         "text": [
          "ss"
         ],
         "textposition": "top center",
         "type": "scatter",
         "x": [
          "With Bar",
          "Without Bar"
         ],
         "y": [
          1,
          1
         ]
        }
       ],
       "layout": {
        "showlegend": false,
        "template": {
         "data": {
          "bar": [
           {
            "error_x": {
             "color": "#2a3f5f"
            },
            "error_y": {
             "color": "#2a3f5f"
            },
            "marker": {
             "line": {
              "color": "#E5ECF6",
              "width": 0.5
             }
            },
            "type": "bar"
           }
          ],
          "barpolar": [
           {
            "marker": {
             "line": {
              "color": "#E5ECF6",
              "width": 0.5
             }
            },
            "type": "barpolar"
           }
          ],
          "carpet": [
           {
            "aaxis": {
             "endlinecolor": "#2a3f5f",
             "gridcolor": "white",
             "linecolor": "white",
             "minorgridcolor": "white",
             "startlinecolor": "#2a3f5f"
            },
            "baxis": {
             "endlinecolor": "#2a3f5f",
             "gridcolor": "white",
             "linecolor": "white",
             "minorgridcolor": "white",
             "startlinecolor": "#2a3f5f"
            },
            "type": "carpet"
           }
          ],
          "choropleth": [
           {
            "colorbar": {
             "outlinewidth": 0,
             "ticks": ""
            },
            "type": "choropleth"
           }
          ],
          "contour": [
           {
            "colorbar": {
             "outlinewidth": 0,
             "ticks": ""
            },
            "colorscale": [
             [
              0,
              "#0d0887"
             ],
             [
              0.1111111111111111,
              "#46039f"
             ],
             [
              0.2222222222222222,
              "#7201a8"
             ],
             [
              0.3333333333333333,
              "#9c179e"
             ],
             [
              0.4444444444444444,
              "#bd3786"
             ],
             [
              0.5555555555555556,
              "#d8576b"
             ],
             [
              0.6666666666666666,
              "#ed7953"
             ],
             [
              0.7777777777777778,
              "#fb9f3a"
             ],
             [
              0.8888888888888888,
              "#fdca26"
             ],
             [
              1,
              "#f0f921"
             ]
            ],
            "type": "contour"
           }
          ],
          "contourcarpet": [
           {
            "colorbar": {
             "outlinewidth": 0,
             "ticks": ""
            },
            "type": "contourcarpet"
           }
          ],
          "heatmap": [
           {
            "colorbar": {
             "outlinewidth": 0,
             "ticks": ""
            },
            "colorscale": [
             [
              0,
              "#0d0887"
             ],
             [
              0.1111111111111111,
              "#46039f"
             ],
             [
              0.2222222222222222,
              "#7201a8"
             ],
             [
              0.3333333333333333,
              "#9c179e"
             ],
             [
              0.4444444444444444,
              "#bd3786"
             ],
             [
              0.5555555555555556,
              "#d8576b"
             ],
             [
              0.6666666666666666,
              "#ed7953"
             ],
             [
              0.7777777777777778,
              "#fb9f3a"
             ],
             [
              0.8888888888888888,
              "#fdca26"
             ],
             [
              1,
              "#f0f921"
             ]
            ],
            "type": "heatmap"
           }
          ],
          "heatmapgl": [
           {
            "colorbar": {
             "outlinewidth": 0,
             "ticks": ""
            },
            "colorscale": [
             [
              0,
              "#0d0887"
             ],
             [
              0.1111111111111111,
              "#46039f"
             ],
             [
              0.2222222222222222,
              "#7201a8"
             ],
             [
              0.3333333333333333,
              "#9c179e"
             ],
             [
              0.4444444444444444,
              "#bd3786"
             ],
             [
              0.5555555555555556,
              "#d8576b"
             ],
             [
              0.6666666666666666,
              "#ed7953"
             ],
             [
              0.7777777777777778,
              "#fb9f3a"
             ],
             [
              0.8888888888888888,
              "#fdca26"
             ],
             [
              1,
              "#f0f921"
             ]
            ],
            "type": "heatmapgl"
           }
          ],
          "histogram": [
           {
            "marker": {
             "colorbar": {
              "outlinewidth": 0,
              "ticks": ""
             }
            },
            "type": "histogram"
           }
          ],
          "histogram2d": [
           {
            "colorbar": {
             "outlinewidth": 0,
             "ticks": ""
            },
            "colorscale": [
             [
              0,
              "#0d0887"
             ],
             [
              0.1111111111111111,
              "#46039f"
             ],
             [
              0.2222222222222222,
              "#7201a8"
             ],
             [
              0.3333333333333333,
              "#9c179e"
             ],
             [
              0.4444444444444444,
              "#bd3786"
             ],
             [
              0.5555555555555556,
              "#d8576b"
             ],
             [
              0.6666666666666666,
              "#ed7953"
             ],
             [
              0.7777777777777778,
              "#fb9f3a"
             ],
             [
              0.8888888888888888,
              "#fdca26"
             ],
             [
              1,
              "#f0f921"
             ]
            ],
            "type": "histogram2d"
           }
          ],
          "histogram2dcontour": [
           {
            "colorbar": {
             "outlinewidth": 0,
             "ticks": ""
            },
            "colorscale": [
             [
              0,
              "#0d0887"
             ],
             [
              0.1111111111111111,
              "#46039f"
             ],
             [
              0.2222222222222222,
              "#7201a8"
             ],
             [
              0.3333333333333333,
              "#9c179e"
             ],
             [
              0.4444444444444444,
              "#bd3786"
             ],
             [
              0.5555555555555556,
              "#d8576b"
             ],
             [
              0.6666666666666666,
              "#ed7953"
             ],
             [
              0.7777777777777778,
              "#fb9f3a"
             ],
             [
              0.8888888888888888,
              "#fdca26"
             ],
             [
              1,
              "#f0f921"
             ]
            ],
            "type": "histogram2dcontour"
           }
          ],
          "mesh3d": [
           {
            "colorbar": {
             "outlinewidth": 0,
             "ticks": ""
            },
            "type": "mesh3d"
           }
          ],
          "parcoords": [
           {
            "line": {
             "colorbar": {
              "outlinewidth": 0,
              "ticks": ""
             }
            },
            "type": "parcoords"
           }
          ],
          "scatter": [
           {
            "marker": {
             "colorbar": {
              "outlinewidth": 0,
              "ticks": ""
             }
            },
            "type": "scatter"
           }
          ],
          "scatter3d": [
           {
            "line": {
             "colorbar": {
              "outlinewidth": 0,
              "ticks": ""
             }
            },
            "marker": {
             "colorbar": {
              "outlinewidth": 0,
              "ticks": ""
             }
            },
            "type": "scatter3d"
           }
          ],
          "scattercarpet": [
           {
            "marker": {
             "colorbar": {
              "outlinewidth": 0,
              "ticks": ""
             }
            },
            "type": "scattercarpet"
           }
          ],
          "scattergeo": [
           {
            "marker": {
             "colorbar": {
              "outlinewidth": 0,
              "ticks": ""
             }
            },
            "type": "scattergeo"
           }
          ],
          "scattergl": [
           {
            "marker": {
             "colorbar": {
              "outlinewidth": 0,
              "ticks": ""
             }
            },
            "type": "scattergl"
           }
          ],
          "scattermapbox": [
           {
            "marker": {
             "colorbar": {
              "outlinewidth": 0,
              "ticks": ""
             }
            },
            "type": "scattermapbox"
           }
          ],
          "scatterpolar": [
           {
            "marker": {
             "colorbar": {
              "outlinewidth": 0,
              "ticks": ""
             }
            },
            "type": "scatterpolar"
           }
          ],
          "scatterpolargl": [
           {
            "marker": {
             "colorbar": {
              "outlinewidth": 0,
              "ticks": ""
             }
            },
            "type": "scatterpolargl"
           }
          ],
          "scatterternary": [
           {
            "marker": {
             "colorbar": {
              "outlinewidth": 0,
              "ticks": ""
             }
            },
            "type": "scatterternary"
           }
          ],
          "surface": [
           {
            "colorbar": {
             "outlinewidth": 0,
             "ticks": ""
            },
            "colorscale": [
             [
              0,
              "#0d0887"
             ],
             [
              0.1111111111111111,
              "#46039f"
             ],
             [
              0.2222222222222222,
              "#7201a8"
             ],
             [
              0.3333333333333333,
              "#9c179e"
             ],
             [
              0.4444444444444444,
              "#bd3786"
             ],
             [
              0.5555555555555556,
              "#d8576b"
             ],
             [
              0.6666666666666666,
              "#ed7953"
             ],
             [
              0.7777777777777778,
              "#fb9f3a"
             ],
             [
              0.8888888888888888,
              "#fdca26"
             ],
             [
              1,
              "#f0f921"
             ]
            ],
            "type": "surface"
           }
          ],
          "table": [
           {
            "cells": {
             "fill": {
              "color": "#EBF0F8"
             },
             "line": {
              "color": "white"
             }
            },
            "header": {
             "fill": {
              "color": "#C8D4E3"
             },
             "line": {
              "color": "white"
             }
            },
            "type": "table"
           }
          ]
         },
         "layout": {
          "annotationdefaults": {
           "arrowcolor": "#2a3f5f",
           "arrowhead": 0,
           "arrowwidth": 1
          },
          "colorscale": {
           "diverging": [
            [
             0,
             "#8e0152"
            ],
            [
             0.1,
             "#c51b7d"
            ],
            [
             0.2,
             "#de77ae"
            ],
            [
             0.3,
             "#f1b6da"
            ],
            [
             0.4,
             "#fde0ef"
            ],
            [
             0.5,
             "#f7f7f7"
            ],
            [
             0.6,
             "#e6f5d0"
            ],
            [
             0.7,
             "#b8e186"
            ],
            [
             0.8,
             "#7fbc41"
            ],
            [
             0.9,
             "#4d9221"
            ],
            [
             1,
             "#276419"
            ]
           ],
           "sequential": [
            [
             0,
             "#0d0887"
            ],
            [
             0.1111111111111111,
             "#46039f"
            ],
            [
             0.2222222222222222,
             "#7201a8"
            ],
            [
             0.3333333333333333,
             "#9c179e"
            ],
            [
             0.4444444444444444,
             "#bd3786"
            ],
            [
             0.5555555555555556,
             "#d8576b"
            ],
            [
             0.6666666666666666,
             "#ed7953"
            ],
            [
             0.7777777777777778,
             "#fb9f3a"
            ],
            [
             0.8888888888888888,
             "#fdca26"
            ],
            [
             1,
             "#f0f921"
            ]
           ],
           "sequentialminus": [
            [
             0,
             "#0d0887"
            ],
            [
             0.1111111111111111,
             "#46039f"
            ],
            [
             0.2222222222222222,
             "#7201a8"
            ],
            [
             0.3333333333333333,
             "#9c179e"
            ],
            [
             0.4444444444444444,
             "#bd3786"
            ],
            [
             0.5555555555555556,
             "#d8576b"
            ],
            [
             0.6666666666666666,
             "#ed7953"
            ],
            [
             0.7777777777777778,
             "#fb9f3a"
            ],
            [
             0.8888888888888888,
             "#fdca26"
            ],
            [
             1,
             "#f0f921"
            ]
           ]
          },
          "colorway": [
           "#636efa",
           "#EF553B",
           "#00cc96",
           "#ab63fa",
           "#FFA15A",
           "#19d3f3",
           "#FF6692",
           "#B6E880",
           "#FF97FF",
           "#FECB52"
          ],
          "font": {
           "color": "#2a3f5f"
          },
          "geo": {
           "bgcolor": "white",
           "lakecolor": "white",
           "landcolor": "#E5ECF6",
           "showlakes": true,
           "showland": true,
           "subunitcolor": "white"
          },
          "hoverlabel": {
           "align": "left"
          },
          "hovermode": "closest",
          "mapbox": {
           "style": "light"
          },
          "paper_bgcolor": "white",
          "plot_bgcolor": "#E5ECF6",
          "polar": {
           "angularaxis": {
            "gridcolor": "white",
            "linecolor": "white",
            "ticks": ""
           },
           "bgcolor": "#E5ECF6",
           "radialaxis": {
            "gridcolor": "white",
            "linecolor": "white",
            "ticks": ""
           }
          },
          "scene": {
           "xaxis": {
            "backgroundcolor": "#E5ECF6",
            "gridcolor": "white",
            "gridwidth": 2,
            "linecolor": "white",
            "showbackground": true,
            "ticks": "",
            "zerolinecolor": "white"
           },
           "yaxis": {
            "backgroundcolor": "#E5ECF6",
            "gridcolor": "white",
            "gridwidth": 2,
            "linecolor": "white",
            "showbackground": true,
            "ticks": "",
            "zerolinecolor": "white"
           },
           "zaxis": {
            "backgroundcolor": "#E5ECF6",
            "gridcolor": "white",
            "gridwidth": 2,
            "linecolor": "white",
            "showbackground": true,
            "ticks": "",
            "zerolinecolor": "white"
           }
          },
          "shapedefaults": {
           "line": {
            "color": "#2a3f5f"
           }
          },
          "ternary": {
           "aaxis": {
            "gridcolor": "white",
            "linecolor": "white",
            "ticks": ""
           },
           "baxis": {
            "gridcolor": "white",
            "linecolor": "white",
            "ticks": ""
           },
           "bgcolor": "#E5ECF6",
           "caxis": {
            "gridcolor": "white",
            "linecolor": "white",
            "ticks": ""
           }
          },
          "title": {
           "x": 0.05
          },
          "xaxis": {
           "automargin": true,
           "gridcolor": "white",
           "linecolor": "white",
           "ticks": "",
           "zerolinecolor": "white",
           "zerolinewidth": 2
          },
          "yaxis": {
           "automargin": true,
           "gridcolor": "white",
           "linecolor": "white",
           "ticks": "",
           "zerolinecolor": "white",
           "zerolinewidth": 2
          }
         }
        },
        "title": {
         "text": "Price percent box plot"
        },
        "yaxis": {
         "title": {
          "text": "Percentage"
         },
         "zeroline": false
        }
       }
      },
      "text/html": [
       "<div>\n",
       "        \n",
       "        \n",
       "            <div id=\"5e68da72-7979-478d-9c81-dcf7522ca8a5\" class=\"plotly-graph-div\" style=\"height:525px; width:100%;\"></div>\n",
       "            <script type=\"text/javascript\">\n",
       "                require([\"plotly\"], function(Plotly) {\n",
       "                    window.PLOTLYENV=window.PLOTLYENV || {};\n",
       "                    \n",
       "                if (document.getElementById(\"5e68da72-7979-478d-9c81-dcf7522ca8a5\")) {\n",
       "                    Plotly.newPlot(\n",
       "                        '5e68da72-7979-478d-9c81-dcf7522ca8a5',\n",
       "                        [{\"boxmean\": true, \"marker\": {\"color\": \"#8b4513\"}, \"name\": \"With Chocolate\", \"type\": \"box\", \"y\": [0.86000001, 0.51099998, 0.76700002, 0.76700002, 0.51099998, 0.093000002, 0.91799998, 0.91799998, 0.91799998, 0.51099998, 0.51099998, 0.65100002, 0.65100002, 0.51099998, 0.65100002, 0.44100001, 0.86000001, 0.86000001, 0.91799998, 0.76700002, 0.76700002, 0.65100002, 0.27900001, 0.65100002, 0.65100002, 0.65100002, 0.86000001, 0.081, 0.97600001, 0.65100002, 0.65100002, 0.32499999, 0.51099998, 0.011000000000000001, 0.32499999, 0.90600002, 0.84799999]}, {\"boxmean\": true, \"marker\": {\"color\": \"#8b4513\"}, \"name\": \"Without Chocolate\", \"opacity\": 0.6, \"type\": \"box\", \"y\": [0.11599999999999999, 0.51099998, 0.51099998, 0.51099998, 0.32499999, 0.32499999, 0.51099998, 0.32499999, 0.51099998, 0.034000002, 0.034000002, 0.32499999, 0.45300001, 0.465, 0.465, 0.465, 0.465, 0.51099998, 0.11599999999999999, 0.10400000000000001, 0.27900001, 0.32499999, 0.32499999, 0.97600001, 0.32499999, 0.76700002, 0.023, 0.83700001, 0.11599999999999999, 0.96499997, 0.06899999799999999, 0.27900001, 0.22, 0.22, 0.11599999999999999, 0.11599999999999999, 0.11599999999999999, 0.22, 0.057999998, 0.76700002, 0.32499999, 0.11599999999999999, 0.755, 0.255, 0.11599999999999999, 0.11599999999999999, 0.31299999, 0.26699999]}, {\"boxmean\": true, \"marker\": {\"color\": \"#e42c64\"}, \"name\": \"With Fruity\", \"type\": \"box\", \"y\": [0.51099998, 0.32499999, 0.51099998, 0.32499999, 0.51099998, 0.034000002, 0.034000002, 0.32499999, 0.45300001, 0.465, 0.465, 0.465, 0.51099998, 0.11599999999999999, 0.10400000000000001, 0.27900001, 0.32499999, 0.32499999, 0.97600001, 0.32499999, 0.83700001, 0.11599999999999999, 0.96499997, 0.27900001, 0.22, 0.22, 0.11599999999999999, 0.11599999999999999, 0.11599999999999999, 0.22, 0.057999998, 0.11599999999999999, 0.755, 0.32499999, 0.255, 0.11599999999999999, 0.11599999999999999, 0.31299999]}, {\"boxmean\": true, \"marker\": {\"color\": \"#e42c64\"}, \"name\": \"Without Fruity\", \"opacity\": 0.6, \"type\": \"box\", \"y\": [0.86000001, 0.51099998, 0.11599999999999999, 0.51099998, 0.76700002, 0.76700002, 0.51099998, 0.32499999, 0.51099998, 0.465, 0.093000002, 0.91799998, 0.91799998, 0.91799998, 0.51099998, 0.51099998, 0.65100002, 0.65100002, 0.51099998, 0.65100002, 0.44100001, 0.86000001, 0.86000001, 0.91799998, 0.76700002, 0.76700002, 0.76700002, 0.65100002, 0.023, 0.27900001, 0.65100002, 0.65100002, 0.65100002, 0.86000001, 0.06899999799999999, 0.081, 0.97600001, 0.65100002, 0.65100002, 0.76700002, 0.32499999, 0.51099998, 0.011000000000000001, 0.32499999, 0.90600002, 0.26699999, 0.84799999]}, {\"boxmean\": true, \"marker\": {\"color\": \"#f3a953\"}, \"name\": \"With Caramel\", \"type\": \"box\", \"y\": [0.86000001, 0.76700002, 0.32499999, 0.51099998, 0.65100002, 0.44100001, 0.86000001, 0.86000001, 0.65100002, 0.65100002, 0.76700002, 0.32499999, 0.90600002, 0.26699999]}, {\"boxmean\": true, \"marker\": {\"color\": \"#f3a953\"}, \"name\": \"Without Caramel\", \"opacity\": 0.6, \"type\": \"box\", \"y\": [0.51099998, 0.11599999999999999, 0.51099998, 0.51099998, 0.76700002, 0.51099998, 0.32499999, 0.51099998, 0.51099998, 0.32499999, 0.51099998, 0.034000002, 0.034000002, 0.32499999, 0.45300001, 0.465, 0.465, 0.465, 0.465, 0.093000002, 0.91799998, 0.91799998, 0.91799998, 0.51099998, 0.51099998, 0.51099998, 0.11599999999999999, 0.10400000000000001, 0.27900001, 0.65100002, 0.65100002, 0.32499999, 0.86000001, 0.91799998, 0.32499999, 0.76700002, 0.76700002, 0.97600001, 0.32499999, 0.76700002, 0.65100002, 0.023, 0.83700001, 0.11599999999999999, 0.27900001, 0.65100002, 0.65100002, 0.65100002, 0.96499997, 0.06899999799999999, 0.27900001, 0.081, 0.22, 0.22, 0.97600001, 0.11599999999999999, 0.11599999999999999, 0.11599999999999999, 0.22, 0.057999998, 0.11599999999999999, 0.755, 0.32499999, 0.51099998, 0.011000000000000001, 0.32499999, 0.255, 0.11599999999999999, 0.11599999999999999, 0.31299999, 0.84799999]}, {\"boxmean\": true, \"marker\": {\"color\": \"#58b368\"}, \"name\": \"With Peanutyalmondy\", \"type\": \"box\", \"y\": [0.76700002, 0.76700002, 0.51099998, 0.65100002, 0.91799998, 0.76700002, 0.76700002, 0.65100002, 0.27900001, 0.65100002, 0.65100002, 0.65100002, 0.65100002, 0.65100002]}, {\"boxmean\": true, \"marker\": {\"color\": \"#58b368\"}, \"name\": \"Without Peanutyalmondy\", \"opacity\": 0.6, \"type\": \"box\", \"y\": [0.86000001, 0.51099998, 0.11599999999999999, 0.51099998, 0.51099998, 0.32499999, 0.32499999, 0.51099998, 0.51099998, 0.32499999, 0.51099998, 0.034000002, 0.034000002, 0.32499999, 0.45300001, 0.465, 0.465, 0.465, 0.465, 0.093000002, 0.91799998, 0.91799998, 0.91799998, 0.51099998, 0.51099998, 0.51099998, 0.11599999999999999, 0.10400000000000001, 0.27900001, 0.65100002, 0.32499999, 0.51099998, 0.65100002, 0.44100001, 0.86000001, 0.86000001, 0.32499999, 0.76700002, 0.97600001, 0.32499999, 0.023, 0.83700001, 0.11599999999999999, 0.96499997, 0.86000001, 0.06899999799999999, 0.27900001, 0.081, 0.22, 0.22, 0.97600001, 0.11599999999999999, 0.11599999999999999, 0.11599999999999999, 0.22, 0.057999998, 0.76700002, 0.32499999, 0.11599999999999999, 0.755, 0.32499999, 0.51099998, 0.011000000000000001, 0.32499999, 0.255, 0.90600002, 0.11599999999999999, 0.11599999999999999, 0.31299999, 0.26699999, 0.84799999]}, {\"boxmean\": true, \"marker\": {\"color\": \"#373a6d\"}, \"name\": \"With Nougat\", \"type\": \"box\", \"y\": [0.51099998, 0.76700002, 0.51099998, 0.65100002, 0.44100001, 0.76700002, 0.65100002]}, {\"boxmean\": true, \"marker\": {\"color\": \"#373a6d\"}, \"name\": \"Without Nougat\", \"opacity\": 0.6, \"type\": \"box\", \"y\": [0.86000001, 0.11599999999999999, 0.51099998, 0.51099998, 0.76700002, 0.51099998, 0.32499999, 0.32499999, 0.51099998, 0.32499999, 0.51099998, 0.034000002, 0.034000002, 0.32499999, 0.45300001, 0.465, 0.465, 0.465, 0.465, 0.093000002, 0.91799998, 0.91799998, 0.91799998, 0.51099998, 0.51099998, 0.51099998, 0.11599999999999999, 0.10400000000000001, 0.27900001, 0.65100002, 0.65100002, 0.32499999, 0.51099998, 0.86000001, 0.86000001, 0.91799998, 0.32499999, 0.76700002, 0.76700002, 0.97600001, 0.32499999, 0.65100002, 0.023, 0.83700001, 0.11599999999999999, 0.27900001, 0.65100002, 0.65100002, 0.65100002, 0.96499997, 0.86000001, 0.06899999799999999, 0.27900001, 0.081, 0.22, 0.22, 0.97600001, 0.11599999999999999, 0.65100002, 0.11599999999999999, 0.11599999999999999, 0.22, 0.057999998, 0.76700002, 0.32499999, 0.11599999999999999, 0.755, 0.32499999, 0.51099998, 0.011000000000000001, 0.32499999, 0.255, 0.90600002, 0.11599999999999999, 0.11599999999999999, 0.31299999, 0.26699999, 0.84799999]}, {\"boxmean\": true, \"marker\": {\"color\": \"#9370db\"}, \"name\": \"With Crispedricewafer\", \"type\": \"box\", \"y\": [0.86000001, 0.91799998, 0.51099998, 0.76700002, 0.65100002, 0.90600002, 0.84799999]}, {\"boxmean\": true, \"marker\": {\"color\": \"#9370db\"}, \"name\": \"Without Crispedricewafer\", \"opacity\": 0.6, \"type\": \"box\", \"y\": [0.51099998, 0.11599999999999999, 0.51099998, 0.51099998, 0.76700002, 0.76700002, 0.51099998, 0.32499999, 0.32499999, 0.51099998, 0.51099998, 0.32499999, 0.51099998, 0.034000002, 0.034000002, 0.32499999, 0.45300001, 0.465, 0.465, 0.465, 0.465, 0.093000002, 0.91799998, 0.91799998, 0.51099998, 0.51099998, 0.11599999999999999, 0.10400000000000001, 0.27900001, 0.65100002, 0.65100002, 0.32499999, 0.51099998, 0.65100002, 0.44100001, 0.86000001, 0.86000001, 0.91799998, 0.32499999, 0.76700002, 0.97600001, 0.32499999, 0.76700002, 0.65100002, 0.023, 0.83700001, 0.11599999999999999, 0.27900001, 0.65100002, 0.65100002, 0.65100002, 0.96499997, 0.86000001, 0.06899999799999999, 0.27900001, 0.081, 0.22, 0.22, 0.97600001, 0.11599999999999999, 0.65100002, 0.11599999999999999, 0.11599999999999999, 0.22, 0.057999998, 0.76700002, 0.32499999, 0.11599999999999999, 0.755, 0.32499999, 0.51099998, 0.011000000000000001, 0.32499999, 0.255, 0.11599999999999999, 0.11599999999999999, 0.31299999, 0.26699999]}, {\"boxmean\": true, \"marker\": {\"color\": \"#ff4057\"}, \"name\": \"With Hard\", \"type\": \"box\", \"y\": [0.034000002, 0.32499999, 0.45300001, 0.51099998, 0.10400000000000001, 0.32499999, 0.83700001, 0.96499997, 0.06899999799999999, 0.27900001, 0.11599999999999999, 0.057999998, 0.32499999, 0.11599999999999999, 0.26699999]}, {\"boxmean\": true, \"marker\": {\"color\": \"#ff4057\"}, \"name\": \"Without Hard\", \"opacity\": 0.6, \"type\": \"box\", \"y\": [0.86000001, 0.51099998, 0.11599999999999999, 0.51099998, 0.51099998, 0.76700002, 0.76700002, 0.51099998, 0.32499999, 0.32499999, 0.51099998, 0.51099998, 0.32499999, 0.51099998, 0.034000002, 0.465, 0.465, 0.465, 0.465, 0.093000002, 0.91799998, 0.91799998, 0.91799998, 0.51099998, 0.51099998, 0.11599999999999999, 0.27900001, 0.65100002, 0.65100002, 0.32499999, 0.51099998, 0.65100002, 0.44100001, 0.86000001, 0.86000001, 0.91799998, 0.76700002, 0.76700002, 0.97600001, 0.32499999, 0.76700002, 0.65100002, 0.023, 0.11599999999999999, 0.27900001, 0.65100002, 0.65100002, 0.65100002, 0.86000001, 0.081, 0.22, 0.22, 0.97600001, 0.65100002, 0.65100002, 0.11599999999999999, 0.11599999999999999, 0.22, 0.76700002, 0.32499999, 0.11599999999999999, 0.755, 0.51099998, 0.011000000000000001, 0.32499999, 0.255, 0.90600002, 0.11599999999999999, 0.31299999, 0.84799999]}, {\"boxmean\": true, \"marker\": {\"color\": \"#096386\"}, \"name\": \"With Bar\", \"type\": \"box\", \"y\": [0.86000001, 0.51099998, 0.76700002, 0.76700002, 0.51099998, 0.91799998, 0.91799998, 0.91799998, 0.51099998, 0.65100002, 0.44100001, 0.86000001, 0.86000001, 0.91799998, 0.76700002, 0.76700002, 0.76700002, 0.65100002, 0.65100002, 0.32499999, 0.90600002]}, {\"boxmean\": true, \"marker\": {\"color\": \"#096386\"}, \"name\": \"Without Bar\", \"opacity\": 0.6, \"type\": \"box\", \"y\": [0.11599999999999999, 0.51099998, 0.51099998, 0.51099998, 0.32499999, 0.32499999, 0.51099998, 0.32499999, 0.51099998, 0.034000002, 0.034000002, 0.32499999, 0.45300001, 0.465, 0.465, 0.465, 0.465, 0.093000002, 0.51099998, 0.51099998, 0.11599999999999999, 0.10400000000000001, 0.27900001, 0.65100002, 0.65100002, 0.32499999, 0.51099998, 0.32499999, 0.97600001, 0.32499999, 0.65100002, 0.023, 0.83700001, 0.11599999999999999, 0.27900001, 0.65100002, 0.65100002, 0.65100002, 0.96499997, 0.86000001, 0.06899999799999999, 0.27900001, 0.081, 0.22, 0.22, 0.97600001, 0.11599999999999999, 0.11599999999999999, 0.11599999999999999, 0.22, 0.057999998, 0.76700002, 0.32499999, 0.11599999999999999, 0.755, 0.32499999, 0.51099998, 0.011000000000000001, 0.255, 0.11599999999999999, 0.11599999999999999, 0.31299999, 0.26699999, 0.84799999]}, {\"marker\": {\"color\": \"#252525\"}, \"mode\": \"lines+markers+text\", \"text\": [\"ss\"], \"textposition\": \"top center\", \"type\": \"scatter\", \"x\": [\"With Chocolate\", \"Without Chocolate\"], \"y\": [1, 1]}, {\"marker\": {\"color\": \"#252525\"}, \"mode\": \"lines+markers+text\", \"text\": [\"ss\"], \"textposition\": \"top center\", \"type\": \"scatter\", \"x\": [\"With Fruity\", \"Without Fruity\"], \"y\": [1, 1]}, {\"marker\": {\"color\": \"#252525\"}, \"mode\": \"lines+markers+text\", \"text\": [\"ss\"], \"textposition\": \"top center\", \"type\": \"scatter\", \"x\": [\"With Caramel\", \"Without Caramel\"], \"y\": [1, 1]}, {\"marker\": {\"color\": \"#252525\"}, \"mode\": \"lines+markers+text\", \"text\": [\"ss\"], \"textposition\": \"top center\", \"type\": \"scatter\", \"x\": [\"With Peanutyalmondy\", \"Without Peanutyalmondy\"], \"y\": [1, 1]}, {\"marker\": {\"color\": \"#252525\"}, \"mode\": \"lines+markers+text\", \"text\": [\"ns\"], \"textposition\": \"top center\", \"type\": \"scatter\", \"x\": [\"With Nougat\", \"Without Nougat\"], \"y\": [1, 1]}, {\"marker\": {\"color\": \"#252525\"}, \"mode\": \"lines+markers+text\", \"text\": [\"ss\"], \"textposition\": \"top center\", \"type\": \"scatter\", \"x\": [\"With Crispedricewafer\", \"Without Crispedricewafer\"], \"y\": [1, 1]}, {\"marker\": {\"color\": \"#252525\"}, \"mode\": \"lines+markers+text\", \"text\": [\"ss\"], \"textposition\": \"top center\", \"type\": \"scatter\", \"x\": [\"With Hard\", \"Without Hard\"], \"y\": [1, 1]}, {\"marker\": {\"color\": \"#252525\"}, \"mode\": \"lines+markers+text\", \"text\": [\"ss\"], \"textposition\": \"top center\", \"type\": \"scatter\", \"x\": [\"With Bar\", \"Without Bar\"], \"y\": [1, 1]}],\n",
       "                        {\"showlegend\": false, \"template\": {\"data\": {\"bar\": [{\"error_x\": {\"color\": \"#2a3f5f\"}, \"error_y\": {\"color\": \"#2a3f5f\"}, \"marker\": {\"line\": {\"color\": \"#E5ECF6\", \"width\": 0.5}}, \"type\": \"bar\"}], \"barpolar\": [{\"marker\": {\"line\": {\"color\": \"#E5ECF6\", \"width\": 0.5}}, \"type\": \"barpolar\"}], \"carpet\": [{\"aaxis\": {\"endlinecolor\": \"#2a3f5f\", \"gridcolor\": \"white\", \"linecolor\": \"white\", \"minorgridcolor\": \"white\", \"startlinecolor\": \"#2a3f5f\"}, \"baxis\": {\"endlinecolor\": \"#2a3f5f\", \"gridcolor\": \"white\", \"linecolor\": \"white\", \"minorgridcolor\": \"white\", \"startlinecolor\": \"#2a3f5f\"}, \"type\": \"carpet\"}], \"choropleth\": [{\"colorbar\": {\"outlinewidth\": 0, \"ticks\": \"\"}, \"type\": \"choropleth\"}], \"contour\": [{\"colorbar\": {\"outlinewidth\": 0, \"ticks\": \"\"}, \"colorscale\": [[0.0, \"#0d0887\"], [0.1111111111111111, \"#46039f\"], [0.2222222222222222, \"#7201a8\"], [0.3333333333333333, \"#9c179e\"], [0.4444444444444444, \"#bd3786\"], [0.5555555555555556, \"#d8576b\"], [0.6666666666666666, \"#ed7953\"], [0.7777777777777778, \"#fb9f3a\"], [0.8888888888888888, \"#fdca26\"], [1.0, \"#f0f921\"]], \"type\": \"contour\"}], \"contourcarpet\": [{\"colorbar\": {\"outlinewidth\": 0, \"ticks\": \"\"}, \"type\": \"contourcarpet\"}], \"heatmap\": [{\"colorbar\": {\"outlinewidth\": 0, \"ticks\": \"\"}, \"colorscale\": [[0.0, \"#0d0887\"], [0.1111111111111111, \"#46039f\"], [0.2222222222222222, \"#7201a8\"], [0.3333333333333333, \"#9c179e\"], [0.4444444444444444, \"#bd3786\"], [0.5555555555555556, \"#d8576b\"], [0.6666666666666666, \"#ed7953\"], [0.7777777777777778, \"#fb9f3a\"], [0.8888888888888888, \"#fdca26\"], [1.0, \"#f0f921\"]], \"type\": \"heatmap\"}], \"heatmapgl\": [{\"colorbar\": {\"outlinewidth\": 0, \"ticks\": \"\"}, \"colorscale\": [[0.0, \"#0d0887\"], [0.1111111111111111, \"#46039f\"], [0.2222222222222222, \"#7201a8\"], [0.3333333333333333, \"#9c179e\"], [0.4444444444444444, \"#bd3786\"], [0.5555555555555556, \"#d8576b\"], [0.6666666666666666, \"#ed7953\"], [0.7777777777777778, \"#fb9f3a\"], [0.8888888888888888, \"#fdca26\"], [1.0, \"#f0f921\"]], \"type\": \"heatmapgl\"}], \"histogram\": [{\"marker\": {\"colorbar\": {\"outlinewidth\": 0, \"ticks\": \"\"}}, \"type\": \"histogram\"}], \"histogram2d\": [{\"colorbar\": {\"outlinewidth\": 0, \"ticks\": \"\"}, \"colorscale\": [[0.0, \"#0d0887\"], [0.1111111111111111, \"#46039f\"], [0.2222222222222222, \"#7201a8\"], [0.3333333333333333, \"#9c179e\"], [0.4444444444444444, \"#bd3786\"], [0.5555555555555556, \"#d8576b\"], [0.6666666666666666, \"#ed7953\"], [0.7777777777777778, \"#fb9f3a\"], [0.8888888888888888, \"#fdca26\"], [1.0, \"#f0f921\"]], \"type\": \"histogram2d\"}], \"histogram2dcontour\": [{\"colorbar\": {\"outlinewidth\": 0, \"ticks\": \"\"}, \"colorscale\": [[0.0, \"#0d0887\"], [0.1111111111111111, \"#46039f\"], [0.2222222222222222, \"#7201a8\"], [0.3333333333333333, \"#9c179e\"], [0.4444444444444444, \"#bd3786\"], [0.5555555555555556, \"#d8576b\"], [0.6666666666666666, \"#ed7953\"], [0.7777777777777778, \"#fb9f3a\"], [0.8888888888888888, \"#fdca26\"], [1.0, \"#f0f921\"]], \"type\": \"histogram2dcontour\"}], \"mesh3d\": [{\"colorbar\": {\"outlinewidth\": 0, \"ticks\": \"\"}, \"type\": \"mesh3d\"}], \"parcoords\": [{\"line\": {\"colorbar\": {\"outlinewidth\": 0, \"ticks\": \"\"}}, \"type\": \"parcoords\"}], \"scatter\": [{\"marker\": {\"colorbar\": {\"outlinewidth\": 0, \"ticks\": \"\"}}, \"type\": \"scatter\"}], \"scatter3d\": [{\"line\": {\"colorbar\": {\"outlinewidth\": 0, \"ticks\": \"\"}}, \"marker\": {\"colorbar\": {\"outlinewidth\": 0, \"ticks\": \"\"}}, \"type\": \"scatter3d\"}], \"scattercarpet\": [{\"marker\": {\"colorbar\": {\"outlinewidth\": 0, \"ticks\": \"\"}}, \"type\": \"scattercarpet\"}], \"scattergeo\": [{\"marker\": {\"colorbar\": {\"outlinewidth\": 0, \"ticks\": \"\"}}, \"type\": \"scattergeo\"}], \"scattergl\": [{\"marker\": {\"colorbar\": {\"outlinewidth\": 0, \"ticks\": \"\"}}, \"type\": \"scattergl\"}], \"scattermapbox\": [{\"marker\": {\"colorbar\": {\"outlinewidth\": 0, \"ticks\": \"\"}}, \"type\": \"scattermapbox\"}], \"scatterpolar\": [{\"marker\": {\"colorbar\": {\"outlinewidth\": 0, \"ticks\": \"\"}}, \"type\": \"scatterpolar\"}], \"scatterpolargl\": [{\"marker\": {\"colorbar\": {\"outlinewidth\": 0, \"ticks\": \"\"}}, \"type\": \"scatterpolargl\"}], \"scatterternary\": [{\"marker\": {\"colorbar\": {\"outlinewidth\": 0, \"ticks\": \"\"}}, \"type\": \"scatterternary\"}], \"surface\": [{\"colorbar\": {\"outlinewidth\": 0, \"ticks\": \"\"}, \"colorscale\": [[0.0, \"#0d0887\"], [0.1111111111111111, \"#46039f\"], [0.2222222222222222, \"#7201a8\"], [0.3333333333333333, \"#9c179e\"], [0.4444444444444444, \"#bd3786\"], [0.5555555555555556, \"#d8576b\"], [0.6666666666666666, \"#ed7953\"], [0.7777777777777778, \"#fb9f3a\"], [0.8888888888888888, \"#fdca26\"], [1.0, \"#f0f921\"]], \"type\": \"surface\"}], \"table\": [{\"cells\": {\"fill\": {\"color\": \"#EBF0F8\"}, \"line\": {\"color\": \"white\"}}, \"header\": {\"fill\": {\"color\": \"#C8D4E3\"}, \"line\": {\"color\": \"white\"}}, \"type\": \"table\"}]}, \"layout\": {\"annotationdefaults\": {\"arrowcolor\": \"#2a3f5f\", \"arrowhead\": 0, \"arrowwidth\": 1}, \"colorscale\": {\"diverging\": [[0, \"#8e0152\"], [0.1, \"#c51b7d\"], [0.2, \"#de77ae\"], [0.3, \"#f1b6da\"], [0.4, \"#fde0ef\"], [0.5, \"#f7f7f7\"], [0.6, \"#e6f5d0\"], [0.7, \"#b8e186\"], [0.8, \"#7fbc41\"], [0.9, \"#4d9221\"], [1, \"#276419\"]], \"sequential\": [[0.0, \"#0d0887\"], [0.1111111111111111, \"#46039f\"], [0.2222222222222222, \"#7201a8\"], [0.3333333333333333, \"#9c179e\"], [0.4444444444444444, \"#bd3786\"], [0.5555555555555556, \"#d8576b\"], [0.6666666666666666, \"#ed7953\"], [0.7777777777777778, \"#fb9f3a\"], [0.8888888888888888, \"#fdca26\"], [1.0, \"#f0f921\"]], \"sequentialminus\": [[0.0, \"#0d0887\"], [0.1111111111111111, \"#46039f\"], [0.2222222222222222, \"#7201a8\"], [0.3333333333333333, \"#9c179e\"], [0.4444444444444444, \"#bd3786\"], [0.5555555555555556, \"#d8576b\"], [0.6666666666666666, \"#ed7953\"], [0.7777777777777778, \"#fb9f3a\"], [0.8888888888888888, \"#fdca26\"], [1.0, \"#f0f921\"]]}, \"colorway\": [\"#636efa\", \"#EF553B\", \"#00cc96\", \"#ab63fa\", \"#FFA15A\", \"#19d3f3\", \"#FF6692\", \"#B6E880\", \"#FF97FF\", \"#FECB52\"], \"font\": {\"color\": \"#2a3f5f\"}, \"geo\": {\"bgcolor\": \"white\", \"lakecolor\": \"white\", \"landcolor\": \"#E5ECF6\", \"showlakes\": true, \"showland\": true, \"subunitcolor\": \"white\"}, \"hoverlabel\": {\"align\": \"left\"}, \"hovermode\": \"closest\", \"mapbox\": {\"style\": \"light\"}, \"paper_bgcolor\": \"white\", \"plot_bgcolor\": \"#E5ECF6\", \"polar\": {\"angularaxis\": {\"gridcolor\": \"white\", \"linecolor\": \"white\", \"ticks\": \"\"}, \"bgcolor\": \"#E5ECF6\", \"radialaxis\": {\"gridcolor\": \"white\", \"linecolor\": \"white\", \"ticks\": \"\"}}, \"scene\": {\"xaxis\": {\"backgroundcolor\": \"#E5ECF6\", \"gridcolor\": \"white\", \"gridwidth\": 2, \"linecolor\": \"white\", \"showbackground\": true, \"ticks\": \"\", \"zerolinecolor\": \"white\"}, \"yaxis\": {\"backgroundcolor\": \"#E5ECF6\", \"gridcolor\": \"white\", \"gridwidth\": 2, \"linecolor\": \"white\", \"showbackground\": true, \"ticks\": \"\", \"zerolinecolor\": \"white\"}, \"zaxis\": {\"backgroundcolor\": \"#E5ECF6\", \"gridcolor\": \"white\", \"gridwidth\": 2, \"linecolor\": \"white\", \"showbackground\": true, \"ticks\": \"\", \"zerolinecolor\": \"white\"}}, \"shapedefaults\": {\"line\": {\"color\": \"#2a3f5f\"}}, \"ternary\": {\"aaxis\": {\"gridcolor\": \"white\", \"linecolor\": \"white\", \"ticks\": \"\"}, \"baxis\": {\"gridcolor\": \"white\", \"linecolor\": \"white\", \"ticks\": \"\"}, \"bgcolor\": \"#E5ECF6\", \"caxis\": {\"gridcolor\": \"white\", \"linecolor\": \"white\", \"ticks\": \"\"}}, \"title\": {\"x\": 0.05}, \"xaxis\": {\"automargin\": true, \"gridcolor\": \"white\", \"linecolor\": \"white\", \"ticks\": \"\", \"zerolinecolor\": \"white\", \"zerolinewidth\": 2}, \"yaxis\": {\"automargin\": true, \"gridcolor\": \"white\", \"linecolor\": \"white\", \"ticks\": \"\", \"zerolinecolor\": \"white\", \"zerolinewidth\": 2}}}, \"title\": {\"text\": \"Price percent box plot\"}, \"yaxis\": {\"title\": {\"text\": \"Percentage\"}, \"zeroline\": false}},\n",
       "                        {\"responsive\": true}\n",
       "                    ).then(function(){\n",
       "                            \n",
       "var gd = document.getElementById('5e68da72-7979-478d-9c81-dcf7522ca8a5');\n",
       "var x = new MutationObserver(function (mutations, observer) {{\n",
       "        var display = window.getComputedStyle(gd).display;\n",
       "        if (!display || display === 'none') {{\n",
       "            console.log([gd, 'removed!']);\n",
       "            Plotly.purge(gd);\n",
       "            observer.disconnect();\n",
       "        }}\n",
       "}});\n",
       "\n",
       "// Listen for the removal of the full notebook cells\n",
       "var notebookContainer = gd.closest('#notebook-container');\n",
       "if (notebookContainer) {{\n",
       "    x.observe(notebookContainer, {childList: true});\n",
       "}}\n",
       "\n",
       "// Listen for the clearing of the current output cell\n",
       "var outputEl = gd.closest('.output');\n",
       "if (outputEl) {{\n",
       "    x.observe(outputEl, {childList: true});\n",
       "}}\n",
       "\n",
       "                        })\n",
       "                };\n",
       "                });\n",
       "            </script>\n",
       "        </div>"
      ]
     },
     "metadata": {},
     "output_type": "display_data"
    }
   ],
   "source": [
    "def price_ss():\n",
    "    y = [df[df.chocolate == 1].pricepercent, df[df.chocolate == 0].pricepercent, df[df.fruity == 1].pricepercent, df[df.fruity == 0].pricepercent, df[df.caramel == 1].pricepercent, df[df.caramel == 0].pricepercent,\n",
    "          df[df.peanutyalmondy == 1].pricepercent, df[df.peanutyalmondy == 0].pricepercent, df[df.nougat == 1].pricepercent, df[df.nougat == 0].pricepercent, df[df.crispedricewafer == 1].pricepercent, df[df.crispedricewafer == 0].pricepercent,\n",
    "          df[df.hard == 1].pricepercent, df[df.hard == 0].pricepercent, df[df.bar == 1].pricepercent, df[df.bar == 0].pricepercent]\n",
    "    trace0 = go.Box(\n",
    "        boxmean=True,\n",
    "        y=y[0],\n",
    "        name='With Chocolate',\n",
    "        marker=dict(\n",
    "            color='#8b4513'\n",
    "        )\n",
    "    )\n",
    "    trace1 = go.Box(\n",
    "        boxmean=True,\n",
    "        y=y[1],\n",
    "        name='Without Chocolate',\n",
    "        opacity=0.6,\n",
    "        marker=dict(\n",
    "            color='#8b4513'\n",
    "\n",
    "        )\n",
    "    )\n",
    "    trace2 = go.Box(\n",
    "        boxmean=True,\n",
    "        y=y[2],\n",
    "        name='With Fruity',\n",
    "        marker=dict(\n",
    "            color='#e42c64'\n",
    "        )\n",
    "    )\n",
    "    trace3 = go.Box(\n",
    "        boxmean=True,\n",
    "        y=y[3],\n",
    "        name='Without Fruity',\n",
    "        opacity=0.6,\n",
    "        marker=dict(\n",
    "            color='#e42c64'\n",
    "        )\n",
    "    )\n",
    "    trace4 = go.Box(\n",
    "        boxmean=True,\n",
    "        y=y[4],\n",
    "        name='With Caramel',\n",
    "        marker=dict(\n",
    "            color='#f3a953'\n",
    "        )\n",
    "    )\n",
    "    trace5 = go.Box(\n",
    "        boxmean=True,\n",
    "        y=y[5],\n",
    "        name='Without Caramel',\n",
    "        opacity=0.6,\n",
    "        marker=dict(\n",
    "            color='#f3a953'\n",
    "        )\n",
    "    )\n",
    "    trace6 = go.Box(\n",
    "        boxmean=True,\n",
    "        y=y[6],\n",
    "        name='With Peanutyalmondy',\n",
    "        marker=dict(\n",
    "            color='#58b368'\n",
    "        )\n",
    "    )\n",
    "    trace7 = go.Box(\n",
    "        boxmean=True,\n",
    "        y=y[7],\n",
    "        name='Without Peanutyalmondy',\n",
    "        opacity=0.6,\n",
    "        marker=dict(\n",
    "            color='#58b368'\n",
    "        )\n",
    "    )\n",
    "    trace8 = go.Box(\n",
    "        boxmean=True,\n",
    "        y=y[8],\n",
    "        name='With Nougat',\n",
    "        marker=dict(\n",
    "            color='#373a6d'\n",
    "        )\n",
    "    )\n",
    "    trace9 = go.Box(\n",
    "        boxmean=True,\n",
    "        y=y[9],\n",
    "        name='Without Nougat',\n",
    "        opacity=0.6,\n",
    "        marker=dict(\n",
    "            color='#373a6d'\n",
    "        )\n",
    "    )\n",
    "    trace10 = go.Box(\n",
    "        boxmean=True,\n",
    "        y=y[10],\n",
    "        name='With Crispedricewafer',\n",
    "        marker=dict(\n",
    "            color='#9370db'\n",
    "        )\n",
    "    )\n",
    "    trace11 = go.Box(\n",
    "        boxmean=True,\n",
    "        y=y[11],\n",
    "        name='Without Crispedricewafer',\n",
    "        opacity=0.6,\n",
    "        marker=dict(\n",
    "            color='#9370db'\n",
    "        )\n",
    "    )\n",
    "    trace12 = go.Box(\n",
    "        boxmean=True,\n",
    "        y=y[12],\n",
    "        name='With Hard',\n",
    "        marker=dict(\n",
    "            color='#ff4057'\n",
    "        )\n",
    "    )\n",
    "    trace13 = go.Box(\n",
    "        boxmean=True,\n",
    "        y=y[13],\n",
    "        name='Without Hard',\n",
    "        opacity=0.6,\n",
    "        marker=dict(\n",
    "            color='#ff4057'\n",
    "        )\n",
    "    )\n",
    "    trace14 = go.Box(\n",
    "        boxmean=True,\n",
    "        y=y[14],\n",
    "        name='With Bar',\n",
    "        marker=dict(\n",
    "            color='#096386'\n",
    "        )\n",
    "    )\n",
    "    trace15 = go.Box(\n",
    "        boxmean=True,\n",
    "        y=y[15],\n",
    "        name='Without Bar',\n",
    "        opacity=0.6,\n",
    "        marker=dict(\n",
    "            color='#096386'\n",
    "        )\n",
    "    )\n",
    "    trace16 = go.Scatter(\n",
    "        x=['With Chocolate', 'Without Chocolate' ],\n",
    "        y=[1,1],\n",
    "        mode='lines+markers+text',\n",
    "        text=[pricepercent_p_val[0]],\n",
    "        textposition='top center',\n",
    "        marker=dict(\n",
    "            color='#252525'\n",
    "        )\n",
    "    )\n",
    "\n",
    "    trace17 = go.Scatter(\n",
    "    x=['With Fruity', 'Without Fruity' ],\n",
    "    y=[1,1],\n",
    "    mode='lines+markers+text',\n",
    "    text=[pricepercent_p_val[1]],\n",
    "    textposition='top center',\n",
    "\n",
    "    marker=dict(\n",
    "        color='#252525'\n",
    "    )\n",
    "    )\n",
    "    trace18 = go.Scatter(\n",
    "        x=['With Caramel', 'Without Caramel' ],\n",
    "        y=[1,1],\n",
    "        mode='lines+markers+text',\n",
    "        text=[pricepercent_p_val[2]],\n",
    "        textposition='top center',\n",
    "            marker=dict(\n",
    "            color='#252525'\n",
    "        )\n",
    "    )\n",
    "\n",
    "    trace19 = go.Scatter(\n",
    "    x=['With Peanutyalmondy', 'Without Peanutyalmondy' ],\n",
    "    y=[1,1],\n",
    "    mode='lines+markers+text',\n",
    "    text=[pricepercent_p_val[3]],\n",
    "    textposition='top center',\n",
    "\n",
    "    marker=dict(\n",
    "        color='#252525'\n",
    "    )\n",
    "    )\n",
    "    trace20 = go.Scatter(\n",
    "        x=['With Nougat', 'Without Nougat' ],\n",
    "        y=[1,1],\n",
    "        mode='lines+markers+text',\n",
    "        text=[pricepercent_p_val[4]],\n",
    "        textposition='top center',\n",
    "        marker=dict(\n",
    "            color='#252525'\n",
    "        )\n",
    "    )\n",
    "\n",
    "    trace21 = go.Scatter(\n",
    "    x=['With Crispedricewafer', 'Without Crispedricewafer' ],\n",
    "    y=[1,1],\n",
    "    mode='lines+markers+text',\n",
    "    text=[pricepercent_p_val[5]],\n",
    "    textposition='top center',\n",
    "\n",
    "    marker=dict(\n",
    "        color='#252525'\n",
    "    )\n",
    "    )\n",
    "    trace22 = go.Scatter(\n",
    "        x=['With Hard', 'Without Hard' ],\n",
    "        y=[1,1],\n",
    "        mode='lines+markers+text',\n",
    "        text=[pricepercent_p_val[6]],\n",
    "        textposition='top center',\n",
    "        marker=dict(\n",
    "            color='#252525'\n",
    "        )\n",
    "    )\n",
    "\n",
    "    trace23 = go.Scatter(\n",
    "    x=['With Bar', 'Without Bar' ],\n",
    "    y=[1,1],\n",
    "    mode='lines+markers+text',\n",
    "    text=[pricepercent_p_val[7]],\n",
    "    textposition='top center',\n",
    "    marker=dict(\n",
    "        color='#252525'\n",
    "\n",
    "    )\n",
    "    )\n",
    "\n",
    "    data = [trace0, trace1, trace2, trace3, trace4, trace5, trace6, trace7, trace8, trace9, trace10, trace11, trace12, trace13, trace14, trace15, trace16, trace17, trace18, trace19, trace20, trace21, trace22, trace23]\n",
    "    layout = go.Layout(\n",
    "        showlegend=False,\n",
    "        title='Price percent box plot',\n",
    "        yaxis=dict(\n",
    "            title='Percentage',\n",
    "            zeroline=False\n",
    "\n",
    "        )    \n",
    "    )\n",
    "    fig = go.Figure(data=data, layout=layout)\n",
    "    return(fig)\n",
    "py.offline.iplot(price_ss())"
   ]
  },
  {
   "cell_type": "markdown",
   "metadata": {},
   "source": [
    "**Inference: The following points can be infered from the above box plot:<br>**\n",
    "    1. Having chocolate as a content in the candy is statistically significant which implies that there is a significant difference in the means of price percentage of candies with and without chocolates. Hence we can finally infer that chocolate as a content of candy increases the price of the candy.\n",
    "    2. The p value of fruity content is statistically significant with respect to price percent and from the above plot we can infer that a candy with having fruity content has a higher chances of being cheaper.\n",
    "    3. The p value of caramel content is statistically significant with respect to price percent and from the above plot we can infer that a candy with having caramel content has a higher chances of being expensive.\n",
    "    4. The p value of peanutyalmondy content is statistically significant with respect to price percent and from the above plot we can infer that a candy with having peanutyalmondy content has a higher chances of being expensive.\n",
    "    5. The p value of nougat is not significant hence we cannot infer anything for nougat content candies.\n",
    "    6. The p value of crispedricewafer content is statistically significant with respect to price percent and from the above plot we can infer that a candy with having crispedricewafer content has a higher chances of being expensive.\n",
    "    7. The p value of hard candies is statistically significant with respect to price percent and from the above plot we can infer that a hard candy has a higher chances of being cheaper.\n",
    "    8. The p value of bar candies is statistically significant with respect to price percent and from the above plot we can infer that a bar candy has a higher chances of being extremely expensive."
   ]
  },
  {
   "cell_type": "markdown",
   "metadata": {},
   "source": [
    "# 4. Statistical hypothesis test for sugar percent"
   ]
  },
  {
   "cell_type": "markdown",
   "metadata": {},
   "source": [
    "## 4.1. To analyze the effect on sugar percentage on the basis of content of the candies. Bar chart depicts how sugar percentage is effected with/without the presence of that content in the candy."
   ]
  },
  {
   "cell_type": "code",
   "execution_count": 27,
   "metadata": {},
   "outputs": [
    {
     "data": {
      "application/vnd.plotly.v1+json": {
       "config": {
        "linkText": "Export to plot.ly",
        "plotlyServerURL": "https://plot.ly",
        "showLink": false
       },
       "data": [
        {
         "marker": {
          "color": "#1b7fbd"
         },
         "name": "With",
         "type": "bar",
         "x": [
          "Chocolate",
          "Fruity",
          "Caramel",
          "Peanutyalmondy",
          "Nougat",
          "Crispedricewafer",
          "Hard",
          "Bar"
         ],
         "y": [
          0.5119999905945947,
          0.46789472921052644,
          0.6191428435714287,
          0.5342857051428571,
          0.5941428385714287,
          0.5442857042857143,
          0.5343999929333335,
          0.5277142742857143
         ]
        },
        {
         "marker": {
          "color": "#f96d15"
         },
         "name": "Without",
         "type": "bar",
         "x": [
          "Chocolate",
          "Fruity",
          "Caramel",
          "Peanutyalmondy",
          "Nougat",
          "Crispedricewafer",
          "Hard",
          "Bar"
         ],
         "y": [
          0.45293749420833335,
          0.4873404183829786,
          0.45094365583098583,
          0.46767604932394363,
          0.4682820449230769,
          0.4727564031282051,
          0.46669999257142875,
          0.4625468689687501
         ]
        }
       ],
       "layout": {
        "barmode": "group",
        "template": {
         "data": {
          "bar": [
           {
            "error_x": {
             "color": "#2a3f5f"
            },
            "error_y": {
             "color": "#2a3f5f"
            },
            "marker": {
             "line": {
              "color": "#E5ECF6",
              "width": 0.5
             }
            },
            "type": "bar"
           }
          ],
          "barpolar": [
           {
            "marker": {
             "line": {
              "color": "#E5ECF6",
              "width": 0.5
             }
            },
            "type": "barpolar"
           }
          ],
          "carpet": [
           {
            "aaxis": {
             "endlinecolor": "#2a3f5f",
             "gridcolor": "white",
             "linecolor": "white",
             "minorgridcolor": "white",
             "startlinecolor": "#2a3f5f"
            },
            "baxis": {
             "endlinecolor": "#2a3f5f",
             "gridcolor": "white",
             "linecolor": "white",
             "minorgridcolor": "white",
             "startlinecolor": "#2a3f5f"
            },
            "type": "carpet"
           }
          ],
          "choropleth": [
           {
            "colorbar": {
             "outlinewidth": 0,
             "ticks": ""
            },
            "type": "choropleth"
           }
          ],
          "contour": [
           {
            "colorbar": {
             "outlinewidth": 0,
             "ticks": ""
            },
            "colorscale": [
             [
              0,
              "#0d0887"
             ],
             [
              0.1111111111111111,
              "#46039f"
             ],
             [
              0.2222222222222222,
              "#7201a8"
             ],
             [
              0.3333333333333333,
              "#9c179e"
             ],
             [
              0.4444444444444444,
              "#bd3786"
             ],
             [
              0.5555555555555556,
              "#d8576b"
             ],
             [
              0.6666666666666666,
              "#ed7953"
             ],
             [
              0.7777777777777778,
              "#fb9f3a"
             ],
             [
              0.8888888888888888,
              "#fdca26"
             ],
             [
              1,
              "#f0f921"
             ]
            ],
            "type": "contour"
           }
          ],
          "contourcarpet": [
           {
            "colorbar": {
             "outlinewidth": 0,
             "ticks": ""
            },
            "type": "contourcarpet"
           }
          ],
          "heatmap": [
           {
            "colorbar": {
             "outlinewidth": 0,
             "ticks": ""
            },
            "colorscale": [
             [
              0,
              "#0d0887"
             ],
             [
              0.1111111111111111,
              "#46039f"
             ],
             [
              0.2222222222222222,
              "#7201a8"
             ],
             [
              0.3333333333333333,
              "#9c179e"
             ],
             [
              0.4444444444444444,
              "#bd3786"
             ],
             [
              0.5555555555555556,
              "#d8576b"
             ],
             [
              0.6666666666666666,
              "#ed7953"
             ],
             [
              0.7777777777777778,
              "#fb9f3a"
             ],
             [
              0.8888888888888888,
              "#fdca26"
             ],
             [
              1,
              "#f0f921"
             ]
            ],
            "type": "heatmap"
           }
          ],
          "heatmapgl": [
           {
            "colorbar": {
             "outlinewidth": 0,
             "ticks": ""
            },
            "colorscale": [
             [
              0,
              "#0d0887"
             ],
             [
              0.1111111111111111,
              "#46039f"
             ],
             [
              0.2222222222222222,
              "#7201a8"
             ],
             [
              0.3333333333333333,
              "#9c179e"
             ],
             [
              0.4444444444444444,
              "#bd3786"
             ],
             [
              0.5555555555555556,
              "#d8576b"
             ],
             [
              0.6666666666666666,
              "#ed7953"
             ],
             [
              0.7777777777777778,
              "#fb9f3a"
             ],
             [
              0.8888888888888888,
              "#fdca26"
             ],
             [
              1,
              "#f0f921"
             ]
            ],
            "type": "heatmapgl"
           }
          ],
          "histogram": [
           {
            "marker": {
             "colorbar": {
              "outlinewidth": 0,
              "ticks": ""
             }
            },
            "type": "histogram"
           }
          ],
          "histogram2d": [
           {
            "colorbar": {
             "outlinewidth": 0,
             "ticks": ""
            },
            "colorscale": [
             [
              0,
              "#0d0887"
             ],
             [
              0.1111111111111111,
              "#46039f"
             ],
             [
              0.2222222222222222,
              "#7201a8"
             ],
             [
              0.3333333333333333,
              "#9c179e"
             ],
             [
              0.4444444444444444,
              "#bd3786"
             ],
             [
              0.5555555555555556,
              "#d8576b"
             ],
             [
              0.6666666666666666,
              "#ed7953"
             ],
             [
              0.7777777777777778,
              "#fb9f3a"
             ],
             [
              0.8888888888888888,
              "#fdca26"
             ],
             [
              1,
              "#f0f921"
             ]
            ],
            "type": "histogram2d"
           }
          ],
          "histogram2dcontour": [
           {
            "colorbar": {
             "outlinewidth": 0,
             "ticks": ""
            },
            "colorscale": [
             [
              0,
              "#0d0887"
             ],
             [
              0.1111111111111111,
              "#46039f"
             ],
             [
              0.2222222222222222,
              "#7201a8"
             ],
             [
              0.3333333333333333,
              "#9c179e"
             ],
             [
              0.4444444444444444,
              "#bd3786"
             ],
             [
              0.5555555555555556,
              "#d8576b"
             ],
             [
              0.6666666666666666,
              "#ed7953"
             ],
             [
              0.7777777777777778,
              "#fb9f3a"
             ],
             [
              0.8888888888888888,
              "#fdca26"
             ],
             [
              1,
              "#f0f921"
             ]
            ],
            "type": "histogram2dcontour"
           }
          ],
          "mesh3d": [
           {
            "colorbar": {
             "outlinewidth": 0,
             "ticks": ""
            },
            "type": "mesh3d"
           }
          ],
          "parcoords": [
           {
            "line": {
             "colorbar": {
              "outlinewidth": 0,
              "ticks": ""
             }
            },
            "type": "parcoords"
           }
          ],
          "scatter": [
           {
            "marker": {
             "colorbar": {
              "outlinewidth": 0,
              "ticks": ""
             }
            },
            "type": "scatter"
           }
          ],
          "scatter3d": [
           {
            "line": {
             "colorbar": {
              "outlinewidth": 0,
              "ticks": ""
             }
            },
            "marker": {
             "colorbar": {
              "outlinewidth": 0,
              "ticks": ""
             }
            },
            "type": "scatter3d"
           }
          ],
          "scattercarpet": [
           {
            "marker": {
             "colorbar": {
              "outlinewidth": 0,
              "ticks": ""
             }
            },
            "type": "scattercarpet"
           }
          ],
          "scattergeo": [
           {
            "marker": {
             "colorbar": {
              "outlinewidth": 0,
              "ticks": ""
             }
            },
            "type": "scattergeo"
           }
          ],
          "scattergl": [
           {
            "marker": {
             "colorbar": {
              "outlinewidth": 0,
              "ticks": ""
             }
            },
            "type": "scattergl"
           }
          ],
          "scattermapbox": [
           {
            "marker": {
             "colorbar": {
              "outlinewidth": 0,
              "ticks": ""
             }
            },
            "type": "scattermapbox"
           }
          ],
          "scatterpolar": [
           {
            "marker": {
             "colorbar": {
              "outlinewidth": 0,
              "ticks": ""
             }
            },
            "type": "scatterpolar"
           }
          ],
          "scatterpolargl": [
           {
            "marker": {
             "colorbar": {
              "outlinewidth": 0,
              "ticks": ""
             }
            },
            "type": "scatterpolargl"
           }
          ],
          "scatterternary": [
           {
            "marker": {
             "colorbar": {
              "outlinewidth": 0,
              "ticks": ""
             }
            },
            "type": "scatterternary"
           }
          ],
          "surface": [
           {
            "colorbar": {
             "outlinewidth": 0,
             "ticks": ""
            },
            "colorscale": [
             [
              0,
              "#0d0887"
             ],
             [
              0.1111111111111111,
              "#46039f"
             ],
             [
              0.2222222222222222,
              "#7201a8"
             ],
             [
              0.3333333333333333,
              "#9c179e"
             ],
             [
              0.4444444444444444,
              "#bd3786"
             ],
             [
              0.5555555555555556,
              "#d8576b"
             ],
             [
              0.6666666666666666,
              "#ed7953"
             ],
             [
              0.7777777777777778,
              "#fb9f3a"
             ],
             [
              0.8888888888888888,
              "#fdca26"
             ],
             [
              1,
              "#f0f921"
             ]
            ],
            "type": "surface"
           }
          ],
          "table": [
           {
            "cells": {
             "fill": {
              "color": "#EBF0F8"
             },
             "line": {
              "color": "white"
             }
            },
            "header": {
             "fill": {
              "color": "#C8D4E3"
             },
             "line": {
              "color": "white"
             }
            },
            "type": "table"
           }
          ]
         },
         "layout": {
          "annotationdefaults": {
           "arrowcolor": "#2a3f5f",
           "arrowhead": 0,
           "arrowwidth": 1
          },
          "colorscale": {
           "diverging": [
            [
             0,
             "#8e0152"
            ],
            [
             0.1,
             "#c51b7d"
            ],
            [
             0.2,
             "#de77ae"
            ],
            [
             0.3,
             "#f1b6da"
            ],
            [
             0.4,
             "#fde0ef"
            ],
            [
             0.5,
             "#f7f7f7"
            ],
            [
             0.6,
             "#e6f5d0"
            ],
            [
             0.7,
             "#b8e186"
            ],
            [
             0.8,
             "#7fbc41"
            ],
            [
             0.9,
             "#4d9221"
            ],
            [
             1,
             "#276419"
            ]
           ],
           "sequential": [
            [
             0,
             "#0d0887"
            ],
            [
             0.1111111111111111,
             "#46039f"
            ],
            [
             0.2222222222222222,
             "#7201a8"
            ],
            [
             0.3333333333333333,
             "#9c179e"
            ],
            [
             0.4444444444444444,
             "#bd3786"
            ],
            [
             0.5555555555555556,
             "#d8576b"
            ],
            [
             0.6666666666666666,
             "#ed7953"
            ],
            [
             0.7777777777777778,
             "#fb9f3a"
            ],
            [
             0.8888888888888888,
             "#fdca26"
            ],
            [
             1,
             "#f0f921"
            ]
           ],
           "sequentialminus": [
            [
             0,
             "#0d0887"
            ],
            [
             0.1111111111111111,
             "#46039f"
            ],
            [
             0.2222222222222222,
             "#7201a8"
            ],
            [
             0.3333333333333333,
             "#9c179e"
            ],
            [
             0.4444444444444444,
             "#bd3786"
            ],
            [
             0.5555555555555556,
             "#d8576b"
            ],
            [
             0.6666666666666666,
             "#ed7953"
            ],
            [
             0.7777777777777778,
             "#fb9f3a"
            ],
            [
             0.8888888888888888,
             "#fdca26"
            ],
            [
             1,
             "#f0f921"
            ]
           ]
          },
          "colorway": [
           "#636efa",
           "#EF553B",
           "#00cc96",
           "#ab63fa",
           "#FFA15A",
           "#19d3f3",
           "#FF6692",
           "#B6E880",
           "#FF97FF",
           "#FECB52"
          ],
          "font": {
           "color": "#2a3f5f"
          },
          "geo": {
           "bgcolor": "white",
           "lakecolor": "white",
           "landcolor": "#E5ECF6",
           "showlakes": true,
           "showland": true,
           "subunitcolor": "white"
          },
          "hoverlabel": {
           "align": "left"
          },
          "hovermode": "closest",
          "mapbox": {
           "style": "light"
          },
          "paper_bgcolor": "white",
          "plot_bgcolor": "#E5ECF6",
          "polar": {
           "angularaxis": {
            "gridcolor": "white",
            "linecolor": "white",
            "ticks": ""
           },
           "bgcolor": "#E5ECF6",
           "radialaxis": {
            "gridcolor": "white",
            "linecolor": "white",
            "ticks": ""
           }
          },
          "scene": {
           "xaxis": {
            "backgroundcolor": "#E5ECF6",
            "gridcolor": "white",
            "gridwidth": 2,
            "linecolor": "white",
            "showbackground": true,
            "ticks": "",
            "zerolinecolor": "white"
           },
           "yaxis": {
            "backgroundcolor": "#E5ECF6",
            "gridcolor": "white",
            "gridwidth": 2,
            "linecolor": "white",
            "showbackground": true,
            "ticks": "",
            "zerolinecolor": "white"
           },
           "zaxis": {
            "backgroundcolor": "#E5ECF6",
            "gridcolor": "white",
            "gridwidth": 2,
            "linecolor": "white",
            "showbackground": true,
            "ticks": "",
            "zerolinecolor": "white"
           }
          },
          "shapedefaults": {
           "line": {
            "color": "#2a3f5f"
           }
          },
          "ternary": {
           "aaxis": {
            "gridcolor": "white",
            "linecolor": "white",
            "ticks": ""
           },
           "baxis": {
            "gridcolor": "white",
            "linecolor": "white",
            "ticks": ""
           },
           "bgcolor": "#E5ECF6",
           "caxis": {
            "gridcolor": "white",
            "linecolor": "white",
            "ticks": ""
           }
          },
          "title": {
           "x": 0.05
          },
          "xaxis": {
           "automargin": true,
           "gridcolor": "white",
           "linecolor": "white",
           "ticks": "",
           "zerolinecolor": "white",
           "zerolinewidth": 2
          },
          "yaxis": {
           "automargin": true,
           "gridcolor": "white",
           "linecolor": "white",
           "ticks": "",
           "zerolinecolor": "white",
           "zerolinewidth": 2
          }
         }
        },
        "title": {
         "text": "Candy sugar percent"
        },
        "xaxis": {
         "title": {
          "text": "Content"
         }
        },
        "yaxis": {
         "title": {
          "text": "Percentage"
         }
        }
       }
      },
      "text/html": [
       "<div>\n",
       "        \n",
       "        \n",
       "            <div id=\"66196d61-316e-4d7c-832f-80bf9f6fb972\" class=\"plotly-graph-div\" style=\"height:525px; width:100%;\"></div>\n",
       "            <script type=\"text/javascript\">\n",
       "                require([\"plotly\"], function(Plotly) {\n",
       "                    window.PLOTLYENV=window.PLOTLYENV || {};\n",
       "                    \n",
       "                if (document.getElementById(\"66196d61-316e-4d7c-832f-80bf9f6fb972\")) {\n",
       "                    Plotly.newPlot(\n",
       "                        '66196d61-316e-4d7c-832f-80bf9f6fb972',\n",
       "                        [{\"marker\": {\"color\": \"#1b7fbd\"}, \"name\": \"With\", \"type\": \"bar\", \"x\": [\"Chocolate\", \"Fruity\", \"Caramel\", \"Peanutyalmondy\", \"Nougat\", \"Crispedricewafer\", \"Hard\", \"Bar\"], \"y\": [0.5119999905945947, 0.46789472921052644, 0.6191428435714287, 0.5342857051428571, 0.5941428385714287, 0.5442857042857143, 0.5343999929333335, 0.5277142742857143]}, {\"marker\": {\"color\": \"#f96d15\"}, \"name\": \"Without\", \"type\": \"bar\", \"x\": [\"Chocolate\", \"Fruity\", \"Caramel\", \"Peanutyalmondy\", \"Nougat\", \"Crispedricewafer\", \"Hard\", \"Bar\"], \"y\": [0.45293749420833335, 0.4873404183829786, 0.45094365583098583, 0.46767604932394363, 0.4682820449230769, 0.4727564031282051, 0.46669999257142875, 0.4625468689687501]}],\n",
       "                        {\"barmode\": \"group\", \"template\": {\"data\": {\"bar\": [{\"error_x\": {\"color\": \"#2a3f5f\"}, \"error_y\": {\"color\": \"#2a3f5f\"}, \"marker\": {\"line\": {\"color\": \"#E5ECF6\", \"width\": 0.5}}, \"type\": \"bar\"}], \"barpolar\": [{\"marker\": {\"line\": {\"color\": \"#E5ECF6\", \"width\": 0.5}}, \"type\": \"barpolar\"}], \"carpet\": [{\"aaxis\": {\"endlinecolor\": \"#2a3f5f\", \"gridcolor\": \"white\", \"linecolor\": \"white\", \"minorgridcolor\": \"white\", \"startlinecolor\": \"#2a3f5f\"}, \"baxis\": {\"endlinecolor\": \"#2a3f5f\", \"gridcolor\": \"white\", \"linecolor\": \"white\", \"minorgridcolor\": \"white\", \"startlinecolor\": \"#2a3f5f\"}, \"type\": \"carpet\"}], \"choropleth\": [{\"colorbar\": {\"outlinewidth\": 0, \"ticks\": \"\"}, \"type\": \"choropleth\"}], \"contour\": [{\"colorbar\": {\"outlinewidth\": 0, \"ticks\": \"\"}, \"colorscale\": [[0.0, \"#0d0887\"], [0.1111111111111111, \"#46039f\"], [0.2222222222222222, \"#7201a8\"], [0.3333333333333333, \"#9c179e\"], [0.4444444444444444, \"#bd3786\"], [0.5555555555555556, \"#d8576b\"], [0.6666666666666666, \"#ed7953\"], [0.7777777777777778, \"#fb9f3a\"], [0.8888888888888888, \"#fdca26\"], [1.0, \"#f0f921\"]], \"type\": \"contour\"}], \"contourcarpet\": [{\"colorbar\": {\"outlinewidth\": 0, \"ticks\": \"\"}, \"type\": \"contourcarpet\"}], \"heatmap\": [{\"colorbar\": {\"outlinewidth\": 0, \"ticks\": \"\"}, \"colorscale\": [[0.0, \"#0d0887\"], [0.1111111111111111, \"#46039f\"], [0.2222222222222222, \"#7201a8\"], [0.3333333333333333, \"#9c179e\"], [0.4444444444444444, \"#bd3786\"], [0.5555555555555556, \"#d8576b\"], [0.6666666666666666, \"#ed7953\"], [0.7777777777777778, \"#fb9f3a\"], [0.8888888888888888, \"#fdca26\"], [1.0, \"#f0f921\"]], \"type\": \"heatmap\"}], \"heatmapgl\": [{\"colorbar\": {\"outlinewidth\": 0, \"ticks\": \"\"}, \"colorscale\": [[0.0, \"#0d0887\"], [0.1111111111111111, \"#46039f\"], [0.2222222222222222, \"#7201a8\"], [0.3333333333333333, \"#9c179e\"], [0.4444444444444444, \"#bd3786\"], [0.5555555555555556, \"#d8576b\"], [0.6666666666666666, \"#ed7953\"], [0.7777777777777778, \"#fb9f3a\"], [0.8888888888888888, \"#fdca26\"], [1.0, \"#f0f921\"]], \"type\": \"heatmapgl\"}], \"histogram\": [{\"marker\": {\"colorbar\": {\"outlinewidth\": 0, \"ticks\": \"\"}}, \"type\": \"histogram\"}], \"histogram2d\": [{\"colorbar\": {\"outlinewidth\": 0, \"ticks\": \"\"}, \"colorscale\": [[0.0, \"#0d0887\"], [0.1111111111111111, \"#46039f\"], [0.2222222222222222, \"#7201a8\"], [0.3333333333333333, \"#9c179e\"], [0.4444444444444444, \"#bd3786\"], [0.5555555555555556, \"#d8576b\"], [0.6666666666666666, \"#ed7953\"], [0.7777777777777778, \"#fb9f3a\"], [0.8888888888888888, \"#fdca26\"], [1.0, \"#f0f921\"]], \"type\": \"histogram2d\"}], \"histogram2dcontour\": [{\"colorbar\": {\"outlinewidth\": 0, \"ticks\": \"\"}, \"colorscale\": [[0.0, \"#0d0887\"], [0.1111111111111111, \"#46039f\"], [0.2222222222222222, \"#7201a8\"], [0.3333333333333333, \"#9c179e\"], [0.4444444444444444, \"#bd3786\"], [0.5555555555555556, \"#d8576b\"], [0.6666666666666666, \"#ed7953\"], [0.7777777777777778, \"#fb9f3a\"], [0.8888888888888888, \"#fdca26\"], [1.0, \"#f0f921\"]], \"type\": \"histogram2dcontour\"}], \"mesh3d\": [{\"colorbar\": {\"outlinewidth\": 0, \"ticks\": \"\"}, \"type\": \"mesh3d\"}], \"parcoords\": [{\"line\": {\"colorbar\": {\"outlinewidth\": 0, \"ticks\": \"\"}}, \"type\": \"parcoords\"}], \"scatter\": [{\"marker\": {\"colorbar\": {\"outlinewidth\": 0, \"ticks\": \"\"}}, \"type\": \"scatter\"}], \"scatter3d\": [{\"line\": {\"colorbar\": {\"outlinewidth\": 0, \"ticks\": \"\"}}, \"marker\": {\"colorbar\": {\"outlinewidth\": 0, \"ticks\": \"\"}}, \"type\": \"scatter3d\"}], \"scattercarpet\": [{\"marker\": {\"colorbar\": {\"outlinewidth\": 0, \"ticks\": \"\"}}, \"type\": \"scattercarpet\"}], \"scattergeo\": [{\"marker\": {\"colorbar\": {\"outlinewidth\": 0, \"ticks\": \"\"}}, \"type\": \"scattergeo\"}], \"scattergl\": [{\"marker\": {\"colorbar\": {\"outlinewidth\": 0, \"ticks\": \"\"}}, \"type\": \"scattergl\"}], \"scattermapbox\": [{\"marker\": {\"colorbar\": {\"outlinewidth\": 0, \"ticks\": \"\"}}, \"type\": \"scattermapbox\"}], \"scatterpolar\": [{\"marker\": {\"colorbar\": {\"outlinewidth\": 0, \"ticks\": \"\"}}, \"type\": \"scatterpolar\"}], \"scatterpolargl\": [{\"marker\": {\"colorbar\": {\"outlinewidth\": 0, \"ticks\": \"\"}}, \"type\": \"scatterpolargl\"}], \"scatterternary\": [{\"marker\": {\"colorbar\": {\"outlinewidth\": 0, \"ticks\": \"\"}}, \"type\": \"scatterternary\"}], \"surface\": [{\"colorbar\": {\"outlinewidth\": 0, \"ticks\": \"\"}, \"colorscale\": [[0.0, \"#0d0887\"], [0.1111111111111111, \"#46039f\"], [0.2222222222222222, \"#7201a8\"], [0.3333333333333333, \"#9c179e\"], [0.4444444444444444, \"#bd3786\"], [0.5555555555555556, \"#d8576b\"], [0.6666666666666666, \"#ed7953\"], [0.7777777777777778, \"#fb9f3a\"], [0.8888888888888888, \"#fdca26\"], [1.0, \"#f0f921\"]], \"type\": \"surface\"}], \"table\": [{\"cells\": {\"fill\": {\"color\": \"#EBF0F8\"}, \"line\": {\"color\": \"white\"}}, \"header\": {\"fill\": {\"color\": \"#C8D4E3\"}, \"line\": {\"color\": \"white\"}}, \"type\": \"table\"}]}, \"layout\": {\"annotationdefaults\": {\"arrowcolor\": \"#2a3f5f\", \"arrowhead\": 0, \"arrowwidth\": 1}, \"colorscale\": {\"diverging\": [[0, \"#8e0152\"], [0.1, \"#c51b7d\"], [0.2, \"#de77ae\"], [0.3, \"#f1b6da\"], [0.4, \"#fde0ef\"], [0.5, \"#f7f7f7\"], [0.6, \"#e6f5d0\"], [0.7, \"#b8e186\"], [0.8, \"#7fbc41\"], [0.9, \"#4d9221\"], [1, \"#276419\"]], \"sequential\": [[0.0, \"#0d0887\"], [0.1111111111111111, \"#46039f\"], [0.2222222222222222, \"#7201a8\"], [0.3333333333333333, \"#9c179e\"], [0.4444444444444444, \"#bd3786\"], [0.5555555555555556, \"#d8576b\"], [0.6666666666666666, \"#ed7953\"], [0.7777777777777778, \"#fb9f3a\"], [0.8888888888888888, \"#fdca26\"], [1.0, \"#f0f921\"]], \"sequentialminus\": [[0.0, \"#0d0887\"], [0.1111111111111111, \"#46039f\"], [0.2222222222222222, \"#7201a8\"], [0.3333333333333333, \"#9c179e\"], [0.4444444444444444, \"#bd3786\"], [0.5555555555555556, \"#d8576b\"], [0.6666666666666666, \"#ed7953\"], [0.7777777777777778, \"#fb9f3a\"], [0.8888888888888888, \"#fdca26\"], [1.0, \"#f0f921\"]]}, \"colorway\": [\"#636efa\", \"#EF553B\", \"#00cc96\", \"#ab63fa\", \"#FFA15A\", \"#19d3f3\", \"#FF6692\", \"#B6E880\", \"#FF97FF\", \"#FECB52\"], \"font\": {\"color\": \"#2a3f5f\"}, \"geo\": {\"bgcolor\": \"white\", \"lakecolor\": \"white\", \"landcolor\": \"#E5ECF6\", \"showlakes\": true, \"showland\": true, \"subunitcolor\": \"white\"}, \"hoverlabel\": {\"align\": \"left\"}, \"hovermode\": \"closest\", \"mapbox\": {\"style\": \"light\"}, \"paper_bgcolor\": \"white\", \"plot_bgcolor\": \"#E5ECF6\", \"polar\": {\"angularaxis\": {\"gridcolor\": \"white\", \"linecolor\": \"white\", \"ticks\": \"\"}, \"bgcolor\": \"#E5ECF6\", \"radialaxis\": {\"gridcolor\": \"white\", \"linecolor\": \"white\", \"ticks\": \"\"}}, \"scene\": {\"xaxis\": {\"backgroundcolor\": \"#E5ECF6\", \"gridcolor\": \"white\", \"gridwidth\": 2, \"linecolor\": \"white\", \"showbackground\": true, \"ticks\": \"\", \"zerolinecolor\": \"white\"}, \"yaxis\": {\"backgroundcolor\": \"#E5ECF6\", \"gridcolor\": \"white\", \"gridwidth\": 2, \"linecolor\": \"white\", \"showbackground\": true, \"ticks\": \"\", \"zerolinecolor\": \"white\"}, \"zaxis\": {\"backgroundcolor\": \"#E5ECF6\", \"gridcolor\": \"white\", \"gridwidth\": 2, \"linecolor\": \"white\", \"showbackground\": true, \"ticks\": \"\", \"zerolinecolor\": \"white\"}}, \"shapedefaults\": {\"line\": {\"color\": \"#2a3f5f\"}}, \"ternary\": {\"aaxis\": {\"gridcolor\": \"white\", \"linecolor\": \"white\", \"ticks\": \"\"}, \"baxis\": {\"gridcolor\": \"white\", \"linecolor\": \"white\", \"ticks\": \"\"}, \"bgcolor\": \"#E5ECF6\", \"caxis\": {\"gridcolor\": \"white\", \"linecolor\": \"white\", \"ticks\": \"\"}}, \"title\": {\"x\": 0.05}, \"xaxis\": {\"automargin\": true, \"gridcolor\": \"white\", \"linecolor\": \"white\", \"ticks\": \"\", \"zerolinecolor\": \"white\", \"zerolinewidth\": 2}, \"yaxis\": {\"automargin\": true, \"gridcolor\": \"white\", \"linecolor\": \"white\", \"ticks\": \"\", \"zerolinecolor\": \"white\", \"zerolinewidth\": 2}}}, \"title\": {\"text\": \"Candy sugar percent\"}, \"xaxis\": {\"title\": {\"text\": \"Content\"}}, \"yaxis\": {\"title\": {\"text\": \"Percentage\"}}},\n",
       "                        {\"responsive\": true}\n",
       "                    ).then(function(){\n",
       "                            \n",
       "var gd = document.getElementById('66196d61-316e-4d7c-832f-80bf9f6fb972');\n",
       "var x = new MutationObserver(function (mutations, observer) {{\n",
       "        var display = window.getComputedStyle(gd).display;\n",
       "        if (!display || display === 'none') {{\n",
       "            console.log([gd, 'removed!']);\n",
       "            Plotly.purge(gd);\n",
       "            observer.disconnect();\n",
       "        }}\n",
       "}});\n",
       "\n",
       "// Listen for the removal of the full notebook cells\n",
       "var notebookContainer = gd.closest('#notebook-container');\n",
       "if (notebookContainer) {{\n",
       "    x.observe(notebookContainer, {childList: true});\n",
       "}}\n",
       "\n",
       "// Listen for the clearing of the current output cell\n",
       "var outputEl = gd.closest('.output');\n",
       "if (outputEl) {{\n",
       "    x.observe(outputEl, {childList: true});\n",
       "}}\n",
       "\n",
       "                        })\n",
       "                };\n",
       "                });\n",
       "            </script>\n",
       "        </div>"
      ]
     },
     "metadata": {},
     "output_type": "display_data"
    }
   ],
   "source": [
    "def win_sugar():\n",
    "    trace1 = go.Bar(\n",
    "        x=['Chocolate', 'Fruity', 'Caramel', 'Peanutyalmondy', 'Nougat', 'Crispedricewafer', 'Hard', 'Bar'],\n",
    "        y=[df[df.chocolate == 1].sugarpercent.mean(), df[df.fruity == 1].sugarpercent.mean(), df[df.caramel == 1].sugarpercent.mean(),\n",
    "          df[df.peanutyalmondy == 1].sugarpercent.mean(), df[df.nougat == 1].sugarpercent.mean(), df[df.crispedricewafer == 1].sugarpercent.mean(),\n",
    "          df[df.hard == 1].sugarpercent.mean(), df[df.bar == 1].sugarpercent.mean()],\n",
    "        name='With',\n",
    "        marker=dict(color='#1b7fbd')\n",
    "    )\n",
    "    trace2 = go.Bar(\n",
    "        x=['Chocolate', 'Fruity', 'Caramel', 'Peanutyalmondy', 'Nougat', 'Crispedricewafer', 'Hard', 'Bar'],\n",
    "        y=[df[df.chocolate == 0].sugarpercent.mean(), df[df.fruity == 0].sugarpercent.mean(), df[df.caramel == 0].sugarpercent.mean(),\n",
    "          df[df.peanutyalmondy == 0].sugarpercent.mean(), df[df.nougat == 0].sugarpercent.mean(), df[df.crispedricewafer == 0].sugarpercent.mean(),\n",
    "          df[df.hard == 0].sugarpercent.mean(), df[df.bar == 0].sugarpercent.mean()],\n",
    "        name='Without',\n",
    "        marker=dict(color='#f96d15')\n",
    "    )\n",
    "\n",
    "    data = [trace1, trace2]\n",
    "    layout = go.Layout(\n",
    "        barmode='group',\n",
    "        title= 'Candy sugar percent',\n",
    "        xaxis=dict(\n",
    "            title='Content'        \n",
    "        )  ,\n",
    "        yaxis=dict(\n",
    "            title='Percentage'        \n",
    "        )   \n",
    "    )\n",
    "\n",
    "    fig = go.Figure(data=data, layout=layout)\n",
    "    return(fig)\n",
    "py.offline.iplot(win_sugar())"
   ]
  },
  {
   "cell_type": "markdown",
   "metadata": {},
   "source": [
    "**Inference: Candies with caramel and nougat has significant change in sugar percent. All other candies doesn't show any significant effect. So we can infer that candies containing caramel or nougat makes them more sugary**"
   ]
  },
  {
   "cell_type": "markdown",
   "metadata": {},
   "source": [
    "**Methodology: using the t-test p-value by plotting a box plot of sugar percentages for with ceratain content and without that content to analyze the significance of the content on sugar percentage.**"
   ]
  },
  {
   "cell_type": "code",
   "execution_count": 28,
   "metadata": {},
   "outputs": [],
   "source": [
    "(chocolate_t_val,chocolate_p_val) = stats.ttest_ind(df[df.chocolate == 1].sugarpercent,df[df.chocolate == 0].sugarpercent)\n",
    "(fruity_t_val,fruity_p_val) = stats.ttest_ind(df[df.fruity == 1].sugarpercent,df[df.fruity == 0].sugarpercent)\n",
    "(caramel_t_val,caramel_p_val) = stats.ttest_ind(df[df.caramel == 1].sugarpercent,df[df.caramel == 0].sugarpercent)\n",
    "(peanutyalmondy_t_val,peanutyalmondy_p_val) = stats.ttest_ind(df[df.peanutyalmondy == 1].sugarpercent,df[df.peanutyalmondy == 0].sugarpercent)\n",
    "(nougat_t_val,nougat_p_val) = stats.ttest_ind(df[df.nougat == 1].sugarpercent,df[df.nougat == 0].sugarpercent)\n",
    "(crispedricewafer_t_val,crispedricewafer_p_val) = stats.ttest_ind(df[df.crispedricewafer == 1].sugarpercent,df[df.crispedricewafer == 0].sugarpercent)\n",
    "(hard_t_val,hard_p_val) = stats.ttest_ind(df[df.hard == 1].sugarpercent,df[df.hard == 0].sugarpercent)\n",
    "(bar_t_val,bar_p_val) = stats.ttest_ind(df[df.bar == 1].sugarpercent,df[df.bar == 0].sugarpercent)"
   ]
  },
  {
   "cell_type": "code",
   "execution_count": 29,
   "metadata": {},
   "outputs": [],
   "source": [
    "sugarpercent_p_val = [chocolate_p_val, fruity_p_val, caramel_p_val, peanutyalmondy_p_val, nougat_p_val, crispedricewafer_p_val, hard_p_val, bar_p_val  ]\n",
    "ss_p_val = statsig(sugarpercent_p_val)"
   ]
  },
  {
   "cell_type": "markdown",
   "metadata": {},
   "source": [
    "**Calculation of mean difference and p-value by candies sugar percent on the basis of candy content to get statistical significance of the candy content on sugar percent.<br>\n",
    "Note: <br>\n",
    "ss stands for Statistical significant<br>\n",
    "ns stands for Not significant**"
   ]
  },
  {
   "cell_type": "code",
   "execution_count": 30,
   "metadata": {},
   "outputs": [
    {
     "data": {
      "text/html": [
       "<div>\n",
       "<style scoped>\n",
       "    .dataframe tbody tr th:only-of-type {\n",
       "        vertical-align: middle;\n",
       "    }\n",
       "\n",
       "    .dataframe tbody tr th {\n",
       "        vertical-align: top;\n",
       "    }\n",
       "\n",
       "    .dataframe thead th {\n",
       "        text-align: right;\n",
       "    }\n",
       "</style>\n",
       "<table border=\"1\" class=\"dataframe\">\n",
       "  <thead>\n",
       "    <tr style=\"text-align: right;\">\n",
       "      <th></th>\n",
       "      <th>Contents</th>\n",
       "      <th>Mean difference</th>\n",
       "      <th>p-value</th>\n",
       "      <th>Statistical significance</th>\n",
       "    </tr>\n",
       "  </thead>\n",
       "  <tbody>\n",
       "    <tr>\n",
       "      <th>0</th>\n",
       "      <td>Chocolate</td>\n",
       "      <td>0.059062</td>\n",
       "      <td>0.342745</td>\n",
       "      <td>ns</td>\n",
       "    </tr>\n",
       "    <tr>\n",
       "      <th>1</th>\n",
       "      <td>Fruity</td>\n",
       "      <td>-0.019446</td>\n",
       "      <td>0.754672</td>\n",
       "      <td>ns</td>\n",
       "    </tr>\n",
       "    <tr>\n",
       "      <th>2</th>\n",
       "      <td>Caramel</td>\n",
       "      <td>0.168199</td>\n",
       "      <td>0.041215</td>\n",
       "      <td>ss</td>\n",
       "    </tr>\n",
       "    <tr>\n",
       "      <th>3</th>\n",
       "      <td>Peanutyalmondy</td>\n",
       "      <td>0.066610</td>\n",
       "      <td>0.423797</td>\n",
       "      <td>ns</td>\n",
       "    </tr>\n",
       "    <tr>\n",
       "      <th>4</th>\n",
       "      <td>Nougat</td>\n",
       "      <td>0.125861</td>\n",
       "      <td>0.261767</td>\n",
       "      <td>ns</td>\n",
       "    </tr>\n",
       "    <tr>\n",
       "      <th>5</th>\n",
       "      <td>Crispedricewafer</td>\n",
       "      <td>0.071529</td>\n",
       "      <td>0.524688</td>\n",
       "      <td>ns</td>\n",
       "    </tr>\n",
       "    <tr>\n",
       "      <th>6</th>\n",
       "      <td>Hard</td>\n",
       "      <td>0.067700</td>\n",
       "      <td>0.403336</td>\n",
       "      <td>ns</td>\n",
       "    </tr>\n",
       "    <tr>\n",
       "      <th>7</th>\n",
       "      <td>Bar</td>\n",
       "      <td>0.065167</td>\n",
       "      <td>0.362584</td>\n",
       "      <td>ns</td>\n",
       "    </tr>\n",
       "  </tbody>\n",
       "</table>\n",
       "</div>"
      ],
      "text/plain": [
       "           Contents  Mean difference   p-value Statistical significance\n",
       "0         Chocolate         0.059062  0.342745                       ns\n",
       "1            Fruity        -0.019446  0.754672                       ns\n",
       "2           Caramel         0.168199  0.041215                       ss\n",
       "3    Peanutyalmondy         0.066610  0.423797                       ns\n",
       "4            Nougat         0.125861  0.261767                       ns\n",
       "5  Crispedricewafer         0.071529  0.524688                       ns\n",
       "6              Hard         0.067700  0.403336                       ns\n",
       "7               Bar         0.065167  0.362584                       ns"
      ]
     },
     "execution_count": 30,
     "metadata": {},
     "output_type": "execute_result"
    }
   ],
   "source": [
    "contents=['Chocolate', 'Fruity', 'Caramel', 'Peanutyalmondy', 'Nougat', 'Crispedricewafer', 'Hard', 'Bar']\n",
    "diff_mean_values=[df[df.chocolate == 1].sugarpercent.mean()-df[df.chocolate == 0].sugarpercent.mean(), df[df.fruity == 1].sugarpercent.mean()-df[df.fruity == 0].sugarpercent.mean(),\n",
    "                 df[df.caramel == 1].sugarpercent.mean()-df[df.caramel == 0].sugarpercent.mean(), df[df.peanutyalmondy == 1].sugarpercent.mean()-df[df.peanutyalmondy == 0].sugarpercent.mean(),\n",
    "                 df[df.nougat == 1].sugarpercent.mean()-df[df.nougat == 0].sugarpercent.mean(), df[df.crispedricewafer == 1].sugarpercent.mean()-df[df.crispedricewafer == 0].sugarpercent.mean(),\n",
    "                 df[df.hard == 1].sugarpercent.mean()-df[df.hard == 0].sugarpercent.mean(), df[df.bar == 1].sugarpercent.mean()-df[df.bar == 0].sugarpercent.mean()]\n",
    "p_val=[chocolate_p_val, fruity_p_val, caramel_p_val, peanutyalmondy_p_val, nougat_p_val, crispedricewafer_p_val, hard_p_val, bar_p_val  ]\n",
    "sugarpercent_t_test_df = pd.DataFrame(list(zip(contents, diff_mean_values, p_val, ss_p_val)), \n",
    "               columns =['Contents', 'Mean difference', 'p-value', 'Statistical significance'])\n",
    "sugarpercent_t_test_df"
   ]
  },
  {
   "cell_type": "code",
   "execution_count": 31,
   "metadata": {},
   "outputs": [
    {
     "data": {
      "application/vnd.plotly.v1+json": {
       "config": {
        "linkText": "Export to plot.ly",
        "plotlyServerURL": "https://plot.ly",
        "showLink": false
       },
       "data": [
        {
         "boxmean": true,
         "marker": {
          "color": "#8b4513"
         },
         "name": "With Chocolate",
         "type": "box",
         "y": [
          0.73199999,
          0.60399997,
          0.465,
          0.60399997,
          0.60399997,
          0.127,
          0.43000001,
          0.43000001,
          0.43000001,
          0.19699999999999998,
          0.31299999,
          0.82499999,
          0.82499999,
          0.30199999,
          0.60399997,
          0.73199999,
          0.96499997,
          0.31299999,
          0.31299999,
          0.60399997,
          0.31299999,
          0.59299999,
          0.034000002,
          0.72000003,
          0.40599999,
          0.98799998,
          0.86000001,
          0.22,
          0.26699999,
          0.546,
          0.60399997,
          0.60399997,
          0.31299999,
          0.17399999,
          0.465,
          0.546,
          0.87199998
         ]
        },
        {
         "boxmean": true,
         "marker": {
          "color": "#8b4513"
         },
         "name": "Without Chocolate",
         "opacity": 0.6,
         "type": "box",
         "y": [
          0.011000000000000001,
          0.011000000000000001,
          0.90600002,
          0.31299999,
          0.90600002,
          0.60399997,
          0.73199999,
          0.046,
          0.73199999,
          0.73199999,
          0.127,
          0.73199999,
          0.90600002,
          0.465,
          0.465,
          0.465,
          0.465,
          0.093000002,
          0.22,
          0.046,
          0.26699999,
          0.87199998,
          0.84799999,
          0.19699999999999998,
          0.22,
          0.465,
          0.093000002,
          0.60399997,
          0.58099997,
          0.73199999,
          0.73199999,
          0.87199998,
          0.94099998,
          0.94099998,
          0.26699999,
          0.06899999799999999,
          0.06899999799999999,
          0.15099999,
          0.56900001,
          0.96499997,
          0.41800001,
          0.162,
          0.60399997,
          0.31299999,
          0.22,
          0.093000002,
          0.31299999,
          0.18600000000000003
         ]
        },
        {
         "boxmean": true,
         "marker": {
          "color": "#e42c64"
         },
         "name": "With Fruity",
         "type": "box",
         "y": [
          0.90600002,
          0.60399997,
          0.73199999,
          0.046,
          0.73199999,
          0.73199999,
          0.127,
          0.73199999,
          0.90600002,
          0.465,
          0.465,
          0.465,
          0.093000002,
          0.22,
          0.046,
          0.26699999,
          0.87199998,
          0.84799999,
          0.19699999999999998,
          0.22,
          0.60399997,
          0.58099997,
          0.73199999,
          0.87199998,
          0.94099998,
          0.94099998,
          0.26699999,
          0.06899999799999999,
          0.06899999799999999,
          0.15099999,
          0.56900001,
          0.162,
          0.60399997,
          0.60399997,
          0.31299999,
          0.22,
          0.093000002,
          0.31299999
         ]
        },
        {
         "boxmean": true,
         "marker": {
          "color": "#e42c64"
         },
         "name": "Without Fruity",
         "opacity": 0.6,
         "type": "box",
         "y": [
          0.73199999,
          0.60399997,
          0.011000000000000001,
          0.011000000000000001,
          0.465,
          0.60399997,
          0.31299999,
          0.90600002,
          0.60399997,
          0.465,
          0.127,
          0.43000001,
          0.43000001,
          0.43000001,
          0.19699999999999998,
          0.31299999,
          0.82499999,
          0.82499999,
          0.30199999,
          0.60399997,
          0.73199999,
          0.96499997,
          0.31299999,
          0.31299999,
          0.60399997,
          0.31299999,
          0.465,
          0.59299999,
          0.093000002,
          0.034000002,
          0.72000003,
          0.40599999,
          0.98799998,
          0.86000001,
          0.73199999,
          0.22,
          0.26699999,
          0.546,
          0.60399997,
          0.96499997,
          0.41800001,
          0.31299999,
          0.17399999,
          0.465,
          0.546,
          0.18600000000000003,
          0.87199998
         ]
        },
        {
         "boxmean": true,
         "marker": {
          "color": "#f3a953"
         },
         "name": "With Caramel",
         "type": "box",
         "y": [
          0.73199999,
          0.60399997,
          0.60399997,
          0.30199999,
          0.60399997,
          0.73199999,
          0.96499997,
          0.86000001,
          0.546,
          0.60399997,
          0.96499997,
          0.41800001,
          0.546,
          0.18600000000000003
         ]
        },
        {
         "boxmean": true,
         "marker": {
          "color": "#f3a953"
         },
         "name": "Without Caramel",
         "opacity": 0.6,
         "type": "box",
         "y": [
          0.60399997,
          0.011000000000000001,
          0.011000000000000001,
          0.90600002,
          0.465,
          0.31299999,
          0.90600002,
          0.60399997,
          0.73199999,
          0.046,
          0.73199999,
          0.73199999,
          0.127,
          0.73199999,
          0.90600002,
          0.465,
          0.465,
          0.465,
          0.465,
          0.127,
          0.43000001,
          0.43000001,
          0.43000001,
          0.093000002,
          0.19699999999999998,
          0.31299999,
          0.22,
          0.046,
          0.26699999,
          0.82499999,
          0.82499999,
          0.87199998,
          0.31299999,
          0.31299999,
          0.84799999,
          0.60399997,
          0.31299999,
          0.19699999999999998,
          0.22,
          0.465,
          0.59299999,
          0.093000002,
          0.60399997,
          0.58099997,
          0.034000002,
          0.72000003,
          0.40599999,
          0.98799998,
          0.73199999,
          0.73199999,
          0.87199998,
          0.22,
          0.94099998,
          0.94099998,
          0.26699999,
          0.26699999,
          0.06899999799999999,
          0.06899999799999999,
          0.15099999,
          0.56900001,
          0.162,
          0.60399997,
          0.60399997,
          0.31299999,
          0.17399999,
          0.465,
          0.31299999,
          0.22,
          0.093000002,
          0.31299999,
          0.87199998
         ]
        },
        {
         "boxmean": true,
         "marker": {
          "color": "#58b368"
         },
         "name": "With Peanutyalmondy",
         "type": "box",
         "y": [
          0.465,
          0.60399997,
          0.31299999,
          0.82499999,
          0.31299999,
          0.60399997,
          0.465,
          0.59299999,
          0.034000002,
          0.72000003,
          0.40599999,
          0.98799998,
          0.546,
          0.60399997
         ]
        },
        {
         "boxmean": true,
         "marker": {
          "color": "#58b368"
         },
         "name": "Without Peanutyalmondy",
         "opacity": 0.6,
         "type": "box",
         "y": [
          0.73199999,
          0.60399997,
          0.011000000000000001,
          0.011000000000000001,
          0.90600002,
          0.90600002,
          0.60399997,
          0.60399997,
          0.73199999,
          0.046,
          0.73199999,
          0.73199999,
          0.127,
          0.73199999,
          0.90600002,
          0.465,
          0.465,
          0.465,
          0.465,
          0.127,
          0.43000001,
          0.43000001,
          0.43000001,
          0.093000002,
          0.19699999999999998,
          0.31299999,
          0.22,
          0.046,
          0.26699999,
          0.82499999,
          0.87199998,
          0.30199999,
          0.60399997,
          0.73199999,
          0.96499997,
          0.31299999,
          0.84799999,
          0.31299999,
          0.19699999999999998,
          0.22,
          0.093000002,
          0.60399997,
          0.58099997,
          0.73199999,
          0.86000001,
          0.73199999,
          0.87199998,
          0.22,
          0.94099998,
          0.94099998,
          0.26699999,
          0.26699999,
          0.06899999799999999,
          0.06899999799999999,
          0.15099999,
          0.56900001,
          0.96499997,
          0.41800001,
          0.162,
          0.60399997,
          0.60399997,
          0.31299999,
          0.17399999,
          0.465,
          0.31299999,
          0.546,
          0.22,
          0.093000002,
          0.31299999,
          0.18600000000000003,
          0.87199998
         ]
        },
        {
         "boxmean": true,
         "marker": {
          "color": "#373a6d"
         },
         "name": "With Nougat",
         "type": "box",
         "y": [
          0.60399997,
          0.60399997,
          0.60399997,
          0.60399997,
          0.73199999,
          0.465,
          0.546
         ]
        },
        {
         "boxmean": true,
         "marker": {
          "color": "#373a6d"
         },
         "name": "Without Nougat",
         "opacity": 0.6,
         "type": "box",
         "y": [
          0.73199999,
          0.011000000000000001,
          0.011000000000000001,
          0.90600002,
          0.465,
          0.31299999,
          0.90600002,
          0.60399997,
          0.73199999,
          0.046,
          0.73199999,
          0.73199999,
          0.127,
          0.73199999,
          0.90600002,
          0.465,
          0.465,
          0.465,
          0.465,
          0.127,
          0.43000001,
          0.43000001,
          0.43000001,
          0.093000002,
          0.19699999999999998,
          0.31299999,
          0.22,
          0.046,
          0.26699999,
          0.82499999,
          0.82499999,
          0.87199998,
          0.30199999,
          0.96499997,
          0.31299999,
          0.31299999,
          0.84799999,
          0.60399997,
          0.31299999,
          0.19699999999999998,
          0.22,
          0.59299999,
          0.093000002,
          0.60399997,
          0.58099997,
          0.034000002,
          0.72000003,
          0.40599999,
          0.98799998,
          0.73199999,
          0.86000001,
          0.73199999,
          0.87199998,
          0.22,
          0.94099998,
          0.94099998,
          0.26699999,
          0.26699999,
          0.60399997,
          0.06899999799999999,
          0.06899999799999999,
          0.15099999,
          0.56900001,
          0.96499997,
          0.41800001,
          0.162,
          0.60399997,
          0.60399997,
          0.31299999,
          0.17399999,
          0.465,
          0.31299999,
          0.546,
          0.22,
          0.093000002,
          0.31299999,
          0.18600000000000003,
          0.87199998
         ]
        },
        {
         "boxmean": true,
         "marker": {
          "color": "#9370db"
         },
         "name": "With Crispedricewafer",
         "type": "box",
         "y": [
          0.73199999,
          0.43000001,
          0.31299999,
          0.31299999,
          0.60399997,
          0.546,
          0.87199998
         ]
        },
        {
         "boxmean": true,
         "marker": {
          "color": "#9370db"
         },
         "name": "Without Crispedricewafer",
         "opacity": 0.6,
         "type": "box",
         "y": [
          0.60399997,
          0.011000000000000001,
          0.011000000000000001,
          0.90600002,
          0.465,
          0.60399997,
          0.31299999,
          0.90600002,
          0.60399997,
          0.60399997,
          0.73199999,
          0.046,
          0.73199999,
          0.73199999,
          0.127,
          0.73199999,
          0.90600002,
          0.465,
          0.465,
          0.465,
          0.465,
          0.127,
          0.43000001,
          0.43000001,
          0.093000002,
          0.19699999999999998,
          0.22,
          0.046,
          0.26699999,
          0.82499999,
          0.82499999,
          0.87199998,
          0.30199999,
          0.60399997,
          0.73199999,
          0.96499997,
          0.31299999,
          0.31299999,
          0.84799999,
          0.60399997,
          0.19699999999999998,
          0.22,
          0.465,
          0.59299999,
          0.093000002,
          0.60399997,
          0.58099997,
          0.034000002,
          0.72000003,
          0.40599999,
          0.98799998,
          0.73199999,
          0.86000001,
          0.73199999,
          0.87199998,
          0.22,
          0.94099998,
          0.94099998,
          0.26699999,
          0.26699999,
          0.546,
          0.06899999799999999,
          0.06899999799999999,
          0.15099999,
          0.56900001,
          0.96499997,
          0.41800001,
          0.162,
          0.60399997,
          0.60399997,
          0.31299999,
          0.17399999,
          0.465,
          0.31299999,
          0.22,
          0.093000002,
          0.31299999,
          0.18600000000000003
         ]
        },
        {
         "boxmean": true,
         "marker": {
          "color": "#ff4057"
         },
         "name": "With Hard",
         "type": "box",
         "y": [
          0.73199999,
          0.73199999,
          0.90600002,
          0.093000002,
          0.046,
          0.84799999,
          0.60399997,
          0.73199999,
          0.73199999,
          0.87199998,
          0.26699999,
          0.56900001,
          0.60399997,
          0.093000002,
          0.18600000000000003
         ]
        },
        {
         "boxmean": true,
         "marker": {
          "color": "#ff4057"
         },
         "name": "Without Hard",
         "opacity": 0.6,
         "type": "box",
         "y": [
          0.73199999,
          0.60399997,
          0.011000000000000001,
          0.011000000000000001,
          0.90600002,
          0.465,
          0.60399997,
          0.31299999,
          0.90600002,
          0.60399997,
          0.60399997,
          0.73199999,
          0.046,
          0.73199999,
          0.127,
          0.465,
          0.465,
          0.465,
          0.465,
          0.127,
          0.43000001,
          0.43000001,
          0.43000001,
          0.19699999999999998,
          0.31299999,
          0.22,
          0.26699999,
          0.82499999,
          0.82499999,
          0.87199998,
          0.30199999,
          0.60399997,
          0.73199999,
          0.96499997,
          0.31299999,
          0.31299999,
          0.60399997,
          0.31299999,
          0.19699999999999998,
          0.22,
          0.465,
          0.59299999,
          0.093000002,
          0.58099997,
          0.034000002,
          0.72000003,
          0.40599999,
          0.98799998,
          0.86000001,
          0.22,
          0.94099998,
          0.94099998,
          0.26699999,
          0.546,
          0.60399997,
          0.06899999799999999,
          0.06899999799999999,
          0.15099999,
          0.96499997,
          0.41800001,
          0.162,
          0.60399997,
          0.31299999,
          0.17399999,
          0.465,
          0.31299999,
          0.546,
          0.22,
          0.31299999,
          0.87199998
         ]
        },
        {
         "boxmean": true,
         "marker": {
          "color": "#096386"
         },
         "name": "With Bar",
         "type": "box",
         "y": [
          0.73199999,
          0.60399997,
          0.465,
          0.60399997,
          0.60399997,
          0.43000001,
          0.43000001,
          0.43000001,
          0.31299999,
          0.60399997,
          0.73199999,
          0.96499997,
          0.31299999,
          0.31299999,
          0.60399997,
          0.31299999,
          0.465,
          0.546,
          0.60399997,
          0.465,
          0.546
         ]
        },
        {
         "boxmean": true,
         "marker": {
          "color": "#096386"
         },
         "name": "Without Bar",
         "opacity": 0.6,
         "type": "box",
         "y": [
          0.011000000000000001,
          0.011000000000000001,
          0.90600002,
          0.31299999,
          0.90600002,
          0.60399997,
          0.73199999,
          0.046,
          0.73199999,
          0.73199999,
          0.127,
          0.73199999,
          0.90600002,
          0.465,
          0.465,
          0.465,
          0.465,
          0.127,
          0.093000002,
          0.19699999999999998,
          0.22,
          0.046,
          0.26699999,
          0.82499999,
          0.82499999,
          0.87199998,
          0.30199999,
          0.84799999,
          0.19699999999999998,
          0.22,
          0.59299999,
          0.093000002,
          0.60399997,
          0.58099997,
          0.034000002,
          0.72000003,
          0.40599999,
          0.98799998,
          0.73199999,
          0.86000001,
          0.73199999,
          0.87199998,
          0.22,
          0.94099998,
          0.94099998,
          0.26699999,
          0.26699999,
          0.06899999799999999,
          0.06899999799999999,
          0.15099999,
          0.56900001,
          0.96499997,
          0.41800001,
          0.162,
          0.60399997,
          0.60399997,
          0.31299999,
          0.17399999,
          0.31299999,
          0.22,
          0.093000002,
          0.31299999,
          0.18600000000000003,
          0.87199998
         ]
        },
        {
         "marker": {
          "color": "#252525"
         },
         "mode": "lines+markers+text",
         "text": [
          "ns"
         ],
         "textposition": "top center",
         "type": "scatter",
         "x": [
          "With Chocolate",
          "Without Chocolate"
         ],
         "y": [
          1,
          1
         ]
        },
        {
         "marker": {
          "color": "#252525"
         },
         "mode": "lines+markers+text",
         "text": [
          "ns"
         ],
         "textposition": "top center",
         "type": "scatter",
         "x": [
          "With Fruity",
          "Without Fruity"
         ],
         "y": [
          1,
          1
         ]
        },
        {
         "marker": {
          "color": "#252525"
         },
         "mode": "lines+markers+text",
         "text": [
          "ss"
         ],
         "textposition": "top center",
         "type": "scatter",
         "x": [
          "With Caramel",
          "Without Caramel"
         ],
         "y": [
          1,
          1
         ]
        },
        {
         "marker": {
          "color": "#252525"
         },
         "mode": "lines+markers+text",
         "text": [
          "ns"
         ],
         "textposition": "top center",
         "type": "scatter",
         "x": [
          "With Peanutyalmondy",
          "Without Peanutyalmondy"
         ],
         "y": [
          1,
          1
         ]
        },
        {
         "marker": {
          "color": "#252525"
         },
         "mode": "lines+markers+text",
         "text": [
          "ns"
         ],
         "textposition": "top center",
         "type": "scatter",
         "x": [
          "With Nougat",
          "Without Nougat"
         ],
         "y": [
          1,
          1
         ]
        },
        {
         "marker": {
          "color": "#252525"
         },
         "mode": "lines+markers+text",
         "text": [
          "ns"
         ],
         "textposition": "top center",
         "type": "scatter",
         "x": [
          "With Crispedricewafer",
          "Without Crispedricewafer"
         ],
         "y": [
          1,
          1
         ]
        },
        {
         "marker": {
          "color": "#252525"
         },
         "mode": "lines+markers+text",
         "text": [
          "ns"
         ],
         "textposition": "top center",
         "type": "scatter",
         "x": [
          "With Hard",
          "Without Hard"
         ],
         "y": [
          1,
          1
         ]
        },
        {
         "marker": {
          "color": "#252525"
         },
         "mode": "lines+markers+text",
         "text": [
          "ns"
         ],
         "textposition": "top center",
         "type": "scatter",
         "x": [
          "With Bar",
          "Without Bar"
         ],
         "y": [
          1,
          1
         ]
        }
       ],
       "layout": {
        "showlegend": false,
        "template": {
         "data": {
          "bar": [
           {
            "error_x": {
             "color": "#2a3f5f"
            },
            "error_y": {
             "color": "#2a3f5f"
            },
            "marker": {
             "line": {
              "color": "#E5ECF6",
              "width": 0.5
             }
            },
            "type": "bar"
           }
          ],
          "barpolar": [
           {
            "marker": {
             "line": {
              "color": "#E5ECF6",
              "width": 0.5
             }
            },
            "type": "barpolar"
           }
          ],
          "carpet": [
           {
            "aaxis": {
             "endlinecolor": "#2a3f5f",
             "gridcolor": "white",
             "linecolor": "white",
             "minorgridcolor": "white",
             "startlinecolor": "#2a3f5f"
            },
            "baxis": {
             "endlinecolor": "#2a3f5f",
             "gridcolor": "white",
             "linecolor": "white",
             "minorgridcolor": "white",
             "startlinecolor": "#2a3f5f"
            },
            "type": "carpet"
           }
          ],
          "choropleth": [
           {
            "colorbar": {
             "outlinewidth": 0,
             "ticks": ""
            },
            "type": "choropleth"
           }
          ],
          "contour": [
           {
            "colorbar": {
             "outlinewidth": 0,
             "ticks": ""
            },
            "colorscale": [
             [
              0,
              "#0d0887"
             ],
             [
              0.1111111111111111,
              "#46039f"
             ],
             [
              0.2222222222222222,
              "#7201a8"
             ],
             [
              0.3333333333333333,
              "#9c179e"
             ],
             [
              0.4444444444444444,
              "#bd3786"
             ],
             [
              0.5555555555555556,
              "#d8576b"
             ],
             [
              0.6666666666666666,
              "#ed7953"
             ],
             [
              0.7777777777777778,
              "#fb9f3a"
             ],
             [
              0.8888888888888888,
              "#fdca26"
             ],
             [
              1,
              "#f0f921"
             ]
            ],
            "type": "contour"
           }
          ],
          "contourcarpet": [
           {
            "colorbar": {
             "outlinewidth": 0,
             "ticks": ""
            },
            "type": "contourcarpet"
           }
          ],
          "heatmap": [
           {
            "colorbar": {
             "outlinewidth": 0,
             "ticks": ""
            },
            "colorscale": [
             [
              0,
              "#0d0887"
             ],
             [
              0.1111111111111111,
              "#46039f"
             ],
             [
              0.2222222222222222,
              "#7201a8"
             ],
             [
              0.3333333333333333,
              "#9c179e"
             ],
             [
              0.4444444444444444,
              "#bd3786"
             ],
             [
              0.5555555555555556,
              "#d8576b"
             ],
             [
              0.6666666666666666,
              "#ed7953"
             ],
             [
              0.7777777777777778,
              "#fb9f3a"
             ],
             [
              0.8888888888888888,
              "#fdca26"
             ],
             [
              1,
              "#f0f921"
             ]
            ],
            "type": "heatmap"
           }
          ],
          "heatmapgl": [
           {
            "colorbar": {
             "outlinewidth": 0,
             "ticks": ""
            },
            "colorscale": [
             [
              0,
              "#0d0887"
             ],
             [
              0.1111111111111111,
              "#46039f"
             ],
             [
              0.2222222222222222,
              "#7201a8"
             ],
             [
              0.3333333333333333,
              "#9c179e"
             ],
             [
              0.4444444444444444,
              "#bd3786"
             ],
             [
              0.5555555555555556,
              "#d8576b"
             ],
             [
              0.6666666666666666,
              "#ed7953"
             ],
             [
              0.7777777777777778,
              "#fb9f3a"
             ],
             [
              0.8888888888888888,
              "#fdca26"
             ],
             [
              1,
              "#f0f921"
             ]
            ],
            "type": "heatmapgl"
           }
          ],
          "histogram": [
           {
            "marker": {
             "colorbar": {
              "outlinewidth": 0,
              "ticks": ""
             }
            },
            "type": "histogram"
           }
          ],
          "histogram2d": [
           {
            "colorbar": {
             "outlinewidth": 0,
             "ticks": ""
            },
            "colorscale": [
             [
              0,
              "#0d0887"
             ],
             [
              0.1111111111111111,
              "#46039f"
             ],
             [
              0.2222222222222222,
              "#7201a8"
             ],
             [
              0.3333333333333333,
              "#9c179e"
             ],
             [
              0.4444444444444444,
              "#bd3786"
             ],
             [
              0.5555555555555556,
              "#d8576b"
             ],
             [
              0.6666666666666666,
              "#ed7953"
             ],
             [
              0.7777777777777778,
              "#fb9f3a"
             ],
             [
              0.8888888888888888,
              "#fdca26"
             ],
             [
              1,
              "#f0f921"
             ]
            ],
            "type": "histogram2d"
           }
          ],
          "histogram2dcontour": [
           {
            "colorbar": {
             "outlinewidth": 0,
             "ticks": ""
            },
            "colorscale": [
             [
              0,
              "#0d0887"
             ],
             [
              0.1111111111111111,
              "#46039f"
             ],
             [
              0.2222222222222222,
              "#7201a8"
             ],
             [
              0.3333333333333333,
              "#9c179e"
             ],
             [
              0.4444444444444444,
              "#bd3786"
             ],
             [
              0.5555555555555556,
              "#d8576b"
             ],
             [
              0.6666666666666666,
              "#ed7953"
             ],
             [
              0.7777777777777778,
              "#fb9f3a"
             ],
             [
              0.8888888888888888,
              "#fdca26"
             ],
             [
              1,
              "#f0f921"
             ]
            ],
            "type": "histogram2dcontour"
           }
          ],
          "mesh3d": [
           {
            "colorbar": {
             "outlinewidth": 0,
             "ticks": ""
            },
            "type": "mesh3d"
           }
          ],
          "parcoords": [
           {
            "line": {
             "colorbar": {
              "outlinewidth": 0,
              "ticks": ""
             }
            },
            "type": "parcoords"
           }
          ],
          "scatter": [
           {
            "marker": {
             "colorbar": {
              "outlinewidth": 0,
              "ticks": ""
             }
            },
            "type": "scatter"
           }
          ],
          "scatter3d": [
           {
            "line": {
             "colorbar": {
              "outlinewidth": 0,
              "ticks": ""
             }
            },
            "marker": {
             "colorbar": {
              "outlinewidth": 0,
              "ticks": ""
             }
            },
            "type": "scatter3d"
           }
          ],
          "scattercarpet": [
           {
            "marker": {
             "colorbar": {
              "outlinewidth": 0,
              "ticks": ""
             }
            },
            "type": "scattercarpet"
           }
          ],
          "scattergeo": [
           {
            "marker": {
             "colorbar": {
              "outlinewidth": 0,
              "ticks": ""
             }
            },
            "type": "scattergeo"
           }
          ],
          "scattergl": [
           {
            "marker": {
             "colorbar": {
              "outlinewidth": 0,
              "ticks": ""
             }
            },
            "type": "scattergl"
           }
          ],
          "scattermapbox": [
           {
            "marker": {
             "colorbar": {
              "outlinewidth": 0,
              "ticks": ""
             }
            },
            "type": "scattermapbox"
           }
          ],
          "scatterpolar": [
           {
            "marker": {
             "colorbar": {
              "outlinewidth": 0,
              "ticks": ""
             }
            },
            "type": "scatterpolar"
           }
          ],
          "scatterpolargl": [
           {
            "marker": {
             "colorbar": {
              "outlinewidth": 0,
              "ticks": ""
             }
            },
            "type": "scatterpolargl"
           }
          ],
          "scatterternary": [
           {
            "marker": {
             "colorbar": {
              "outlinewidth": 0,
              "ticks": ""
             }
            },
            "type": "scatterternary"
           }
          ],
          "surface": [
           {
            "colorbar": {
             "outlinewidth": 0,
             "ticks": ""
            },
            "colorscale": [
             [
              0,
              "#0d0887"
             ],
             [
              0.1111111111111111,
              "#46039f"
             ],
             [
              0.2222222222222222,
              "#7201a8"
             ],
             [
              0.3333333333333333,
              "#9c179e"
             ],
             [
              0.4444444444444444,
              "#bd3786"
             ],
             [
              0.5555555555555556,
              "#d8576b"
             ],
             [
              0.6666666666666666,
              "#ed7953"
             ],
             [
              0.7777777777777778,
              "#fb9f3a"
             ],
             [
              0.8888888888888888,
              "#fdca26"
             ],
             [
              1,
              "#f0f921"
             ]
            ],
            "type": "surface"
           }
          ],
          "table": [
           {
            "cells": {
             "fill": {
              "color": "#EBF0F8"
             },
             "line": {
              "color": "white"
             }
            },
            "header": {
             "fill": {
              "color": "#C8D4E3"
             },
             "line": {
              "color": "white"
             }
            },
            "type": "table"
           }
          ]
         },
         "layout": {
          "annotationdefaults": {
           "arrowcolor": "#2a3f5f",
           "arrowhead": 0,
           "arrowwidth": 1
          },
          "colorscale": {
           "diverging": [
            [
             0,
             "#8e0152"
            ],
            [
             0.1,
             "#c51b7d"
            ],
            [
             0.2,
             "#de77ae"
            ],
            [
             0.3,
             "#f1b6da"
            ],
            [
             0.4,
             "#fde0ef"
            ],
            [
             0.5,
             "#f7f7f7"
            ],
            [
             0.6,
             "#e6f5d0"
            ],
            [
             0.7,
             "#b8e186"
            ],
            [
             0.8,
             "#7fbc41"
            ],
            [
             0.9,
             "#4d9221"
            ],
            [
             1,
             "#276419"
            ]
           ],
           "sequential": [
            [
             0,
             "#0d0887"
            ],
            [
             0.1111111111111111,
             "#46039f"
            ],
            [
             0.2222222222222222,
             "#7201a8"
            ],
            [
             0.3333333333333333,
             "#9c179e"
            ],
            [
             0.4444444444444444,
             "#bd3786"
            ],
            [
             0.5555555555555556,
             "#d8576b"
            ],
            [
             0.6666666666666666,
             "#ed7953"
            ],
            [
             0.7777777777777778,
             "#fb9f3a"
            ],
            [
             0.8888888888888888,
             "#fdca26"
            ],
            [
             1,
             "#f0f921"
            ]
           ],
           "sequentialminus": [
            [
             0,
             "#0d0887"
            ],
            [
             0.1111111111111111,
             "#46039f"
            ],
            [
             0.2222222222222222,
             "#7201a8"
            ],
            [
             0.3333333333333333,
             "#9c179e"
            ],
            [
             0.4444444444444444,
             "#bd3786"
            ],
            [
             0.5555555555555556,
             "#d8576b"
            ],
            [
             0.6666666666666666,
             "#ed7953"
            ],
            [
             0.7777777777777778,
             "#fb9f3a"
            ],
            [
             0.8888888888888888,
             "#fdca26"
            ],
            [
             1,
             "#f0f921"
            ]
           ]
          },
          "colorway": [
           "#636efa",
           "#EF553B",
           "#00cc96",
           "#ab63fa",
           "#FFA15A",
           "#19d3f3",
           "#FF6692",
           "#B6E880",
           "#FF97FF",
           "#FECB52"
          ],
          "font": {
           "color": "#2a3f5f"
          },
          "geo": {
           "bgcolor": "white",
           "lakecolor": "white",
           "landcolor": "#E5ECF6",
           "showlakes": true,
           "showland": true,
           "subunitcolor": "white"
          },
          "hoverlabel": {
           "align": "left"
          },
          "hovermode": "closest",
          "mapbox": {
           "style": "light"
          },
          "paper_bgcolor": "white",
          "plot_bgcolor": "#E5ECF6",
          "polar": {
           "angularaxis": {
            "gridcolor": "white",
            "linecolor": "white",
            "ticks": ""
           },
           "bgcolor": "#E5ECF6",
           "radialaxis": {
            "gridcolor": "white",
            "linecolor": "white",
            "ticks": ""
           }
          },
          "scene": {
           "xaxis": {
            "backgroundcolor": "#E5ECF6",
            "gridcolor": "white",
            "gridwidth": 2,
            "linecolor": "white",
            "showbackground": true,
            "ticks": "",
            "zerolinecolor": "white"
           },
           "yaxis": {
            "backgroundcolor": "#E5ECF6",
            "gridcolor": "white",
            "gridwidth": 2,
            "linecolor": "white",
            "showbackground": true,
            "ticks": "",
            "zerolinecolor": "white"
           },
           "zaxis": {
            "backgroundcolor": "#E5ECF6",
            "gridcolor": "white",
            "gridwidth": 2,
            "linecolor": "white",
            "showbackground": true,
            "ticks": "",
            "zerolinecolor": "white"
           }
          },
          "shapedefaults": {
           "line": {
            "color": "#2a3f5f"
           }
          },
          "ternary": {
           "aaxis": {
            "gridcolor": "white",
            "linecolor": "white",
            "ticks": ""
           },
           "baxis": {
            "gridcolor": "white",
            "linecolor": "white",
            "ticks": ""
           },
           "bgcolor": "#E5ECF6",
           "caxis": {
            "gridcolor": "white",
            "linecolor": "white",
            "ticks": ""
           }
          },
          "title": {
           "x": 0.05
          },
          "xaxis": {
           "automargin": true,
           "gridcolor": "white",
           "linecolor": "white",
           "ticks": "",
           "zerolinecolor": "white",
           "zerolinewidth": 2
          },
          "yaxis": {
           "automargin": true,
           "gridcolor": "white",
           "linecolor": "white",
           "ticks": "",
           "zerolinecolor": "white",
           "zerolinewidth": 2
          }
         }
        },
        "title": {
         "text": "Sugar percent box plot"
        },
        "yaxis": {
         "title": {
          "text": "Percentage"
         },
         "zeroline": false
        }
       }
      },
      "text/html": [
       "<div>\n",
       "        \n",
       "        \n",
       "            <div id=\"2441b55f-6144-4aef-a984-f707b342ffac\" class=\"plotly-graph-div\" style=\"height:525px; width:100%;\"></div>\n",
       "            <script type=\"text/javascript\">\n",
       "                require([\"plotly\"], function(Plotly) {\n",
       "                    window.PLOTLYENV=window.PLOTLYENV || {};\n",
       "                    \n",
       "                if (document.getElementById(\"2441b55f-6144-4aef-a984-f707b342ffac\")) {\n",
       "                    Plotly.newPlot(\n",
       "                        '2441b55f-6144-4aef-a984-f707b342ffac',\n",
       "                        [{\"boxmean\": true, \"marker\": {\"color\": \"#8b4513\"}, \"name\": \"With Chocolate\", \"type\": \"box\", \"y\": [0.73199999, 0.60399997, 0.465, 0.60399997, 0.60399997, 0.127, 0.43000001, 0.43000001, 0.43000001, 0.19699999999999998, 0.31299999, 0.82499999, 0.82499999, 0.30199999, 0.60399997, 0.73199999, 0.96499997, 0.31299999, 0.31299999, 0.60399997, 0.31299999, 0.59299999, 0.034000002, 0.72000003, 0.40599999, 0.98799998, 0.86000001, 0.22, 0.26699999, 0.546, 0.60399997, 0.60399997, 0.31299999, 0.17399999, 0.465, 0.546, 0.87199998]}, {\"boxmean\": true, \"marker\": {\"color\": \"#8b4513\"}, \"name\": \"Without Chocolate\", \"opacity\": 0.6, \"type\": \"box\", \"y\": [0.011000000000000001, 0.011000000000000001, 0.90600002, 0.31299999, 0.90600002, 0.60399997, 0.73199999, 0.046, 0.73199999, 0.73199999, 0.127, 0.73199999, 0.90600002, 0.465, 0.465, 0.465, 0.465, 0.093000002, 0.22, 0.046, 0.26699999, 0.87199998, 0.84799999, 0.19699999999999998, 0.22, 0.465, 0.093000002, 0.60399997, 0.58099997, 0.73199999, 0.73199999, 0.87199998, 0.94099998, 0.94099998, 0.26699999, 0.06899999799999999, 0.06899999799999999, 0.15099999, 0.56900001, 0.96499997, 0.41800001, 0.162, 0.60399997, 0.31299999, 0.22, 0.093000002, 0.31299999, 0.18600000000000003]}, {\"boxmean\": true, \"marker\": {\"color\": \"#e42c64\"}, \"name\": \"With Fruity\", \"type\": \"box\", \"y\": [0.90600002, 0.60399997, 0.73199999, 0.046, 0.73199999, 0.73199999, 0.127, 0.73199999, 0.90600002, 0.465, 0.465, 0.465, 0.093000002, 0.22, 0.046, 0.26699999, 0.87199998, 0.84799999, 0.19699999999999998, 0.22, 0.60399997, 0.58099997, 0.73199999, 0.87199998, 0.94099998, 0.94099998, 0.26699999, 0.06899999799999999, 0.06899999799999999, 0.15099999, 0.56900001, 0.162, 0.60399997, 0.60399997, 0.31299999, 0.22, 0.093000002, 0.31299999]}, {\"boxmean\": true, \"marker\": {\"color\": \"#e42c64\"}, \"name\": \"Without Fruity\", \"opacity\": 0.6, \"type\": \"box\", \"y\": [0.73199999, 0.60399997, 0.011000000000000001, 0.011000000000000001, 0.465, 0.60399997, 0.31299999, 0.90600002, 0.60399997, 0.465, 0.127, 0.43000001, 0.43000001, 0.43000001, 0.19699999999999998, 0.31299999, 0.82499999, 0.82499999, 0.30199999, 0.60399997, 0.73199999, 0.96499997, 0.31299999, 0.31299999, 0.60399997, 0.31299999, 0.465, 0.59299999, 0.093000002, 0.034000002, 0.72000003, 0.40599999, 0.98799998, 0.86000001, 0.73199999, 0.22, 0.26699999, 0.546, 0.60399997, 0.96499997, 0.41800001, 0.31299999, 0.17399999, 0.465, 0.546, 0.18600000000000003, 0.87199998]}, {\"boxmean\": true, \"marker\": {\"color\": \"#f3a953\"}, \"name\": \"With Caramel\", \"type\": \"box\", \"y\": [0.73199999, 0.60399997, 0.60399997, 0.30199999, 0.60399997, 0.73199999, 0.96499997, 0.86000001, 0.546, 0.60399997, 0.96499997, 0.41800001, 0.546, 0.18600000000000003]}, {\"boxmean\": true, \"marker\": {\"color\": \"#f3a953\"}, \"name\": \"Without Caramel\", \"opacity\": 0.6, \"type\": \"box\", \"y\": [0.60399997, 0.011000000000000001, 0.011000000000000001, 0.90600002, 0.465, 0.31299999, 0.90600002, 0.60399997, 0.73199999, 0.046, 0.73199999, 0.73199999, 0.127, 0.73199999, 0.90600002, 0.465, 0.465, 0.465, 0.465, 0.127, 0.43000001, 0.43000001, 0.43000001, 0.093000002, 0.19699999999999998, 0.31299999, 0.22, 0.046, 0.26699999, 0.82499999, 0.82499999, 0.87199998, 0.31299999, 0.31299999, 0.84799999, 0.60399997, 0.31299999, 0.19699999999999998, 0.22, 0.465, 0.59299999, 0.093000002, 0.60399997, 0.58099997, 0.034000002, 0.72000003, 0.40599999, 0.98799998, 0.73199999, 0.73199999, 0.87199998, 0.22, 0.94099998, 0.94099998, 0.26699999, 0.26699999, 0.06899999799999999, 0.06899999799999999, 0.15099999, 0.56900001, 0.162, 0.60399997, 0.60399997, 0.31299999, 0.17399999, 0.465, 0.31299999, 0.22, 0.093000002, 0.31299999, 0.87199998]}, {\"boxmean\": true, \"marker\": {\"color\": \"#58b368\"}, \"name\": \"With Peanutyalmondy\", \"type\": \"box\", \"y\": [0.465, 0.60399997, 0.31299999, 0.82499999, 0.31299999, 0.60399997, 0.465, 0.59299999, 0.034000002, 0.72000003, 0.40599999, 0.98799998, 0.546, 0.60399997]}, {\"boxmean\": true, \"marker\": {\"color\": \"#58b368\"}, \"name\": \"Without Peanutyalmondy\", \"opacity\": 0.6, \"type\": \"box\", \"y\": [0.73199999, 0.60399997, 0.011000000000000001, 0.011000000000000001, 0.90600002, 0.90600002, 0.60399997, 0.60399997, 0.73199999, 0.046, 0.73199999, 0.73199999, 0.127, 0.73199999, 0.90600002, 0.465, 0.465, 0.465, 0.465, 0.127, 0.43000001, 0.43000001, 0.43000001, 0.093000002, 0.19699999999999998, 0.31299999, 0.22, 0.046, 0.26699999, 0.82499999, 0.87199998, 0.30199999, 0.60399997, 0.73199999, 0.96499997, 0.31299999, 0.84799999, 0.31299999, 0.19699999999999998, 0.22, 0.093000002, 0.60399997, 0.58099997, 0.73199999, 0.86000001, 0.73199999, 0.87199998, 0.22, 0.94099998, 0.94099998, 0.26699999, 0.26699999, 0.06899999799999999, 0.06899999799999999, 0.15099999, 0.56900001, 0.96499997, 0.41800001, 0.162, 0.60399997, 0.60399997, 0.31299999, 0.17399999, 0.465, 0.31299999, 0.546, 0.22, 0.093000002, 0.31299999, 0.18600000000000003, 0.87199998]}, {\"boxmean\": true, \"marker\": {\"color\": \"#373a6d\"}, \"name\": \"With Nougat\", \"type\": \"box\", \"y\": [0.60399997, 0.60399997, 0.60399997, 0.60399997, 0.73199999, 0.465, 0.546]}, {\"boxmean\": true, \"marker\": {\"color\": \"#373a6d\"}, \"name\": \"Without Nougat\", \"opacity\": 0.6, \"type\": \"box\", \"y\": [0.73199999, 0.011000000000000001, 0.011000000000000001, 0.90600002, 0.465, 0.31299999, 0.90600002, 0.60399997, 0.73199999, 0.046, 0.73199999, 0.73199999, 0.127, 0.73199999, 0.90600002, 0.465, 0.465, 0.465, 0.465, 0.127, 0.43000001, 0.43000001, 0.43000001, 0.093000002, 0.19699999999999998, 0.31299999, 0.22, 0.046, 0.26699999, 0.82499999, 0.82499999, 0.87199998, 0.30199999, 0.96499997, 0.31299999, 0.31299999, 0.84799999, 0.60399997, 0.31299999, 0.19699999999999998, 0.22, 0.59299999, 0.093000002, 0.60399997, 0.58099997, 0.034000002, 0.72000003, 0.40599999, 0.98799998, 0.73199999, 0.86000001, 0.73199999, 0.87199998, 0.22, 0.94099998, 0.94099998, 0.26699999, 0.26699999, 0.60399997, 0.06899999799999999, 0.06899999799999999, 0.15099999, 0.56900001, 0.96499997, 0.41800001, 0.162, 0.60399997, 0.60399997, 0.31299999, 0.17399999, 0.465, 0.31299999, 0.546, 0.22, 0.093000002, 0.31299999, 0.18600000000000003, 0.87199998]}, {\"boxmean\": true, \"marker\": {\"color\": \"#9370db\"}, \"name\": \"With Crispedricewafer\", \"type\": \"box\", \"y\": [0.73199999, 0.43000001, 0.31299999, 0.31299999, 0.60399997, 0.546, 0.87199998]}, {\"boxmean\": true, \"marker\": {\"color\": \"#9370db\"}, \"name\": \"Without Crispedricewafer\", \"opacity\": 0.6, \"type\": \"box\", \"y\": [0.60399997, 0.011000000000000001, 0.011000000000000001, 0.90600002, 0.465, 0.60399997, 0.31299999, 0.90600002, 0.60399997, 0.60399997, 0.73199999, 0.046, 0.73199999, 0.73199999, 0.127, 0.73199999, 0.90600002, 0.465, 0.465, 0.465, 0.465, 0.127, 0.43000001, 0.43000001, 0.093000002, 0.19699999999999998, 0.22, 0.046, 0.26699999, 0.82499999, 0.82499999, 0.87199998, 0.30199999, 0.60399997, 0.73199999, 0.96499997, 0.31299999, 0.31299999, 0.84799999, 0.60399997, 0.19699999999999998, 0.22, 0.465, 0.59299999, 0.093000002, 0.60399997, 0.58099997, 0.034000002, 0.72000003, 0.40599999, 0.98799998, 0.73199999, 0.86000001, 0.73199999, 0.87199998, 0.22, 0.94099998, 0.94099998, 0.26699999, 0.26699999, 0.546, 0.06899999799999999, 0.06899999799999999, 0.15099999, 0.56900001, 0.96499997, 0.41800001, 0.162, 0.60399997, 0.60399997, 0.31299999, 0.17399999, 0.465, 0.31299999, 0.22, 0.093000002, 0.31299999, 0.18600000000000003]}, {\"boxmean\": true, \"marker\": {\"color\": \"#ff4057\"}, \"name\": \"With Hard\", \"type\": \"box\", \"y\": [0.73199999, 0.73199999, 0.90600002, 0.093000002, 0.046, 0.84799999, 0.60399997, 0.73199999, 0.73199999, 0.87199998, 0.26699999, 0.56900001, 0.60399997, 0.093000002, 0.18600000000000003]}, {\"boxmean\": true, \"marker\": {\"color\": \"#ff4057\"}, \"name\": \"Without Hard\", \"opacity\": 0.6, \"type\": \"box\", \"y\": [0.73199999, 0.60399997, 0.011000000000000001, 0.011000000000000001, 0.90600002, 0.465, 0.60399997, 0.31299999, 0.90600002, 0.60399997, 0.60399997, 0.73199999, 0.046, 0.73199999, 0.127, 0.465, 0.465, 0.465, 0.465, 0.127, 0.43000001, 0.43000001, 0.43000001, 0.19699999999999998, 0.31299999, 0.22, 0.26699999, 0.82499999, 0.82499999, 0.87199998, 0.30199999, 0.60399997, 0.73199999, 0.96499997, 0.31299999, 0.31299999, 0.60399997, 0.31299999, 0.19699999999999998, 0.22, 0.465, 0.59299999, 0.093000002, 0.58099997, 0.034000002, 0.72000003, 0.40599999, 0.98799998, 0.86000001, 0.22, 0.94099998, 0.94099998, 0.26699999, 0.546, 0.60399997, 0.06899999799999999, 0.06899999799999999, 0.15099999, 0.96499997, 0.41800001, 0.162, 0.60399997, 0.31299999, 0.17399999, 0.465, 0.31299999, 0.546, 0.22, 0.31299999, 0.87199998]}, {\"boxmean\": true, \"marker\": {\"color\": \"#096386\"}, \"name\": \"With Bar\", \"type\": \"box\", \"y\": [0.73199999, 0.60399997, 0.465, 0.60399997, 0.60399997, 0.43000001, 0.43000001, 0.43000001, 0.31299999, 0.60399997, 0.73199999, 0.96499997, 0.31299999, 0.31299999, 0.60399997, 0.31299999, 0.465, 0.546, 0.60399997, 0.465, 0.546]}, {\"boxmean\": true, \"marker\": {\"color\": \"#096386\"}, \"name\": \"Without Bar\", \"opacity\": 0.6, \"type\": \"box\", \"y\": [0.011000000000000001, 0.011000000000000001, 0.90600002, 0.31299999, 0.90600002, 0.60399997, 0.73199999, 0.046, 0.73199999, 0.73199999, 0.127, 0.73199999, 0.90600002, 0.465, 0.465, 0.465, 0.465, 0.127, 0.093000002, 0.19699999999999998, 0.22, 0.046, 0.26699999, 0.82499999, 0.82499999, 0.87199998, 0.30199999, 0.84799999, 0.19699999999999998, 0.22, 0.59299999, 0.093000002, 0.60399997, 0.58099997, 0.034000002, 0.72000003, 0.40599999, 0.98799998, 0.73199999, 0.86000001, 0.73199999, 0.87199998, 0.22, 0.94099998, 0.94099998, 0.26699999, 0.26699999, 0.06899999799999999, 0.06899999799999999, 0.15099999, 0.56900001, 0.96499997, 0.41800001, 0.162, 0.60399997, 0.60399997, 0.31299999, 0.17399999, 0.31299999, 0.22, 0.093000002, 0.31299999, 0.18600000000000003, 0.87199998]}, {\"marker\": {\"color\": \"#252525\"}, \"mode\": \"lines+markers+text\", \"text\": [\"ns\"], \"textposition\": \"top center\", \"type\": \"scatter\", \"x\": [\"With Chocolate\", \"Without Chocolate\"], \"y\": [1, 1]}, {\"marker\": {\"color\": \"#252525\"}, \"mode\": \"lines+markers+text\", \"text\": [\"ns\"], \"textposition\": \"top center\", \"type\": \"scatter\", \"x\": [\"With Fruity\", \"Without Fruity\"], \"y\": [1, 1]}, {\"marker\": {\"color\": \"#252525\"}, \"mode\": \"lines+markers+text\", \"text\": [\"ss\"], \"textposition\": \"top center\", \"type\": \"scatter\", \"x\": [\"With Caramel\", \"Without Caramel\"], \"y\": [1, 1]}, {\"marker\": {\"color\": \"#252525\"}, \"mode\": \"lines+markers+text\", \"text\": [\"ns\"], \"textposition\": \"top center\", \"type\": \"scatter\", \"x\": [\"With Peanutyalmondy\", \"Without Peanutyalmondy\"], \"y\": [1, 1]}, {\"marker\": {\"color\": \"#252525\"}, \"mode\": \"lines+markers+text\", \"text\": [\"ns\"], \"textposition\": \"top center\", \"type\": \"scatter\", \"x\": [\"With Nougat\", \"Without Nougat\"], \"y\": [1, 1]}, {\"marker\": {\"color\": \"#252525\"}, \"mode\": \"lines+markers+text\", \"text\": [\"ns\"], \"textposition\": \"top center\", \"type\": \"scatter\", \"x\": [\"With Crispedricewafer\", \"Without Crispedricewafer\"], \"y\": [1, 1]}, {\"marker\": {\"color\": \"#252525\"}, \"mode\": \"lines+markers+text\", \"text\": [\"ns\"], \"textposition\": \"top center\", \"type\": \"scatter\", \"x\": [\"With Hard\", \"Without Hard\"], \"y\": [1, 1]}, {\"marker\": {\"color\": \"#252525\"}, \"mode\": \"lines+markers+text\", \"text\": [\"ns\"], \"textposition\": \"top center\", \"type\": \"scatter\", \"x\": [\"With Bar\", \"Without Bar\"], \"y\": [1, 1]}],\n",
       "                        {\"showlegend\": false, \"template\": {\"data\": {\"bar\": [{\"error_x\": {\"color\": \"#2a3f5f\"}, \"error_y\": {\"color\": \"#2a3f5f\"}, \"marker\": {\"line\": {\"color\": \"#E5ECF6\", \"width\": 0.5}}, \"type\": \"bar\"}], \"barpolar\": [{\"marker\": {\"line\": {\"color\": \"#E5ECF6\", \"width\": 0.5}}, \"type\": \"barpolar\"}], \"carpet\": [{\"aaxis\": {\"endlinecolor\": \"#2a3f5f\", \"gridcolor\": \"white\", \"linecolor\": \"white\", \"minorgridcolor\": \"white\", \"startlinecolor\": \"#2a3f5f\"}, \"baxis\": {\"endlinecolor\": \"#2a3f5f\", \"gridcolor\": \"white\", \"linecolor\": \"white\", \"minorgridcolor\": \"white\", \"startlinecolor\": \"#2a3f5f\"}, \"type\": \"carpet\"}], \"choropleth\": [{\"colorbar\": {\"outlinewidth\": 0, \"ticks\": \"\"}, \"type\": \"choropleth\"}], \"contour\": [{\"colorbar\": {\"outlinewidth\": 0, \"ticks\": \"\"}, \"colorscale\": [[0.0, \"#0d0887\"], [0.1111111111111111, \"#46039f\"], [0.2222222222222222, \"#7201a8\"], [0.3333333333333333, \"#9c179e\"], [0.4444444444444444, \"#bd3786\"], [0.5555555555555556, \"#d8576b\"], [0.6666666666666666, \"#ed7953\"], [0.7777777777777778, \"#fb9f3a\"], [0.8888888888888888, \"#fdca26\"], [1.0, \"#f0f921\"]], \"type\": \"contour\"}], \"contourcarpet\": [{\"colorbar\": {\"outlinewidth\": 0, \"ticks\": \"\"}, \"type\": \"contourcarpet\"}], \"heatmap\": [{\"colorbar\": {\"outlinewidth\": 0, \"ticks\": \"\"}, \"colorscale\": [[0.0, \"#0d0887\"], [0.1111111111111111, \"#46039f\"], [0.2222222222222222, \"#7201a8\"], [0.3333333333333333, \"#9c179e\"], [0.4444444444444444, \"#bd3786\"], [0.5555555555555556, \"#d8576b\"], [0.6666666666666666, \"#ed7953\"], [0.7777777777777778, \"#fb9f3a\"], [0.8888888888888888, \"#fdca26\"], [1.0, \"#f0f921\"]], \"type\": \"heatmap\"}], \"heatmapgl\": [{\"colorbar\": {\"outlinewidth\": 0, \"ticks\": \"\"}, \"colorscale\": [[0.0, \"#0d0887\"], [0.1111111111111111, \"#46039f\"], [0.2222222222222222, \"#7201a8\"], [0.3333333333333333, \"#9c179e\"], [0.4444444444444444, \"#bd3786\"], [0.5555555555555556, \"#d8576b\"], [0.6666666666666666, \"#ed7953\"], [0.7777777777777778, \"#fb9f3a\"], [0.8888888888888888, \"#fdca26\"], [1.0, \"#f0f921\"]], \"type\": \"heatmapgl\"}], \"histogram\": [{\"marker\": {\"colorbar\": {\"outlinewidth\": 0, \"ticks\": \"\"}}, \"type\": \"histogram\"}], \"histogram2d\": [{\"colorbar\": {\"outlinewidth\": 0, \"ticks\": \"\"}, \"colorscale\": [[0.0, \"#0d0887\"], [0.1111111111111111, \"#46039f\"], [0.2222222222222222, \"#7201a8\"], [0.3333333333333333, \"#9c179e\"], [0.4444444444444444, \"#bd3786\"], [0.5555555555555556, \"#d8576b\"], [0.6666666666666666, \"#ed7953\"], [0.7777777777777778, \"#fb9f3a\"], [0.8888888888888888, \"#fdca26\"], [1.0, \"#f0f921\"]], \"type\": \"histogram2d\"}], \"histogram2dcontour\": [{\"colorbar\": {\"outlinewidth\": 0, \"ticks\": \"\"}, \"colorscale\": [[0.0, \"#0d0887\"], [0.1111111111111111, \"#46039f\"], [0.2222222222222222, \"#7201a8\"], [0.3333333333333333, \"#9c179e\"], [0.4444444444444444, \"#bd3786\"], [0.5555555555555556, \"#d8576b\"], [0.6666666666666666, \"#ed7953\"], [0.7777777777777778, \"#fb9f3a\"], [0.8888888888888888, \"#fdca26\"], [1.0, \"#f0f921\"]], \"type\": \"histogram2dcontour\"}], \"mesh3d\": [{\"colorbar\": {\"outlinewidth\": 0, \"ticks\": \"\"}, \"type\": \"mesh3d\"}], \"parcoords\": [{\"line\": {\"colorbar\": {\"outlinewidth\": 0, \"ticks\": \"\"}}, \"type\": \"parcoords\"}], \"scatter\": [{\"marker\": {\"colorbar\": {\"outlinewidth\": 0, \"ticks\": \"\"}}, \"type\": \"scatter\"}], \"scatter3d\": [{\"line\": {\"colorbar\": {\"outlinewidth\": 0, \"ticks\": \"\"}}, \"marker\": {\"colorbar\": {\"outlinewidth\": 0, \"ticks\": \"\"}}, \"type\": \"scatter3d\"}], \"scattercarpet\": [{\"marker\": {\"colorbar\": {\"outlinewidth\": 0, \"ticks\": \"\"}}, \"type\": \"scattercarpet\"}], \"scattergeo\": [{\"marker\": {\"colorbar\": {\"outlinewidth\": 0, \"ticks\": \"\"}}, \"type\": \"scattergeo\"}], \"scattergl\": [{\"marker\": {\"colorbar\": {\"outlinewidth\": 0, \"ticks\": \"\"}}, \"type\": \"scattergl\"}], \"scattermapbox\": [{\"marker\": {\"colorbar\": {\"outlinewidth\": 0, \"ticks\": \"\"}}, \"type\": \"scattermapbox\"}], \"scatterpolar\": [{\"marker\": {\"colorbar\": {\"outlinewidth\": 0, \"ticks\": \"\"}}, \"type\": \"scatterpolar\"}], \"scatterpolargl\": [{\"marker\": {\"colorbar\": {\"outlinewidth\": 0, \"ticks\": \"\"}}, \"type\": \"scatterpolargl\"}], \"scatterternary\": [{\"marker\": {\"colorbar\": {\"outlinewidth\": 0, \"ticks\": \"\"}}, \"type\": \"scatterternary\"}], \"surface\": [{\"colorbar\": {\"outlinewidth\": 0, \"ticks\": \"\"}, \"colorscale\": [[0.0, \"#0d0887\"], [0.1111111111111111, \"#46039f\"], [0.2222222222222222, \"#7201a8\"], [0.3333333333333333, \"#9c179e\"], [0.4444444444444444, \"#bd3786\"], [0.5555555555555556, \"#d8576b\"], [0.6666666666666666, \"#ed7953\"], [0.7777777777777778, \"#fb9f3a\"], [0.8888888888888888, \"#fdca26\"], [1.0, \"#f0f921\"]], \"type\": \"surface\"}], \"table\": [{\"cells\": {\"fill\": {\"color\": \"#EBF0F8\"}, \"line\": {\"color\": \"white\"}}, \"header\": {\"fill\": {\"color\": \"#C8D4E3\"}, \"line\": {\"color\": \"white\"}}, \"type\": \"table\"}]}, \"layout\": {\"annotationdefaults\": {\"arrowcolor\": \"#2a3f5f\", \"arrowhead\": 0, \"arrowwidth\": 1}, \"colorscale\": {\"diverging\": [[0, \"#8e0152\"], [0.1, \"#c51b7d\"], [0.2, \"#de77ae\"], [0.3, \"#f1b6da\"], [0.4, \"#fde0ef\"], [0.5, \"#f7f7f7\"], [0.6, \"#e6f5d0\"], [0.7, \"#b8e186\"], [0.8, \"#7fbc41\"], [0.9, \"#4d9221\"], [1, \"#276419\"]], \"sequential\": [[0.0, \"#0d0887\"], [0.1111111111111111, \"#46039f\"], [0.2222222222222222, \"#7201a8\"], [0.3333333333333333, \"#9c179e\"], [0.4444444444444444, \"#bd3786\"], [0.5555555555555556, \"#d8576b\"], [0.6666666666666666, \"#ed7953\"], [0.7777777777777778, \"#fb9f3a\"], [0.8888888888888888, \"#fdca26\"], [1.0, \"#f0f921\"]], \"sequentialminus\": [[0.0, \"#0d0887\"], [0.1111111111111111, \"#46039f\"], [0.2222222222222222, \"#7201a8\"], [0.3333333333333333, \"#9c179e\"], [0.4444444444444444, \"#bd3786\"], [0.5555555555555556, \"#d8576b\"], [0.6666666666666666, \"#ed7953\"], [0.7777777777777778, \"#fb9f3a\"], [0.8888888888888888, \"#fdca26\"], [1.0, \"#f0f921\"]]}, \"colorway\": [\"#636efa\", \"#EF553B\", \"#00cc96\", \"#ab63fa\", \"#FFA15A\", \"#19d3f3\", \"#FF6692\", \"#B6E880\", \"#FF97FF\", \"#FECB52\"], \"font\": {\"color\": \"#2a3f5f\"}, \"geo\": {\"bgcolor\": \"white\", \"lakecolor\": \"white\", \"landcolor\": \"#E5ECF6\", \"showlakes\": true, \"showland\": true, \"subunitcolor\": \"white\"}, \"hoverlabel\": {\"align\": \"left\"}, \"hovermode\": \"closest\", \"mapbox\": {\"style\": \"light\"}, \"paper_bgcolor\": \"white\", \"plot_bgcolor\": \"#E5ECF6\", \"polar\": {\"angularaxis\": {\"gridcolor\": \"white\", \"linecolor\": \"white\", \"ticks\": \"\"}, \"bgcolor\": \"#E5ECF6\", \"radialaxis\": {\"gridcolor\": \"white\", \"linecolor\": \"white\", \"ticks\": \"\"}}, \"scene\": {\"xaxis\": {\"backgroundcolor\": \"#E5ECF6\", \"gridcolor\": \"white\", \"gridwidth\": 2, \"linecolor\": \"white\", \"showbackground\": true, \"ticks\": \"\", \"zerolinecolor\": \"white\"}, \"yaxis\": {\"backgroundcolor\": \"#E5ECF6\", \"gridcolor\": \"white\", \"gridwidth\": 2, \"linecolor\": \"white\", \"showbackground\": true, \"ticks\": \"\", \"zerolinecolor\": \"white\"}, \"zaxis\": {\"backgroundcolor\": \"#E5ECF6\", \"gridcolor\": \"white\", \"gridwidth\": 2, \"linecolor\": \"white\", \"showbackground\": true, \"ticks\": \"\", \"zerolinecolor\": \"white\"}}, \"shapedefaults\": {\"line\": {\"color\": \"#2a3f5f\"}}, \"ternary\": {\"aaxis\": {\"gridcolor\": \"white\", \"linecolor\": \"white\", \"ticks\": \"\"}, \"baxis\": {\"gridcolor\": \"white\", \"linecolor\": \"white\", \"ticks\": \"\"}, \"bgcolor\": \"#E5ECF6\", \"caxis\": {\"gridcolor\": \"white\", \"linecolor\": \"white\", \"ticks\": \"\"}}, \"title\": {\"x\": 0.05}, \"xaxis\": {\"automargin\": true, \"gridcolor\": \"white\", \"linecolor\": \"white\", \"ticks\": \"\", \"zerolinecolor\": \"white\", \"zerolinewidth\": 2}, \"yaxis\": {\"automargin\": true, \"gridcolor\": \"white\", \"linecolor\": \"white\", \"ticks\": \"\", \"zerolinecolor\": \"white\", \"zerolinewidth\": 2}}}, \"title\": {\"text\": \"Sugar percent box plot\"}, \"yaxis\": {\"title\": {\"text\": \"Percentage\"}, \"zeroline\": false}},\n",
       "                        {\"responsive\": true}\n",
       "                    ).then(function(){\n",
       "                            \n",
       "var gd = document.getElementById('2441b55f-6144-4aef-a984-f707b342ffac');\n",
       "var x = new MutationObserver(function (mutations, observer) {{\n",
       "        var display = window.getComputedStyle(gd).display;\n",
       "        if (!display || display === 'none') {{\n",
       "            console.log([gd, 'removed!']);\n",
       "            Plotly.purge(gd);\n",
       "            observer.disconnect();\n",
       "        }}\n",
       "}});\n",
       "\n",
       "// Listen for the removal of the full notebook cells\n",
       "var notebookContainer = gd.closest('#notebook-container');\n",
       "if (notebookContainer) {{\n",
       "    x.observe(notebookContainer, {childList: true});\n",
       "}}\n",
       "\n",
       "// Listen for the clearing of the current output cell\n",
       "var outputEl = gd.closest('.output');\n",
       "if (outputEl) {{\n",
       "    x.observe(outputEl, {childList: true});\n",
       "}}\n",
       "\n",
       "                        })\n",
       "                };\n",
       "                });\n",
       "            </script>\n",
       "        </div>"
      ]
     },
     "metadata": {},
     "output_type": "display_data"
    }
   ],
   "source": [
    "def sugar_ss():\n",
    "    y = [df[df.chocolate == 1].sugarpercent, df[df.chocolate == 0].sugarpercent, df[df.fruity == 1].sugarpercent, df[df.fruity == 0].sugarpercent, df[df.caramel == 1].sugarpercent, df[df.caramel == 0].sugarpercent,\n",
    "          df[df.peanutyalmondy == 1].sugarpercent, df[df.peanutyalmondy == 0].sugarpercent, df[df.nougat == 1].sugarpercent, df[df.nougat == 0].sugarpercent, df[df.crispedricewafer == 1].sugarpercent, df[df.crispedricewafer == 0].sugarpercent,\n",
    "          df[df.hard == 1].sugarpercent, df[df.hard == 0].sugarpercent, df[df.bar == 1].sugarpercent, df[df.bar == 0].sugarpercent]\n",
    "    trace0 = go.Box(\n",
    "        boxmean=True,\n",
    "        y=y[0],\n",
    "        name='With Chocolate',\n",
    "        marker=dict(\n",
    "            color='#8b4513'\n",
    "        )\n",
    "    )\n",
    "    trace1 = go.Box(\n",
    "        boxmean=True,\n",
    "        y=y[1],\n",
    "        name='Without Chocolate',\n",
    "        opacity=0.6,\n",
    "        marker=dict(\n",
    "            color='#8b4513'\n",
    "\n",
    "        )\n",
    "    )\n",
    "    trace2 = go.Box(\n",
    "        boxmean=True,\n",
    "        y=y[2],\n",
    "        name='With Fruity',\n",
    "        marker=dict(\n",
    "            color='#e42c64'\n",
    "        )\n",
    "    )\n",
    "    trace3 = go.Box(\n",
    "        boxmean=True,\n",
    "        y=y[3],\n",
    "        name='Without Fruity',\n",
    "        opacity=0.6,\n",
    "        marker=dict(\n",
    "            color='#e42c64'\n",
    "        )\n",
    "    )\n",
    "    trace4 = go.Box(\n",
    "        boxmean=True,\n",
    "        y=y[4],\n",
    "        name='With Caramel',\n",
    "        marker=dict(\n",
    "            color='#f3a953'\n",
    "        )\n",
    "    )\n",
    "    trace5 = go.Box(\n",
    "        boxmean=True,\n",
    "        y=y[5],\n",
    "        name='Without Caramel',\n",
    "        opacity=0.6,\n",
    "        marker=dict(\n",
    "            color='#f3a953'\n",
    "        )\n",
    "    )\n",
    "    trace6 = go.Box(\n",
    "        boxmean=True,\n",
    "        y=y[6],\n",
    "        name='With Peanutyalmondy',\n",
    "        marker=dict(\n",
    "            color='#58b368'\n",
    "        )\n",
    "    )\n",
    "    trace7 = go.Box(\n",
    "        boxmean=True,\n",
    "        y=y[7],\n",
    "        name='Without Peanutyalmondy',\n",
    "        opacity=0.6,\n",
    "        marker=dict(\n",
    "            color='#58b368'\n",
    "        )\n",
    "    )\n",
    "    trace8 = go.Box(\n",
    "        boxmean=True,\n",
    "        y=y[8],\n",
    "        name='With Nougat',\n",
    "        marker=dict(\n",
    "            color='#373a6d'\n",
    "        )\n",
    "    )\n",
    "    trace9 = go.Box(\n",
    "        boxmean=True,\n",
    "        y=y[9],\n",
    "        name='Without Nougat',\n",
    "        opacity=0.6,\n",
    "        marker=dict(\n",
    "            color='#373a6d'\n",
    "        )\n",
    "    )\n",
    "    trace10 = go.Box(\n",
    "        boxmean=True,\n",
    "        y=y[10],\n",
    "        name='With Crispedricewafer',\n",
    "        marker=dict(\n",
    "            color='#9370db'\n",
    "        )\n",
    "    )\n",
    "    trace11 = go.Box(\n",
    "        boxmean=True,\n",
    "        y=y[11],\n",
    "        name='Without Crispedricewafer',\n",
    "        opacity=0.6,\n",
    "        marker=dict(\n",
    "            color='#9370db'\n",
    "        )\n",
    "    )\n",
    "    trace12 = go.Box(\n",
    "        boxmean=True,\n",
    "        y=y[12],\n",
    "        name='With Hard',\n",
    "        marker=dict(\n",
    "            color='#ff4057'\n",
    "        )\n",
    "    )\n",
    "    trace13 = go.Box(\n",
    "        boxmean=True,\n",
    "        y=y[13],\n",
    "        name='Without Hard',\n",
    "        opacity=0.6,\n",
    "        marker=dict(\n",
    "            color='#ff4057'\n",
    "        )\n",
    "    )\n",
    "    trace14 = go.Box(\n",
    "        boxmean=True,\n",
    "        y=y[14],\n",
    "        name='With Bar',\n",
    "        marker=dict(\n",
    "            color='#096386'\n",
    "        )\n",
    "    )\n",
    "    trace15 = go.Box(\n",
    "        boxmean=True,\n",
    "        y=y[15],\n",
    "        name='Without Bar',\n",
    "        opacity=0.6,\n",
    "        marker=dict(\n",
    "            color='#096386'\n",
    "        )\n",
    "    )\n",
    "    trace16 = go.Scatter(\n",
    "        x=['With Chocolate', 'Without Chocolate' ],\n",
    "        y=[1,1],\n",
    "        mode='lines+markers+text',\n",
    "        text=[sugarpercent_p_val[0]],\n",
    "        textposition='top center',\n",
    "        marker=dict(\n",
    "            color='#252525'\n",
    "        )\n",
    "    )\n",
    "\n",
    "    trace17 = go.Scatter(\n",
    "    x=['With Fruity', 'Without Fruity' ],\n",
    "    y=[1,1],\n",
    "    mode='lines+markers+text',\n",
    "    text=[sugarpercent_p_val[1]],\n",
    "    textposition='top center',\n",
    "\n",
    "    marker=dict(\n",
    "        color='#252525'\n",
    "    )\n",
    "    )\n",
    "    trace18 = go.Scatter(\n",
    "        x=['With Caramel', 'Without Caramel' ],\n",
    "        y=[1,1],\n",
    "        mode='lines+markers+text',\n",
    "        text=[sugarpercent_p_val[2]],\n",
    "        textposition='top center',\n",
    "            marker=dict(\n",
    "            color='#252525'\n",
    "        )\n",
    "    )\n",
    "\n",
    "    trace19 = go.Scatter(\n",
    "    x=['With Peanutyalmondy', 'Without Peanutyalmondy' ],\n",
    "    y=[1,1],\n",
    "    mode='lines+markers+text',\n",
    "    text=[sugarpercent_p_val[3]],\n",
    "    textposition='top center',\n",
    "\n",
    "    marker=dict(\n",
    "        color='#252525'\n",
    "    )\n",
    "    )\n",
    "    trace20 = go.Scatter(\n",
    "        x=['With Nougat', 'Without Nougat' ],\n",
    "        y=[1,1],\n",
    "        mode='lines+markers+text',\n",
    "        text=[sugarpercent_p_val[4]],\n",
    "        textposition='top center',\n",
    "        marker=dict(\n",
    "            color='#252525'\n",
    "        )\n",
    "    )\n",
    "\n",
    "    trace21 = go.Scatter(\n",
    "    x=['With Crispedricewafer', 'Without Crispedricewafer' ],\n",
    "    y=[1,1],\n",
    "    mode='lines+markers+text',\n",
    "    text=[sugarpercent_p_val[5]],\n",
    "    textposition='top center',\n",
    "\n",
    "    marker=dict(\n",
    "        color='#252525'\n",
    "    )\n",
    "    )\n",
    "    trace22 = go.Scatter(\n",
    "        x=['With Hard', 'Without Hard' ],\n",
    "        y=[1,1],\n",
    "        mode='lines+markers+text',\n",
    "        text=[sugarpercent_p_val[6]],\n",
    "        textposition='top center',\n",
    "        marker=dict(\n",
    "            color='#252525'\n",
    "        )\n",
    "    )\n",
    "\n",
    "    trace23 = go.Scatter(\n",
    "    x=['With Bar', 'Without Bar' ],\n",
    "    y=[1,1],\n",
    "    mode='lines+markers+text',\n",
    "    text=[sugarpercent_p_val[7]],\n",
    "    textposition='top center',\n",
    "    marker=dict(\n",
    "        color='#252525'\n",
    "\n",
    "    )\n",
    "    )\n",
    "\n",
    "    data = [trace0, trace1, trace2, trace3, trace4, trace5, trace6, trace7, trace8, trace9, trace10, trace11, trace12, trace13, trace14, trace15, trace16, trace17, trace18, trace19, trace20, trace21, trace22, trace23]\n",
    "    layout = go.Layout(\n",
    "        showlegend=False,\n",
    "        title='Sugar percent box plot',\n",
    "        yaxis=dict(\n",
    "            title='Percentage',\n",
    "            zeroline=False\n",
    "        )\n",
    "\n",
    "    )\n",
    "    fig = go.Figure(data=data, layout=layout)\n",
    "    return(fig)\n",
    "py.offline.iplot(sugar_ss())"
   ]
  },
  {
   "cell_type": "markdown",
   "metadata": {},
   "source": [
    "**Inference: Sugar percent have no statistical significance in all the candy contents except the candies containing caramel.**"
   ]
  },
  {
   "cell_type": "markdown",
   "metadata": {},
   "source": [
    "# 5. Multivariate analysis"
   ]
  },
  {
   "cell_type": "markdown",
   "metadata": {},
   "source": [
    "## 5.1. Scatter plot to see the effect of price with respect to the sugar content."
   ]
  },
  {
   "cell_type": "code",
   "execution_count": 32,
   "metadata": {},
   "outputs": [
    {
     "data": {
      "application/vnd.plotly.v1+json": {
       "config": {
        "linkText": "Export to plot.ly",
        "plotlyServerURL": "https://plot.ly",
        "showLink": false
       },
       "data": [
        {
         "hoverinfo": "none",
         "hoverlabel": {
          "font": {
           "size": 20
          }
         },
         "marker": {
          "color": [
           66.971725,
           67.602936,
           32.261086,
           46.116505,
           52.341465,
           50.347546,
           56.914547,
           23.417824,
           38.010963000000004,
           34.517681,
           38.975037,
           36.017628,
           24.524988,
           42.272076,
           39.460556,
           43.088924,
           39.185505,
           46.783348,
           57.11974,
           34.158958,
           51.41243,
           42.178771999999995,
           55.375454000000005,
           62.28448100000001,
           56.490501,
           59.236121999999995,
           28.127439000000003,
           57.21925,
           76.7686,
           41.389557,
           39.141056,
           52.911392000000006,
           71.46505,
           66.574585,
           46.411716,
           55.064071999999996,
           73.099556,
           60.800701000000004,
           64.35334,
           47.829754,
           54.526451,
           55.354046,
           70.735641,
           66.47068,
           22.445341,
           39.4468,
           46.296597,
           69.483788,
           37.722336,
           41.265511,
           37.348521999999996,
           81.86625699999999,
           84.18029,
           73.43499,
           72.887901,
           35.290756,
           65.716286,
           29.703691,
           42.849144,
           34.722,
           63.08514,
           55.103694999999995,
           37.887188,
           45.995827,
           76.67378199999999,
           59.529251,
           59.863997999999995,
           52.825947,
           67.037628,
           34.578990999999995,
           33.43755,
           32.230995,
           27.303865000000002,
           54.861111,
           48.982651000000004,
           43.068897,
           45.736748,
           49.653503,
           47.173229,
           81.642914,
           45.466282,
           39.011897999999995,
           44.375519,
           41.904308,
           49.524113
          ],
          "colorbar": {
           "tickcolor": "white",
           "title": {
            "text": "Winpercent"
           }
          },
          "colorscale": [
           [
            0,
            "rgb(255,245,240)"
           ],
           [
            0.125,
            "rgb(254,224,210)"
           ],
           [
            0.25,
            "rgb(252,187,161)"
           ],
           [
            0.375,
            "rgb(252,146,114)"
           ],
           [
            0.5,
            "rgb(251,106,74)"
           ],
           [
            0.625,
            "rgb(239,59,44)"
           ],
           [
            0.75,
            "rgb(203,24,29)"
           ],
           [
            0.875,
            "rgb(165,15,21)"
           ],
           [
            1,
            "rgb(103,0,13)"
           ]
          ],
          "size": 10,
          "symbol": "circle"
         },
         "mode": "markers",
         "showlegend": true,
         "textfont": {
          "color": "red",
          "size": 15
         },
         "textposition": "top right",
         "type": "scatter",
         "x": [
          0.73199999,
          0.60399997,
          0.011000000000000001,
          0.011000000000000001,
          0.90600002,
          0.465,
          0.60399997,
          0.31299999,
          0.90600002,
          0.60399997,
          0.60399997,
          0.73199999,
          0.046,
          0.73199999,
          0.73199999,
          0.127,
          0.73199999,
          0.90600002,
          0.465,
          0.465,
          0.465,
          0.465,
          0.127,
          0.43000001,
          0.43000001,
          0.43000001,
          0.093000002,
          0.19699999999999998,
          0.31299999,
          0.22,
          0.046,
          0.26699999,
          0.82499999,
          0.82499999,
          0.87199998,
          0.30199999,
          0.60399997,
          0.73199999,
          0.96499997,
          0.31299999,
          0.31299999,
          0.84799999,
          0.60399997,
          0.31299999,
          0.19699999999999998,
          0.22,
          0.465,
          0.59299999,
          0.093000002,
          0.60399997,
          0.58099997,
          0.034000002,
          0.72000003,
          0.40599999,
          0.98799998,
          0.73199999,
          0.86000001,
          0.73199999,
          0.87199998,
          0.22,
          0.94099998,
          0.94099998,
          0.26699999,
          0.26699999,
          0.546,
          0.60399997,
          0.06899999799999999,
          0.06899999799999999,
          0.15099999,
          0.56900001,
          0.96499997,
          0.41800001,
          0.162,
          0.60399997,
          0.60399997,
          0.31299999,
          0.17399999,
          0.465,
          0.31299999,
          0.546,
          0.22,
          0.093000002,
          0.31299999,
          0.18600000000000003,
          0.87199998
         ],
         "y": [
          0.86000001,
          0.51099998,
          0.11599999999999999,
          0.51099998,
          0.51099998,
          0.76700002,
          0.76700002,
          0.51099998,
          0.32499999,
          0.32499999,
          0.51099998,
          0.51099998,
          0.32499999,
          0.51099998,
          0.034000002,
          0.034000002,
          0.32499999,
          0.45300001,
          0.465,
          0.465,
          0.465,
          0.465,
          0.093000002,
          0.91799998,
          0.91799998,
          0.91799998,
          0.51099998,
          0.51099998,
          0.51099998,
          0.11599999999999999,
          0.10400000000000001,
          0.27900001,
          0.65100002,
          0.65100002,
          0.32499999,
          0.51099998,
          0.65100002,
          0.44100001,
          0.86000001,
          0.86000001,
          0.91799998,
          0.32499999,
          0.76700002,
          0.76700002,
          0.97600001,
          0.32499999,
          0.76700002,
          0.65100002,
          0.023,
          0.83700001,
          0.11599999999999999,
          0.27900001,
          0.65100002,
          0.65100002,
          0.65100002,
          0.96499997,
          0.86000001,
          0.06899999799999999,
          0.27900001,
          0.081,
          0.22,
          0.22,
          0.97600001,
          0.11599999999999999,
          0.65100002,
          0.65100002,
          0.11599999999999999,
          0.11599999999999999,
          0.22,
          0.057999998,
          0.76700002,
          0.32499999,
          0.11599999999999999,
          0.755,
          0.32499999,
          0.51099998,
          0.011000000000000001,
          0.32499999,
          0.255,
          0.90600002,
          0.11599999999999999,
          0.11599999999999999,
          0.31299999,
          0.26699999,
          0.84799999
         ]
        }
       ],
       "layout": {
        "showlegend": false,
        "template": {
         "data": {
          "bar": [
           {
            "error_x": {
             "color": "#2a3f5f"
            },
            "error_y": {
             "color": "#2a3f5f"
            },
            "marker": {
             "line": {
              "color": "#E5ECF6",
              "width": 0.5
             }
            },
            "type": "bar"
           }
          ],
          "barpolar": [
           {
            "marker": {
             "line": {
              "color": "#E5ECF6",
              "width": 0.5
             }
            },
            "type": "barpolar"
           }
          ],
          "carpet": [
           {
            "aaxis": {
             "endlinecolor": "#2a3f5f",
             "gridcolor": "white",
             "linecolor": "white",
             "minorgridcolor": "white",
             "startlinecolor": "#2a3f5f"
            },
            "baxis": {
             "endlinecolor": "#2a3f5f",
             "gridcolor": "white",
             "linecolor": "white",
             "minorgridcolor": "white",
             "startlinecolor": "#2a3f5f"
            },
            "type": "carpet"
           }
          ],
          "choropleth": [
           {
            "colorbar": {
             "outlinewidth": 0,
             "ticks": ""
            },
            "type": "choropleth"
           }
          ],
          "contour": [
           {
            "colorbar": {
             "outlinewidth": 0,
             "ticks": ""
            },
            "colorscale": [
             [
              0,
              "#0d0887"
             ],
             [
              0.1111111111111111,
              "#46039f"
             ],
             [
              0.2222222222222222,
              "#7201a8"
             ],
             [
              0.3333333333333333,
              "#9c179e"
             ],
             [
              0.4444444444444444,
              "#bd3786"
             ],
             [
              0.5555555555555556,
              "#d8576b"
             ],
             [
              0.6666666666666666,
              "#ed7953"
             ],
             [
              0.7777777777777778,
              "#fb9f3a"
             ],
             [
              0.8888888888888888,
              "#fdca26"
             ],
             [
              1,
              "#f0f921"
             ]
            ],
            "type": "contour"
           }
          ],
          "contourcarpet": [
           {
            "colorbar": {
             "outlinewidth": 0,
             "ticks": ""
            },
            "type": "contourcarpet"
           }
          ],
          "heatmap": [
           {
            "colorbar": {
             "outlinewidth": 0,
             "ticks": ""
            },
            "colorscale": [
             [
              0,
              "#0d0887"
             ],
             [
              0.1111111111111111,
              "#46039f"
             ],
             [
              0.2222222222222222,
              "#7201a8"
             ],
             [
              0.3333333333333333,
              "#9c179e"
             ],
             [
              0.4444444444444444,
              "#bd3786"
             ],
             [
              0.5555555555555556,
              "#d8576b"
             ],
             [
              0.6666666666666666,
              "#ed7953"
             ],
             [
              0.7777777777777778,
              "#fb9f3a"
             ],
             [
              0.8888888888888888,
              "#fdca26"
             ],
             [
              1,
              "#f0f921"
             ]
            ],
            "type": "heatmap"
           }
          ],
          "heatmapgl": [
           {
            "colorbar": {
             "outlinewidth": 0,
             "ticks": ""
            },
            "colorscale": [
             [
              0,
              "#0d0887"
             ],
             [
              0.1111111111111111,
              "#46039f"
             ],
             [
              0.2222222222222222,
              "#7201a8"
             ],
             [
              0.3333333333333333,
              "#9c179e"
             ],
             [
              0.4444444444444444,
              "#bd3786"
             ],
             [
              0.5555555555555556,
              "#d8576b"
             ],
             [
              0.6666666666666666,
              "#ed7953"
             ],
             [
              0.7777777777777778,
              "#fb9f3a"
             ],
             [
              0.8888888888888888,
              "#fdca26"
             ],
             [
              1,
              "#f0f921"
             ]
            ],
            "type": "heatmapgl"
           }
          ],
          "histogram": [
           {
            "marker": {
             "colorbar": {
              "outlinewidth": 0,
              "ticks": ""
             }
            },
            "type": "histogram"
           }
          ],
          "histogram2d": [
           {
            "colorbar": {
             "outlinewidth": 0,
             "ticks": ""
            },
            "colorscale": [
             [
              0,
              "#0d0887"
             ],
             [
              0.1111111111111111,
              "#46039f"
             ],
             [
              0.2222222222222222,
              "#7201a8"
             ],
             [
              0.3333333333333333,
              "#9c179e"
             ],
             [
              0.4444444444444444,
              "#bd3786"
             ],
             [
              0.5555555555555556,
              "#d8576b"
             ],
             [
              0.6666666666666666,
              "#ed7953"
             ],
             [
              0.7777777777777778,
              "#fb9f3a"
             ],
             [
              0.8888888888888888,
              "#fdca26"
             ],
             [
              1,
              "#f0f921"
             ]
            ],
            "type": "histogram2d"
           }
          ],
          "histogram2dcontour": [
           {
            "colorbar": {
             "outlinewidth": 0,
             "ticks": ""
            },
            "colorscale": [
             [
              0,
              "#0d0887"
             ],
             [
              0.1111111111111111,
              "#46039f"
             ],
             [
              0.2222222222222222,
              "#7201a8"
             ],
             [
              0.3333333333333333,
              "#9c179e"
             ],
             [
              0.4444444444444444,
              "#bd3786"
             ],
             [
              0.5555555555555556,
              "#d8576b"
             ],
             [
              0.6666666666666666,
              "#ed7953"
             ],
             [
              0.7777777777777778,
              "#fb9f3a"
             ],
             [
              0.8888888888888888,
              "#fdca26"
             ],
             [
              1,
              "#f0f921"
             ]
            ],
            "type": "histogram2dcontour"
           }
          ],
          "mesh3d": [
           {
            "colorbar": {
             "outlinewidth": 0,
             "ticks": ""
            },
            "type": "mesh3d"
           }
          ],
          "parcoords": [
           {
            "line": {
             "colorbar": {
              "outlinewidth": 0,
              "ticks": ""
             }
            },
            "type": "parcoords"
           }
          ],
          "scatter": [
           {
            "marker": {
             "colorbar": {
              "outlinewidth": 0,
              "ticks": ""
             }
            },
            "type": "scatter"
           }
          ],
          "scatter3d": [
           {
            "line": {
             "colorbar": {
              "outlinewidth": 0,
              "ticks": ""
             }
            },
            "marker": {
             "colorbar": {
              "outlinewidth": 0,
              "ticks": ""
             }
            },
            "type": "scatter3d"
           }
          ],
          "scattercarpet": [
           {
            "marker": {
             "colorbar": {
              "outlinewidth": 0,
              "ticks": ""
             }
            },
            "type": "scattercarpet"
           }
          ],
          "scattergeo": [
           {
            "marker": {
             "colorbar": {
              "outlinewidth": 0,
              "ticks": ""
             }
            },
            "type": "scattergeo"
           }
          ],
          "scattergl": [
           {
            "marker": {
             "colorbar": {
              "outlinewidth": 0,
              "ticks": ""
             }
            },
            "type": "scattergl"
           }
          ],
          "scattermapbox": [
           {
            "marker": {
             "colorbar": {
              "outlinewidth": 0,
              "ticks": ""
             }
            },
            "type": "scattermapbox"
           }
          ],
          "scatterpolar": [
           {
            "marker": {
             "colorbar": {
              "outlinewidth": 0,
              "ticks": ""
             }
            },
            "type": "scatterpolar"
           }
          ],
          "scatterpolargl": [
           {
            "marker": {
             "colorbar": {
              "outlinewidth": 0,
              "ticks": ""
             }
            },
            "type": "scatterpolargl"
           }
          ],
          "scatterternary": [
           {
            "marker": {
             "colorbar": {
              "outlinewidth": 0,
              "ticks": ""
             }
            },
            "type": "scatterternary"
           }
          ],
          "surface": [
           {
            "colorbar": {
             "outlinewidth": 0,
             "ticks": ""
            },
            "colorscale": [
             [
              0,
              "#0d0887"
             ],
             [
              0.1111111111111111,
              "#46039f"
             ],
             [
              0.2222222222222222,
              "#7201a8"
             ],
             [
              0.3333333333333333,
              "#9c179e"
             ],
             [
              0.4444444444444444,
              "#bd3786"
             ],
             [
              0.5555555555555556,
              "#d8576b"
             ],
             [
              0.6666666666666666,
              "#ed7953"
             ],
             [
              0.7777777777777778,
              "#fb9f3a"
             ],
             [
              0.8888888888888888,
              "#fdca26"
             ],
             [
              1,
              "#f0f921"
             ]
            ],
            "type": "surface"
           }
          ],
          "table": [
           {
            "cells": {
             "fill": {
              "color": "#EBF0F8"
             },
             "line": {
              "color": "white"
             }
            },
            "header": {
             "fill": {
              "color": "#C8D4E3"
             },
             "line": {
              "color": "white"
             }
            },
            "type": "table"
           }
          ]
         },
         "layout": {
          "annotationdefaults": {
           "arrowcolor": "#2a3f5f",
           "arrowhead": 0,
           "arrowwidth": 1
          },
          "colorscale": {
           "diverging": [
            [
             0,
             "#8e0152"
            ],
            [
             0.1,
             "#c51b7d"
            ],
            [
             0.2,
             "#de77ae"
            ],
            [
             0.3,
             "#f1b6da"
            ],
            [
             0.4,
             "#fde0ef"
            ],
            [
             0.5,
             "#f7f7f7"
            ],
            [
             0.6,
             "#e6f5d0"
            ],
            [
             0.7,
             "#b8e186"
            ],
            [
             0.8,
             "#7fbc41"
            ],
            [
             0.9,
             "#4d9221"
            ],
            [
             1,
             "#276419"
            ]
           ],
           "sequential": [
            [
             0,
             "#0d0887"
            ],
            [
             0.1111111111111111,
             "#46039f"
            ],
            [
             0.2222222222222222,
             "#7201a8"
            ],
            [
             0.3333333333333333,
             "#9c179e"
            ],
            [
             0.4444444444444444,
             "#bd3786"
            ],
            [
             0.5555555555555556,
             "#d8576b"
            ],
            [
             0.6666666666666666,
             "#ed7953"
            ],
            [
             0.7777777777777778,
             "#fb9f3a"
            ],
            [
             0.8888888888888888,
             "#fdca26"
            ],
            [
             1,
             "#f0f921"
            ]
           ],
           "sequentialminus": [
            [
             0,
             "#0d0887"
            ],
            [
             0.1111111111111111,
             "#46039f"
            ],
            [
             0.2222222222222222,
             "#7201a8"
            ],
            [
             0.3333333333333333,
             "#9c179e"
            ],
            [
             0.4444444444444444,
             "#bd3786"
            ],
            [
             0.5555555555555556,
             "#d8576b"
            ],
            [
             0.6666666666666666,
             "#ed7953"
            ],
            [
             0.7777777777777778,
             "#fb9f3a"
            ],
            [
             0.8888888888888888,
             "#fdca26"
            ],
            [
             1,
             "#f0f921"
            ]
           ]
          },
          "colorway": [
           "#636efa",
           "#EF553B",
           "#00cc96",
           "#ab63fa",
           "#FFA15A",
           "#19d3f3",
           "#FF6692",
           "#B6E880",
           "#FF97FF",
           "#FECB52"
          ],
          "font": {
           "color": "#2a3f5f"
          },
          "geo": {
           "bgcolor": "white",
           "lakecolor": "white",
           "landcolor": "#E5ECF6",
           "showlakes": true,
           "showland": true,
           "subunitcolor": "white"
          },
          "hoverlabel": {
           "align": "left"
          },
          "hovermode": "closest",
          "mapbox": {
           "style": "light"
          },
          "paper_bgcolor": "white",
          "plot_bgcolor": "#E5ECF6",
          "polar": {
           "angularaxis": {
            "gridcolor": "white",
            "linecolor": "white",
            "ticks": ""
           },
           "bgcolor": "#E5ECF6",
           "radialaxis": {
            "gridcolor": "white",
            "linecolor": "white",
            "ticks": ""
           }
          },
          "scene": {
           "xaxis": {
            "backgroundcolor": "#E5ECF6",
            "gridcolor": "white",
            "gridwidth": 2,
            "linecolor": "white",
            "showbackground": true,
            "ticks": "",
            "zerolinecolor": "white"
           },
           "yaxis": {
            "backgroundcolor": "#E5ECF6",
            "gridcolor": "white",
            "gridwidth": 2,
            "linecolor": "white",
            "showbackground": true,
            "ticks": "",
            "zerolinecolor": "white"
           },
           "zaxis": {
            "backgroundcolor": "#E5ECF6",
            "gridcolor": "white",
            "gridwidth": 2,
            "linecolor": "white",
            "showbackground": true,
            "ticks": "",
            "zerolinecolor": "white"
           }
          },
          "shapedefaults": {
           "line": {
            "color": "#2a3f5f"
           }
          },
          "ternary": {
           "aaxis": {
            "gridcolor": "white",
            "linecolor": "white",
            "ticks": ""
           },
           "baxis": {
            "gridcolor": "white",
            "linecolor": "white",
            "ticks": ""
           },
           "bgcolor": "#E5ECF6",
           "caxis": {
            "gridcolor": "white",
            "linecolor": "white",
            "ticks": ""
           }
          },
          "title": {
           "x": 0.05
          },
          "xaxis": {
           "automargin": true,
           "gridcolor": "white",
           "linecolor": "white",
           "ticks": "",
           "zerolinecolor": "white",
           "zerolinewidth": 2
          },
          "yaxis": {
           "automargin": true,
           "gridcolor": "white",
           "linecolor": "white",
           "ticks": "",
           "zerolinecolor": "white",
           "zerolinewidth": 2
          }
         }
        },
        "title": {
         "text": "Win percent w.r.t Sugar and Price"
        },
        "xaxis": {
         "title": {
          "text": "Sugar percent"
         }
        },
        "yaxis": {
         "title": {
          "text": "Price percent"
         }
        }
       }
      },
      "text/html": [
       "<div>\n",
       "        \n",
       "        \n",
       "            <div id=\"3eea11a5-2980-4f06-a5a7-9892f66d43eb\" class=\"plotly-graph-div\" style=\"height:525px; width:100%;\"></div>\n",
       "            <script type=\"text/javascript\">\n",
       "                require([\"plotly\"], function(Plotly) {\n",
       "                    window.PLOTLYENV=window.PLOTLYENV || {};\n",
       "                    \n",
       "                if (document.getElementById(\"3eea11a5-2980-4f06-a5a7-9892f66d43eb\")) {\n",
       "                    Plotly.newPlot(\n",
       "                        '3eea11a5-2980-4f06-a5a7-9892f66d43eb',\n",
       "                        [{\"hoverinfo\": \"none\", \"hoverlabel\": {\"font\": {\"size\": 20}}, \"marker\": {\"color\": [66.971725, 67.602936, 32.261086, 46.116505, 52.341465, 50.347546, 56.914547, 23.417824, 38.010963000000004, 34.517681, 38.975037, 36.017628, 24.524988, 42.272076, 39.460556, 43.088924, 39.185505, 46.783348, 57.11974, 34.158958, 51.41243, 42.178771999999995, 55.375454000000005, 62.28448100000001, 56.490501, 59.236121999999995, 28.127439000000003, 57.21925, 76.7686, 41.389557, 39.141056, 52.911392000000006, 71.46505, 66.574585, 46.411716, 55.064071999999996, 73.099556, 60.800701000000004, 64.35334, 47.829754, 54.526451, 55.354046, 70.735641, 66.47068, 22.445341, 39.4468, 46.296597, 69.483788, 37.722336, 41.265511, 37.348521999999996, 81.86625699999999, 84.18029, 73.43499, 72.887901, 35.290756, 65.716286, 29.703691, 42.849144, 34.722, 63.08514, 55.103694999999995, 37.887188, 45.995827, 76.67378199999999, 59.529251, 59.863997999999995, 52.825947, 67.037628, 34.578990999999995, 33.43755, 32.230995, 27.303865000000002, 54.861111, 48.982651000000004, 43.068897, 45.736748, 49.653503, 47.173229, 81.642914, 45.466282, 39.011897999999995, 44.375519, 41.904308, 49.524113], \"colorbar\": {\"tickcolor\": \"white\", \"title\": {\"text\": \"Winpercent\"}}, \"colorscale\": [[0.0, \"rgb(255,245,240)\"], [0.125, \"rgb(254,224,210)\"], [0.25, \"rgb(252,187,161)\"], [0.375, \"rgb(252,146,114)\"], [0.5, \"rgb(251,106,74)\"], [0.625, \"rgb(239,59,44)\"], [0.75, \"rgb(203,24,29)\"], [0.875, \"rgb(165,15,21)\"], [1.0, \"rgb(103,0,13)\"]], \"size\": 10, \"symbol\": \"circle\"}, \"mode\": \"markers\", \"showlegend\": true, \"textfont\": {\"color\": \"red\", \"size\": 15}, \"textposition\": \"top right\", \"type\": \"scatter\", \"x\": [0.73199999, 0.60399997, 0.011000000000000001, 0.011000000000000001, 0.90600002, 0.465, 0.60399997, 0.31299999, 0.90600002, 0.60399997, 0.60399997, 0.73199999, 0.046, 0.73199999, 0.73199999, 0.127, 0.73199999, 0.90600002, 0.465, 0.465, 0.465, 0.465, 0.127, 0.43000001, 0.43000001, 0.43000001, 0.093000002, 0.19699999999999998, 0.31299999, 0.22, 0.046, 0.26699999, 0.82499999, 0.82499999, 0.87199998, 0.30199999, 0.60399997, 0.73199999, 0.96499997, 0.31299999, 0.31299999, 0.84799999, 0.60399997, 0.31299999, 0.19699999999999998, 0.22, 0.465, 0.59299999, 0.093000002, 0.60399997, 0.58099997, 0.034000002, 0.72000003, 0.40599999, 0.98799998, 0.73199999, 0.86000001, 0.73199999, 0.87199998, 0.22, 0.94099998, 0.94099998, 0.26699999, 0.26699999, 0.546, 0.60399997, 0.06899999799999999, 0.06899999799999999, 0.15099999, 0.56900001, 0.96499997, 0.41800001, 0.162, 0.60399997, 0.60399997, 0.31299999, 0.17399999, 0.465, 0.31299999, 0.546, 0.22, 0.093000002, 0.31299999, 0.18600000000000003, 0.87199998], \"y\": [0.86000001, 0.51099998, 0.11599999999999999, 0.51099998, 0.51099998, 0.76700002, 0.76700002, 0.51099998, 0.32499999, 0.32499999, 0.51099998, 0.51099998, 0.32499999, 0.51099998, 0.034000002, 0.034000002, 0.32499999, 0.45300001, 0.465, 0.465, 0.465, 0.465, 0.093000002, 0.91799998, 0.91799998, 0.91799998, 0.51099998, 0.51099998, 0.51099998, 0.11599999999999999, 0.10400000000000001, 0.27900001, 0.65100002, 0.65100002, 0.32499999, 0.51099998, 0.65100002, 0.44100001, 0.86000001, 0.86000001, 0.91799998, 0.32499999, 0.76700002, 0.76700002, 0.97600001, 0.32499999, 0.76700002, 0.65100002, 0.023, 0.83700001, 0.11599999999999999, 0.27900001, 0.65100002, 0.65100002, 0.65100002, 0.96499997, 0.86000001, 0.06899999799999999, 0.27900001, 0.081, 0.22, 0.22, 0.97600001, 0.11599999999999999, 0.65100002, 0.65100002, 0.11599999999999999, 0.11599999999999999, 0.22, 0.057999998, 0.76700002, 0.32499999, 0.11599999999999999, 0.755, 0.32499999, 0.51099998, 0.011000000000000001, 0.32499999, 0.255, 0.90600002, 0.11599999999999999, 0.11599999999999999, 0.31299999, 0.26699999, 0.84799999]}],\n",
       "                        {\"showlegend\": false, \"template\": {\"data\": {\"bar\": [{\"error_x\": {\"color\": \"#2a3f5f\"}, \"error_y\": {\"color\": \"#2a3f5f\"}, \"marker\": {\"line\": {\"color\": \"#E5ECF6\", \"width\": 0.5}}, \"type\": \"bar\"}], \"barpolar\": [{\"marker\": {\"line\": {\"color\": \"#E5ECF6\", \"width\": 0.5}}, \"type\": \"barpolar\"}], \"carpet\": [{\"aaxis\": {\"endlinecolor\": \"#2a3f5f\", \"gridcolor\": \"white\", \"linecolor\": \"white\", \"minorgridcolor\": \"white\", \"startlinecolor\": \"#2a3f5f\"}, \"baxis\": {\"endlinecolor\": \"#2a3f5f\", \"gridcolor\": \"white\", \"linecolor\": \"white\", \"minorgridcolor\": \"white\", \"startlinecolor\": \"#2a3f5f\"}, \"type\": \"carpet\"}], \"choropleth\": [{\"colorbar\": {\"outlinewidth\": 0, \"ticks\": \"\"}, \"type\": \"choropleth\"}], \"contour\": [{\"colorbar\": {\"outlinewidth\": 0, \"ticks\": \"\"}, \"colorscale\": [[0.0, \"#0d0887\"], [0.1111111111111111, \"#46039f\"], [0.2222222222222222, \"#7201a8\"], [0.3333333333333333, \"#9c179e\"], [0.4444444444444444, \"#bd3786\"], [0.5555555555555556, \"#d8576b\"], [0.6666666666666666, \"#ed7953\"], [0.7777777777777778, \"#fb9f3a\"], [0.8888888888888888, \"#fdca26\"], [1.0, \"#f0f921\"]], \"type\": \"contour\"}], \"contourcarpet\": [{\"colorbar\": {\"outlinewidth\": 0, \"ticks\": \"\"}, \"type\": \"contourcarpet\"}], \"heatmap\": [{\"colorbar\": {\"outlinewidth\": 0, \"ticks\": \"\"}, \"colorscale\": [[0.0, \"#0d0887\"], [0.1111111111111111, \"#46039f\"], [0.2222222222222222, \"#7201a8\"], [0.3333333333333333, \"#9c179e\"], [0.4444444444444444, \"#bd3786\"], [0.5555555555555556, \"#d8576b\"], [0.6666666666666666, \"#ed7953\"], [0.7777777777777778, \"#fb9f3a\"], [0.8888888888888888, \"#fdca26\"], [1.0, \"#f0f921\"]], \"type\": \"heatmap\"}], \"heatmapgl\": [{\"colorbar\": {\"outlinewidth\": 0, \"ticks\": \"\"}, \"colorscale\": [[0.0, \"#0d0887\"], [0.1111111111111111, \"#46039f\"], [0.2222222222222222, \"#7201a8\"], [0.3333333333333333, \"#9c179e\"], [0.4444444444444444, \"#bd3786\"], [0.5555555555555556, \"#d8576b\"], [0.6666666666666666, \"#ed7953\"], [0.7777777777777778, \"#fb9f3a\"], [0.8888888888888888, \"#fdca26\"], [1.0, \"#f0f921\"]], \"type\": \"heatmapgl\"}], \"histogram\": [{\"marker\": {\"colorbar\": {\"outlinewidth\": 0, \"ticks\": \"\"}}, \"type\": \"histogram\"}], \"histogram2d\": [{\"colorbar\": {\"outlinewidth\": 0, \"ticks\": \"\"}, \"colorscale\": [[0.0, \"#0d0887\"], [0.1111111111111111, \"#46039f\"], [0.2222222222222222, \"#7201a8\"], [0.3333333333333333, \"#9c179e\"], [0.4444444444444444, \"#bd3786\"], [0.5555555555555556, \"#d8576b\"], [0.6666666666666666, \"#ed7953\"], [0.7777777777777778, \"#fb9f3a\"], [0.8888888888888888, \"#fdca26\"], [1.0, \"#f0f921\"]], \"type\": \"histogram2d\"}], \"histogram2dcontour\": [{\"colorbar\": {\"outlinewidth\": 0, \"ticks\": \"\"}, \"colorscale\": [[0.0, \"#0d0887\"], [0.1111111111111111, \"#46039f\"], [0.2222222222222222, \"#7201a8\"], [0.3333333333333333, \"#9c179e\"], [0.4444444444444444, \"#bd3786\"], [0.5555555555555556, \"#d8576b\"], [0.6666666666666666, \"#ed7953\"], [0.7777777777777778, \"#fb9f3a\"], [0.8888888888888888, \"#fdca26\"], [1.0, \"#f0f921\"]], \"type\": \"histogram2dcontour\"}], \"mesh3d\": [{\"colorbar\": {\"outlinewidth\": 0, \"ticks\": \"\"}, \"type\": \"mesh3d\"}], \"parcoords\": [{\"line\": {\"colorbar\": {\"outlinewidth\": 0, \"ticks\": \"\"}}, \"type\": \"parcoords\"}], \"scatter\": [{\"marker\": {\"colorbar\": {\"outlinewidth\": 0, \"ticks\": \"\"}}, \"type\": \"scatter\"}], \"scatter3d\": [{\"line\": {\"colorbar\": {\"outlinewidth\": 0, \"ticks\": \"\"}}, \"marker\": {\"colorbar\": {\"outlinewidth\": 0, \"ticks\": \"\"}}, \"type\": \"scatter3d\"}], \"scattercarpet\": [{\"marker\": {\"colorbar\": {\"outlinewidth\": 0, \"ticks\": \"\"}}, \"type\": \"scattercarpet\"}], \"scattergeo\": [{\"marker\": {\"colorbar\": {\"outlinewidth\": 0, \"ticks\": \"\"}}, \"type\": \"scattergeo\"}], \"scattergl\": [{\"marker\": {\"colorbar\": {\"outlinewidth\": 0, \"ticks\": \"\"}}, \"type\": \"scattergl\"}], \"scattermapbox\": [{\"marker\": {\"colorbar\": {\"outlinewidth\": 0, \"ticks\": \"\"}}, \"type\": \"scattermapbox\"}], \"scatterpolar\": [{\"marker\": {\"colorbar\": {\"outlinewidth\": 0, \"ticks\": \"\"}}, \"type\": \"scatterpolar\"}], \"scatterpolargl\": [{\"marker\": {\"colorbar\": {\"outlinewidth\": 0, \"ticks\": \"\"}}, \"type\": \"scatterpolargl\"}], \"scatterternary\": [{\"marker\": {\"colorbar\": {\"outlinewidth\": 0, \"ticks\": \"\"}}, \"type\": \"scatterternary\"}], \"surface\": [{\"colorbar\": {\"outlinewidth\": 0, \"ticks\": \"\"}, \"colorscale\": [[0.0, \"#0d0887\"], [0.1111111111111111, \"#46039f\"], [0.2222222222222222, \"#7201a8\"], [0.3333333333333333, \"#9c179e\"], [0.4444444444444444, \"#bd3786\"], [0.5555555555555556, \"#d8576b\"], [0.6666666666666666, \"#ed7953\"], [0.7777777777777778, \"#fb9f3a\"], [0.8888888888888888, \"#fdca26\"], [1.0, \"#f0f921\"]], \"type\": \"surface\"}], \"table\": [{\"cells\": {\"fill\": {\"color\": \"#EBF0F8\"}, \"line\": {\"color\": \"white\"}}, \"header\": {\"fill\": {\"color\": \"#C8D4E3\"}, \"line\": {\"color\": \"white\"}}, \"type\": \"table\"}]}, \"layout\": {\"annotationdefaults\": {\"arrowcolor\": \"#2a3f5f\", \"arrowhead\": 0, \"arrowwidth\": 1}, \"colorscale\": {\"diverging\": [[0, \"#8e0152\"], [0.1, \"#c51b7d\"], [0.2, \"#de77ae\"], [0.3, \"#f1b6da\"], [0.4, \"#fde0ef\"], [0.5, \"#f7f7f7\"], [0.6, \"#e6f5d0\"], [0.7, \"#b8e186\"], [0.8, \"#7fbc41\"], [0.9, \"#4d9221\"], [1, \"#276419\"]], \"sequential\": [[0.0, \"#0d0887\"], [0.1111111111111111, \"#46039f\"], [0.2222222222222222, \"#7201a8\"], [0.3333333333333333, \"#9c179e\"], [0.4444444444444444, \"#bd3786\"], [0.5555555555555556, \"#d8576b\"], [0.6666666666666666, \"#ed7953\"], [0.7777777777777778, \"#fb9f3a\"], [0.8888888888888888, \"#fdca26\"], [1.0, \"#f0f921\"]], \"sequentialminus\": [[0.0, \"#0d0887\"], [0.1111111111111111, \"#46039f\"], [0.2222222222222222, \"#7201a8\"], [0.3333333333333333, \"#9c179e\"], [0.4444444444444444, \"#bd3786\"], [0.5555555555555556, \"#d8576b\"], [0.6666666666666666, \"#ed7953\"], [0.7777777777777778, \"#fb9f3a\"], [0.8888888888888888, \"#fdca26\"], [1.0, \"#f0f921\"]]}, \"colorway\": [\"#636efa\", \"#EF553B\", \"#00cc96\", \"#ab63fa\", \"#FFA15A\", \"#19d3f3\", \"#FF6692\", \"#B6E880\", \"#FF97FF\", \"#FECB52\"], \"font\": {\"color\": \"#2a3f5f\"}, \"geo\": {\"bgcolor\": \"white\", \"lakecolor\": \"white\", \"landcolor\": \"#E5ECF6\", \"showlakes\": true, \"showland\": true, \"subunitcolor\": \"white\"}, \"hoverlabel\": {\"align\": \"left\"}, \"hovermode\": \"closest\", \"mapbox\": {\"style\": \"light\"}, \"paper_bgcolor\": \"white\", \"plot_bgcolor\": \"#E5ECF6\", \"polar\": {\"angularaxis\": {\"gridcolor\": \"white\", \"linecolor\": \"white\", \"ticks\": \"\"}, \"bgcolor\": \"#E5ECF6\", \"radialaxis\": {\"gridcolor\": \"white\", \"linecolor\": \"white\", \"ticks\": \"\"}}, \"scene\": {\"xaxis\": {\"backgroundcolor\": \"#E5ECF6\", \"gridcolor\": \"white\", \"gridwidth\": 2, \"linecolor\": \"white\", \"showbackground\": true, \"ticks\": \"\", \"zerolinecolor\": \"white\"}, \"yaxis\": {\"backgroundcolor\": \"#E5ECF6\", \"gridcolor\": \"white\", \"gridwidth\": 2, \"linecolor\": \"white\", \"showbackground\": true, \"ticks\": \"\", \"zerolinecolor\": \"white\"}, \"zaxis\": {\"backgroundcolor\": \"#E5ECF6\", \"gridcolor\": \"white\", \"gridwidth\": 2, \"linecolor\": \"white\", \"showbackground\": true, \"ticks\": \"\", \"zerolinecolor\": \"white\"}}, \"shapedefaults\": {\"line\": {\"color\": \"#2a3f5f\"}}, \"ternary\": {\"aaxis\": {\"gridcolor\": \"white\", \"linecolor\": \"white\", \"ticks\": \"\"}, \"baxis\": {\"gridcolor\": \"white\", \"linecolor\": \"white\", \"ticks\": \"\"}, \"bgcolor\": \"#E5ECF6\", \"caxis\": {\"gridcolor\": \"white\", \"linecolor\": \"white\", \"ticks\": \"\"}}, \"title\": {\"x\": 0.05}, \"xaxis\": {\"automargin\": true, \"gridcolor\": \"white\", \"linecolor\": \"white\", \"ticks\": \"\", \"zerolinecolor\": \"white\", \"zerolinewidth\": 2}, \"yaxis\": {\"automargin\": true, \"gridcolor\": \"white\", \"linecolor\": \"white\", \"ticks\": \"\", \"zerolinecolor\": \"white\", \"zerolinewidth\": 2}}}, \"title\": {\"text\": \"Win percent w.r.t Sugar and Price\"}, \"xaxis\": {\"title\": {\"text\": \"Sugar percent\"}}, \"yaxis\": {\"title\": {\"text\": \"Price percent\"}}},\n",
       "                        {\"responsive\": true}\n",
       "                    ).then(function(){\n",
       "                            \n",
       "var gd = document.getElementById('3eea11a5-2980-4f06-a5a7-9892f66d43eb');\n",
       "var x = new MutationObserver(function (mutations, observer) {{\n",
       "        var display = window.getComputedStyle(gd).display;\n",
       "        if (!display || display === 'none') {{\n",
       "            console.log([gd, 'removed!']);\n",
       "            Plotly.purge(gd);\n",
       "            observer.disconnect();\n",
       "        }}\n",
       "}});\n",
       "\n",
       "// Listen for the removal of the full notebook cells\n",
       "var notebookContainer = gd.closest('#notebook-container');\n",
       "if (notebookContainer) {{\n",
       "    x.observe(notebookContainer, {childList: true});\n",
       "}}\n",
       "\n",
       "// Listen for the clearing of the current output cell\n",
       "var outputEl = gd.closest('.output');\n",
       "if (outputEl) {{\n",
       "    x.observe(outputEl, {childList: true});\n",
       "}}\n",
       "\n",
       "                        })\n",
       "                };\n",
       "                });\n",
       "            </script>\n",
       "        </div>"
      ]
     },
     "metadata": {},
     "output_type": "display_data"
    }
   ],
   "source": [
    "def scatter2d():\n",
    "    plot_win_sugar_price = go.Scatter(\n",
    "        x=df['sugarpercent'],\n",
    "        y=df['pricepercent'],\n",
    "        mode='markers',\n",
    "        marker=go.Marker(size=10, symbol='circle', color = df['winpercent'],colorbar=dict(\n",
    "                title=\"Winpercent\",\n",
    "                tickcolor=\"white\"\n",
    "            ),\n",
    "            colorscale=\"Reds\"),\n",
    "        hoverinfo='none',\n",
    "        hoverlabel = dict(font=dict(size=20)),\n",
    "        textposition='top right',\n",
    "        textfont=dict(color='red', size=15),\n",
    "        showlegend=True)\n",
    "\n",
    "    layout = go.Layout(\n",
    "        title='Win percent w.r.t Sugar and Price',\n",
    "        showlegend=False,\n",
    "        xaxis=dict(\n",
    "            title='Sugar percent',\n",
    "        ),\n",
    "        yaxis=dict(\n",
    "            title='Price percent',\n",
    "           \n",
    "\n",
    "        )\n",
    "    )\n",
    "    fig = go.Figure(data=[plot_win_sugar_price], layout=layout)\n",
    "\n",
    "\n",
    "\n",
    "    \n",
    "\n",
    "    return(fig)\n",
    "\n",
    "py.offline.iplot(scatter2d())"
   ]
  },
  {
   "cell_type": "markdown",
   "metadata": {},
   "source": [
    "**Inference: Majority of high winning percent candies are expensive. The sugar content doesn't effect much on winning percent.**"
   ]
  },
  {
   "cell_type": "markdown",
   "metadata": {},
   "source": [
    "## 5.2. Scatter plot(3D) to see the effect of price and sugar with respect to the winning percent."
   ]
  },
  {
   "cell_type": "code",
   "execution_count": 33,
   "metadata": {
    "scrolled": false
   },
   "outputs": [
    {
     "data": {
      "application/vnd.plotly.v1+json": {
       "config": {
        "linkText": "Export to plot.ly",
        "plotlyServerURL": "https://plot.ly",
        "showLink": false
       },
       "data": [
        {
         "hoverinfo": "none",
         "hoverlabel": {
          "font": {
           "size": 20
          }
         },
         "line": {
          "color": "red",
          "dash": "solid",
          "width": 2
         },
         "marker": {
          "color": [
           66.971725,
           67.602936,
           32.261086,
           46.116505,
           52.341465,
           50.347546,
           56.914547,
           23.417824,
           38.010963000000004,
           34.517681,
           38.975037,
           36.017628,
           24.524988,
           42.272076,
           39.460556,
           43.088924,
           39.185505,
           46.783348,
           57.11974,
           34.158958,
           51.41243,
           42.178771999999995,
           55.375454000000005,
           62.28448100000001,
           56.490501,
           59.236121999999995,
           28.127439000000003,
           57.21925,
           76.7686,
           41.389557,
           39.141056,
           52.911392000000006,
           71.46505,
           66.574585,
           46.411716,
           55.064071999999996,
           73.099556,
           60.800701000000004,
           64.35334,
           47.829754,
           54.526451,
           55.354046,
           70.735641,
           66.47068,
           22.445341,
           39.4468,
           46.296597,
           69.483788,
           37.722336,
           41.265511,
           37.348521999999996,
           81.86625699999999,
           84.18029,
           73.43499,
           72.887901,
           35.290756,
           65.716286,
           29.703691,
           42.849144,
           34.722,
           63.08514,
           55.103694999999995,
           37.887188,
           45.995827,
           76.67378199999999,
           59.529251,
           59.863997999999995,
           52.825947,
           67.037628,
           34.578990999999995,
           33.43755,
           32.230995,
           27.303865000000002,
           54.861111,
           48.982651000000004,
           43.068897,
           45.736748,
           49.653503,
           47.173229,
           81.642914,
           45.466282,
           39.011897999999995,
           44.375519,
           41.904308,
           49.524113
          ],
          "colorbar": {
           "title": {
            "text": "Winpercent"
           }
          },
          "colorscale": [
           [
            0,
            "rgb(255,245,240)"
           ],
           [
            0.125,
            "rgb(254,224,210)"
           ],
           [
            0.25,
            "rgb(252,187,161)"
           ],
           [
            0.375,
            "rgb(252,146,114)"
           ],
           [
            0.5,
            "rgb(251,106,74)"
           ],
           [
            0.625,
            "rgb(239,59,44)"
           ],
           [
            0.75,
            "rgb(203,24,29)"
           ],
           [
            0.875,
            "rgb(165,15,21)"
           ],
           [
            1,
            "rgb(103,0,13)"
           ]
          ],
          "size": 10,
          "symbol": "circle"
         },
         "mode": "markers",
         "showlegend": true,
         "textfont": {
          "color": "red",
          "size": 15
         },
         "textposition": "top right",
         "type": "scatter3d",
         "x": [
          0.73199999,
          0.60399997,
          0.011000000000000001,
          0.011000000000000001,
          0.90600002,
          0.465,
          0.60399997,
          0.31299999,
          0.90600002,
          0.60399997,
          0.60399997,
          0.73199999,
          0.046,
          0.73199999,
          0.73199999,
          0.127,
          0.73199999,
          0.90600002,
          0.465,
          0.465,
          0.465,
          0.465,
          0.127,
          0.43000001,
          0.43000001,
          0.43000001,
          0.093000002,
          0.19699999999999998,
          0.31299999,
          0.22,
          0.046,
          0.26699999,
          0.82499999,
          0.82499999,
          0.87199998,
          0.30199999,
          0.60399997,
          0.73199999,
          0.96499997,
          0.31299999,
          0.31299999,
          0.84799999,
          0.60399997,
          0.31299999,
          0.19699999999999998,
          0.22,
          0.465,
          0.59299999,
          0.093000002,
          0.60399997,
          0.58099997,
          0.034000002,
          0.72000003,
          0.40599999,
          0.98799998,
          0.73199999,
          0.86000001,
          0.73199999,
          0.87199998,
          0.22,
          0.94099998,
          0.94099998,
          0.26699999,
          0.26699999,
          0.546,
          0.60399997,
          0.06899999799999999,
          0.06899999799999999,
          0.15099999,
          0.56900001,
          0.96499997,
          0.41800001,
          0.162,
          0.60399997,
          0.60399997,
          0.31299999,
          0.17399999,
          0.465,
          0.31299999,
          0.546,
          0.22,
          0.093000002,
          0.31299999,
          0.18600000000000003,
          0.87199998
         ],
         "y": [
          0.86000001,
          0.51099998,
          0.11599999999999999,
          0.51099998,
          0.51099998,
          0.76700002,
          0.76700002,
          0.51099998,
          0.32499999,
          0.32499999,
          0.51099998,
          0.51099998,
          0.32499999,
          0.51099998,
          0.034000002,
          0.034000002,
          0.32499999,
          0.45300001,
          0.465,
          0.465,
          0.465,
          0.465,
          0.093000002,
          0.91799998,
          0.91799998,
          0.91799998,
          0.51099998,
          0.51099998,
          0.51099998,
          0.11599999999999999,
          0.10400000000000001,
          0.27900001,
          0.65100002,
          0.65100002,
          0.32499999,
          0.51099998,
          0.65100002,
          0.44100001,
          0.86000001,
          0.86000001,
          0.91799998,
          0.32499999,
          0.76700002,
          0.76700002,
          0.97600001,
          0.32499999,
          0.76700002,
          0.65100002,
          0.023,
          0.83700001,
          0.11599999999999999,
          0.27900001,
          0.65100002,
          0.65100002,
          0.65100002,
          0.96499997,
          0.86000001,
          0.06899999799999999,
          0.27900001,
          0.081,
          0.22,
          0.22,
          0.97600001,
          0.11599999999999999,
          0.65100002,
          0.65100002,
          0.11599999999999999,
          0.11599999999999999,
          0.22,
          0.057999998,
          0.76700002,
          0.32499999,
          0.11599999999999999,
          0.755,
          0.32499999,
          0.51099998,
          0.011000000000000001,
          0.32499999,
          0.255,
          0.90600002,
          0.11599999999999999,
          0.11599999999999999,
          0.31299999,
          0.26699999,
          0.84799999
         ],
         "z": [
          66.971725,
          67.602936,
          32.261086,
          46.116505,
          52.341465,
          50.347546,
          56.914547,
          23.417824,
          38.010963000000004,
          34.517681,
          38.975037,
          36.017628,
          24.524988,
          42.272076,
          39.460556,
          43.088924,
          39.185505,
          46.783348,
          57.11974,
          34.158958,
          51.41243,
          42.178771999999995,
          55.375454000000005,
          62.28448100000001,
          56.490501,
          59.236121999999995,
          28.127439000000003,
          57.21925,
          76.7686,
          41.389557,
          39.141056,
          52.911392000000006,
          71.46505,
          66.574585,
          46.411716,
          55.064071999999996,
          73.099556,
          60.800701000000004,
          64.35334,
          47.829754,
          54.526451,
          55.354046,
          70.735641,
          66.47068,
          22.445341,
          39.4468,
          46.296597,
          69.483788,
          37.722336,
          41.265511,
          37.348521999999996,
          81.86625699999999,
          84.18029,
          73.43499,
          72.887901,
          35.290756,
          65.716286,
          29.703691,
          42.849144,
          34.722,
          63.08514,
          55.103694999999995,
          37.887188,
          45.995827,
          76.67378199999999,
          59.529251,
          59.863997999999995,
          52.825947,
          67.037628,
          34.578990999999995,
          33.43755,
          32.230995,
          27.303865000000002,
          54.861111,
          48.982651000000004,
          43.068897,
          45.736748,
          49.653503,
          47.173229,
          81.642914,
          45.466282,
          39.011897999999995,
          44.375519,
          41.904308,
          49.524113
         ]
        }
       ],
       "layout": {
        "height": 900,
        "scene": {
         "aspectmode": "manual",
         "aspectratio": {
          "x": 1,
          "y": 1,
          "z": 1
         },
         "xaxis": {
          "gridcolor": "#F6F6F6",
          "showgrid": true,
          "tickfont": {
           "color": "#666666",
           "size": 15
          },
          "title": {
           "text": "Sugar percent"
          },
          "zerolinecolor": "#F6F6F6"
         },
         "yaxis": {
          "gridcolor": "#F6F6F6",
          "showgrid": true,
          "tickfont": {
           "color": "#666666",
           "size": 15
          },
          "title": {
           "text": "Price percent"
          },
          "zerolinecolor": "#F6F6F6"
         },
         "zaxis": {
          "gridcolor": "#F6F6F6",
          "showgrid": true,
          "tickfont": {
           "color": "#666666",
           "size": 15
          },
          "title": {
           "text": "Win percent"
          },
          "zerolinecolor": "#F6F6F6"
         }
        },
        "showlegend": false,
        "template": {
         "data": {
          "bar": [
           {
            "error_x": {
             "color": "#2a3f5f"
            },
            "error_y": {
             "color": "#2a3f5f"
            },
            "marker": {
             "line": {
              "color": "#E5ECF6",
              "width": 0.5
             }
            },
            "type": "bar"
           }
          ],
          "barpolar": [
           {
            "marker": {
             "line": {
              "color": "#E5ECF6",
              "width": 0.5
             }
            },
            "type": "barpolar"
           }
          ],
          "carpet": [
           {
            "aaxis": {
             "endlinecolor": "#2a3f5f",
             "gridcolor": "white",
             "linecolor": "white",
             "minorgridcolor": "white",
             "startlinecolor": "#2a3f5f"
            },
            "baxis": {
             "endlinecolor": "#2a3f5f",
             "gridcolor": "white",
             "linecolor": "white",
             "minorgridcolor": "white",
             "startlinecolor": "#2a3f5f"
            },
            "type": "carpet"
           }
          ],
          "choropleth": [
           {
            "colorbar": {
             "outlinewidth": 0,
             "ticks": ""
            },
            "type": "choropleth"
           }
          ],
          "contour": [
           {
            "colorbar": {
             "outlinewidth": 0,
             "ticks": ""
            },
            "colorscale": [
             [
              0,
              "#0d0887"
             ],
             [
              0.1111111111111111,
              "#46039f"
             ],
             [
              0.2222222222222222,
              "#7201a8"
             ],
             [
              0.3333333333333333,
              "#9c179e"
             ],
             [
              0.4444444444444444,
              "#bd3786"
             ],
             [
              0.5555555555555556,
              "#d8576b"
             ],
             [
              0.6666666666666666,
              "#ed7953"
             ],
             [
              0.7777777777777778,
              "#fb9f3a"
             ],
             [
              0.8888888888888888,
              "#fdca26"
             ],
             [
              1,
              "#f0f921"
             ]
            ],
            "type": "contour"
           }
          ],
          "contourcarpet": [
           {
            "colorbar": {
             "outlinewidth": 0,
             "ticks": ""
            },
            "type": "contourcarpet"
           }
          ],
          "heatmap": [
           {
            "colorbar": {
             "outlinewidth": 0,
             "ticks": ""
            },
            "colorscale": [
             [
              0,
              "#0d0887"
             ],
             [
              0.1111111111111111,
              "#46039f"
             ],
             [
              0.2222222222222222,
              "#7201a8"
             ],
             [
              0.3333333333333333,
              "#9c179e"
             ],
             [
              0.4444444444444444,
              "#bd3786"
             ],
             [
              0.5555555555555556,
              "#d8576b"
             ],
             [
              0.6666666666666666,
              "#ed7953"
             ],
             [
              0.7777777777777778,
              "#fb9f3a"
             ],
             [
              0.8888888888888888,
              "#fdca26"
             ],
             [
              1,
              "#f0f921"
             ]
            ],
            "type": "heatmap"
           }
          ],
          "heatmapgl": [
           {
            "colorbar": {
             "outlinewidth": 0,
             "ticks": ""
            },
            "colorscale": [
             [
              0,
              "#0d0887"
             ],
             [
              0.1111111111111111,
              "#46039f"
             ],
             [
              0.2222222222222222,
              "#7201a8"
             ],
             [
              0.3333333333333333,
              "#9c179e"
             ],
             [
              0.4444444444444444,
              "#bd3786"
             ],
             [
              0.5555555555555556,
              "#d8576b"
             ],
             [
              0.6666666666666666,
              "#ed7953"
             ],
             [
              0.7777777777777778,
              "#fb9f3a"
             ],
             [
              0.8888888888888888,
              "#fdca26"
             ],
             [
              1,
              "#f0f921"
             ]
            ],
            "type": "heatmapgl"
           }
          ],
          "histogram": [
           {
            "marker": {
             "colorbar": {
              "outlinewidth": 0,
              "ticks": ""
             }
            },
            "type": "histogram"
           }
          ],
          "histogram2d": [
           {
            "colorbar": {
             "outlinewidth": 0,
             "ticks": ""
            },
            "colorscale": [
             [
              0,
              "#0d0887"
             ],
             [
              0.1111111111111111,
              "#46039f"
             ],
             [
              0.2222222222222222,
              "#7201a8"
             ],
             [
              0.3333333333333333,
              "#9c179e"
             ],
             [
              0.4444444444444444,
              "#bd3786"
             ],
             [
              0.5555555555555556,
              "#d8576b"
             ],
             [
              0.6666666666666666,
              "#ed7953"
             ],
             [
              0.7777777777777778,
              "#fb9f3a"
             ],
             [
              0.8888888888888888,
              "#fdca26"
             ],
             [
              1,
              "#f0f921"
             ]
            ],
            "type": "histogram2d"
           }
          ],
          "histogram2dcontour": [
           {
            "colorbar": {
             "outlinewidth": 0,
             "ticks": ""
            },
            "colorscale": [
             [
              0,
              "#0d0887"
             ],
             [
              0.1111111111111111,
              "#46039f"
             ],
             [
              0.2222222222222222,
              "#7201a8"
             ],
             [
              0.3333333333333333,
              "#9c179e"
             ],
             [
              0.4444444444444444,
              "#bd3786"
             ],
             [
              0.5555555555555556,
              "#d8576b"
             ],
             [
              0.6666666666666666,
              "#ed7953"
             ],
             [
              0.7777777777777778,
              "#fb9f3a"
             ],
             [
              0.8888888888888888,
              "#fdca26"
             ],
             [
              1,
              "#f0f921"
             ]
            ],
            "type": "histogram2dcontour"
           }
          ],
          "mesh3d": [
           {
            "colorbar": {
             "outlinewidth": 0,
             "ticks": ""
            },
            "type": "mesh3d"
           }
          ],
          "parcoords": [
           {
            "line": {
             "colorbar": {
              "outlinewidth": 0,
              "ticks": ""
             }
            },
            "type": "parcoords"
           }
          ],
          "scatter": [
           {
            "marker": {
             "colorbar": {
              "outlinewidth": 0,
              "ticks": ""
             }
            },
            "type": "scatter"
           }
          ],
          "scatter3d": [
           {
            "line": {
             "colorbar": {
              "outlinewidth": 0,
              "ticks": ""
             }
            },
            "marker": {
             "colorbar": {
              "outlinewidth": 0,
              "ticks": ""
             }
            },
            "type": "scatter3d"
           }
          ],
          "scattercarpet": [
           {
            "marker": {
             "colorbar": {
              "outlinewidth": 0,
              "ticks": ""
             }
            },
            "type": "scattercarpet"
           }
          ],
          "scattergeo": [
           {
            "marker": {
             "colorbar": {
              "outlinewidth": 0,
              "ticks": ""
             }
            },
            "type": "scattergeo"
           }
          ],
          "scattergl": [
           {
            "marker": {
             "colorbar": {
              "outlinewidth": 0,
              "ticks": ""
             }
            },
            "type": "scattergl"
           }
          ],
          "scattermapbox": [
           {
            "marker": {
             "colorbar": {
              "outlinewidth": 0,
              "ticks": ""
             }
            },
            "type": "scattermapbox"
           }
          ],
          "scatterpolar": [
           {
            "marker": {
             "colorbar": {
              "outlinewidth": 0,
              "ticks": ""
             }
            },
            "type": "scatterpolar"
           }
          ],
          "scatterpolargl": [
           {
            "marker": {
             "colorbar": {
              "outlinewidth": 0,
              "ticks": ""
             }
            },
            "type": "scatterpolargl"
           }
          ],
          "scatterternary": [
           {
            "marker": {
             "colorbar": {
              "outlinewidth": 0,
              "ticks": ""
             }
            },
            "type": "scatterternary"
           }
          ],
          "surface": [
           {
            "colorbar": {
             "outlinewidth": 0,
             "ticks": ""
            },
            "colorscale": [
             [
              0,
              "#0d0887"
             ],
             [
              0.1111111111111111,
              "#46039f"
             ],
             [
              0.2222222222222222,
              "#7201a8"
             ],
             [
              0.3333333333333333,
              "#9c179e"
             ],
             [
              0.4444444444444444,
              "#bd3786"
             ],
             [
              0.5555555555555556,
              "#d8576b"
             ],
             [
              0.6666666666666666,
              "#ed7953"
             ],
             [
              0.7777777777777778,
              "#fb9f3a"
             ],
             [
              0.8888888888888888,
              "#fdca26"
             ],
             [
              1,
              "#f0f921"
             ]
            ],
            "type": "surface"
           }
          ],
          "table": [
           {
            "cells": {
             "fill": {
              "color": "#EBF0F8"
             },
             "line": {
              "color": "white"
             }
            },
            "header": {
             "fill": {
              "color": "#C8D4E3"
             },
             "line": {
              "color": "white"
             }
            },
            "type": "table"
           }
          ]
         },
         "layout": {
          "annotationdefaults": {
           "arrowcolor": "#2a3f5f",
           "arrowhead": 0,
           "arrowwidth": 1
          },
          "colorscale": {
           "diverging": [
            [
             0,
             "#8e0152"
            ],
            [
             0.1,
             "#c51b7d"
            ],
            [
             0.2,
             "#de77ae"
            ],
            [
             0.3,
             "#f1b6da"
            ],
            [
             0.4,
             "#fde0ef"
            ],
            [
             0.5,
             "#f7f7f7"
            ],
            [
             0.6,
             "#e6f5d0"
            ],
            [
             0.7,
             "#b8e186"
            ],
            [
             0.8,
             "#7fbc41"
            ],
            [
             0.9,
             "#4d9221"
            ],
            [
             1,
             "#276419"
            ]
           ],
           "sequential": [
            [
             0,
             "#0d0887"
            ],
            [
             0.1111111111111111,
             "#46039f"
            ],
            [
             0.2222222222222222,
             "#7201a8"
            ],
            [
             0.3333333333333333,
             "#9c179e"
            ],
            [
             0.4444444444444444,
             "#bd3786"
            ],
            [
             0.5555555555555556,
             "#d8576b"
            ],
            [
             0.6666666666666666,
             "#ed7953"
            ],
            [
             0.7777777777777778,
             "#fb9f3a"
            ],
            [
             0.8888888888888888,
             "#fdca26"
            ],
            [
             1,
             "#f0f921"
            ]
           ],
           "sequentialminus": [
            [
             0,
             "#0d0887"
            ],
            [
             0.1111111111111111,
             "#46039f"
            ],
            [
             0.2222222222222222,
             "#7201a8"
            ],
            [
             0.3333333333333333,
             "#9c179e"
            ],
            [
             0.4444444444444444,
             "#bd3786"
            ],
            [
             0.5555555555555556,
             "#d8576b"
            ],
            [
             0.6666666666666666,
             "#ed7953"
            ],
            [
             0.7777777777777778,
             "#fb9f3a"
            ],
            [
             0.8888888888888888,
             "#fdca26"
            ],
            [
             1,
             "#f0f921"
            ]
           ]
          },
          "colorway": [
           "#636efa",
           "#EF553B",
           "#00cc96",
           "#ab63fa",
           "#FFA15A",
           "#19d3f3",
           "#FF6692",
           "#B6E880",
           "#FF97FF",
           "#FECB52"
          ],
          "font": {
           "color": "#2a3f5f"
          },
          "geo": {
           "bgcolor": "white",
           "lakecolor": "white",
           "landcolor": "#E5ECF6",
           "showlakes": true,
           "showland": true,
           "subunitcolor": "white"
          },
          "hoverlabel": {
           "align": "left"
          },
          "hovermode": "closest",
          "mapbox": {
           "style": "light"
          },
          "paper_bgcolor": "white",
          "plot_bgcolor": "#E5ECF6",
          "polar": {
           "angularaxis": {
            "gridcolor": "white",
            "linecolor": "white",
            "ticks": ""
           },
           "bgcolor": "#E5ECF6",
           "radialaxis": {
            "gridcolor": "white",
            "linecolor": "white",
            "ticks": ""
           }
          },
          "scene": {
           "xaxis": {
            "backgroundcolor": "#E5ECF6",
            "gridcolor": "white",
            "gridwidth": 2,
            "linecolor": "white",
            "showbackground": true,
            "ticks": "",
            "zerolinecolor": "white"
           },
           "yaxis": {
            "backgroundcolor": "#E5ECF6",
            "gridcolor": "white",
            "gridwidth": 2,
            "linecolor": "white",
            "showbackground": true,
            "ticks": "",
            "zerolinecolor": "white"
           },
           "zaxis": {
            "backgroundcolor": "#E5ECF6",
            "gridcolor": "white",
            "gridwidth": 2,
            "linecolor": "white",
            "showbackground": true,
            "ticks": "",
            "zerolinecolor": "white"
           }
          },
          "shapedefaults": {
           "line": {
            "color": "#2a3f5f"
           }
          },
          "ternary": {
           "aaxis": {
            "gridcolor": "white",
            "linecolor": "white",
            "ticks": ""
           },
           "baxis": {
            "gridcolor": "white",
            "linecolor": "white",
            "ticks": ""
           },
           "bgcolor": "#E5ECF6",
           "caxis": {
            "gridcolor": "white",
            "linecolor": "white",
            "ticks": ""
           }
          },
          "title": {
           "x": 0.05
          },
          "xaxis": {
           "automargin": true,
           "gridcolor": "white",
           "linecolor": "white",
           "ticks": "",
           "zerolinecolor": "white",
           "zerolinewidth": 2
          },
          "yaxis": {
           "automargin": true,
           "gridcolor": "white",
           "linecolor": "white",
           "ticks": "",
           "zerolinecolor": "white",
           "zerolinewidth": 2
          }
         }
        },
        "title": {
         "text": "Win percent w.r.t Sugar and Price"
        }
       }
      },
      "text/html": [
       "<div>\n",
       "        \n",
       "        \n",
       "            <div id=\"25dd5b1c-5453-4de1-ab89-0ef8ebae4798\" class=\"plotly-graph-div\" style=\"height:900px; width:100%;\"></div>\n",
       "            <script type=\"text/javascript\">\n",
       "                require([\"plotly\"], function(Plotly) {\n",
       "                    window.PLOTLYENV=window.PLOTLYENV || {};\n",
       "                    \n",
       "                if (document.getElementById(\"25dd5b1c-5453-4de1-ab89-0ef8ebae4798\")) {\n",
       "                    Plotly.newPlot(\n",
       "                        '25dd5b1c-5453-4de1-ab89-0ef8ebae4798',\n",
       "                        [{\"hoverinfo\": \"none\", \"hoverlabel\": {\"font\": {\"size\": 20}}, \"line\": {\"color\": \"red\", \"dash\": \"solid\", \"width\": 2}, \"marker\": {\"color\": [66.971725, 67.602936, 32.261086, 46.116505, 52.341465, 50.347546, 56.914547, 23.417824, 38.010963000000004, 34.517681, 38.975037, 36.017628, 24.524988, 42.272076, 39.460556, 43.088924, 39.185505, 46.783348, 57.11974, 34.158958, 51.41243, 42.178771999999995, 55.375454000000005, 62.28448100000001, 56.490501, 59.236121999999995, 28.127439000000003, 57.21925, 76.7686, 41.389557, 39.141056, 52.911392000000006, 71.46505, 66.574585, 46.411716, 55.064071999999996, 73.099556, 60.800701000000004, 64.35334, 47.829754, 54.526451, 55.354046, 70.735641, 66.47068, 22.445341, 39.4468, 46.296597, 69.483788, 37.722336, 41.265511, 37.348521999999996, 81.86625699999999, 84.18029, 73.43499, 72.887901, 35.290756, 65.716286, 29.703691, 42.849144, 34.722, 63.08514, 55.103694999999995, 37.887188, 45.995827, 76.67378199999999, 59.529251, 59.863997999999995, 52.825947, 67.037628, 34.578990999999995, 33.43755, 32.230995, 27.303865000000002, 54.861111, 48.982651000000004, 43.068897, 45.736748, 49.653503, 47.173229, 81.642914, 45.466282, 39.011897999999995, 44.375519, 41.904308, 49.524113], \"colorbar\": {\"title\": {\"text\": \"Winpercent\"}}, \"colorscale\": [[0.0, \"rgb(255,245,240)\"], [0.125, \"rgb(254,224,210)\"], [0.25, \"rgb(252,187,161)\"], [0.375, \"rgb(252,146,114)\"], [0.5, \"rgb(251,106,74)\"], [0.625, \"rgb(239,59,44)\"], [0.75, \"rgb(203,24,29)\"], [0.875, \"rgb(165,15,21)\"], [1.0, \"rgb(103,0,13)\"]], \"size\": 10, \"symbol\": \"circle\"}, \"mode\": \"markers\", \"showlegend\": true, \"textfont\": {\"color\": \"red\", \"size\": 15}, \"textposition\": \"top right\", \"type\": \"scatter3d\", \"x\": [0.73199999, 0.60399997, 0.011000000000000001, 0.011000000000000001, 0.90600002, 0.465, 0.60399997, 0.31299999, 0.90600002, 0.60399997, 0.60399997, 0.73199999, 0.046, 0.73199999, 0.73199999, 0.127, 0.73199999, 0.90600002, 0.465, 0.465, 0.465, 0.465, 0.127, 0.43000001, 0.43000001, 0.43000001, 0.093000002, 0.19699999999999998, 0.31299999, 0.22, 0.046, 0.26699999, 0.82499999, 0.82499999, 0.87199998, 0.30199999, 0.60399997, 0.73199999, 0.96499997, 0.31299999, 0.31299999, 0.84799999, 0.60399997, 0.31299999, 0.19699999999999998, 0.22, 0.465, 0.59299999, 0.093000002, 0.60399997, 0.58099997, 0.034000002, 0.72000003, 0.40599999, 0.98799998, 0.73199999, 0.86000001, 0.73199999, 0.87199998, 0.22, 0.94099998, 0.94099998, 0.26699999, 0.26699999, 0.546, 0.60399997, 0.06899999799999999, 0.06899999799999999, 0.15099999, 0.56900001, 0.96499997, 0.41800001, 0.162, 0.60399997, 0.60399997, 0.31299999, 0.17399999, 0.465, 0.31299999, 0.546, 0.22, 0.093000002, 0.31299999, 0.18600000000000003, 0.87199998], \"y\": [0.86000001, 0.51099998, 0.11599999999999999, 0.51099998, 0.51099998, 0.76700002, 0.76700002, 0.51099998, 0.32499999, 0.32499999, 0.51099998, 0.51099998, 0.32499999, 0.51099998, 0.034000002, 0.034000002, 0.32499999, 0.45300001, 0.465, 0.465, 0.465, 0.465, 0.093000002, 0.91799998, 0.91799998, 0.91799998, 0.51099998, 0.51099998, 0.51099998, 0.11599999999999999, 0.10400000000000001, 0.27900001, 0.65100002, 0.65100002, 0.32499999, 0.51099998, 0.65100002, 0.44100001, 0.86000001, 0.86000001, 0.91799998, 0.32499999, 0.76700002, 0.76700002, 0.97600001, 0.32499999, 0.76700002, 0.65100002, 0.023, 0.83700001, 0.11599999999999999, 0.27900001, 0.65100002, 0.65100002, 0.65100002, 0.96499997, 0.86000001, 0.06899999799999999, 0.27900001, 0.081, 0.22, 0.22, 0.97600001, 0.11599999999999999, 0.65100002, 0.65100002, 0.11599999999999999, 0.11599999999999999, 0.22, 0.057999998, 0.76700002, 0.32499999, 0.11599999999999999, 0.755, 0.32499999, 0.51099998, 0.011000000000000001, 0.32499999, 0.255, 0.90600002, 0.11599999999999999, 0.11599999999999999, 0.31299999, 0.26699999, 0.84799999], \"z\": [66.971725, 67.602936, 32.261086, 46.116505, 52.341465, 50.347546, 56.914547, 23.417824, 38.010963000000004, 34.517681, 38.975037, 36.017628, 24.524988, 42.272076, 39.460556, 43.088924, 39.185505, 46.783348, 57.11974, 34.158958, 51.41243, 42.178771999999995, 55.375454000000005, 62.28448100000001, 56.490501, 59.236121999999995, 28.127439000000003, 57.21925, 76.7686, 41.389557, 39.141056, 52.911392000000006, 71.46505, 66.574585, 46.411716, 55.064071999999996, 73.099556, 60.800701000000004, 64.35334, 47.829754, 54.526451, 55.354046, 70.735641, 66.47068, 22.445341, 39.4468, 46.296597, 69.483788, 37.722336, 41.265511, 37.348521999999996, 81.86625699999999, 84.18029, 73.43499, 72.887901, 35.290756, 65.716286, 29.703691, 42.849144, 34.722, 63.08514, 55.103694999999995, 37.887188, 45.995827, 76.67378199999999, 59.529251, 59.863997999999995, 52.825947, 67.037628, 34.578990999999995, 33.43755, 32.230995, 27.303865000000002, 54.861111, 48.982651000000004, 43.068897, 45.736748, 49.653503, 47.173229, 81.642914, 45.466282, 39.011897999999995, 44.375519, 41.904308, 49.524113]}],\n",
       "                        {\"height\": 900, \"scene\": {\"aspectmode\": \"manual\", \"aspectratio\": {\"x\": 1, \"y\": 1, \"z\": 1}, \"xaxis\": {\"gridcolor\": \"#F6F6F6\", \"showgrid\": true, \"tickfont\": {\"color\": \"#666666\", \"size\": 15}, \"title\": {\"text\": \"Sugar percent\"}, \"zerolinecolor\": \"#F6F6F6\"}, \"yaxis\": {\"gridcolor\": \"#F6F6F6\", \"showgrid\": true, \"tickfont\": {\"color\": \"#666666\", \"size\": 15}, \"title\": {\"text\": \"Price percent\"}, \"zerolinecolor\": \"#F6F6F6\"}, \"zaxis\": {\"gridcolor\": \"#F6F6F6\", \"showgrid\": true, \"tickfont\": {\"color\": \"#666666\", \"size\": 15}, \"title\": {\"text\": \"Win percent\"}, \"zerolinecolor\": \"#F6F6F6\"}}, \"showlegend\": false, \"template\": {\"data\": {\"bar\": [{\"error_x\": {\"color\": \"#2a3f5f\"}, \"error_y\": {\"color\": \"#2a3f5f\"}, \"marker\": {\"line\": {\"color\": \"#E5ECF6\", \"width\": 0.5}}, \"type\": \"bar\"}], \"barpolar\": [{\"marker\": {\"line\": {\"color\": \"#E5ECF6\", \"width\": 0.5}}, \"type\": \"barpolar\"}], \"carpet\": [{\"aaxis\": {\"endlinecolor\": \"#2a3f5f\", \"gridcolor\": \"white\", \"linecolor\": \"white\", \"minorgridcolor\": \"white\", \"startlinecolor\": \"#2a3f5f\"}, \"baxis\": {\"endlinecolor\": \"#2a3f5f\", \"gridcolor\": \"white\", \"linecolor\": \"white\", \"minorgridcolor\": \"white\", \"startlinecolor\": \"#2a3f5f\"}, \"type\": \"carpet\"}], \"choropleth\": [{\"colorbar\": {\"outlinewidth\": 0, \"ticks\": \"\"}, \"type\": \"choropleth\"}], \"contour\": [{\"colorbar\": {\"outlinewidth\": 0, \"ticks\": \"\"}, \"colorscale\": [[0.0, \"#0d0887\"], [0.1111111111111111, \"#46039f\"], [0.2222222222222222, \"#7201a8\"], [0.3333333333333333, \"#9c179e\"], [0.4444444444444444, \"#bd3786\"], [0.5555555555555556, \"#d8576b\"], [0.6666666666666666, \"#ed7953\"], [0.7777777777777778, \"#fb9f3a\"], [0.8888888888888888, \"#fdca26\"], [1.0, \"#f0f921\"]], \"type\": \"contour\"}], \"contourcarpet\": [{\"colorbar\": {\"outlinewidth\": 0, \"ticks\": \"\"}, \"type\": \"contourcarpet\"}], \"heatmap\": [{\"colorbar\": {\"outlinewidth\": 0, \"ticks\": \"\"}, \"colorscale\": [[0.0, \"#0d0887\"], [0.1111111111111111, \"#46039f\"], [0.2222222222222222, \"#7201a8\"], [0.3333333333333333, \"#9c179e\"], [0.4444444444444444, \"#bd3786\"], [0.5555555555555556, \"#d8576b\"], [0.6666666666666666, \"#ed7953\"], [0.7777777777777778, \"#fb9f3a\"], [0.8888888888888888, \"#fdca26\"], [1.0, \"#f0f921\"]], \"type\": \"heatmap\"}], \"heatmapgl\": [{\"colorbar\": {\"outlinewidth\": 0, \"ticks\": \"\"}, \"colorscale\": [[0.0, \"#0d0887\"], [0.1111111111111111, \"#46039f\"], [0.2222222222222222, \"#7201a8\"], [0.3333333333333333, \"#9c179e\"], [0.4444444444444444, \"#bd3786\"], [0.5555555555555556, \"#d8576b\"], [0.6666666666666666, \"#ed7953\"], [0.7777777777777778, \"#fb9f3a\"], [0.8888888888888888, \"#fdca26\"], [1.0, \"#f0f921\"]], \"type\": \"heatmapgl\"}], \"histogram\": [{\"marker\": {\"colorbar\": {\"outlinewidth\": 0, \"ticks\": \"\"}}, \"type\": \"histogram\"}], \"histogram2d\": [{\"colorbar\": {\"outlinewidth\": 0, \"ticks\": \"\"}, \"colorscale\": [[0.0, \"#0d0887\"], [0.1111111111111111, \"#46039f\"], [0.2222222222222222, \"#7201a8\"], [0.3333333333333333, \"#9c179e\"], [0.4444444444444444, \"#bd3786\"], [0.5555555555555556, \"#d8576b\"], [0.6666666666666666, \"#ed7953\"], [0.7777777777777778, \"#fb9f3a\"], [0.8888888888888888, \"#fdca26\"], [1.0, \"#f0f921\"]], \"type\": \"histogram2d\"}], \"histogram2dcontour\": [{\"colorbar\": {\"outlinewidth\": 0, \"ticks\": \"\"}, \"colorscale\": [[0.0, \"#0d0887\"], [0.1111111111111111, \"#46039f\"], [0.2222222222222222, \"#7201a8\"], [0.3333333333333333, \"#9c179e\"], [0.4444444444444444, \"#bd3786\"], [0.5555555555555556, \"#d8576b\"], [0.6666666666666666, \"#ed7953\"], [0.7777777777777778, \"#fb9f3a\"], [0.8888888888888888, \"#fdca26\"], [1.0, \"#f0f921\"]], \"type\": \"histogram2dcontour\"}], \"mesh3d\": [{\"colorbar\": {\"outlinewidth\": 0, \"ticks\": \"\"}, \"type\": \"mesh3d\"}], \"parcoords\": [{\"line\": {\"colorbar\": {\"outlinewidth\": 0, \"ticks\": \"\"}}, \"type\": \"parcoords\"}], \"scatter\": [{\"marker\": {\"colorbar\": {\"outlinewidth\": 0, \"ticks\": \"\"}}, \"type\": \"scatter\"}], \"scatter3d\": [{\"line\": {\"colorbar\": {\"outlinewidth\": 0, \"ticks\": \"\"}}, \"marker\": {\"colorbar\": {\"outlinewidth\": 0, \"ticks\": \"\"}}, \"type\": \"scatter3d\"}], \"scattercarpet\": [{\"marker\": {\"colorbar\": {\"outlinewidth\": 0, \"ticks\": \"\"}}, \"type\": \"scattercarpet\"}], \"scattergeo\": [{\"marker\": {\"colorbar\": {\"outlinewidth\": 0, \"ticks\": \"\"}}, \"type\": \"scattergeo\"}], \"scattergl\": [{\"marker\": {\"colorbar\": {\"outlinewidth\": 0, \"ticks\": \"\"}}, \"type\": \"scattergl\"}], \"scattermapbox\": [{\"marker\": {\"colorbar\": {\"outlinewidth\": 0, \"ticks\": \"\"}}, \"type\": \"scattermapbox\"}], \"scatterpolar\": [{\"marker\": {\"colorbar\": {\"outlinewidth\": 0, \"ticks\": \"\"}}, \"type\": \"scatterpolar\"}], \"scatterpolargl\": [{\"marker\": {\"colorbar\": {\"outlinewidth\": 0, \"ticks\": \"\"}}, \"type\": \"scatterpolargl\"}], \"scatterternary\": [{\"marker\": {\"colorbar\": {\"outlinewidth\": 0, \"ticks\": \"\"}}, \"type\": \"scatterternary\"}], \"surface\": [{\"colorbar\": {\"outlinewidth\": 0, \"ticks\": \"\"}, \"colorscale\": [[0.0, \"#0d0887\"], [0.1111111111111111, \"#46039f\"], [0.2222222222222222, \"#7201a8\"], [0.3333333333333333, \"#9c179e\"], [0.4444444444444444, \"#bd3786\"], [0.5555555555555556, \"#d8576b\"], [0.6666666666666666, \"#ed7953\"], [0.7777777777777778, \"#fb9f3a\"], [0.8888888888888888, \"#fdca26\"], [1.0, \"#f0f921\"]], \"type\": \"surface\"}], \"table\": [{\"cells\": {\"fill\": {\"color\": \"#EBF0F8\"}, \"line\": {\"color\": \"white\"}}, \"header\": {\"fill\": {\"color\": \"#C8D4E3\"}, \"line\": {\"color\": \"white\"}}, \"type\": \"table\"}]}, \"layout\": {\"annotationdefaults\": {\"arrowcolor\": \"#2a3f5f\", \"arrowhead\": 0, \"arrowwidth\": 1}, \"colorscale\": {\"diverging\": [[0, \"#8e0152\"], [0.1, \"#c51b7d\"], [0.2, \"#de77ae\"], [0.3, \"#f1b6da\"], [0.4, \"#fde0ef\"], [0.5, \"#f7f7f7\"], [0.6, \"#e6f5d0\"], [0.7, \"#b8e186\"], [0.8, \"#7fbc41\"], [0.9, \"#4d9221\"], [1, \"#276419\"]], \"sequential\": [[0.0, \"#0d0887\"], [0.1111111111111111, \"#46039f\"], [0.2222222222222222, \"#7201a8\"], [0.3333333333333333, \"#9c179e\"], [0.4444444444444444, \"#bd3786\"], [0.5555555555555556, \"#d8576b\"], [0.6666666666666666, \"#ed7953\"], [0.7777777777777778, \"#fb9f3a\"], [0.8888888888888888, \"#fdca26\"], [1.0, \"#f0f921\"]], \"sequentialminus\": [[0.0, \"#0d0887\"], [0.1111111111111111, \"#46039f\"], [0.2222222222222222, \"#7201a8\"], [0.3333333333333333, \"#9c179e\"], [0.4444444444444444, \"#bd3786\"], [0.5555555555555556, \"#d8576b\"], [0.6666666666666666, \"#ed7953\"], [0.7777777777777778, \"#fb9f3a\"], [0.8888888888888888, \"#fdca26\"], [1.0, \"#f0f921\"]]}, \"colorway\": [\"#636efa\", \"#EF553B\", \"#00cc96\", \"#ab63fa\", \"#FFA15A\", \"#19d3f3\", \"#FF6692\", \"#B6E880\", \"#FF97FF\", \"#FECB52\"], \"font\": {\"color\": \"#2a3f5f\"}, \"geo\": {\"bgcolor\": \"white\", \"lakecolor\": \"white\", \"landcolor\": \"#E5ECF6\", \"showlakes\": true, \"showland\": true, \"subunitcolor\": \"white\"}, \"hoverlabel\": {\"align\": \"left\"}, \"hovermode\": \"closest\", \"mapbox\": {\"style\": \"light\"}, \"paper_bgcolor\": \"white\", \"plot_bgcolor\": \"#E5ECF6\", \"polar\": {\"angularaxis\": {\"gridcolor\": \"white\", \"linecolor\": \"white\", \"ticks\": \"\"}, \"bgcolor\": \"#E5ECF6\", \"radialaxis\": {\"gridcolor\": \"white\", \"linecolor\": \"white\", \"ticks\": \"\"}}, \"scene\": {\"xaxis\": {\"backgroundcolor\": \"#E5ECF6\", \"gridcolor\": \"white\", \"gridwidth\": 2, \"linecolor\": \"white\", \"showbackground\": true, \"ticks\": \"\", \"zerolinecolor\": \"white\"}, \"yaxis\": {\"backgroundcolor\": \"#E5ECF6\", \"gridcolor\": \"white\", \"gridwidth\": 2, \"linecolor\": \"white\", \"showbackground\": true, \"ticks\": \"\", \"zerolinecolor\": \"white\"}, \"zaxis\": {\"backgroundcolor\": \"#E5ECF6\", \"gridcolor\": \"white\", \"gridwidth\": 2, \"linecolor\": \"white\", \"showbackground\": true, \"ticks\": \"\", \"zerolinecolor\": \"white\"}}, \"shapedefaults\": {\"line\": {\"color\": \"#2a3f5f\"}}, \"ternary\": {\"aaxis\": {\"gridcolor\": \"white\", \"linecolor\": \"white\", \"ticks\": \"\"}, \"baxis\": {\"gridcolor\": \"white\", \"linecolor\": \"white\", \"ticks\": \"\"}, \"bgcolor\": \"#E5ECF6\", \"caxis\": {\"gridcolor\": \"white\", \"linecolor\": \"white\", \"ticks\": \"\"}}, \"title\": {\"x\": 0.05}, \"xaxis\": {\"automargin\": true, \"gridcolor\": \"white\", \"linecolor\": \"white\", \"ticks\": \"\", \"zerolinecolor\": \"white\", \"zerolinewidth\": 2}, \"yaxis\": {\"automargin\": true, \"gridcolor\": \"white\", \"linecolor\": \"white\", \"ticks\": \"\", \"zerolinecolor\": \"white\", \"zerolinewidth\": 2}}}, \"title\": {\"text\": \"Win percent w.r.t Sugar and Price\"}},\n",
       "                        {\"responsive\": true}\n",
       "                    ).then(function(){\n",
       "                            \n",
       "var gd = document.getElementById('25dd5b1c-5453-4de1-ab89-0ef8ebae4798');\n",
       "var x = new MutationObserver(function (mutations, observer) {{\n",
       "        var display = window.getComputedStyle(gd).display;\n",
       "        if (!display || display === 'none') {{\n",
       "            console.log([gd, 'removed!']);\n",
       "            Plotly.purge(gd);\n",
       "            observer.disconnect();\n",
       "        }}\n",
       "}});\n",
       "\n",
       "// Listen for the removal of the full notebook cells\n",
       "var notebookContainer = gd.closest('#notebook-container');\n",
       "if (notebookContainer) {{\n",
       "    x.observe(notebookContainer, {childList: true});\n",
       "}}\n",
       "\n",
       "// Listen for the clearing of the current output cell\n",
       "var outputEl = gd.closest('.output');\n",
       "if (outputEl) {{\n",
       "    x.observe(outputEl, {childList: true});\n",
       "}}\n",
       "\n",
       "                        })\n",
       "                };\n",
       "                });\n",
       "            </script>\n",
       "        </div>"
      ]
     },
     "metadata": {},
     "output_type": "display_data"
    }
   ],
   "source": [
    "def scatter3d():\n",
    "    plot_win_sugar_price = go.Scatter3d(\n",
    "        x=df['sugarpercent'],\n",
    "        y=df['pricepercent'],\n",
    "        z=df['winpercent'],\n",
    "        mode='markers',\n",
    "        line=go.Line(color='red', dash='solid', width=2),\n",
    "        marker=go.Marker(size=10, symbol='circle', color = df['winpercent'],colorbar=dict(\n",
    "                title=\"Winpercent\"\n",
    "            ),\n",
    "            colorscale=\"Reds\"),\n",
    "        hoverinfo='none',\n",
    "        hoverlabel = dict(font=dict(size=20)),\n",
    "        textposition='top right',\n",
    "        textfont=dict(color='red', size=15),\n",
    "        showlegend=True)\n",
    "\n",
    "    layout = go.Layout(\n",
    "        \n",
    "        title='Win percent w.r.t Sugar and Price',\n",
    "        height=900,\n",
    "        showlegend=False,\n",
    "        scene=dict(\n",
    "            xaxis=go.XAxis(\n",
    "                gridcolor='#F6F6F6',\n",
    "                showgrid=True,\n",
    "                tickfont=dict(color='#666666', size=15),\n",
    "                title='Sugar percent',\n",
    "                zerolinecolor='#F6F6F6'),\n",
    "            yaxis=go.YAxis(\n",
    "                gridcolor='#F6F6F6',\n",
    "                showgrid=True,\n",
    "                tickfont=dict(color='#666666', size=15),\n",
    "                title='Price percent',\n",
    "                zerolinecolor='#F6F6F6'),\n",
    "            zaxis=go.ZAxis(\n",
    "                gridcolor='#F6F6F6',\n",
    "                showgrid=True,\n",
    "                tickfont=dict(color='#666666', size=15),\n",
    "                title='Win percent',\n",
    "                zerolinecolor='#F6F6F6'),\n",
    "            aspectmode='manual',\n",
    "            aspectratio=dict(x=1, y=1, z=1)\n",
    "        ))\n",
    "    fig = go.Figure(data=[plot_win_sugar_price], layout=layout)\n",
    "\n",
    "\n",
    "\n",
    "    return(fig)\n",
    "\n",
    " \n",
    "py.offline.iplot(scatter3d())"
   ]
  },
  {
   "cell_type": "markdown",
   "metadata": {},
   "source": [
    "## 5.3. PCA implementation for feature selection"
   ]
  },
  {
   "cell_type": "code",
   "execution_count": 34,
   "metadata": {},
   "outputs": [],
   "source": [
    "data = df.iloc[:,1:9]"
   ]
  },
  {
   "cell_type": "code",
   "execution_count": 35,
   "metadata": {},
   "outputs": [
    {
     "data": {
      "text/plain": [
       "PCA(copy=True, iterated_power='auto', n_components=None, random_state=None,\n",
       "  svd_solver='auto', tol=0.0, whiten=False)"
      ]
     },
     "execution_count": 35,
     "metadata": {},
     "output_type": "execute_result"
    }
   ],
   "source": [
    "pca = PCA()\n",
    "pca.fit(data)"
   ]
  },
  {
   "cell_type": "markdown",
   "metadata": {},
   "source": [
    "**Elbow method to find the number of components based on explained variance.**"
   ]
  },
  {
   "cell_type": "code",
   "execution_count": 36,
   "metadata": {},
   "outputs": [
    {
     "data": {
      "application/vnd.plotly.v1+json": {
       "config": {
        "linkText": "Export to plot.ly",
        "plotlyServerURL": "https://plot.ly",
        "showLink": false
       },
       "data": [
        {
         "mode": "lines",
         "name": "lines",
         "type": "scatter",
         "y": [
          0.4924155798174142,
          0.12062971327772969,
          0.09372229426816309,
          0.08926248452599445,
          0.08334810216895515,
          0.05520507070799556,
          0.04416328387275109,
          0.021253471360996652
         ]
        }
       ],
       "layout": {
        "template": {
         "data": {
          "bar": [
           {
            "error_x": {
             "color": "#2a3f5f"
            },
            "error_y": {
             "color": "#2a3f5f"
            },
            "marker": {
             "line": {
              "color": "#E5ECF6",
              "width": 0.5
             }
            },
            "type": "bar"
           }
          ],
          "barpolar": [
           {
            "marker": {
             "line": {
              "color": "#E5ECF6",
              "width": 0.5
             }
            },
            "type": "barpolar"
           }
          ],
          "carpet": [
           {
            "aaxis": {
             "endlinecolor": "#2a3f5f",
             "gridcolor": "white",
             "linecolor": "white",
             "minorgridcolor": "white",
             "startlinecolor": "#2a3f5f"
            },
            "baxis": {
             "endlinecolor": "#2a3f5f",
             "gridcolor": "white",
             "linecolor": "white",
             "minorgridcolor": "white",
             "startlinecolor": "#2a3f5f"
            },
            "type": "carpet"
           }
          ],
          "choropleth": [
           {
            "colorbar": {
             "outlinewidth": 0,
             "ticks": ""
            },
            "type": "choropleth"
           }
          ],
          "contour": [
           {
            "colorbar": {
             "outlinewidth": 0,
             "ticks": ""
            },
            "colorscale": [
             [
              0,
              "#0d0887"
             ],
             [
              0.1111111111111111,
              "#46039f"
             ],
             [
              0.2222222222222222,
              "#7201a8"
             ],
             [
              0.3333333333333333,
              "#9c179e"
             ],
             [
              0.4444444444444444,
              "#bd3786"
             ],
             [
              0.5555555555555556,
              "#d8576b"
             ],
             [
              0.6666666666666666,
              "#ed7953"
             ],
             [
              0.7777777777777778,
              "#fb9f3a"
             ],
             [
              0.8888888888888888,
              "#fdca26"
             ],
             [
              1,
              "#f0f921"
             ]
            ],
            "type": "contour"
           }
          ],
          "contourcarpet": [
           {
            "colorbar": {
             "outlinewidth": 0,
             "ticks": ""
            },
            "type": "contourcarpet"
           }
          ],
          "heatmap": [
           {
            "colorbar": {
             "outlinewidth": 0,
             "ticks": ""
            },
            "colorscale": [
             [
              0,
              "#0d0887"
             ],
             [
              0.1111111111111111,
              "#46039f"
             ],
             [
              0.2222222222222222,
              "#7201a8"
             ],
             [
              0.3333333333333333,
              "#9c179e"
             ],
             [
              0.4444444444444444,
              "#bd3786"
             ],
             [
              0.5555555555555556,
              "#d8576b"
             ],
             [
              0.6666666666666666,
              "#ed7953"
             ],
             [
              0.7777777777777778,
              "#fb9f3a"
             ],
             [
              0.8888888888888888,
              "#fdca26"
             ],
             [
              1,
              "#f0f921"
             ]
            ],
            "type": "heatmap"
           }
          ],
          "heatmapgl": [
           {
            "colorbar": {
             "outlinewidth": 0,
             "ticks": ""
            },
            "colorscale": [
             [
              0,
              "#0d0887"
             ],
             [
              0.1111111111111111,
              "#46039f"
             ],
             [
              0.2222222222222222,
              "#7201a8"
             ],
             [
              0.3333333333333333,
              "#9c179e"
             ],
             [
              0.4444444444444444,
              "#bd3786"
             ],
             [
              0.5555555555555556,
              "#d8576b"
             ],
             [
              0.6666666666666666,
              "#ed7953"
             ],
             [
              0.7777777777777778,
              "#fb9f3a"
             ],
             [
              0.8888888888888888,
              "#fdca26"
             ],
             [
              1,
              "#f0f921"
             ]
            ],
            "type": "heatmapgl"
           }
          ],
          "histogram": [
           {
            "marker": {
             "colorbar": {
              "outlinewidth": 0,
              "ticks": ""
             }
            },
            "type": "histogram"
           }
          ],
          "histogram2d": [
           {
            "colorbar": {
             "outlinewidth": 0,
             "ticks": ""
            },
            "colorscale": [
             [
              0,
              "#0d0887"
             ],
             [
              0.1111111111111111,
              "#46039f"
             ],
             [
              0.2222222222222222,
              "#7201a8"
             ],
             [
              0.3333333333333333,
              "#9c179e"
             ],
             [
              0.4444444444444444,
              "#bd3786"
             ],
             [
              0.5555555555555556,
              "#d8576b"
             ],
             [
              0.6666666666666666,
              "#ed7953"
             ],
             [
              0.7777777777777778,
              "#fb9f3a"
             ],
             [
              0.8888888888888888,
              "#fdca26"
             ],
             [
              1,
              "#f0f921"
             ]
            ],
            "type": "histogram2d"
           }
          ],
          "histogram2dcontour": [
           {
            "colorbar": {
             "outlinewidth": 0,
             "ticks": ""
            },
            "colorscale": [
             [
              0,
              "#0d0887"
             ],
             [
              0.1111111111111111,
              "#46039f"
             ],
             [
              0.2222222222222222,
              "#7201a8"
             ],
             [
              0.3333333333333333,
              "#9c179e"
             ],
             [
              0.4444444444444444,
              "#bd3786"
             ],
             [
              0.5555555555555556,
              "#d8576b"
             ],
             [
              0.6666666666666666,
              "#ed7953"
             ],
             [
              0.7777777777777778,
              "#fb9f3a"
             ],
             [
              0.8888888888888888,
              "#fdca26"
             ],
             [
              1,
              "#f0f921"
             ]
            ],
            "type": "histogram2dcontour"
           }
          ],
          "mesh3d": [
           {
            "colorbar": {
             "outlinewidth": 0,
             "ticks": ""
            },
            "type": "mesh3d"
           }
          ],
          "parcoords": [
           {
            "line": {
             "colorbar": {
              "outlinewidth": 0,
              "ticks": ""
             }
            },
            "type": "parcoords"
           }
          ],
          "scatter": [
           {
            "marker": {
             "colorbar": {
              "outlinewidth": 0,
              "ticks": ""
             }
            },
            "type": "scatter"
           }
          ],
          "scatter3d": [
           {
            "line": {
             "colorbar": {
              "outlinewidth": 0,
              "ticks": ""
             }
            },
            "marker": {
             "colorbar": {
              "outlinewidth": 0,
              "ticks": ""
             }
            },
            "type": "scatter3d"
           }
          ],
          "scattercarpet": [
           {
            "marker": {
             "colorbar": {
              "outlinewidth": 0,
              "ticks": ""
             }
            },
            "type": "scattercarpet"
           }
          ],
          "scattergeo": [
           {
            "marker": {
             "colorbar": {
              "outlinewidth": 0,
              "ticks": ""
             }
            },
            "type": "scattergeo"
           }
          ],
          "scattergl": [
           {
            "marker": {
             "colorbar": {
              "outlinewidth": 0,
              "ticks": ""
             }
            },
            "type": "scattergl"
           }
          ],
          "scattermapbox": [
           {
            "marker": {
             "colorbar": {
              "outlinewidth": 0,
              "ticks": ""
             }
            },
            "type": "scattermapbox"
           }
          ],
          "scatterpolar": [
           {
            "marker": {
             "colorbar": {
              "outlinewidth": 0,
              "ticks": ""
             }
            },
            "type": "scatterpolar"
           }
          ],
          "scatterpolargl": [
           {
            "marker": {
             "colorbar": {
              "outlinewidth": 0,
              "ticks": ""
             }
            },
            "type": "scatterpolargl"
           }
          ],
          "scatterternary": [
           {
            "marker": {
             "colorbar": {
              "outlinewidth": 0,
              "ticks": ""
             }
            },
            "type": "scatterternary"
           }
          ],
          "surface": [
           {
            "colorbar": {
             "outlinewidth": 0,
             "ticks": ""
            },
            "colorscale": [
             [
              0,
              "#0d0887"
             ],
             [
              0.1111111111111111,
              "#46039f"
             ],
             [
              0.2222222222222222,
              "#7201a8"
             ],
             [
              0.3333333333333333,
              "#9c179e"
             ],
             [
              0.4444444444444444,
              "#bd3786"
             ],
             [
              0.5555555555555556,
              "#d8576b"
             ],
             [
              0.6666666666666666,
              "#ed7953"
             ],
             [
              0.7777777777777778,
              "#fb9f3a"
             ],
             [
              0.8888888888888888,
              "#fdca26"
             ],
             [
              1,
              "#f0f921"
             ]
            ],
            "type": "surface"
           }
          ],
          "table": [
           {
            "cells": {
             "fill": {
              "color": "#EBF0F8"
             },
             "line": {
              "color": "white"
             }
            },
            "header": {
             "fill": {
              "color": "#C8D4E3"
             },
             "line": {
              "color": "white"
             }
            },
            "type": "table"
           }
          ]
         },
         "layout": {
          "annotationdefaults": {
           "arrowcolor": "#2a3f5f",
           "arrowhead": 0,
           "arrowwidth": 1
          },
          "colorscale": {
           "diverging": [
            [
             0,
             "#8e0152"
            ],
            [
             0.1,
             "#c51b7d"
            ],
            [
             0.2,
             "#de77ae"
            ],
            [
             0.3,
             "#f1b6da"
            ],
            [
             0.4,
             "#fde0ef"
            ],
            [
             0.5,
             "#f7f7f7"
            ],
            [
             0.6,
             "#e6f5d0"
            ],
            [
             0.7,
             "#b8e186"
            ],
            [
             0.8,
             "#7fbc41"
            ],
            [
             0.9,
             "#4d9221"
            ],
            [
             1,
             "#276419"
            ]
           ],
           "sequential": [
            [
             0,
             "#0d0887"
            ],
            [
             0.1111111111111111,
             "#46039f"
            ],
            [
             0.2222222222222222,
             "#7201a8"
            ],
            [
             0.3333333333333333,
             "#9c179e"
            ],
            [
             0.4444444444444444,
             "#bd3786"
            ],
            [
             0.5555555555555556,
             "#d8576b"
            ],
            [
             0.6666666666666666,
             "#ed7953"
            ],
            [
             0.7777777777777778,
             "#fb9f3a"
            ],
            [
             0.8888888888888888,
             "#fdca26"
            ],
            [
             1,
             "#f0f921"
            ]
           ],
           "sequentialminus": [
            [
             0,
             "#0d0887"
            ],
            [
             0.1111111111111111,
             "#46039f"
            ],
            [
             0.2222222222222222,
             "#7201a8"
            ],
            [
             0.3333333333333333,
             "#9c179e"
            ],
            [
             0.4444444444444444,
             "#bd3786"
            ],
            [
             0.5555555555555556,
             "#d8576b"
            ],
            [
             0.6666666666666666,
             "#ed7953"
            ],
            [
             0.7777777777777778,
             "#fb9f3a"
            ],
            [
             0.8888888888888888,
             "#fdca26"
            ],
            [
             1,
             "#f0f921"
            ]
           ]
          },
          "colorway": [
           "#636efa",
           "#EF553B",
           "#00cc96",
           "#ab63fa",
           "#FFA15A",
           "#19d3f3",
           "#FF6692",
           "#B6E880",
           "#FF97FF",
           "#FECB52"
          ],
          "font": {
           "color": "#2a3f5f"
          },
          "geo": {
           "bgcolor": "white",
           "lakecolor": "white",
           "landcolor": "#E5ECF6",
           "showlakes": true,
           "showland": true,
           "subunitcolor": "white"
          },
          "hoverlabel": {
           "align": "left"
          },
          "hovermode": "closest",
          "mapbox": {
           "style": "light"
          },
          "paper_bgcolor": "white",
          "plot_bgcolor": "#E5ECF6",
          "polar": {
           "angularaxis": {
            "gridcolor": "white",
            "linecolor": "white",
            "ticks": ""
           },
           "bgcolor": "#E5ECF6",
           "radialaxis": {
            "gridcolor": "white",
            "linecolor": "white",
            "ticks": ""
           }
          },
          "scene": {
           "xaxis": {
            "backgroundcolor": "#E5ECF6",
            "gridcolor": "white",
            "gridwidth": 2,
            "linecolor": "white",
            "showbackground": true,
            "ticks": "",
            "zerolinecolor": "white"
           },
           "yaxis": {
            "backgroundcolor": "#E5ECF6",
            "gridcolor": "white",
            "gridwidth": 2,
            "linecolor": "white",
            "showbackground": true,
            "ticks": "",
            "zerolinecolor": "white"
           },
           "zaxis": {
            "backgroundcolor": "#E5ECF6",
            "gridcolor": "white",
            "gridwidth": 2,
            "linecolor": "white",
            "showbackground": true,
            "ticks": "",
            "zerolinecolor": "white"
           }
          },
          "shapedefaults": {
           "line": {
            "color": "#2a3f5f"
           }
          },
          "ternary": {
           "aaxis": {
            "gridcolor": "white",
            "linecolor": "white",
            "ticks": ""
           },
           "baxis": {
            "gridcolor": "white",
            "linecolor": "white",
            "ticks": ""
           },
           "bgcolor": "#E5ECF6",
           "caxis": {
            "gridcolor": "white",
            "linecolor": "white",
            "ticks": ""
           }
          },
          "title": {
           "x": 0.05
          },
          "xaxis": {
           "automargin": true,
           "gridcolor": "white",
           "linecolor": "white",
           "ticks": "",
           "zerolinecolor": "white",
           "zerolinewidth": 2
          },
          "yaxis": {
           "automargin": true,
           "gridcolor": "white",
           "linecolor": "white",
           "ticks": "",
           "zerolinecolor": "white",
           "zerolinewidth": 2
          }
         }
        },
        "title": {
         "text": "PCA explained variance with respect to principal component"
        },
        "xaxis": {
         "title": {
          "text": "Principal components"
         }
        },
        "yaxis": {
         "title": {
          "text": "Explained variance"
         }
        }
       }
      },
      "text/html": [
       "<div>\n",
       "        \n",
       "        \n",
       "            <div id=\"936e3942-bc43-46b9-9bc0-01cd86a0bb53\" class=\"plotly-graph-div\" style=\"height:525px; width:100%;\"></div>\n",
       "            <script type=\"text/javascript\">\n",
       "                require([\"plotly\"], function(Plotly) {\n",
       "                    window.PLOTLYENV=window.PLOTLYENV || {};\n",
       "                    \n",
       "                if (document.getElementById(\"936e3942-bc43-46b9-9bc0-01cd86a0bb53\")) {\n",
       "                    Plotly.newPlot(\n",
       "                        '936e3942-bc43-46b9-9bc0-01cd86a0bb53',\n",
       "                        [{\"mode\": \"lines\", \"name\": \"lines\", \"type\": \"scatter\", \"y\": [0.4924155798174142, 0.12062971327772969, 0.09372229426816309, 0.08926248452599445, 0.08334810216895515, 0.05520507070799556, 0.04416328387275109, 0.021253471360996652]}],\n",
       "                        {\"template\": {\"data\": {\"bar\": [{\"error_x\": {\"color\": \"#2a3f5f\"}, \"error_y\": {\"color\": \"#2a3f5f\"}, \"marker\": {\"line\": {\"color\": \"#E5ECF6\", \"width\": 0.5}}, \"type\": \"bar\"}], \"barpolar\": [{\"marker\": {\"line\": {\"color\": \"#E5ECF6\", \"width\": 0.5}}, \"type\": \"barpolar\"}], \"carpet\": [{\"aaxis\": {\"endlinecolor\": \"#2a3f5f\", \"gridcolor\": \"white\", \"linecolor\": \"white\", \"minorgridcolor\": \"white\", \"startlinecolor\": \"#2a3f5f\"}, \"baxis\": {\"endlinecolor\": \"#2a3f5f\", \"gridcolor\": \"white\", \"linecolor\": \"white\", \"minorgridcolor\": \"white\", \"startlinecolor\": \"#2a3f5f\"}, \"type\": \"carpet\"}], \"choropleth\": [{\"colorbar\": {\"outlinewidth\": 0, \"ticks\": \"\"}, \"type\": \"choropleth\"}], \"contour\": [{\"colorbar\": {\"outlinewidth\": 0, \"ticks\": \"\"}, \"colorscale\": [[0.0, \"#0d0887\"], [0.1111111111111111, \"#46039f\"], [0.2222222222222222, \"#7201a8\"], [0.3333333333333333, \"#9c179e\"], [0.4444444444444444, \"#bd3786\"], [0.5555555555555556, \"#d8576b\"], [0.6666666666666666, \"#ed7953\"], [0.7777777777777778, \"#fb9f3a\"], [0.8888888888888888, \"#fdca26\"], [1.0, \"#f0f921\"]], \"type\": \"contour\"}], \"contourcarpet\": [{\"colorbar\": {\"outlinewidth\": 0, \"ticks\": \"\"}, \"type\": \"contourcarpet\"}], \"heatmap\": [{\"colorbar\": {\"outlinewidth\": 0, \"ticks\": \"\"}, \"colorscale\": [[0.0, \"#0d0887\"], [0.1111111111111111, \"#46039f\"], [0.2222222222222222, \"#7201a8\"], [0.3333333333333333, \"#9c179e\"], [0.4444444444444444, \"#bd3786\"], [0.5555555555555556, \"#d8576b\"], [0.6666666666666666, \"#ed7953\"], [0.7777777777777778, \"#fb9f3a\"], [0.8888888888888888, \"#fdca26\"], [1.0, \"#f0f921\"]], \"type\": \"heatmap\"}], \"heatmapgl\": [{\"colorbar\": {\"outlinewidth\": 0, \"ticks\": \"\"}, \"colorscale\": [[0.0, \"#0d0887\"], [0.1111111111111111, \"#46039f\"], [0.2222222222222222, \"#7201a8\"], [0.3333333333333333, \"#9c179e\"], [0.4444444444444444, \"#bd3786\"], [0.5555555555555556, \"#d8576b\"], [0.6666666666666666, \"#ed7953\"], [0.7777777777777778, \"#fb9f3a\"], [0.8888888888888888, \"#fdca26\"], [1.0, \"#f0f921\"]], \"type\": \"heatmapgl\"}], \"histogram\": [{\"marker\": {\"colorbar\": {\"outlinewidth\": 0, \"ticks\": \"\"}}, \"type\": \"histogram\"}], \"histogram2d\": [{\"colorbar\": {\"outlinewidth\": 0, \"ticks\": \"\"}, \"colorscale\": [[0.0, \"#0d0887\"], [0.1111111111111111, \"#46039f\"], [0.2222222222222222, \"#7201a8\"], [0.3333333333333333, \"#9c179e\"], [0.4444444444444444, \"#bd3786\"], [0.5555555555555556, \"#d8576b\"], [0.6666666666666666, \"#ed7953\"], [0.7777777777777778, \"#fb9f3a\"], [0.8888888888888888, \"#fdca26\"], [1.0, \"#f0f921\"]], \"type\": \"histogram2d\"}], \"histogram2dcontour\": [{\"colorbar\": {\"outlinewidth\": 0, \"ticks\": \"\"}, \"colorscale\": [[0.0, \"#0d0887\"], [0.1111111111111111, \"#46039f\"], [0.2222222222222222, \"#7201a8\"], [0.3333333333333333, \"#9c179e\"], [0.4444444444444444, \"#bd3786\"], [0.5555555555555556, \"#d8576b\"], [0.6666666666666666, \"#ed7953\"], [0.7777777777777778, \"#fb9f3a\"], [0.8888888888888888, \"#fdca26\"], [1.0, \"#f0f921\"]], \"type\": \"histogram2dcontour\"}], \"mesh3d\": [{\"colorbar\": {\"outlinewidth\": 0, \"ticks\": \"\"}, \"type\": \"mesh3d\"}], \"parcoords\": [{\"line\": {\"colorbar\": {\"outlinewidth\": 0, \"ticks\": \"\"}}, \"type\": \"parcoords\"}], \"scatter\": [{\"marker\": {\"colorbar\": {\"outlinewidth\": 0, \"ticks\": \"\"}}, \"type\": \"scatter\"}], \"scatter3d\": [{\"line\": {\"colorbar\": {\"outlinewidth\": 0, \"ticks\": \"\"}}, \"marker\": {\"colorbar\": {\"outlinewidth\": 0, \"ticks\": \"\"}}, \"type\": \"scatter3d\"}], \"scattercarpet\": [{\"marker\": {\"colorbar\": {\"outlinewidth\": 0, \"ticks\": \"\"}}, \"type\": \"scattercarpet\"}], \"scattergeo\": [{\"marker\": {\"colorbar\": {\"outlinewidth\": 0, \"ticks\": \"\"}}, \"type\": \"scattergeo\"}], \"scattergl\": [{\"marker\": {\"colorbar\": {\"outlinewidth\": 0, \"ticks\": \"\"}}, \"type\": \"scattergl\"}], \"scattermapbox\": [{\"marker\": {\"colorbar\": {\"outlinewidth\": 0, \"ticks\": \"\"}}, \"type\": \"scattermapbox\"}], \"scatterpolar\": [{\"marker\": {\"colorbar\": {\"outlinewidth\": 0, \"ticks\": \"\"}}, \"type\": \"scatterpolar\"}], \"scatterpolargl\": [{\"marker\": {\"colorbar\": {\"outlinewidth\": 0, \"ticks\": \"\"}}, \"type\": \"scatterpolargl\"}], \"scatterternary\": [{\"marker\": {\"colorbar\": {\"outlinewidth\": 0, \"ticks\": \"\"}}, \"type\": \"scatterternary\"}], \"surface\": [{\"colorbar\": {\"outlinewidth\": 0, \"ticks\": \"\"}, \"colorscale\": [[0.0, \"#0d0887\"], [0.1111111111111111, \"#46039f\"], [0.2222222222222222, \"#7201a8\"], [0.3333333333333333, \"#9c179e\"], [0.4444444444444444, \"#bd3786\"], [0.5555555555555556, \"#d8576b\"], [0.6666666666666666, \"#ed7953\"], [0.7777777777777778, \"#fb9f3a\"], [0.8888888888888888, \"#fdca26\"], [1.0, \"#f0f921\"]], \"type\": \"surface\"}], \"table\": [{\"cells\": {\"fill\": {\"color\": \"#EBF0F8\"}, \"line\": {\"color\": \"white\"}}, \"header\": {\"fill\": {\"color\": \"#C8D4E3\"}, \"line\": {\"color\": \"white\"}}, \"type\": \"table\"}]}, \"layout\": {\"annotationdefaults\": {\"arrowcolor\": \"#2a3f5f\", \"arrowhead\": 0, \"arrowwidth\": 1}, \"colorscale\": {\"diverging\": [[0, \"#8e0152\"], [0.1, \"#c51b7d\"], [0.2, \"#de77ae\"], [0.3, \"#f1b6da\"], [0.4, \"#fde0ef\"], [0.5, \"#f7f7f7\"], [0.6, \"#e6f5d0\"], [0.7, \"#b8e186\"], [0.8, \"#7fbc41\"], [0.9, \"#4d9221\"], [1, \"#276419\"]], \"sequential\": [[0.0, \"#0d0887\"], [0.1111111111111111, \"#46039f\"], [0.2222222222222222, \"#7201a8\"], [0.3333333333333333, \"#9c179e\"], [0.4444444444444444, \"#bd3786\"], [0.5555555555555556, \"#d8576b\"], [0.6666666666666666, \"#ed7953\"], [0.7777777777777778, \"#fb9f3a\"], [0.8888888888888888, \"#fdca26\"], [1.0, \"#f0f921\"]], \"sequentialminus\": [[0.0, \"#0d0887\"], [0.1111111111111111, \"#46039f\"], [0.2222222222222222, \"#7201a8\"], [0.3333333333333333, \"#9c179e\"], [0.4444444444444444, \"#bd3786\"], [0.5555555555555556, \"#d8576b\"], [0.6666666666666666, \"#ed7953\"], [0.7777777777777778, \"#fb9f3a\"], [0.8888888888888888, \"#fdca26\"], [1.0, \"#f0f921\"]]}, \"colorway\": [\"#636efa\", \"#EF553B\", \"#00cc96\", \"#ab63fa\", \"#FFA15A\", \"#19d3f3\", \"#FF6692\", \"#B6E880\", \"#FF97FF\", \"#FECB52\"], \"font\": {\"color\": \"#2a3f5f\"}, \"geo\": {\"bgcolor\": \"white\", \"lakecolor\": \"white\", \"landcolor\": \"#E5ECF6\", \"showlakes\": true, \"showland\": true, \"subunitcolor\": \"white\"}, \"hoverlabel\": {\"align\": \"left\"}, \"hovermode\": \"closest\", \"mapbox\": {\"style\": \"light\"}, \"paper_bgcolor\": \"white\", \"plot_bgcolor\": \"#E5ECF6\", \"polar\": {\"angularaxis\": {\"gridcolor\": \"white\", \"linecolor\": \"white\", \"ticks\": \"\"}, \"bgcolor\": \"#E5ECF6\", \"radialaxis\": {\"gridcolor\": \"white\", \"linecolor\": \"white\", \"ticks\": \"\"}}, \"scene\": {\"xaxis\": {\"backgroundcolor\": \"#E5ECF6\", \"gridcolor\": \"white\", \"gridwidth\": 2, \"linecolor\": \"white\", \"showbackground\": true, \"ticks\": \"\", \"zerolinecolor\": \"white\"}, \"yaxis\": {\"backgroundcolor\": \"#E5ECF6\", \"gridcolor\": \"white\", \"gridwidth\": 2, \"linecolor\": \"white\", \"showbackground\": true, \"ticks\": \"\", \"zerolinecolor\": \"white\"}, \"zaxis\": {\"backgroundcolor\": \"#E5ECF6\", \"gridcolor\": \"white\", \"gridwidth\": 2, \"linecolor\": \"white\", \"showbackground\": true, \"ticks\": \"\", \"zerolinecolor\": \"white\"}}, \"shapedefaults\": {\"line\": {\"color\": \"#2a3f5f\"}}, \"ternary\": {\"aaxis\": {\"gridcolor\": \"white\", \"linecolor\": \"white\", \"ticks\": \"\"}, \"baxis\": {\"gridcolor\": \"white\", \"linecolor\": \"white\", \"ticks\": \"\"}, \"bgcolor\": \"#E5ECF6\", \"caxis\": {\"gridcolor\": \"white\", \"linecolor\": \"white\", \"ticks\": \"\"}}, \"title\": {\"x\": 0.05}, \"xaxis\": {\"automargin\": true, \"gridcolor\": \"white\", \"linecolor\": \"white\", \"ticks\": \"\", \"zerolinecolor\": \"white\", \"zerolinewidth\": 2}, \"yaxis\": {\"automargin\": true, \"gridcolor\": \"white\", \"linecolor\": \"white\", \"ticks\": \"\", \"zerolinecolor\": \"white\", \"zerolinewidth\": 2}}}, \"title\": {\"text\": \"PCA explained variance with respect to principal component\"}, \"xaxis\": {\"title\": {\"text\": \"Principal components\"}}, \"yaxis\": {\"title\": {\"text\": \"Explained variance\"}}},\n",
       "                        {\"responsive\": true}\n",
       "                    ).then(function(){\n",
       "                            \n",
       "var gd = document.getElementById('936e3942-bc43-46b9-9bc0-01cd86a0bb53');\n",
       "var x = new MutationObserver(function (mutations, observer) {{\n",
       "        var display = window.getComputedStyle(gd).display;\n",
       "        if (!display || display === 'none') {{\n",
       "            console.log([gd, 'removed!']);\n",
       "            Plotly.purge(gd);\n",
       "            observer.disconnect();\n",
       "        }}\n",
       "}});\n",
       "\n",
       "// Listen for the removal of the full notebook cells\n",
       "var notebookContainer = gd.closest('#notebook-container');\n",
       "if (notebookContainer) {{\n",
       "    x.observe(notebookContainer, {childList: true});\n",
       "}}\n",
       "\n",
       "// Listen for the clearing of the current output cell\n",
       "var outputEl = gd.closest('.output');\n",
       "if (outputEl) {{\n",
       "    x.observe(outputEl, {childList: true});\n",
       "}}\n",
       "\n",
       "                        })\n",
       "                };\n",
       "                });\n",
       "            </script>\n",
       "        </div>"
      ]
     },
     "metadata": {},
     "output_type": "display_data"
    }
   ],
   "source": [
    "def pca_explained_variance():\n",
    "    fig = go.Figure()\n",
    "    fig.add_trace(go.Scatter(y=pca.explained_variance_ratio_,\n",
    "                    mode='lines',\n",
    "                    name='lines'))\n",
    "    # Edit the layout\n",
    "    fig.update_layout(title='PCA explained variance with respect to principal component',\n",
    "                   xaxis_title='Principal components',\n",
    "                   yaxis_title='Explained variance')\n",
    "    return(fig)\n",
    "\n",
    "py.offline.iplot(pca_explained_variance())"
   ]
  },
  {
   "cell_type": "markdown",
   "metadata": {},
   "source": [
    "**Inference:The number of components should be chosen as two from the plotted graph because the explaine variance decreases very slowly after two components.**"
   ]
  },
  {
   "cell_type": "code",
   "execution_count": 37,
   "metadata": {},
   "outputs": [],
   "source": [
    "# next tranform the data\n",
    "# this gives lower dimension numpy array\n",
    "df_2 =  pd.DataFrame({'PC1':pca.components_[0],'PC2':pca.components_[1], 'Feature':data.columns})"
   ]
  },
  {
   "cell_type": "code",
   "execution_count": 38,
   "metadata": {},
   "outputs": [
    {
     "data": {
      "application/vnd.plotly.v1+json": {
       "config": {
        "linkText": "Export to plot.ly",
        "plotlyServerURL": "https://plot.ly",
        "showLink": false
       },
       "data": [
        {
         "mode": "lines+markers+text",
         "showlegend": false,
         "text": [
          "chocolate"
         ],
         "textposition": "top center",
         "type": "scatter",
         "x": [
          0.5635375892829732,
          0.5635375892829732
         ],
         "y": [
          -0.1522594375456623,
          -0.1522594375456623
         ]
        },
        {
         "mode": "lines+markers+text",
         "showlegend": false,
         "text": [
          "fruity"
         ],
         "textposition": "top center",
         "type": "scatter",
         "x": [
          -0.5613211791236772,
          -0.5613211791236772
         ],
         "y": [
          0.20066591213049842,
          0.20066591213049842
         ]
        },
        {
         "mode": "lines+markers+text",
         "showlegend": false,
         "text": [
          "caramel"
         ],
         "textposition": "top center",
         "type": "scatter",
         "x": [
          0.20289080776084148,
          0.20289080776084148
         ],
         "y": [
          0.5977509404950465,
          0.5977509404950465
         ]
        },
        {
         "mode": "lines+markers+text",
         "showlegend": false,
         "text": [
          "peanutyalmondy"
         ],
         "textposition": "top center",
         "type": "scatter",
         "x": [
          0.22898153625290615,
          0.22898153625290615
         ],
         "y": [
          -0.441807306597348,
          -0.441807306597348
         ]
        },
        {
         "mode": "lines+markers+text",
         "showlegend": false,
         "text": [
          "nougat"
         ],
         "textposition": "top center",
         "type": "scatter",
         "x": [
          0.1491675244920845,
          0.1491675244920845
         ],
         "y": [
          0.25312517699164394,
          0.25312517699164394
         ]
        },
        {
         "mode": "lines+markers+text",
         "showlegend": false,
         "text": [
          "crispedricewafer"
         ],
         "textposition": "top center",
         "type": "scatter",
         "x": [
          0.13774460495332536,
          0.13774460495332536
         ],
         "y": [
          0.20121962465121526,
          0.20121962465121526
         ]
        },
        {
         "mode": "lines+markers+text",
         "showlegend": false,
         "text": [
          "hard"
         ],
         "textposition": "top center",
         "type": "scatter",
         "x": [
          -0.23570029067441664,
          -0.23570029067441664
         ],
         "y": [
          0.29915531008562946,
          0.29915531008562946
         ]
        },
        {
         "mode": "lines+markers+text",
         "showlegend": false,
         "text": [
          "bar"
         ],
         "textposition": "top center",
         "type": "scatter",
         "x": [
          0.42067510258262636,
          0.42067510258262636
         ],
         "y": [
          0.4358839068345398,
          0.4358839068345398
         ]
        }
       ],
       "layout": {
        "template": {
         "data": {
          "bar": [
           {
            "error_x": {
             "color": "#2a3f5f"
            },
            "error_y": {
             "color": "#2a3f5f"
            },
            "marker": {
             "line": {
              "color": "#E5ECF6",
              "width": 0.5
             }
            },
            "type": "bar"
           }
          ],
          "barpolar": [
           {
            "marker": {
             "line": {
              "color": "#E5ECF6",
              "width": 0.5
             }
            },
            "type": "barpolar"
           }
          ],
          "carpet": [
           {
            "aaxis": {
             "endlinecolor": "#2a3f5f",
             "gridcolor": "white",
             "linecolor": "white",
             "minorgridcolor": "white",
             "startlinecolor": "#2a3f5f"
            },
            "baxis": {
             "endlinecolor": "#2a3f5f",
             "gridcolor": "white",
             "linecolor": "white",
             "minorgridcolor": "white",
             "startlinecolor": "#2a3f5f"
            },
            "type": "carpet"
           }
          ],
          "choropleth": [
           {
            "colorbar": {
             "outlinewidth": 0,
             "ticks": ""
            },
            "type": "choropleth"
           }
          ],
          "contour": [
           {
            "colorbar": {
             "outlinewidth": 0,
             "ticks": ""
            },
            "colorscale": [
             [
              0,
              "#0d0887"
             ],
             [
              0.1111111111111111,
              "#46039f"
             ],
             [
              0.2222222222222222,
              "#7201a8"
             ],
             [
              0.3333333333333333,
              "#9c179e"
             ],
             [
              0.4444444444444444,
              "#bd3786"
             ],
             [
              0.5555555555555556,
              "#d8576b"
             ],
             [
              0.6666666666666666,
              "#ed7953"
             ],
             [
              0.7777777777777778,
              "#fb9f3a"
             ],
             [
              0.8888888888888888,
              "#fdca26"
             ],
             [
              1,
              "#f0f921"
             ]
            ],
            "type": "contour"
           }
          ],
          "contourcarpet": [
           {
            "colorbar": {
             "outlinewidth": 0,
             "ticks": ""
            },
            "type": "contourcarpet"
           }
          ],
          "heatmap": [
           {
            "colorbar": {
             "outlinewidth": 0,
             "ticks": ""
            },
            "colorscale": [
             [
              0,
              "#0d0887"
             ],
             [
              0.1111111111111111,
              "#46039f"
             ],
             [
              0.2222222222222222,
              "#7201a8"
             ],
             [
              0.3333333333333333,
              "#9c179e"
             ],
             [
              0.4444444444444444,
              "#bd3786"
             ],
             [
              0.5555555555555556,
              "#d8576b"
             ],
             [
              0.6666666666666666,
              "#ed7953"
             ],
             [
              0.7777777777777778,
              "#fb9f3a"
             ],
             [
              0.8888888888888888,
              "#fdca26"
             ],
             [
              1,
              "#f0f921"
             ]
            ],
            "type": "heatmap"
           }
          ],
          "heatmapgl": [
           {
            "colorbar": {
             "outlinewidth": 0,
             "ticks": ""
            },
            "colorscale": [
             [
              0,
              "#0d0887"
             ],
             [
              0.1111111111111111,
              "#46039f"
             ],
             [
              0.2222222222222222,
              "#7201a8"
             ],
             [
              0.3333333333333333,
              "#9c179e"
             ],
             [
              0.4444444444444444,
              "#bd3786"
             ],
             [
              0.5555555555555556,
              "#d8576b"
             ],
             [
              0.6666666666666666,
              "#ed7953"
             ],
             [
              0.7777777777777778,
              "#fb9f3a"
             ],
             [
              0.8888888888888888,
              "#fdca26"
             ],
             [
              1,
              "#f0f921"
             ]
            ],
            "type": "heatmapgl"
           }
          ],
          "histogram": [
           {
            "marker": {
             "colorbar": {
              "outlinewidth": 0,
              "ticks": ""
             }
            },
            "type": "histogram"
           }
          ],
          "histogram2d": [
           {
            "colorbar": {
             "outlinewidth": 0,
             "ticks": ""
            },
            "colorscale": [
             [
              0,
              "#0d0887"
             ],
             [
              0.1111111111111111,
              "#46039f"
             ],
             [
              0.2222222222222222,
              "#7201a8"
             ],
             [
              0.3333333333333333,
              "#9c179e"
             ],
             [
              0.4444444444444444,
              "#bd3786"
             ],
             [
              0.5555555555555556,
              "#d8576b"
             ],
             [
              0.6666666666666666,
              "#ed7953"
             ],
             [
              0.7777777777777778,
              "#fb9f3a"
             ],
             [
              0.8888888888888888,
              "#fdca26"
             ],
             [
              1,
              "#f0f921"
             ]
            ],
            "type": "histogram2d"
           }
          ],
          "histogram2dcontour": [
           {
            "colorbar": {
             "outlinewidth": 0,
             "ticks": ""
            },
            "colorscale": [
             [
              0,
              "#0d0887"
             ],
             [
              0.1111111111111111,
              "#46039f"
             ],
             [
              0.2222222222222222,
              "#7201a8"
             ],
             [
              0.3333333333333333,
              "#9c179e"
             ],
             [
              0.4444444444444444,
              "#bd3786"
             ],
             [
              0.5555555555555556,
              "#d8576b"
             ],
             [
              0.6666666666666666,
              "#ed7953"
             ],
             [
              0.7777777777777778,
              "#fb9f3a"
             ],
             [
              0.8888888888888888,
              "#fdca26"
             ],
             [
              1,
              "#f0f921"
             ]
            ],
            "type": "histogram2dcontour"
           }
          ],
          "mesh3d": [
           {
            "colorbar": {
             "outlinewidth": 0,
             "ticks": ""
            },
            "type": "mesh3d"
           }
          ],
          "parcoords": [
           {
            "line": {
             "colorbar": {
              "outlinewidth": 0,
              "ticks": ""
             }
            },
            "type": "parcoords"
           }
          ],
          "scatter": [
           {
            "marker": {
             "colorbar": {
              "outlinewidth": 0,
              "ticks": ""
             }
            },
            "type": "scatter"
           }
          ],
          "scatter3d": [
           {
            "line": {
             "colorbar": {
              "outlinewidth": 0,
              "ticks": ""
             }
            },
            "marker": {
             "colorbar": {
              "outlinewidth": 0,
              "ticks": ""
             }
            },
            "type": "scatter3d"
           }
          ],
          "scattercarpet": [
           {
            "marker": {
             "colorbar": {
              "outlinewidth": 0,
              "ticks": ""
             }
            },
            "type": "scattercarpet"
           }
          ],
          "scattergeo": [
           {
            "marker": {
             "colorbar": {
              "outlinewidth": 0,
              "ticks": ""
             }
            },
            "type": "scattergeo"
           }
          ],
          "scattergl": [
           {
            "marker": {
             "colorbar": {
              "outlinewidth": 0,
              "ticks": ""
             }
            },
            "type": "scattergl"
           }
          ],
          "scattermapbox": [
           {
            "marker": {
             "colorbar": {
              "outlinewidth": 0,
              "ticks": ""
             }
            },
            "type": "scattermapbox"
           }
          ],
          "scatterpolar": [
           {
            "marker": {
             "colorbar": {
              "outlinewidth": 0,
              "ticks": ""
             }
            },
            "type": "scatterpolar"
           }
          ],
          "scatterpolargl": [
           {
            "marker": {
             "colorbar": {
              "outlinewidth": 0,
              "ticks": ""
             }
            },
            "type": "scatterpolargl"
           }
          ],
          "scatterternary": [
           {
            "marker": {
             "colorbar": {
              "outlinewidth": 0,
              "ticks": ""
             }
            },
            "type": "scatterternary"
           }
          ],
          "surface": [
           {
            "colorbar": {
             "outlinewidth": 0,
             "ticks": ""
            },
            "colorscale": [
             [
              0,
              "#0d0887"
             ],
             [
              0.1111111111111111,
              "#46039f"
             ],
             [
              0.2222222222222222,
              "#7201a8"
             ],
             [
              0.3333333333333333,
              "#9c179e"
             ],
             [
              0.4444444444444444,
              "#bd3786"
             ],
             [
              0.5555555555555556,
              "#d8576b"
             ],
             [
              0.6666666666666666,
              "#ed7953"
             ],
             [
              0.7777777777777778,
              "#fb9f3a"
             ],
             [
              0.8888888888888888,
              "#fdca26"
             ],
             [
              1,
              "#f0f921"
             ]
            ],
            "type": "surface"
           }
          ],
          "table": [
           {
            "cells": {
             "fill": {
              "color": "#EBF0F8"
             },
             "line": {
              "color": "white"
             }
            },
            "header": {
             "fill": {
              "color": "#C8D4E3"
             },
             "line": {
              "color": "white"
             }
            },
            "type": "table"
           }
          ]
         },
         "layout": {
          "annotationdefaults": {
           "arrowcolor": "#2a3f5f",
           "arrowhead": 0,
           "arrowwidth": 1
          },
          "colorscale": {
           "diverging": [
            [
             0,
             "#8e0152"
            ],
            [
             0.1,
             "#c51b7d"
            ],
            [
             0.2,
             "#de77ae"
            ],
            [
             0.3,
             "#f1b6da"
            ],
            [
             0.4,
             "#fde0ef"
            ],
            [
             0.5,
             "#f7f7f7"
            ],
            [
             0.6,
             "#e6f5d0"
            ],
            [
             0.7,
             "#b8e186"
            ],
            [
             0.8,
             "#7fbc41"
            ],
            [
             0.9,
             "#4d9221"
            ],
            [
             1,
             "#276419"
            ]
           ],
           "sequential": [
            [
             0,
             "#0d0887"
            ],
            [
             0.1111111111111111,
             "#46039f"
            ],
            [
             0.2222222222222222,
             "#7201a8"
            ],
            [
             0.3333333333333333,
             "#9c179e"
            ],
            [
             0.4444444444444444,
             "#bd3786"
            ],
            [
             0.5555555555555556,
             "#d8576b"
            ],
            [
             0.6666666666666666,
             "#ed7953"
            ],
            [
             0.7777777777777778,
             "#fb9f3a"
            ],
            [
             0.8888888888888888,
             "#fdca26"
            ],
            [
             1,
             "#f0f921"
            ]
           ],
           "sequentialminus": [
            [
             0,
             "#0d0887"
            ],
            [
             0.1111111111111111,
             "#46039f"
            ],
            [
             0.2222222222222222,
             "#7201a8"
            ],
            [
             0.3333333333333333,
             "#9c179e"
            ],
            [
             0.4444444444444444,
             "#bd3786"
            ],
            [
             0.5555555555555556,
             "#d8576b"
            ],
            [
             0.6666666666666666,
             "#ed7953"
            ],
            [
             0.7777777777777778,
             "#fb9f3a"
            ],
            [
             0.8888888888888888,
             "#fdca26"
            ],
            [
             1,
             "#f0f921"
            ]
           ]
          },
          "colorway": [
           "#636efa",
           "#EF553B",
           "#00cc96",
           "#ab63fa",
           "#FFA15A",
           "#19d3f3",
           "#FF6692",
           "#B6E880",
           "#FF97FF",
           "#FECB52"
          ],
          "font": {
           "color": "#2a3f5f"
          },
          "geo": {
           "bgcolor": "white",
           "lakecolor": "white",
           "landcolor": "#E5ECF6",
           "showlakes": true,
           "showland": true,
           "subunitcolor": "white"
          },
          "hoverlabel": {
           "align": "left"
          },
          "hovermode": "closest",
          "mapbox": {
           "style": "light"
          },
          "paper_bgcolor": "white",
          "plot_bgcolor": "#E5ECF6",
          "polar": {
           "angularaxis": {
            "gridcolor": "white",
            "linecolor": "white",
            "ticks": ""
           },
           "bgcolor": "#E5ECF6",
           "radialaxis": {
            "gridcolor": "white",
            "linecolor": "white",
            "ticks": ""
           }
          },
          "scene": {
           "xaxis": {
            "backgroundcolor": "#E5ECF6",
            "gridcolor": "white",
            "gridwidth": 2,
            "linecolor": "white",
            "showbackground": true,
            "ticks": "",
            "zerolinecolor": "white"
           },
           "yaxis": {
            "backgroundcolor": "#E5ECF6",
            "gridcolor": "white",
            "gridwidth": 2,
            "linecolor": "white",
            "showbackground": true,
            "ticks": "",
            "zerolinecolor": "white"
           },
           "zaxis": {
            "backgroundcolor": "#E5ECF6",
            "gridcolor": "white",
            "gridwidth": 2,
            "linecolor": "white",
            "showbackground": true,
            "ticks": "",
            "zerolinecolor": "white"
           }
          },
          "shapedefaults": {
           "line": {
            "color": "#2a3f5f"
           }
          },
          "ternary": {
           "aaxis": {
            "gridcolor": "white",
            "linecolor": "white",
            "ticks": ""
           },
           "baxis": {
            "gridcolor": "white",
            "linecolor": "white",
            "ticks": ""
           },
           "bgcolor": "#E5ECF6",
           "caxis": {
            "gridcolor": "white",
            "linecolor": "white",
            "ticks": ""
           }
          },
          "title": {
           "x": 0.05
          },
          "xaxis": {
           "automargin": true,
           "gridcolor": "white",
           "linecolor": "white",
           "ticks": "",
           "zerolinecolor": "white",
           "zerolinewidth": 2
          },
          "yaxis": {
           "automargin": true,
           "gridcolor": "white",
           "linecolor": "white",
           "ticks": "",
           "zerolinecolor": "white",
           "zerolinewidth": 2
          }
         }
        },
        "title": {
         "text": "Feaure relevance"
        },
        "xaxis": {
         "title": {
          "text": "Principal component 1"
         }
        },
        "yaxis": {
         "title": {
          "text": "Principal component 2"
         }
        }
       }
      },
      "text/html": [
       "<div>\n",
       "        \n",
       "        \n",
       "            <div id=\"0ebffe02-21d6-4ac1-b25f-baf28ee70680\" class=\"plotly-graph-div\" style=\"height:525px; width:100%;\"></div>\n",
       "            <script type=\"text/javascript\">\n",
       "                require([\"plotly\"], function(Plotly) {\n",
       "                    window.PLOTLYENV=window.PLOTLYENV || {};\n",
       "                    \n",
       "                if (document.getElementById(\"0ebffe02-21d6-4ac1-b25f-baf28ee70680\")) {\n",
       "                    Plotly.newPlot(\n",
       "                        '0ebffe02-21d6-4ac1-b25f-baf28ee70680',\n",
       "                        [{\"mode\": \"lines+markers+text\", \"showlegend\": false, \"text\": [\"chocolate\"], \"textposition\": \"top center\", \"type\": \"scatter\", \"x\": [0.5635375892829732, 0.5635375892829732], \"y\": [-0.1522594375456623, -0.1522594375456623]}, {\"mode\": \"lines+markers+text\", \"showlegend\": false, \"text\": [\"fruity\"], \"textposition\": \"top center\", \"type\": \"scatter\", \"x\": [-0.5613211791236772, -0.5613211791236772], \"y\": [0.20066591213049842, 0.20066591213049842]}, {\"mode\": \"lines+markers+text\", \"showlegend\": false, \"text\": [\"caramel\"], \"textposition\": \"top center\", \"type\": \"scatter\", \"x\": [0.20289080776084148, 0.20289080776084148], \"y\": [0.5977509404950465, 0.5977509404950465]}, {\"mode\": \"lines+markers+text\", \"showlegend\": false, \"text\": [\"peanutyalmondy\"], \"textposition\": \"top center\", \"type\": \"scatter\", \"x\": [0.22898153625290615, 0.22898153625290615], \"y\": [-0.441807306597348, -0.441807306597348]}, {\"mode\": \"lines+markers+text\", \"showlegend\": false, \"text\": [\"nougat\"], \"textposition\": \"top center\", \"type\": \"scatter\", \"x\": [0.1491675244920845, 0.1491675244920845], \"y\": [0.25312517699164394, 0.25312517699164394]}, {\"mode\": \"lines+markers+text\", \"showlegend\": false, \"text\": [\"crispedricewafer\"], \"textposition\": \"top center\", \"type\": \"scatter\", \"x\": [0.13774460495332536, 0.13774460495332536], \"y\": [0.20121962465121526, 0.20121962465121526]}, {\"mode\": \"lines+markers+text\", \"showlegend\": false, \"text\": [\"hard\"], \"textposition\": \"top center\", \"type\": \"scatter\", \"x\": [-0.23570029067441664, -0.23570029067441664], \"y\": [0.29915531008562946, 0.29915531008562946]}, {\"mode\": \"lines+markers+text\", \"showlegend\": false, \"text\": [\"bar\"], \"textposition\": \"top center\", \"type\": \"scatter\", \"x\": [0.42067510258262636, 0.42067510258262636], \"y\": [0.4358839068345398, 0.4358839068345398]}],\n",
       "                        {\"template\": {\"data\": {\"bar\": [{\"error_x\": {\"color\": \"#2a3f5f\"}, \"error_y\": {\"color\": \"#2a3f5f\"}, \"marker\": {\"line\": {\"color\": \"#E5ECF6\", \"width\": 0.5}}, \"type\": \"bar\"}], \"barpolar\": [{\"marker\": {\"line\": {\"color\": \"#E5ECF6\", \"width\": 0.5}}, \"type\": \"barpolar\"}], \"carpet\": [{\"aaxis\": {\"endlinecolor\": \"#2a3f5f\", \"gridcolor\": \"white\", \"linecolor\": \"white\", \"minorgridcolor\": \"white\", \"startlinecolor\": \"#2a3f5f\"}, \"baxis\": {\"endlinecolor\": \"#2a3f5f\", \"gridcolor\": \"white\", \"linecolor\": \"white\", \"minorgridcolor\": \"white\", \"startlinecolor\": \"#2a3f5f\"}, \"type\": \"carpet\"}], \"choropleth\": [{\"colorbar\": {\"outlinewidth\": 0, \"ticks\": \"\"}, \"type\": \"choropleth\"}], \"contour\": [{\"colorbar\": {\"outlinewidth\": 0, \"ticks\": \"\"}, \"colorscale\": [[0.0, \"#0d0887\"], [0.1111111111111111, \"#46039f\"], [0.2222222222222222, \"#7201a8\"], [0.3333333333333333, \"#9c179e\"], [0.4444444444444444, \"#bd3786\"], [0.5555555555555556, \"#d8576b\"], [0.6666666666666666, \"#ed7953\"], [0.7777777777777778, \"#fb9f3a\"], [0.8888888888888888, \"#fdca26\"], [1.0, \"#f0f921\"]], \"type\": \"contour\"}], \"contourcarpet\": [{\"colorbar\": {\"outlinewidth\": 0, \"ticks\": \"\"}, \"type\": \"contourcarpet\"}], \"heatmap\": [{\"colorbar\": {\"outlinewidth\": 0, \"ticks\": \"\"}, \"colorscale\": [[0.0, \"#0d0887\"], [0.1111111111111111, \"#46039f\"], [0.2222222222222222, \"#7201a8\"], [0.3333333333333333, \"#9c179e\"], [0.4444444444444444, \"#bd3786\"], [0.5555555555555556, \"#d8576b\"], [0.6666666666666666, \"#ed7953\"], [0.7777777777777778, \"#fb9f3a\"], [0.8888888888888888, \"#fdca26\"], [1.0, \"#f0f921\"]], \"type\": \"heatmap\"}], \"heatmapgl\": [{\"colorbar\": {\"outlinewidth\": 0, \"ticks\": \"\"}, \"colorscale\": [[0.0, \"#0d0887\"], [0.1111111111111111, \"#46039f\"], [0.2222222222222222, \"#7201a8\"], [0.3333333333333333, \"#9c179e\"], [0.4444444444444444, \"#bd3786\"], [0.5555555555555556, \"#d8576b\"], [0.6666666666666666, \"#ed7953\"], [0.7777777777777778, \"#fb9f3a\"], [0.8888888888888888, \"#fdca26\"], [1.0, \"#f0f921\"]], \"type\": \"heatmapgl\"}], \"histogram\": [{\"marker\": {\"colorbar\": {\"outlinewidth\": 0, \"ticks\": \"\"}}, \"type\": \"histogram\"}], \"histogram2d\": [{\"colorbar\": {\"outlinewidth\": 0, \"ticks\": \"\"}, \"colorscale\": [[0.0, \"#0d0887\"], [0.1111111111111111, \"#46039f\"], [0.2222222222222222, \"#7201a8\"], [0.3333333333333333, \"#9c179e\"], [0.4444444444444444, \"#bd3786\"], [0.5555555555555556, \"#d8576b\"], [0.6666666666666666, \"#ed7953\"], [0.7777777777777778, \"#fb9f3a\"], [0.8888888888888888, \"#fdca26\"], [1.0, \"#f0f921\"]], \"type\": \"histogram2d\"}], \"histogram2dcontour\": [{\"colorbar\": {\"outlinewidth\": 0, \"ticks\": \"\"}, \"colorscale\": [[0.0, \"#0d0887\"], [0.1111111111111111, \"#46039f\"], [0.2222222222222222, \"#7201a8\"], [0.3333333333333333, \"#9c179e\"], [0.4444444444444444, \"#bd3786\"], [0.5555555555555556, \"#d8576b\"], [0.6666666666666666, \"#ed7953\"], [0.7777777777777778, \"#fb9f3a\"], [0.8888888888888888, \"#fdca26\"], [1.0, \"#f0f921\"]], \"type\": \"histogram2dcontour\"}], \"mesh3d\": [{\"colorbar\": {\"outlinewidth\": 0, \"ticks\": \"\"}, \"type\": \"mesh3d\"}], \"parcoords\": [{\"line\": {\"colorbar\": {\"outlinewidth\": 0, \"ticks\": \"\"}}, \"type\": \"parcoords\"}], \"scatter\": [{\"marker\": {\"colorbar\": {\"outlinewidth\": 0, \"ticks\": \"\"}}, \"type\": \"scatter\"}], \"scatter3d\": [{\"line\": {\"colorbar\": {\"outlinewidth\": 0, \"ticks\": \"\"}}, \"marker\": {\"colorbar\": {\"outlinewidth\": 0, \"ticks\": \"\"}}, \"type\": \"scatter3d\"}], \"scattercarpet\": [{\"marker\": {\"colorbar\": {\"outlinewidth\": 0, \"ticks\": \"\"}}, \"type\": \"scattercarpet\"}], \"scattergeo\": [{\"marker\": {\"colorbar\": {\"outlinewidth\": 0, \"ticks\": \"\"}}, \"type\": \"scattergeo\"}], \"scattergl\": [{\"marker\": {\"colorbar\": {\"outlinewidth\": 0, \"ticks\": \"\"}}, \"type\": \"scattergl\"}], \"scattermapbox\": [{\"marker\": {\"colorbar\": {\"outlinewidth\": 0, \"ticks\": \"\"}}, \"type\": \"scattermapbox\"}], \"scatterpolar\": [{\"marker\": {\"colorbar\": {\"outlinewidth\": 0, \"ticks\": \"\"}}, \"type\": \"scatterpolar\"}], \"scatterpolargl\": [{\"marker\": {\"colorbar\": {\"outlinewidth\": 0, \"ticks\": \"\"}}, \"type\": \"scatterpolargl\"}], \"scatterternary\": [{\"marker\": {\"colorbar\": {\"outlinewidth\": 0, \"ticks\": \"\"}}, \"type\": \"scatterternary\"}], \"surface\": [{\"colorbar\": {\"outlinewidth\": 0, \"ticks\": \"\"}, \"colorscale\": [[0.0, \"#0d0887\"], [0.1111111111111111, \"#46039f\"], [0.2222222222222222, \"#7201a8\"], [0.3333333333333333, \"#9c179e\"], [0.4444444444444444, \"#bd3786\"], [0.5555555555555556, \"#d8576b\"], [0.6666666666666666, \"#ed7953\"], [0.7777777777777778, \"#fb9f3a\"], [0.8888888888888888, \"#fdca26\"], [1.0, \"#f0f921\"]], \"type\": \"surface\"}], \"table\": [{\"cells\": {\"fill\": {\"color\": \"#EBF0F8\"}, \"line\": {\"color\": \"white\"}}, \"header\": {\"fill\": {\"color\": \"#C8D4E3\"}, \"line\": {\"color\": \"white\"}}, \"type\": \"table\"}]}, \"layout\": {\"annotationdefaults\": {\"arrowcolor\": \"#2a3f5f\", \"arrowhead\": 0, \"arrowwidth\": 1}, \"colorscale\": {\"diverging\": [[0, \"#8e0152\"], [0.1, \"#c51b7d\"], [0.2, \"#de77ae\"], [0.3, \"#f1b6da\"], [0.4, \"#fde0ef\"], [0.5, \"#f7f7f7\"], [0.6, \"#e6f5d0\"], [0.7, \"#b8e186\"], [0.8, \"#7fbc41\"], [0.9, \"#4d9221\"], [1, \"#276419\"]], \"sequential\": [[0.0, \"#0d0887\"], [0.1111111111111111, \"#46039f\"], [0.2222222222222222, \"#7201a8\"], [0.3333333333333333, \"#9c179e\"], [0.4444444444444444, \"#bd3786\"], [0.5555555555555556, \"#d8576b\"], [0.6666666666666666, \"#ed7953\"], [0.7777777777777778, \"#fb9f3a\"], [0.8888888888888888, \"#fdca26\"], [1.0, \"#f0f921\"]], \"sequentialminus\": [[0.0, \"#0d0887\"], [0.1111111111111111, \"#46039f\"], [0.2222222222222222, \"#7201a8\"], [0.3333333333333333, \"#9c179e\"], [0.4444444444444444, \"#bd3786\"], [0.5555555555555556, \"#d8576b\"], [0.6666666666666666, \"#ed7953\"], [0.7777777777777778, \"#fb9f3a\"], [0.8888888888888888, \"#fdca26\"], [1.0, \"#f0f921\"]]}, \"colorway\": [\"#636efa\", \"#EF553B\", \"#00cc96\", \"#ab63fa\", \"#FFA15A\", \"#19d3f3\", \"#FF6692\", \"#B6E880\", \"#FF97FF\", \"#FECB52\"], \"font\": {\"color\": \"#2a3f5f\"}, \"geo\": {\"bgcolor\": \"white\", \"lakecolor\": \"white\", \"landcolor\": \"#E5ECF6\", \"showlakes\": true, \"showland\": true, \"subunitcolor\": \"white\"}, \"hoverlabel\": {\"align\": \"left\"}, \"hovermode\": \"closest\", \"mapbox\": {\"style\": \"light\"}, \"paper_bgcolor\": \"white\", \"plot_bgcolor\": \"#E5ECF6\", \"polar\": {\"angularaxis\": {\"gridcolor\": \"white\", \"linecolor\": \"white\", \"ticks\": \"\"}, \"bgcolor\": \"#E5ECF6\", \"radialaxis\": {\"gridcolor\": \"white\", \"linecolor\": \"white\", \"ticks\": \"\"}}, \"scene\": {\"xaxis\": {\"backgroundcolor\": \"#E5ECF6\", \"gridcolor\": \"white\", \"gridwidth\": 2, \"linecolor\": \"white\", \"showbackground\": true, \"ticks\": \"\", \"zerolinecolor\": \"white\"}, \"yaxis\": {\"backgroundcolor\": \"#E5ECF6\", \"gridcolor\": \"white\", \"gridwidth\": 2, \"linecolor\": \"white\", \"showbackground\": true, \"ticks\": \"\", \"zerolinecolor\": \"white\"}, \"zaxis\": {\"backgroundcolor\": \"#E5ECF6\", \"gridcolor\": \"white\", \"gridwidth\": 2, \"linecolor\": \"white\", \"showbackground\": true, \"ticks\": \"\", \"zerolinecolor\": \"white\"}}, \"shapedefaults\": {\"line\": {\"color\": \"#2a3f5f\"}}, \"ternary\": {\"aaxis\": {\"gridcolor\": \"white\", \"linecolor\": \"white\", \"ticks\": \"\"}, \"baxis\": {\"gridcolor\": \"white\", \"linecolor\": \"white\", \"ticks\": \"\"}, \"bgcolor\": \"#E5ECF6\", \"caxis\": {\"gridcolor\": \"white\", \"linecolor\": \"white\", \"ticks\": \"\"}}, \"title\": {\"x\": 0.05}, \"xaxis\": {\"automargin\": true, \"gridcolor\": \"white\", \"linecolor\": \"white\", \"ticks\": \"\", \"zerolinecolor\": \"white\", \"zerolinewidth\": 2}, \"yaxis\": {\"automargin\": true, \"gridcolor\": \"white\", \"linecolor\": \"white\", \"ticks\": \"\", \"zerolinecolor\": \"white\", \"zerolinewidth\": 2}}}, \"title\": {\"text\": \"Feaure relevance\"}, \"xaxis\": {\"title\": {\"text\": \"Principal component 1\"}}, \"yaxis\": {\"title\": {\"text\": \"Principal component 2\"}}},\n",
       "                        {\"responsive\": true}\n",
       "                    ).then(function(){\n",
       "                            \n",
       "var gd = document.getElementById('0ebffe02-21d6-4ac1-b25f-baf28ee70680');\n",
       "var x = new MutationObserver(function (mutations, observer) {{\n",
       "        var display = window.getComputedStyle(gd).display;\n",
       "        if (!display || display === 'none') {{\n",
       "            console.log([gd, 'removed!']);\n",
       "            Plotly.purge(gd);\n",
       "            observer.disconnect();\n",
       "        }}\n",
       "}});\n",
       "\n",
       "// Listen for the removal of the full notebook cells\n",
       "var notebookContainer = gd.closest('#notebook-container');\n",
       "if (notebookContainer) {{\n",
       "    x.observe(notebookContainer, {childList: true});\n",
       "}}\n",
       "\n",
       "// Listen for the clearing of the current output cell\n",
       "var outputEl = gd.closest('.output');\n",
       "if (outputEl) {{\n",
       "    x.observe(outputEl, {childList: true});\n",
       "}}\n",
       "\n",
       "                        })\n",
       "                };\n",
       "                });\n",
       "            </script>\n",
       "        </div>"
      ]
     },
     "metadata": {},
     "output_type": "display_data"
    }
   ],
   "source": [
    "def pca_scatter():\n",
    "    fig = go.Figure()\n",
    "    for i, txt in enumerate(df_2.Feature):    \n",
    "        fig.add_trace(go.Scatter(x=[df_2.PC1[i],df_2.PC1[i]], y=[df_2.PC2[i],df_2.PC2[i]], mode='lines+markers+text',text=[txt], textposition='top center', showlegend=False))\n",
    "    # Edit the layout\n",
    "    fig.update_layout(title='Feaure relevance',\n",
    "                       xaxis_title='Principal component 1',\n",
    "                       yaxis_title='Principal component 2')  \n",
    "    return(fig)\n",
    "py.offline.iplot(pca_scatter())"
   ]
  },
  {
   "cell_type": "markdown",
   "metadata": {},
   "source": [
    "**Inference:The chocolate and bar are most relavant features as shown in the plot above. So candies containing chocolate with bar type will have higher win percentage**"
   ]
  },
  {
   "cell_type": "markdown",
   "metadata": {},
   "source": [
    "## 5.4. Correlation map"
   ]
  },
  {
   "cell_type": "code",
   "execution_count": 39,
   "metadata": {},
   "outputs": [
    {
     "data": {
      "image/png": "[encoded data removed]",
      "text/plain": [
       "<Figure size 1440x1152 with 2 Axes>"
      ]
     },
     "metadata": {
      "needs_background": "light"
     },
     "output_type": "display_data"
    }
   ],
   "source": [
    "plt.figure(figsize=(20,16))\n",
    "plt.suptitle(\"CORRELATION MAP\", fontsize=18)\n",
    "sns.heatmap(df.corr(), annot=True, fmt=\"0.2f\", cmap=\"coolwarm\", vmin=-1.0, vmax=1.0)\n",
    "plt.tight_layout(pad=5.0)\n",
    "plt.show()"
   ]
  },
  {
   "cell_type": "markdown",
   "metadata": {},
   "source": [
    "**Inference:From the correlaton map the correlation between chocolate with winning percentage is highest. Which means that chocolate feature is highly correlated with the winning of a candy. Also, chocolate is highly corelated with bar type chocolate.**"
   ]
  },
  {
   "cell_type": "markdown",
   "metadata": {},
   "source": [
    "# 6. Creating Dashboard for all the plots"
   ]
  },
  {
   "cell_type": "code",
   "execution_count": 40,
   "metadata": {},
   "outputs": [],
   "source": [
    "external_stylesheets = ['https://codepen.io/chriddyp/pen/bWLwgP.css']\n",
    "\n",
    " \n",
    "\n",
    "app = dash.Dash(__name__, external_stylesheets=external_stylesheets)\n",
    "\n",
    " \n",
    "\n",
    " \n",
    "\n",
    "app.layout = html.Div(children=[\n",
    "    html.H1(children='The Ultimate Halloween Candy Power Ranking-Dashboard',\n",
    "           style={\n",
    "            'textAlign': 'center',\n",
    "            \n",
    "        }), \n",
    "\n",
    "   dcc.Graph(\n",
    "        id='topten',\n",
    "        figure=top_ten()\n",
    "    ),\n",
    "     dcc.Graph(\n",
    "        id='topcontent',\n",
    "        figure=top_content()\n",
    "    ),\n",
    "    html.Div([\n",
    "        html.Div([\n",
    "            html.H3(),\n",
    "            dcc.Graph(\n",
    "        id='candycontentcount',\n",
    "        figure=candy_content_count()\n",
    "        )],\n",
    "             className='six columns') ,\n",
    "        html.Div([\n",
    "            html.H3(),\n",
    "            dcc.Graph(\n",
    "        id='candytypecount',\n",
    "        figure=candy_type_count()\n",
    "            )],className='six columns'),\n",
    "       \n",
    "    ],className = 'row'), \n",
    "     dcc.Graph(\n",
    "        id='wincontent',\n",
    "        figure=win_content()\n",
    "    ),\n",
    "     dcc.Graph(\n",
    "        id='winss',\n",
    "        figure=win_ss()\n",
    "    ),\n",
    "    dcc.Graph(\n",
    "        id='winprice',\n",
    "        figure=win_price()\n",
    "    ),\n",
    "    dcc.Graph(\n",
    "        id='pricess',\n",
    "        figure=price_ss()\n",
    "    ),\n",
    "    dcc.Graph(\n",
    "        id='winsugar',\n",
    "        figure=win_sugar()\n",
    "    ),\n",
    "    dcc.Graph(\n",
    "        id='sugarss',\n",
    "        figure=sugar_ss()\n",
    "    ),\n",
    "    dcc.Graph(\n",
    "        id='scatter2d',\n",
    "        figure=scatter2d()\n",
    "    ),\n",
    "    dcc.Graph(\n",
    "        id='scatter3d',\n",
    "        figure=scatter3d()\n",
    "    ),\n",
    "    dcc.Graph(\n",
    "        id='pcaexp',\n",
    "        figure=pca_explained_variance(),\n",
    "        style={\"max-height\": \"700px\", \"margin\": \"auto\"}\n",
    "    ),\n",
    "    dcc.Graph(\n",
    "        id='pcascatter',\n",
    "        figure=pca_scatter(),\n",
    "        style={\"max-height\": \"700px\", \"margin\": \"auto\"}\n",
    "    )\n",
    "    \n",
    " ])"
   ]
  },
  {
   "cell_type": "code",
   "execution_count": null,
   "metadata": {},
   "outputs": [
    {
     "name": "stdout",
     "output_type": "stream",
     "text": [
      " * Serving Flask app \"__main__\" (lazy loading)\n",
      " * Environment: production\n",
      "   WARNING: This is a development server. Do not use it in a production deployment.\n",
      "   Use a production WSGI server instead.\n",
      " * Debug mode: off\n"
     ]
    },
    {
     "name": "stderr",
     "output_type": "stream",
     "text": [
      " * Running on http://127.0.0.1:8050/ (Press CTRL+C to quit)\n",
      "127.0.0.1 - - [24/Jul/2019 17:54:42] \"GET / HTTP/1.1\" 200 -\n",
      "127.0.0.1 - - [24/Jul/2019 17:54:42] \"GET /_dash-component-suites/dash_renderer/prop-types@15.7.2.min.js?v=1.0.0&m=1563378020 HTTP/1.1\" 200 -\n",
      "127.0.0.1 - - [24/Jul/2019 17:54:42] \"GET /_dash-component-suites/dash_renderer/react@16.8.6.min.js?v=1.0.0&m=1563378020 HTTP/1.1\" 200 -\n",
      "127.0.0.1 - - [24/Jul/2019 17:54:42] \"GET /_dash-component-suites/dash_renderer/react-dom@16.8.6.min.js?v=1.0.0&m=1563378020 HTTP/1.1\" 200 -\n",
      "127.0.0.1 - - [24/Jul/2019 17:54:42] \"GET /_dash-component-suites/dash_html_components/dash_html_components.min.js?v=1.0.0&m=1563378018 HTTP/1.1\" 200 -\n",
      "127.0.0.1 - - [24/Jul/2019 17:54:42] \"GET /_dash-component-suites/dash_renderer/dash_renderer.min.js?v=1.0.0&m=1563378020 HTTP/1.1\" 200 -\n",
      "127.0.0.1 - - [24/Jul/2019 17:54:42] \"GET /_dash-component-suites/dash_core_components/dash_core_components.min.js?v=1.0.0&m=1563378019 HTTP/1.1\" 200 -\n",
      "127.0.0.1 - - [24/Jul/2019 17:54:42] \"GET /_dash-component-suites/dash_core_components/highlight.pack.js?v=1.0.0&m=1563378019 HTTP/1.1\" 200 -\n",
      "127.0.0.1 - - [24/Jul/2019 17:54:42] \"GET /_dash-component-suites/dash_core_components/plotly-1.48.3.min.js?v=1.0.0&m=1563378019 HTTP/1.1\" 200 -\n",
      "127.0.0.1 - - [24/Jul/2019 17:54:43] \"GET /_dash-dependencies HTTP/1.1\" 200 -\n",
      "127.0.0.1 - - [24/Jul/2019 17:54:43] \"GET /_dash-layout HTTP/1.1\" 200 -\n"
     ]
    }
   ],
   "source": [
    "app.run_server()"
   ]
  },
  {
   "cell_type": "markdown",
   "metadata": {},
   "source": [
    "# 7. Conclusion"
   ]
  },
  {
   "cell_type": "markdown",
   "metadata": {},
   "source": [
    "**From all the analysis of the data, I can conclude that chocolate is giving much positive effect on the selection of the candies. Also, a candy with the bar shape had relevance during the selection of the candy. So the final recommendation is a product having chocolate as content and in a shape of bar.**"
   ]
  }
 ],
 "metadata": {
  "kernelspec": {
   "display_name": "Python 3",
   "language": "python",
   "name": "python3"
  },
  "language_info": {
   "codemirror_mode": {
    "name": "ipython",
    "version": 3
   },
   "file_extension": ".py",
   "mimetype": "text/x-python",
   "name": "python",
   "nbconvert_exporter": "python",
   "pygments_lexer": "ipython3",
   "version": "3.7.1"
  }
 },
 "nbformat": 4,
 "nbformat_minor": 2
}
